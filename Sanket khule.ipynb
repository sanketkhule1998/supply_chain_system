{
 "cells": [
  {
   "cell_type": "code",
   "execution_count": 1,
   "metadata": {},
   "outputs": [],
   "source": [
    "import pandas as pd\n",
    "import numpy as np\n",
    "\n",
    "import seaborn as sns\n",
    "import matplotlib.pyplot as plt\n",
    "\n",
    "%matplotlib inline"
   ]
  },
  {
   "cell_type": "markdown",
   "metadata": {},
   "source": [
    "# Problem Statement"
   ]
  },
  {
   "cell_type": "code",
   "execution_count": null,
   "metadata": {},
   "outputs": [],
   "source": []
  },
  {
   "cell_type": "markdown",
   "metadata": {},
   "source": [
    "# Data Gathering"
   ]
  },
  {
   "cell_type": "code",
   "execution_count": 4,
   "metadata": {},
   "outputs": [
    {
     "data": {
      "text/html": [
       "<div>\n",
       "<style scoped>\n",
       "    .dataframe tbody tr th:only-of-type {\n",
       "        vertical-align: middle;\n",
       "    }\n",
       "\n",
       "    .dataframe tbody tr th {\n",
       "        vertical-align: top;\n",
       "    }\n",
       "\n",
       "    .dataframe thead th {\n",
       "        text-align: right;\n",
       "    }\n",
       "</style>\n",
       "<table border=\"1\" class=\"dataframe\">\n",
       "  <thead>\n",
       "    <tr style=\"text-align: right;\">\n",
       "      <th></th>\n",
       "      <th>Type</th>\n",
       "      <th>Days for shipping (real)</th>\n",
       "      <th>Days for shipment (scheduled)</th>\n",
       "      <th>Benefit per order</th>\n",
       "      <th>Sales per customer</th>\n",
       "      <th>Delivery Status</th>\n",
       "      <th>Late_delivery_risk</th>\n",
       "      <th>Category Id</th>\n",
       "      <th>Category Name</th>\n",
       "      <th>Customer City</th>\n",
       "      <th>...</th>\n",
       "      <th>Order Zipcode</th>\n",
       "      <th>Product Card Id</th>\n",
       "      <th>Product Category Id</th>\n",
       "      <th>Product Description</th>\n",
       "      <th>Product Image</th>\n",
       "      <th>Product Name</th>\n",
       "      <th>Product Price</th>\n",
       "      <th>Product Status</th>\n",
       "      <th>shipping date (DateOrders)</th>\n",
       "      <th>Shipping Mode</th>\n",
       "    </tr>\n",
       "  </thead>\n",
       "  <tbody>\n",
       "    <tr>\n",
       "      <th>0</th>\n",
       "      <td>DEBIT</td>\n",
       "      <td>3</td>\n",
       "      <td>4</td>\n",
       "      <td>91.250000</td>\n",
       "      <td>314.640015</td>\n",
       "      <td>Advance shipping</td>\n",
       "      <td>0</td>\n",
       "      <td>73</td>\n",
       "      <td>Sporting Goods</td>\n",
       "      <td>Caguas</td>\n",
       "      <td>...</td>\n",
       "      <td>NaN</td>\n",
       "      <td>1360</td>\n",
       "      <td>73</td>\n",
       "      <td>NaN</td>\n",
       "      <td>http://images.acmesports.sports/Smart+watch</td>\n",
       "      <td>Smart watch</td>\n",
       "      <td>327.750000</td>\n",
       "      <td>0</td>\n",
       "      <td>2/3/2018 22:56</td>\n",
       "      <td>Standard Class</td>\n",
       "    </tr>\n",
       "    <tr>\n",
       "      <th>1</th>\n",
       "      <td>TRANSFER</td>\n",
       "      <td>5</td>\n",
       "      <td>4</td>\n",
       "      <td>-249.089996</td>\n",
       "      <td>311.359985</td>\n",
       "      <td>Late delivery</td>\n",
       "      <td>1</td>\n",
       "      <td>73</td>\n",
       "      <td>Sporting Goods</td>\n",
       "      <td>Caguas</td>\n",
       "      <td>...</td>\n",
       "      <td>NaN</td>\n",
       "      <td>1360</td>\n",
       "      <td>73</td>\n",
       "      <td>NaN</td>\n",
       "      <td>http://images.acmesports.sports/Smart+watch</td>\n",
       "      <td>Smart watch</td>\n",
       "      <td>327.750000</td>\n",
       "      <td>0</td>\n",
       "      <td>1/18/2018 12:27</td>\n",
       "      <td>Standard Class</td>\n",
       "    </tr>\n",
       "    <tr>\n",
       "      <th>2</th>\n",
       "      <td>CASH</td>\n",
       "      <td>4</td>\n",
       "      <td>4</td>\n",
       "      <td>-247.779999</td>\n",
       "      <td>309.720001</td>\n",
       "      <td>Shipping on time</td>\n",
       "      <td>0</td>\n",
       "      <td>73</td>\n",
       "      <td>Sporting Goods</td>\n",
       "      <td>San Jose</td>\n",
       "      <td>...</td>\n",
       "      <td>NaN</td>\n",
       "      <td>1360</td>\n",
       "      <td>73</td>\n",
       "      <td>NaN</td>\n",
       "      <td>http://images.acmesports.sports/Smart+watch</td>\n",
       "      <td>Smart watch</td>\n",
       "      <td>327.750000</td>\n",
       "      <td>0</td>\n",
       "      <td>1/17/2018 12:06</td>\n",
       "      <td>Standard Class</td>\n",
       "    </tr>\n",
       "    <tr>\n",
       "      <th>3</th>\n",
       "      <td>DEBIT</td>\n",
       "      <td>3</td>\n",
       "      <td>4</td>\n",
       "      <td>22.860001</td>\n",
       "      <td>304.809998</td>\n",
       "      <td>Advance shipping</td>\n",
       "      <td>0</td>\n",
       "      <td>73</td>\n",
       "      <td>Sporting Goods</td>\n",
       "      <td>Los Angeles</td>\n",
       "      <td>...</td>\n",
       "      <td>NaN</td>\n",
       "      <td>1360</td>\n",
       "      <td>73</td>\n",
       "      <td>NaN</td>\n",
       "      <td>http://images.acmesports.sports/Smart+watch</td>\n",
       "      <td>Smart watch</td>\n",
       "      <td>327.750000</td>\n",
       "      <td>0</td>\n",
       "      <td>1/16/2018 11:45</td>\n",
       "      <td>Standard Class</td>\n",
       "    </tr>\n",
       "    <tr>\n",
       "      <th>4</th>\n",
       "      <td>PAYMENT</td>\n",
       "      <td>2</td>\n",
       "      <td>4</td>\n",
       "      <td>134.210007</td>\n",
       "      <td>298.250000</td>\n",
       "      <td>Advance shipping</td>\n",
       "      <td>0</td>\n",
       "      <td>73</td>\n",
       "      <td>Sporting Goods</td>\n",
       "      <td>Caguas</td>\n",
       "      <td>...</td>\n",
       "      <td>NaN</td>\n",
       "      <td>1360</td>\n",
       "      <td>73</td>\n",
       "      <td>NaN</td>\n",
       "      <td>http://images.acmesports.sports/Smart+watch</td>\n",
       "      <td>Smart watch</td>\n",
       "      <td>327.750000</td>\n",
       "      <td>0</td>\n",
       "      <td>1/15/2018 11:24</td>\n",
       "      <td>Standard Class</td>\n",
       "    </tr>\n",
       "    <tr>\n",
       "      <th>...</th>\n",
       "      <td>...</td>\n",
       "      <td>...</td>\n",
       "      <td>...</td>\n",
       "      <td>...</td>\n",
       "      <td>...</td>\n",
       "      <td>...</td>\n",
       "      <td>...</td>\n",
       "      <td>...</td>\n",
       "      <td>...</td>\n",
       "      <td>...</td>\n",
       "      <td>...</td>\n",
       "      <td>...</td>\n",
       "      <td>...</td>\n",
       "      <td>...</td>\n",
       "      <td>...</td>\n",
       "      <td>...</td>\n",
       "      <td>...</td>\n",
       "      <td>...</td>\n",
       "      <td>...</td>\n",
       "      <td>...</td>\n",
       "      <td>...</td>\n",
       "    </tr>\n",
       "    <tr>\n",
       "      <th>180514</th>\n",
       "      <td>CASH</td>\n",
       "      <td>4</td>\n",
       "      <td>4</td>\n",
       "      <td>40.000000</td>\n",
       "      <td>399.980011</td>\n",
       "      <td>Shipping on time</td>\n",
       "      <td>0</td>\n",
       "      <td>45</td>\n",
       "      <td>Fishing</td>\n",
       "      <td>Brooklyn</td>\n",
       "      <td>...</td>\n",
       "      <td>NaN</td>\n",
       "      <td>1004</td>\n",
       "      <td>45</td>\n",
       "      <td>NaN</td>\n",
       "      <td>http://images.acmesports.sports/Field+%26+Stre...</td>\n",
       "      <td>Field &amp; Stream Sportsman 16 Gun Fire Safe</td>\n",
       "      <td>399.980011</td>\n",
       "      <td>0</td>\n",
       "      <td>1/20/2016 3:40</td>\n",
       "      <td>Standard Class</td>\n",
       "    </tr>\n",
       "    <tr>\n",
       "      <th>180515</th>\n",
       "      <td>DEBIT</td>\n",
       "      <td>3</td>\n",
       "      <td>2</td>\n",
       "      <td>-613.770019</td>\n",
       "      <td>395.980011</td>\n",
       "      <td>Late delivery</td>\n",
       "      <td>1</td>\n",
       "      <td>45</td>\n",
       "      <td>Fishing</td>\n",
       "      <td>Bakersfield</td>\n",
       "      <td>...</td>\n",
       "      <td>NaN</td>\n",
       "      <td>1004</td>\n",
       "      <td>45</td>\n",
       "      <td>NaN</td>\n",
       "      <td>http://images.acmesports.sports/Field+%26+Stre...</td>\n",
       "      <td>Field &amp; Stream Sportsman 16 Gun Fire Safe</td>\n",
       "      <td>399.980011</td>\n",
       "      <td>0</td>\n",
       "      <td>1/19/2016 1:34</td>\n",
       "      <td>Second Class</td>\n",
       "    </tr>\n",
       "    <tr>\n",
       "      <th>180516</th>\n",
       "      <td>TRANSFER</td>\n",
       "      <td>5</td>\n",
       "      <td>4</td>\n",
       "      <td>141.110001</td>\n",
       "      <td>391.980011</td>\n",
       "      <td>Late delivery</td>\n",
       "      <td>1</td>\n",
       "      <td>45</td>\n",
       "      <td>Fishing</td>\n",
       "      <td>Bristol</td>\n",
       "      <td>...</td>\n",
       "      <td>NaN</td>\n",
       "      <td>1004</td>\n",
       "      <td>45</td>\n",
       "      <td>NaN</td>\n",
       "      <td>http://images.acmesports.sports/Field+%26+Stre...</td>\n",
       "      <td>Field &amp; Stream Sportsman 16 Gun Fire Safe</td>\n",
       "      <td>399.980011</td>\n",
       "      <td>0</td>\n",
       "      <td>1/20/2016 21:00</td>\n",
       "      <td>Standard Class</td>\n",
       "    </tr>\n",
       "    <tr>\n",
       "      <th>180517</th>\n",
       "      <td>PAYMENT</td>\n",
       "      <td>3</td>\n",
       "      <td>4</td>\n",
       "      <td>186.229996</td>\n",
       "      <td>387.980011</td>\n",
       "      <td>Advance shipping</td>\n",
       "      <td>0</td>\n",
       "      <td>45</td>\n",
       "      <td>Fishing</td>\n",
       "      <td>Caguas</td>\n",
       "      <td>...</td>\n",
       "      <td>NaN</td>\n",
       "      <td>1004</td>\n",
       "      <td>45</td>\n",
       "      <td>NaN</td>\n",
       "      <td>http://images.acmesports.sports/Field+%26+Stre...</td>\n",
       "      <td>Field &amp; Stream Sportsman 16 Gun Fire Safe</td>\n",
       "      <td>399.980011</td>\n",
       "      <td>0</td>\n",
       "      <td>1/18/2016 20:18</td>\n",
       "      <td>Standard Class</td>\n",
       "    </tr>\n",
       "    <tr>\n",
       "      <th>180518</th>\n",
       "      <td>PAYMENT</td>\n",
       "      <td>4</td>\n",
       "      <td>4</td>\n",
       "      <td>168.949997</td>\n",
       "      <td>383.980011</td>\n",
       "      <td>Shipping on time</td>\n",
       "      <td>0</td>\n",
       "      <td>45</td>\n",
       "      <td>Fishing</td>\n",
       "      <td>Caguas</td>\n",
       "      <td>...</td>\n",
       "      <td>NaN</td>\n",
       "      <td>1004</td>\n",
       "      <td>45</td>\n",
       "      <td>NaN</td>\n",
       "      <td>http://images.acmesports.sports/Field+%26+Stre...</td>\n",
       "      <td>Field &amp; Stream Sportsman 16 Gun Fire Safe</td>\n",
       "      <td>399.980011</td>\n",
       "      <td>0</td>\n",
       "      <td>1/19/2016 18:54</td>\n",
       "      <td>Standard Class</td>\n",
       "    </tr>\n",
       "  </tbody>\n",
       "</table>\n",
       "<p>180519 rows × 53 columns</p>\n",
       "</div>"
      ],
      "text/plain": [
       "            Type  Days for shipping (real)  Days for shipment (scheduled)  \\\n",
       "0          DEBIT                         3                              4   \n",
       "1       TRANSFER                         5                              4   \n",
       "2           CASH                         4                              4   \n",
       "3          DEBIT                         3                              4   \n",
       "4        PAYMENT                         2                              4   \n",
       "...          ...                       ...                            ...   \n",
       "180514      CASH                         4                              4   \n",
       "180515     DEBIT                         3                              2   \n",
       "180516  TRANSFER                         5                              4   \n",
       "180517   PAYMENT                         3                              4   \n",
       "180518   PAYMENT                         4                              4   \n",
       "\n",
       "        Benefit per order  Sales per customer   Delivery Status  \\\n",
       "0               91.250000          314.640015  Advance shipping   \n",
       "1             -249.089996          311.359985     Late delivery   \n",
       "2             -247.779999          309.720001  Shipping on time   \n",
       "3               22.860001          304.809998  Advance shipping   \n",
       "4              134.210007          298.250000  Advance shipping   \n",
       "...                   ...                 ...               ...   \n",
       "180514          40.000000          399.980011  Shipping on time   \n",
       "180515        -613.770019          395.980011     Late delivery   \n",
       "180516         141.110001          391.980011     Late delivery   \n",
       "180517         186.229996          387.980011  Advance shipping   \n",
       "180518         168.949997          383.980011  Shipping on time   \n",
       "\n",
       "        Late_delivery_risk  Category Id   Category Name Customer City  ...  \\\n",
       "0                        0           73  Sporting Goods        Caguas  ...   \n",
       "1                        1           73  Sporting Goods        Caguas  ...   \n",
       "2                        0           73  Sporting Goods      San Jose  ...   \n",
       "3                        0           73  Sporting Goods   Los Angeles  ...   \n",
       "4                        0           73  Sporting Goods        Caguas  ...   \n",
       "...                    ...          ...             ...           ...  ...   \n",
       "180514                   0           45         Fishing      Brooklyn  ...   \n",
       "180515                   1           45         Fishing   Bakersfield  ...   \n",
       "180516                   1           45         Fishing       Bristol  ...   \n",
       "180517                   0           45         Fishing        Caguas  ...   \n",
       "180518                   0           45         Fishing        Caguas  ...   \n",
       "\n",
       "       Order Zipcode Product Card Id Product Category Id  Product Description  \\\n",
       "0                NaN            1360                  73                  NaN   \n",
       "1                NaN            1360                  73                  NaN   \n",
       "2                NaN            1360                  73                  NaN   \n",
       "3                NaN            1360                  73                  NaN   \n",
       "4                NaN            1360                  73                  NaN   \n",
       "...              ...             ...                 ...                  ...   \n",
       "180514           NaN            1004                  45                  NaN   \n",
       "180515           NaN            1004                  45                  NaN   \n",
       "180516           NaN            1004                  45                  NaN   \n",
       "180517           NaN            1004                  45                  NaN   \n",
       "180518           NaN            1004                  45                  NaN   \n",
       "\n",
       "                                            Product Image  \\\n",
       "0            http://images.acmesports.sports/Smart+watch    \n",
       "1            http://images.acmesports.sports/Smart+watch    \n",
       "2            http://images.acmesports.sports/Smart+watch    \n",
       "3            http://images.acmesports.sports/Smart+watch    \n",
       "4            http://images.acmesports.sports/Smart+watch    \n",
       "...                                                   ...   \n",
       "180514  http://images.acmesports.sports/Field+%26+Stre...   \n",
       "180515  http://images.acmesports.sports/Field+%26+Stre...   \n",
       "180516  http://images.acmesports.sports/Field+%26+Stre...   \n",
       "180517  http://images.acmesports.sports/Field+%26+Stre...   \n",
       "180518  http://images.acmesports.sports/Field+%26+Stre...   \n",
       "\n",
       "                                     Product Name Product Price  \\\n",
       "0                                    Smart watch     327.750000   \n",
       "1                                    Smart watch     327.750000   \n",
       "2                                    Smart watch     327.750000   \n",
       "3                                    Smart watch     327.750000   \n",
       "4                                    Smart watch     327.750000   \n",
       "...                                           ...           ...   \n",
       "180514  Field & Stream Sportsman 16 Gun Fire Safe    399.980011   \n",
       "180515  Field & Stream Sportsman 16 Gun Fire Safe    399.980011   \n",
       "180516  Field & Stream Sportsman 16 Gun Fire Safe    399.980011   \n",
       "180517  Field & Stream Sportsman 16 Gun Fire Safe    399.980011   \n",
       "180518  Field & Stream Sportsman 16 Gun Fire Safe    399.980011   \n",
       "\n",
       "       Product Status shipping date (DateOrders)   Shipping Mode  \n",
       "0                   0             2/3/2018 22:56  Standard Class  \n",
       "1                   0            1/18/2018 12:27  Standard Class  \n",
       "2                   0            1/17/2018 12:06  Standard Class  \n",
       "3                   0            1/16/2018 11:45  Standard Class  \n",
       "4                   0            1/15/2018 11:24  Standard Class  \n",
       "...               ...                        ...             ...  \n",
       "180514              0             1/20/2016 3:40  Standard Class  \n",
       "180515              0             1/19/2016 1:34    Second Class  \n",
       "180516              0            1/20/2016 21:00  Standard Class  \n",
       "180517              0            1/18/2016 20:18  Standard Class  \n",
       "180518              0            1/19/2016 18:54  Standard Class  \n",
       "\n",
       "[180519 rows x 53 columns]"
      ]
     },
     "execution_count": 4,
     "metadata": {},
     "output_type": "execute_result"
    }
   ],
   "source": [
    "df = pd.read_csv(\"supply_chain_dataset.csv\",encoding='latin1')\n",
    "df"
   ]
  },
  {
   "cell_type": "code",
   "execution_count": 20,
   "metadata": {},
   "outputs": [
    {
     "data": {
      "text/plain": [
       "Index(['Type', 'Days for shipping (real)', 'Days for shipment (scheduled)',\n",
       "       'Benefit per order', 'Sales per customer', 'Delivery Status',\n",
       "       'Late_delivery_risk', 'Category Id', 'Category Name', 'Customer City',\n",
       "       'Customer Country', 'Customer Email', 'Customer Fname', 'Customer Id',\n",
       "       'Customer Lname', 'Customer Password', 'Customer Segment',\n",
       "       'Customer State', 'Customer Street', 'Customer Zipcode',\n",
       "       'Department Id', 'Department Name', 'Latitude', 'Longitude', 'Market',\n",
       "       'Order City', 'Order Country', 'Order Customer Id',\n",
       "       'order date (DateOrders)', 'Order Id', 'Order Item Cardprod Id',\n",
       "       'Order Item Discount', 'Order Item Discount Rate', 'Order Item Id',\n",
       "       'Order Item Product Price', 'Order Item Profit Ratio',\n",
       "       'Order Item Quantity', 'Sales', 'Order Item Total',\n",
       "       'Order Profit Per Order', 'Order Region', 'Order State', 'Order Status',\n",
       "       'Product Card Id', 'Product Category Id', 'Product Image',\n",
       "       'Product Name', 'Product Price', 'Product Status',\n",
       "       'shipping date (DateOrders)', 'Shipping Mode'],\n",
       "      dtype='object')"
      ]
     },
     "execution_count": 20,
     "metadata": {},
     "output_type": "execute_result"
    }
   ],
   "source": [
    "df.columns"
   ]
  },
  {
   "cell_type": "code",
   "execution_count": 39,
   "metadata": {},
   "outputs": [
    {
     "data": {
      "text/plain": [
       "array(['Standard Class', 'First Class', 'Second Class', 'Same Day'],\n",
       "      dtype=object)"
      ]
     },
     "execution_count": 39,
     "metadata": {},
     "output_type": "execute_result"
    }
   ],
   "source": [
    "df['Shipping Mode'].unique()"
   ]
  },
  {
   "cell_type": "code",
   "execution_count": 38,
   "metadata": {},
   "outputs": [
    {
     "data": {
      "text/plain": [
       "array(['2/3/2018 22:56', '1/18/2018 12:27', '1/17/2018 12:06', ...,\n",
       "       '1/25/2016 2:47', '1/23/2016 7:10', '1/21/2016 5:56'], dtype=object)"
      ]
     },
     "execution_count": 38,
     "metadata": {},
     "output_type": "execute_result"
    }
   ],
   "source": [
    "df['shipping date (DateOrders)'].unique()"
   ]
  },
  {
   "cell_type": "code",
   "execution_count": 37,
   "metadata": {},
   "outputs": [
    {
     "data": {
      "text/plain": [
       "array([0], dtype=int64)"
      ]
     },
     "execution_count": 37,
     "metadata": {},
     "output_type": "execute_result"
    }
   ],
   "source": [
    "df['Product Status'].unique()"
   ]
  },
  {
   "cell_type": "code",
   "execution_count": 36,
   "metadata": {},
   "outputs": [
    {
     "data": {
      "text/plain": [
       "array([ 327.75      ,   59.99000168,   39.99000168,   50.        ,\n",
       "         44.99000168,   54.97000122,   99.98999786,   21.98999977,\n",
       "         31.98999977,   30.        ,   47.99000168,   89.98999786,\n",
       "         29.98999977,  129.9900055 ,  299.980011  ,  252.8800049 ,\n",
       "        452.0400085 , 1500.        ,  999.9899902 ,   79.98999786,\n",
       "         25.        ,   24.98999977,   15.98999977,  215.8200073 ,\n",
       "        461.480011  ,  210.8500061 ,   34.99000168,   27.98999977,\n",
       "         70.        ,   19.98999977,   51.99000168,  399.9899902 ,\n",
       "        299.9899902 ,  357.1000061 ,   59.08000183,  199.        ,\n",
       "        399.980011  ,   31.07999992,  109.9499969 ,  164.3800049 ,\n",
       "         11.28999996,   94.98999786,   17.98999977,   99.        ,\n",
       "        532.5800171 ,   22.        ,  149.9900055 ,  199.9900055 ,\n",
       "         84.40000153,  293.0400085 ,  249.9900055 ,  260.6499939 ,\n",
       "         39.75      ,   99.94999695,  329.9899902 ,  159.9900055 ,\n",
       "        599.9899902 ,  189.        ,  124.9899979 , 1999.98999   ,\n",
       "         14.98999977,  179.9900055 ,    9.98999977,  169.9900055 ,\n",
       "         80.        ,   65.        ,  108.        ,  100.        ,\n",
       "        119.9899979 ,  209.9900055 ,  109.9899979 ,  134.9900055 ,\n",
       "         11.53999996,  349.9899902 ,   49.97999954])"
      ]
     },
     "execution_count": 36,
     "metadata": {},
     "output_type": "execute_result"
    }
   ],
   "source": [
    "df['Product Price'].unique()"
   ]
  },
  {
   "cell_type": "code",
   "execution_count": null,
   "metadata": {},
   "outputs": [],
   "source": []
  },
  {
   "cell_type": "code",
   "execution_count": 35,
   "metadata": {},
   "outputs": [
    {
     "data": {
      "text/plain": [
       "array(['Smart watch ', 'Perfect Fitness Perfect Rip Deck',\n",
       "       \"Under Armour Girls' Toddler Spine Surge Runni\",\n",
       "       \"Nike Men's Dri-FIT Victory Golf Polo\",\n",
       "       \"Under Armour Men's Compression EV SL Slide\",\n",
       "       \"Under Armour Women's Micro G Skulpt Running S\",\n",
       "       \"Nike Men's Free 5.0+ Running Shoe\",\n",
       "       \"Glove It Women's Mod Oval 3-Zip Carry All Gol\",\n",
       "       'Bridgestone e6 Straight Distance NFL San Dieg',\n",
       "       \"Columbia Men's PFG Anchor Tough T-Shirt\",\n",
       "       'Titleist Pro V1x Golf Balls',\n",
       "       'Bridgestone e6 Straight Distance NFL Tennesse',\n",
       "       'Polar FT4 Heart Rate Monitor', 'ENO Atlas Hammock Straps',\n",
       "       \"adidas Men's F10 Messi TRX FG Soccer Cleat\",\n",
       "       \"Brooks Women's Ghost 6 Running Shoe\",\n",
       "       \"Nike Men's CJ Elite 2 TD Football Cleat\",\n",
       "       \"Diamondback Women's Serene Classic Comfort Bi\",\n",
       "       'Industrial consumer electronics', 'Web Camera', 'Dell Laptop',\n",
       "       'SOLE E25 Elliptical', 'Elevation Training Mask 2.0',\n",
       "       \"adidas Men's Germany Black Crest Away Tee\",\n",
       "       'Team Golf Pittsburgh Steelers Putter Grip',\n",
       "       'Glove It Urban Brick Golf Towel',\n",
       "       'Team Golf Texas Longhorns Putter Grip',\n",
       "       \"Nike Men's Deutschland Weltmeister Winners Bl\",\n",
       "       'Team Golf St. Louis Cardinals Putter Grip', 'Summer dresses',\n",
       "       'Porcelain crafts', \"Men's gala suit\",\n",
       "       'Team Golf Tennessee Volunteers Putter Grip',\n",
       "       'Team Golf San Francisco Giants Putter Grip',\n",
       "       'Glove It Imperial Golf Towel', \"Nike Men's Comfort 2 Slide\",\n",
       "       'Under Armour Hustle Storm Medium Duffle Bag',\n",
       "       \"Under Armour Kids' Mercenary Slide\",\n",
       "       \"Under Armour Women's Ignite PIP VI Slide\",\n",
       "       \"Nike Men's Free TR 5.0 TB Training Shoe\",\n",
       "       'adidas Youth Germany Black/Red Away Match Soc',\n",
       "       \"TYR Boys' Team Digi Jammer\",\n",
       "       \"Glove It Women's Imperial Golf Glove\",\n",
       "       'Titleist Pro V1x High Numbers Golf Balls',\n",
       "       'Bridgestone e6 Straight Distance NFL Carolina',\n",
       "       \"Under Armour Women's Ignite Slide\",\n",
       "       'Titleist Pro V1x High Numbers Personalized Go',\n",
       "       'GoPro HERO3+ Black Edition Camera', 'Total Gym 1400',\n",
       "       \"Children's heaters\", 'Team Golf New England Patriots Putter Grip',\n",
       "       \"adidas Kids' F5 Messi FG Soccer Cleat\",\n",
       "       \"Nike Women's Tempo Shorts\",\n",
       "       \"Glove It Women's Mod Oval Golf Glove\",\n",
       "       'Titleist Pro V1 High Numbers Personalized Gol',\n",
       "       \"Under Armour Men's Tech II T-Shirt\", 'Baby sweater',\n",
       "       'Mio ALPHA Heart Rate Monitor/Sport Watch',\n",
       "       'Field & Stream Sportsman 16 Gun Fire Safe', 'Sports Books ',\n",
       "       \"Diamondback Boys' Insight 24 Performance Hybr\",\n",
       "       'Polar Loop Activity Tracker', 'Garmin Forerunner 910XT GPS Watch',\n",
       "       'DVDs ', 'CDs of rock',\n",
       "       \"Nike Kids' Grade School KD VI Basketball Shoe\",\n",
       "       \"Nike Women's Free 5.0 TR FIT PRT 4 Training S\",\n",
       "       \"Hirzl Women's Soffft Flex Golf Glove\",\n",
       "       \"The North Face Women's Recon Backpack\", 'Lawn mower',\n",
       "       'Nike Dri-FIT Crew Sock 6 Pack',\n",
       "       \"Nike Women's Legend V-Neck T-Shirt\",\n",
       "       'Garmin Approach S4 Golf GPS Watch',\n",
       "       'insta-bed Neverflat Air Mattress',\n",
       "       \"Nike Men's Kobe IX Elite Low Basketball Shoe\",\n",
       "       'Adult dog supplies', 'First aid kit',\n",
       "       'Garmin Approach S3 Golf GPS Watch', 'Rock music',\n",
       "       'Fighting video games',\n",
       "       'Fitbit The One Wireless Activity & Sleep Trac',\n",
       "       'Stiga Master Series ST3100 Competition Indoor',\n",
       "       \"Diamondback Girls' Clarity 24 Hybrid Bike 201\",\n",
       "       'adidas Brazuca 2014 Official Match Ball',\n",
       "       'GolfBuddy VT3 GPS Watch',\n",
       "       'Bushnell Pro X7 Jolt Slope Rangefinder',\n",
       "       'Yakima DoubleDown Ace Hitch Mount 4-Bike Rack',\n",
       "       \"Nike Men's Fingertrap Max Training Shoe\",\n",
       "       'Bowflex SelectTech 1090 Dumbbells', 'SOLE E35 Elliptical',\n",
       "       \"Hirzl Women's Hybrid Golf Glove\", \"Hirzl Men's Hybrid Golf Glove\",\n",
       "       'TaylorMade 2014 Purelite Stand Bag', 'Bag Boy Beverage Holder',\n",
       "       'Bag Boy M330 Push Cart', 'Clicgear 8.0 Shoe Brush',\n",
       "       'Titleist Small Wheeled Travel Cover', 'Clicgear Rovic Cooler Bag',\n",
       "       'Titleist Club Glove Travel Cover', 'Ogio Race Golf Shoes',\n",
       "       \"LIJA Women's Argyle Golf Polo\",\n",
       "       \"LIJA Women's Eyelet Sleeveless Golf Polo\",\n",
       "       \"LIJA Women's Button Golf Dress\",\n",
       "       \"LIJA Women's Mid-Length Panel Golf Shorts\",\n",
       "       \"TaylorMade Women's RBZ SL Rescue\",\n",
       "       \"Cleveland Golf Women's 588 RTX CB Satin Chrom\",\n",
       "       \"Top Flite Women's 2014 XL Hybrid\",\n",
       "       'MDGolf Pittsburgh Penguins Putter',\n",
       "       'TaylorMade White Smoke IN-12 Putter',\n",
       "       'Cleveland Golf Collegiate My Custom Wedge 588',\n",
       "       \"Merrell Men's All Out Flash Trail Running Sho\",\n",
       "       \"Merrell Women's Grassbow Sport Waterproof Hik\",\n",
       "       \"Merrell Women's Siren Mid Waterproof Hiking B\",\n",
       "       \"Merrell Women's Grassbow Sport Hiking Shoe\", 'Toys ',\n",
       "       'Pelican Sunstream 100 Kayak', 'Pelican Maverick 100X Kayak',\n",
       "       \"O'Brien Men's Neoprene Life Vest\"], dtype=object)"
      ]
     },
     "execution_count": 35,
     "metadata": {},
     "output_type": "execute_result"
    }
   ],
   "source": [
    "df['Product Name'].unique()"
   ]
  },
  {
   "cell_type": "code",
   "execution_count": 34,
   "metadata": {},
   "outputs": [
    {
     "data": {
      "text/plain": [
       "array([1360,  365,  627,  502,  278,  249,  191,  917,  828,  642,  818,\n",
       "        825,  306,  977,   44,  251,  403,  957, 1352, 1349, 1351,   60,\n",
       "         24,  567,  893,  924,  905,  564,  885, 1363, 1353, 1357,  906,\n",
       "        886,  926,  116,  235,  273,  282,  359,  565,  572,  804,  822,\n",
       "        835,  276,  823,  203,  364, 1350,  897,   37,  172,  810,  821,\n",
       "         93, 1347,  305, 1004, 1346,   58,  311,  303, 1354, 1348,   78,\n",
       "        258,  797,  981, 1355,  135,  134,  845,  982,  625, 1359, 1356,\n",
       "        607, 1358, 1362,  295,  127,   61,   35,  858,  860,  216,   19,\n",
       "        226,  208,  793,  792,  786,  778,  777,  775,  773,  771,  768,\n",
       "        743,  730,  728,  725,  724,  715,  705,  703,  691,  677,  671,\n",
       "        666,  652,  647,  646, 1361, 1073, 1059, 1014], dtype=int64)"
      ]
     },
     "execution_count": 34,
     "metadata": {},
     "output_type": "execute_result"
    }
   ],
   "source": [
    "df['Product Card Id'].unique()"
   ]
  },
  {
   "cell_type": "code",
   "execution_count": 32,
   "metadata": {},
   "outputs": [
    {
     "data": {
      "text/plain": [
       "array(['Java Occidental', 'Rajastán', 'Queensland', ...,\n",
       "       'Bistrita-Nasaud', 'Tottori', 'Khorezm'], dtype=object)"
      ]
     },
     "execution_count": 32,
     "metadata": {},
     "output_type": "execute_result"
    }
   ],
   "source": [
    "df['Order State'].unique()"
   ]
  },
  {
   "cell_type": "code",
   "execution_count": 33,
   "metadata": {},
   "outputs": [
    {
     "data": {
      "text/plain": [
       "array(['COMPLETE', 'PENDING', 'CLOSED', 'PENDING_PAYMENT', 'CANCELED',\n",
       "       'PROCESSING', 'SUSPECTED_FRAUD', 'ON_HOLD', 'PAYMENT_REVIEW'],\n",
       "      dtype=object)"
      ]
     },
     "execution_count": 33,
     "metadata": {},
     "output_type": "execute_result"
    }
   ],
   "source": [
    "df['Order Status'].unique()"
   ]
  },
  {
   "cell_type": "code",
   "execution_count": null,
   "metadata": {},
   "outputs": [],
   "source": []
  },
  {
   "cell_type": "code",
   "execution_count": 31,
   "metadata": {},
   "outputs": [
    {
     "data": {
      "text/plain": [
       "0          91.250000\n",
       "1        -249.089996\n",
       "2        -247.779999\n",
       "3          22.860001\n",
       "4         134.210007\n",
       "             ...    \n",
       "180514     40.000000\n",
       "180515   -613.770019\n",
       "180516    141.110001\n",
       "180517    186.229996\n",
       "180518    168.949997\n",
       "Name: Order Profit Per Order, Length: 180519, dtype: float64"
      ]
     },
     "execution_count": 31,
     "metadata": {},
     "output_type": "execute_result"
    }
   ],
   "source": [
    "df['Order Profit Per Order']"
   ]
  },
  {
   "cell_type": "code",
   "execution_count": null,
   "metadata": {},
   "outputs": [],
   "source": []
  },
  {
   "cell_type": "code",
   "execution_count": 30,
   "metadata": {},
   "outputs": [
    {
     "data": {
      "text/plain": [
       "array([314.6400146, 311.3599854, 309.7200012, ..., 298.769989 ,\n",
       "       403.7099915, 474.7600098])"
      ]
     },
     "execution_count": 30,
     "metadata": {},
     "output_type": "execute_result"
    }
   ],
   "source": [
    "df['Order Item Total'].unique()"
   ]
  },
  {
   "cell_type": "code",
   "execution_count": null,
   "metadata": {},
   "outputs": [],
   "source": []
  },
  {
   "cell_type": "code",
   "execution_count": 29,
   "metadata": {},
   "outputs": [
    {
     "data": {
      "text/plain": [
       "array([1, 2, 3, 5, 4], dtype=int64)"
      ]
     },
     "execution_count": 29,
     "metadata": {},
     "output_type": "execute_result"
    }
   ],
   "source": [
    "df['Order Item Quantity'].unique()"
   ]
  },
  {
   "cell_type": "code",
   "execution_count": 28,
   "metadata": {},
   "outputs": [
    {
     "data": {
      "text/plain": [
       "array(['Bekasi', 'Bikaner', 'Townsville', ..., 'Tongling', 'Liuyang',\n",
       "       'Nashua'], dtype=object)"
      ]
     },
     "execution_count": 28,
     "metadata": {},
     "output_type": "execute_result"
    }
   ],
   "source": [
    "df['Order City'].unique()"
   ]
  },
  {
   "cell_type": "code",
   "execution_count": null,
   "metadata": {},
   "outputs": [],
   "source": []
  },
  {
   "cell_type": "code",
   "execution_count": 26,
   "metadata": {},
   "outputs": [
    {
     "data": {
      "text/plain": [
       "array(['Fitness', 'Apparel', 'Golf', 'Footwear', 'Outdoors', 'Fan Shop',\n",
       "       'Technology', 'Book Shop', 'Discs Shop', 'Pet Shop',\n",
       "       'Health and Beauty '], dtype=object)"
      ]
     },
     "execution_count": 26,
     "metadata": {},
     "output_type": "execute_result"
    }
   ],
   "source": [
    "df['Department Name'].unique()"
   ]
  },
  {
   "cell_type": "code",
   "execution_count": 27,
   "metadata": {},
   "outputs": [
    {
     "data": {
      "text/plain": [
       "array(['Pacific Asia', 'USCA', 'Africa', 'Europe', 'LATAM'], dtype=object)"
      ]
     },
     "execution_count": 27,
     "metadata": {},
     "output_type": "execute_result"
    }
   ],
   "source": [
    "df['Market'].unique()"
   ]
  },
  {
   "cell_type": "code",
   "execution_count": 25,
   "metadata": {},
   "outputs": [
    {
     "data": {
      "text/plain": [
       "array(['PR', 'CA', 'NY', 'FL', 'MA', 'IL', 'MT', 'PA', 'MI', 'TX', 'DE',\n",
       "       'GA', 'MD', 'OH', 'HI', 'NJ', 'WI', 'AZ', 'CO', 'MN', 'NC', 'NM',\n",
       "       'OR', 'SC', 'VA', 'UT', 'WA', 'KY', 'WV', 'RI', 'CT', 'LA', 'TN',\n",
       "       'DC', 'ND', 'MO', 'IN', 'ID', 'NV', 'KS', 'AR', 'OK', 'AL', 'IA',\n",
       "       '95758', '91732'], dtype=object)"
      ]
     },
     "execution_count": 25,
     "metadata": {},
     "output_type": "execute_result"
    }
   ],
   "source": [
    "df['Customer State'].unique()"
   ]
  },
  {
   "cell_type": "code",
   "execution_count": 24,
   "metadata": {},
   "outputs": [
    {
     "data": {
      "text/plain": [
       "array(['Consumer', 'Home Office', 'Corporate'], dtype=object)"
      ]
     },
     "execution_count": 24,
     "metadata": {},
     "output_type": "execute_result"
    }
   ],
   "source": [
    "df['Customer Segment'].unique()"
   ]
  },
  {
   "cell_type": "code",
   "execution_count": 23,
   "metadata": {},
   "outputs": [
    {
     "data": {
      "text/plain": [
       "array(['Puerto Rico', 'EE. UU.'], dtype=object)"
      ]
     },
     "execution_count": 23,
     "metadata": {},
     "output_type": "execute_result"
    }
   ],
   "source": [
    "df['Customer Country'].unique()"
   ]
  },
  {
   "cell_type": "code",
   "execution_count": null,
   "metadata": {},
   "outputs": [],
   "source": []
  },
  {
   "cell_type": "code",
   "execution_count": 19,
   "metadata": {},
   "outputs": [
    {
     "data": {
      "text/plain": [
       "array(['Caguas', 'San Jose', 'Los Angeles', 'Tonawanda', 'Miami',\n",
       "       'San Ramon', 'Freeport', 'Salinas', 'Peabody', 'Canovanas',\n",
       "       'Paramount', 'Mount Prospect', 'Long Beach', 'Rancho Cordova',\n",
       "       'Billings', 'Wilkes Barre', 'Roseville', 'Bellflower', 'Wheaton',\n",
       "       'Detroit', 'Dallas', 'Carlisle', 'Newark', 'Panorama City',\n",
       "       'Atlanta', 'Fremont', 'Rochester', 'Bayamon', 'Guayama',\n",
       "       'Juana Diaz', 'Fort Washington', 'Bakersfield', 'Corona',\n",
       "       'Cincinnati', 'Germantown', 'Carrollton', 'Houston', 'Ewa Beach',\n",
       "       'Lakewood', 'Rome', 'Vista', 'Fort Worth', 'Fond Du Lac',\n",
       "       'Philadelphia', 'Ontario', 'Oviedo', 'Buffalo', 'Honolulu',\n",
       "       'Oceanside', 'North Tonawanda', 'Clovis', 'Jamaica',\n",
       "       'Granite City', 'Medford', 'Pomona', 'Tempe', 'Santa Ana', 'York',\n",
       "       'Aurora', 'Simi Valley', 'Silver Spring', 'Saint Paul',\n",
       "       'San Antonio', 'Bronx', 'Greenville', 'Morristown', 'San Diego',\n",
       "       'Oxnard', 'Albuquerque', 'Amarillo', 'Lutz', 'Bend',\n",
       "       'East Brunswick', 'Lancaster', 'Hampton', 'New York',\n",
       "       'Porterville', 'Portland', 'Strongsville', 'El Paso', 'Del Rio',\n",
       "       'Bountiful', 'Kent', 'Chicago', 'Plymouth', 'Far Rockaway',\n",
       "       'Garden Grove', 'Placentia', 'Mentor', 'Santa Clara', 'Union',\n",
       "       'Westminster', 'Pompano Beach', 'Azusa', 'Fort Lauderdale',\n",
       "       'Princeton', 'Perth Amboy', 'Loveland', 'Virginia Beach',\n",
       "       'Louisville', 'Lockport', 'Staten Island', 'Tucson', 'Cleveland',\n",
       "       'Webster', 'Stockton', 'Martinsburg', 'Cumberland', 'Pekin',\n",
       "       'Tallahassee', 'Jacksonville', 'Woonsocket', 'Lithonia',\n",
       "       'Oak Lawn', 'Alhambra', 'New Haven', 'Phoenix', 'Kenner',\n",
       "       'Washington', 'Holland', 'Morrisville', 'Memphis', 'Federal Way',\n",
       "       'West Covina', 'Ventura', 'Valrico', 'Kaneohe', 'Brooklyn', 'Lodi',\n",
       "       'Murfreesboro', 'Carlsbad', 'Hamilton', 'Hayward', 'Bridgeton',\n",
       "       'Bay Shore', 'Palatine', 'Smyrna', 'Van Nuys', 'Opa Locka',\n",
       "       'Edison', 'Baytown', 'Sylmar', 'Burnsville', 'Huntington Station',\n",
       "       'Sunnyvale', 'Sugar Land', 'Brighton', 'Bismarck', 'Gaithersburg',\n",
       "       'Lilburn', 'Provo', 'Columbia', 'Marietta', 'Rio Grande', 'Denver',\n",
       "       'Taylor', 'Saint Charles', 'Cupertino', 'Springfield',\n",
       "       'Mission Viejo', 'Roswell', 'Ypsilanti', 'Peoria', 'Clementon',\n",
       "       'Antioch', 'Salt Lake City', 'Granada Hills', 'Hempstead',\n",
       "       'Astoria', 'Gilroy', 'Lenoir', 'Columbus', 'Albany', 'Humacao',\n",
       "       'Lindenhurst', 'Elyria', 'Riverside', 'Carson', 'Mesa', 'San Juan',\n",
       "       'Vega Baja', 'Mayaguez', 'Arecibo', 'San Sebastian', 'Eugene',\n",
       "       'Algonquin', 'Indianapolis', 'Buena Park', 'Catonsville',\n",
       "       'Jersey City', 'Lombard', 'New Bedford', 'Newburgh', 'Lansdale',\n",
       "       'Baltimore', 'Fullerton', 'Sacramento', 'Greensboro', 'Roseburg',\n",
       "       'Modesto', 'Encinitas', 'Watsonville', 'Meridian', 'Endicott',\n",
       "       'Katy', 'Visalia', 'Lompoc', 'Ogden', 'Raleigh',\n",
       "       'Hacienda Heights', 'Union City', 'Hollywood', 'Bolingbrook',\n",
       "       'West Lafayette', 'Woodbridge', 'Weslaco', 'Bell Gardens',\n",
       "       'La Mirada', 'North Bergen', 'Madison', 'South San Francisco',\n",
       "       'North Las Vegas', 'Methuen', 'Costa Mesa', 'Glen Burnie',\n",
       "       'Fairfield', 'Winnetka', 'Mcallen', 'Joliet', 'Brownsville',\n",
       "       'Pawtucket', 'Colorado Springs', 'Quincy', 'Pittsfield', 'Chino',\n",
       "       'Marion', 'North Hills', 'Salina', 'Hyattsville',\n",
       "       'North Richland Hills', 'Spring Valley', 'Lawrence', 'Milpitas',\n",
       "       'Rowland Heights', 'Gardena', 'Cicero', 'Asheboro', 'La Crosse',\n",
       "       'Florissant', 'Canyon Country', 'Ithaca', 'Allentown', 'Escondido',\n",
       "       'Martinez', 'Troy', 'Arlington', 'Davis', 'Chandler', 'Elgin',\n",
       "       'Palmdale', 'Massapequa', 'Pittsburg', 'West New York', 'Orlando',\n",
       "       'Hanover', 'Glendale', 'Enfield', 'Baldwin Park', 'Chino Hills',\n",
       "       'Toms River', 'Wyandotte', 'Mililani', 'Harvey', 'Mechanicsburg',\n",
       "       'Opelousas', 'Kailua', 'Norfolk', 'Elmhurst', 'Chillicothe',\n",
       "       'Canoga Park', 'Jackson', 'Moreno Valley', 'New Orleans',\n",
       "       'San Benito', 'New Castle', 'Bloomfield', 'Cypress', 'Marrero',\n",
       "       'Grand Prairie', 'Greeley', 'Littleton', 'Longmont', 'Chesapeake',\n",
       "       'Englewood', 'Arlington Heights', 'Tampa', 'Irvington',\n",
       "       'Forest Hills', 'Dearborn', 'Compton', 'Garland', 'Waipahu',\n",
       "       'Carmichael', 'Tustin', 'Anaheim', 'Canton', 'Stafford',\n",
       "       'South Richmond Hill', 'Middletown', 'West Orange', 'Daly City',\n",
       "       'Powder Springs', 'Parkville', 'Hialeah', 'Beloit', 'Aguadilla',\n",
       "       'Carolina', 'Yauco', 'Saint Peters', 'Augusta', 'Chapel Hill',\n",
       "       'East Lansing', 'Stamford', 'Diamond Bar', 'Milwaukee',\n",
       "       'Lawrenceville', 'Manchester', 'La Puente', 'Victorville',\n",
       "       'Richmond', 'Eagle Pass', 'Fontana', 'Ballwin', 'New Braunfels',\n",
       "       'Las Vegas', 'Goose Creek', 'Pharr', 'Yonkers', 'El Monte',\n",
       "       'Reynoldsburg', 'Hamtramck', 'Medina', 'Highland', 'Jonesboro',\n",
       "       'Elk Grove', 'Montebello', 'San Francisco', 'Glenview',\n",
       "       'Rock Hill', 'Austin', 'Scottsdale', 'Santa Cruz', 'Oregon City',\n",
       "       'Annandale', 'Plano', 'Piscataway', 'El Cajon', 'Hilliard',\n",
       "       'Orange Park', 'Decatur', 'San Pablo', 'Douglasville', 'Henderson',\n",
       "       'College Station', 'Round Rock', 'Mesquite', 'Broken Arrow',\n",
       "       'Redmond', 'Findlay', 'La Habra', 'Laguna Hills', 'San Bernardino',\n",
       "       'Apex', 'South El Monte', 'Irving', 'Blacksburg',\n",
       "       'Dorchester Center', 'Potomac', 'Winter Park', 'Stone Mountain',\n",
       "       'Goleta', 'Hagerstown', 'Alameda', 'Saint Louis', 'Pico Rivera',\n",
       "       'Chula Vista', 'Hollister', 'North Hollywood', 'New Brunswick',\n",
       "       'Beaverton', 'Chicago Heights', 'Hesperia', 'Cary', 'Sanford',\n",
       "       'Laredo', 'Westland', 'Stockbridge', 'Carol Stream', 'Wichita',\n",
       "       'Olathe', 'Flushing', 'Lynwood', 'Revere', 'Westerville',\n",
       "       'Cordova', 'Hanford', 'Rialto', 'Mchenry', 'Mission', 'Salem',\n",
       "       'Duluth', 'Danbury', 'Frankfort', 'Upland', 'Rosemead',\n",
       "       'Mount Pleasant', 'Lake Forest', 'West Chester', 'Woodside',\n",
       "       'Norcross', 'Fresno', 'Zanesville', 'Painesville', 'Lynnwood',\n",
       "       'Massillon', 'Crystal Lake', 'Rego Park', 'Ann Arbor', 'Wyoming',\n",
       "       'La Mesa', 'Edinburg', 'Howell', 'Michigan City', 'Sheboygan',\n",
       "       'Moline', 'Yuma', 'Campbell', 'Charlotte', 'Oakland', 'San Marcos',\n",
       "       'Walnut', 'Harlingen', 'Rio Rancho', 'Nashville', 'Annapolis',\n",
       "       'Laguna Niguel', 'Santee', 'West Jordan', 'Hickory', 'Manati',\n",
       "       'Trujillo Alto', 'Ponce', 'Toa Alta', 'Irwin', 'South Ozone Park',\n",
       "       'Ridgewood', 'Bowling Green', 'Richardson', 'Sun Valley',\n",
       "       'Huntington Beach', 'Fargo', 'Waukegan', 'Highland Park',\n",
       "       'Cerritos', 'Lewisville', 'Alpharetta', 'New Albany', 'Denton',\n",
       "       'Temecula', 'Tinley Park', 'Dundalk', 'Crown Point', 'Lawton',\n",
       "       'Fayetteville', 'Milford', 'Bartlett', 'Reno', 'Passaic', 'Reseda',\n",
       "       'Levittown', 'Wayne', 'Metairie', 'Wheeling', 'Hawthorne', 'Napa',\n",
       "       'Berwyn', 'Fountain Valley', 'Las Cruces', 'Apopka', 'Folsom',\n",
       "       'El Centro', 'Jackson Heights', 'Pacoima', 'Hendersonville',\n",
       "       'Clearfield', 'Seattle', 'Saginaw', 'Conway', 'Sandusky',\n",
       "       'San Pedro', 'Grove City', 'Knoxville', 'Huntington Park',\n",
       "       'Greensburg', 'Poway', 'O Fallon', 'Chambersburg', 'Normal',\n",
       "       'Lynn', 'Bensalem', 'Bristol', 'Williamsport', 'Longview',\n",
       "       'Norwalk', 'Bayonne', 'Tulare', 'National City', 'Dayton', 'Tracy',\n",
       "       'Summerville', 'Merced', 'Brockton', 'Vallejo', 'West Haven',\n",
       "       'Pasadena', 'South Gate', 'Warren', 'Clarksville', 'Muskegon',\n",
       "       'Brandon', 'Rancho Cucamonga', 'Santa Maria', 'Doylestown',\n",
       "       'Colton', 'Indio', 'Plainfield', 'Bellingham', 'Spring',\n",
       "       'Livermore', 'Santa Fe', 'Palo Alto', 'Henrico', 'Des Plaines',\n",
       "       'Birmingham', 'Broomfield', 'Guaynabo', 'Cayey', 'Citrus Heights',\n",
       "       'Spokane', 'Dubuque', 'Madera', 'Everett', 'Brentwood',\n",
       "       'Morganton', 'Vacaville', 'Malden', 'Gwynn Oak', 'Toa Baja',\n",
       "       'Taunton', 'Freehold', 'Sumner', 'Wilmington', 'CA'], dtype=object)"
      ]
     },
     "execution_count": 19,
     "metadata": {},
     "output_type": "execute_result"
    }
   ],
   "source": [
    "df['Customer City'].unique()"
   ]
  },
  {
   "cell_type": "code",
   "execution_count": null,
   "metadata": {},
   "outputs": [],
   "source": []
  },
  {
   "cell_type": "code",
   "execution_count": null,
   "metadata": {},
   "outputs": [],
   "source": []
  },
  {
   "cell_type": "code",
   "execution_count": 16,
   "metadata": {},
   "outputs": [
    {
     "data": {
      "text/plain": [
       "array([0, 1], dtype=int64)"
      ]
     },
     "execution_count": 16,
     "metadata": {},
     "output_type": "execute_result"
    }
   ],
   "source": [
    "df['Late_delivery_risk'].unique()"
   ]
  },
  {
   "cell_type": "code",
   "execution_count": 17,
   "metadata": {},
   "outputs": [
    {
     "data": {
      "text/plain": [
       "array([73, 17, 29, 24, 13, 12,  9, 41, 37, 38, 44,  3, 18, 43, 65, 62, 64,\n",
       "        4,  2, 26, 40, 76, 66, 70,  6, 11, 16, 36, 10, 63,  5, 60, 45, 59,\n",
       "       67, 61, 68,  7, 72, 69, 71, 75, 35, 34, 33, 32, 31, 30, 74, 48, 46],\n",
       "      dtype=int64)"
      ]
     },
     "execution_count": 17,
     "metadata": {},
     "output_type": "execute_result"
    }
   ],
   "source": [
    "df['Category Id'].unique()"
   ]
  },
  {
   "cell_type": "code",
   "execution_count": 18,
   "metadata": {},
   "outputs": [
    {
     "data": {
      "text/plain": [
       "array(['Sporting Goods', 'Cleats', 'Shop By Sport', \"Women's Apparel\",\n",
       "       'Electronics', 'Boxing & MMA', 'Cardio Equipment', 'Trade-In',\n",
       "       \"Kids' Golf Clubs\", 'Hunting & Shooting', 'Baseball & Softball',\n",
       "       \"Men's Footwear\", 'Camping & Hiking', 'Consumer Electronics',\n",
       "       'Cameras ', 'Computers', 'Basketball', 'Soccer', \"Girls' Apparel\",\n",
       "       'Accessories', \"Women's Clothing\", 'Crafts', \"Men's Clothing\",\n",
       "       'Tennis & Racquet', 'Fitness Accessories', 'As Seen on  TV!',\n",
       "       'Golf Balls', 'Strength Training', \"Children's Clothing\",\n",
       "       'Lacrosse', 'Baby ', 'Fishing', 'Books ', 'DVDs', 'CDs ', 'Garden',\n",
       "       'Hockey', 'Pet Supplies', 'Health and Beauty', 'Music',\n",
       "       'Video Games', 'Golf Gloves', 'Golf Bags & Carts', 'Golf Shoes',\n",
       "       'Golf Apparel', \"Women's Golf Clubs\", \"Men's Golf Clubs\", 'Toys',\n",
       "       'Water Sports', 'Indoor/Outdoor Games'], dtype=object)"
      ]
     },
     "execution_count": 18,
     "metadata": {},
     "output_type": "execute_result"
    }
   ],
   "source": [
    "df['Category Name'].unique()"
   ]
  },
  {
   "cell_type": "code",
   "execution_count": null,
   "metadata": {},
   "outputs": [],
   "source": []
  },
  {
   "cell_type": "code",
   "execution_count": null,
   "metadata": {},
   "outputs": [],
   "source": []
  },
  {
   "cell_type": "markdown",
   "metadata": {},
   "source": [
    "# Exploratory Data Analysis"
   ]
  },
  {
   "cell_type": "code",
   "execution_count": 9,
   "metadata": {},
   "outputs": [
    {
     "data": {
      "text/plain": [
       "array(['DEBIT', 'TRANSFER', 'CASH', 'PAYMENT'], dtype=object)"
      ]
     },
     "execution_count": 9,
     "metadata": {},
     "output_type": "execute_result"
    }
   ],
   "source": [
    "df['Type'].unique()"
   ]
  },
  {
   "cell_type": "code",
   "execution_count": 11,
   "metadata": {},
   "outputs": [
    {
     "data": {
      "text/plain": [
       "array([3, 5, 4, 2, 6, 0, 1], dtype=int64)"
      ]
     },
     "execution_count": 11,
     "metadata": {},
     "output_type": "execute_result"
    }
   ],
   "source": [
    "df['Days for shipping (real)'].unique()"
   ]
  },
  {
   "cell_type": "code",
   "execution_count": 12,
   "metadata": {},
   "outputs": [
    {
     "data": {
      "text/plain": [
       "array([4, 1, 2, 0], dtype=int64)"
      ]
     },
     "execution_count": 12,
     "metadata": {},
     "output_type": "execute_result"
    }
   ],
   "source": [
    "df['Days for shipment (scheduled)'].unique()"
   ]
  },
  {
   "cell_type": "code",
   "execution_count": 13,
   "metadata": {},
   "outputs": [
    {
     "data": {
      "text/plain": [
       "array([  91.25     , -249.0899963, -247.7799988, ..., -103.9700012,\n",
       "       -237.5899963, -337.1000061])"
      ]
     },
     "execution_count": 13,
     "metadata": {},
     "output_type": "execute_result"
    }
   ],
   "source": [
    "df['Benefit per order'].unique()"
   ]
  },
  {
   "cell_type": "code",
   "execution_count": 14,
   "metadata": {},
   "outputs": [
    {
     "data": {
      "text/plain": [
       "array([314.6400146, 311.3599854, 309.7200012, ..., 298.769989 ,\n",
       "       403.7099915, 474.7600098])"
      ]
     },
     "execution_count": 14,
     "metadata": {},
     "output_type": "execute_result"
    }
   ],
   "source": [
    "df['Sales per customer'].unique()"
   ]
  },
  {
   "cell_type": "code",
   "execution_count": 15,
   "metadata": {},
   "outputs": [
    {
     "data": {
      "text/plain": [
       "array(['Advance shipping', 'Late delivery', 'Shipping on time',\n",
       "       'Shipping canceled'], dtype=object)"
      ]
     },
     "execution_count": 15,
     "metadata": {},
     "output_type": "execute_result"
    }
   ],
   "source": [
    "df['Delivery Status'].unique()"
   ]
  },
  {
   "cell_type": "code",
   "execution_count": null,
   "metadata": {},
   "outputs": [],
   "source": []
  },
  {
   "cell_type": "code",
   "execution_count": null,
   "metadata": {},
   "outputs": [],
   "source": []
  },
  {
   "cell_type": "code",
   "execution_count": null,
   "metadata": {},
   "outputs": [],
   "source": [
    "df.info()"
   ]
  },
  {
   "cell_type": "code",
   "execution_count": null,
   "metadata": {},
   "outputs": [],
   "source": [
    "df.columns"
   ]
  },
  {
   "cell_type": "code",
   "execution_count": null,
   "metadata": {},
   "outputs": [],
   "source": [
    "df.isna().sum()"
   ]
  },
  {
   "cell_type": "code",
   "execution_count": 5,
   "metadata": {},
   "outputs": [],
   "source": [
    "df.drop(\"Product Description\",axis = 1,inplace = True)"
   ]
  },
  {
   "cell_type": "code",
   "execution_count": 6,
   "metadata": {},
   "outputs": [],
   "source": [
    "df.drop(\"Order Zipcode\",axis = 1,inplace = True)"
   ]
  },
  {
   "cell_type": "code",
   "execution_count": 7,
   "metadata": {},
   "outputs": [
    {
     "data": {
      "text/plain": [
       "Type                             0\n",
       "Days for shipping (real)         0\n",
       "Days for shipment (scheduled)    0\n",
       "Benefit per order                0\n",
       "Sales per customer               0\n",
       "Delivery Status                  0\n",
       "Late_delivery_risk               0\n",
       "Category Id                      0\n",
       "Category Name                    0\n",
       "Customer City                    0\n",
       "Customer Country                 0\n",
       "Customer Email                   0\n",
       "Customer Fname                   0\n",
       "Customer Id                      0\n",
       "Customer Lname                   8\n",
       "Customer Password                0\n",
       "Customer Segment                 0\n",
       "Customer State                   0\n",
       "Customer Street                  0\n",
       "Customer Zipcode                 3\n",
       "Department Id                    0\n",
       "Department Name                  0\n",
       "Latitude                         0\n",
       "Longitude                        0\n",
       "Market                           0\n",
       "Order City                       0\n",
       "Order Country                    0\n",
       "Order Customer Id                0\n",
       "order date (DateOrders)          0\n",
       "Order Id                         0\n",
       "Order Item Cardprod Id           0\n",
       "Order Item Discount              0\n",
       "Order Item Discount Rate         0\n",
       "Order Item Id                    0\n",
       "Order Item Product Price         0\n",
       "Order Item Profit Ratio          0\n",
       "Order Item Quantity              0\n",
       "Sales                            0\n",
       "Order Item Total                 0\n",
       "Order Profit Per Order           0\n",
       "Order Region                     0\n",
       "Order State                      0\n",
       "Order Status                     0\n",
       "Product Card Id                  0\n",
       "Product Category Id              0\n",
       "Product Image                    0\n",
       "Product Name                     0\n",
       "Product Price                    0\n",
       "Product Status                   0\n",
       "shipping date (DateOrders)       0\n",
       "Shipping Mode                    0\n",
       "dtype: int64"
      ]
     },
     "execution_count": 7,
     "metadata": {},
     "output_type": "execute_result"
    }
   ],
   "source": [
    "df.isna().sum()"
   ]
  },
  {
   "cell_type": "markdown",
   "metadata": {},
   "source": [
    "### 14 Customer Id"
   ]
  },
  {
   "cell_type": "code",
   "execution_count": 5,
   "metadata": {},
   "outputs": [
    {
     "data": {
      "text/plain": [
       "0         20755\n",
       "1         19492\n",
       "2         19491\n",
       "3         19490\n",
       "4         19489\n",
       "          ...  \n",
       "180514     1005\n",
       "180515     9141\n",
       "180516      291\n",
       "180517     2813\n",
       "180518     7547\n",
       "Name: Customer Id, Length: 180519, dtype: int64"
      ]
     },
     "execution_count": 5,
     "metadata": {},
     "output_type": "execute_result"
    }
   ],
   "source": [
    "df['Customer Id']"
   ]
  },
  {
   "cell_type": "code",
   "execution_count": 6,
   "metadata": {},
   "outputs": [
    {
     "data": {
      "text/plain": [
       "array([20755, 19492, 19491, ..., 18579, 16244,  2677], dtype=int64)"
      ]
     },
     "execution_count": 6,
     "metadata": {},
     "output_type": "execute_result"
    }
   ],
   "source": [
    "df['Customer Id'].unique()"
   ]
  },
  {
   "cell_type": "code",
   "execution_count": 7,
   "metadata": {},
   "outputs": [
    {
     "data": {
      "text/plain": [
       "5654     47\n",
       "5004     45\n",
       "10591    45\n",
       "5715     44\n",
       "3708     44\n",
       "         ..\n",
       "13486     1\n",
       "17887     1\n",
       "15952     1\n",
       "13905     1\n",
       "14375     1\n",
       "Name: Customer Id, Length: 20652, dtype: int64"
      ]
     },
     "execution_count": 7,
     "metadata": {},
     "output_type": "execute_result"
    }
   ],
   "source": [
    "df['Customer Id'].value_counts()"
   ]
  },
  {
   "cell_type": "code",
   "execution_count": 9,
   "metadata": {},
   "outputs": [
    {
     "data": {
      "text/plain": [
       "0"
      ]
     },
     "execution_count": 9,
     "metadata": {},
     "output_type": "execute_result"
    }
   ],
   "source": [
    "df['Customer Id'].isna().sum()"
   ]
  },
  {
   "cell_type": "code",
   "execution_count": 13,
   "metadata": {},
   "outputs": [
    {
     "data": {
      "text/plain": [
       "<AxesSubplot:>"
      ]
     },
     "execution_count": 13,
     "metadata": {},
     "output_type": "execute_result"
    },
    {
     "data": {
      "image/png": "[encoded data removed]",
      "text/plain": [
       "<Figure size 432x288 with 1 Axes>"
      ]
     },
     "metadata": {},
     "output_type": "display_data"
    }
   ],
   "source": [
    "df[['Customer Id']].boxplot()"
   ]
  },
  {
   "cell_type": "markdown",
   "metadata": {},
   "source": [
    "### 15 Customer Lname"
   ]
  },
  {
   "cell_type": "code",
   "execution_count": 16,
   "metadata": {},
   "outputs": [
    {
     "data": {
      "text/plain": [
       "0          Holloway\n",
       "1              Luna\n",
       "2         Maldonado\n",
       "3              Tate\n",
       "4         Hendricks\n",
       "            ...    \n",
       "180514     Peterson\n",
       "180515        Clark\n",
       "180516        Smith\n",
       "180517        Smith\n",
       "180518       Ortega\n",
       "Name: Customer Lname, Length: 180519, dtype: object"
      ]
     },
     "execution_count": 16,
     "metadata": {},
     "output_type": "execute_result"
    }
   ],
   "source": [
    "df['Customer Lname']"
   ]
  },
  {
   "cell_type": "code",
   "execution_count": 17,
   "metadata": {},
   "outputs": [
    {
     "data": {
      "text/plain": [
       "array(['Holloway', 'Luna', 'Maldonado', ..., 'Kiney', 'Delan', 'Harri'],\n",
       "      dtype=object)"
      ]
     },
     "execution_count": 17,
     "metadata": {},
     "output_type": "execute_result"
    }
   ],
   "source": [
    "df['Customer Lname'].unique()"
   ]
  },
  {
   "cell_type": "code",
   "execution_count": 18,
   "metadata": {},
   "outputs": [
    {
     "data": {
      "text/plain": [
       "Smith          64104\n",
       "Johnson          989\n",
       "Brown            909\n",
       "Williams         869\n",
       "Jones            859\n",
       "               ...  \n",
       "Dill               1\n",
       "Brandy             1\n",
       "Cash               1\n",
       "Godinho            1\n",
       "Gerginokish        1\n",
       "Name: Customer Lname, Length: 1109, dtype: int64"
      ]
     },
     "execution_count": 18,
     "metadata": {},
     "output_type": "execute_result"
    }
   ],
   "source": [
    "df['Customer Lname'].value_counts()"
   ]
  },
  {
   "cell_type": "code",
   "execution_count": 19,
   "metadata": {},
   "outputs": [
    {
     "data": {
      "text/plain": [
       "8"
      ]
     },
     "execution_count": 19,
     "metadata": {},
     "output_type": "execute_result"
    }
   ],
   "source": [
    "df['Customer Lname'].isna().sum()"
   ]
  },
  {
   "cell_type": "markdown",
   "metadata": {},
   "source": [
    "### 15 Customer Password"
   ]
  },
  {
   "cell_type": "code",
   "execution_count": 24,
   "metadata": {},
   "outputs": [
    {
     "data": {
      "text/plain": [
       "0         XXXXXXXXX\n",
       "1         XXXXXXXXX\n",
       "2         XXXXXXXXX\n",
       "3         XXXXXXXXX\n",
       "4         XXXXXXXXX\n",
       "            ...    \n",
       "180514    XXXXXXXXX\n",
       "180515    XXXXXXXXX\n",
       "180516    XXXXXXXXX\n",
       "180517    XXXXXXXXX\n",
       "180518    XXXXXXXXX\n",
       "Name: Customer Password, Length: 180519, dtype: object"
      ]
     },
     "execution_count": 24,
     "metadata": {},
     "output_type": "execute_result"
    }
   ],
   "source": [
    "df['Customer Password']"
   ]
  },
  {
   "cell_type": "code",
   "execution_count": 25,
   "metadata": {},
   "outputs": [
    {
     "data": {
      "text/plain": [
       "array(['XXXXXXXXX'], dtype=object)"
      ]
     },
     "execution_count": 25,
     "metadata": {},
     "output_type": "execute_result"
    }
   ],
   "source": [
    "df['Customer Password'].unique()"
   ]
  },
  {
   "cell_type": "code",
   "execution_count": 26,
   "metadata": {},
   "outputs": [
    {
     "data": {
      "text/plain": [
       "XXXXXXXXX    180519\n",
       "Name: Customer Password, dtype: int64"
      ]
     },
     "execution_count": 26,
     "metadata": {},
     "output_type": "execute_result"
    }
   ],
   "source": [
    "df['Customer Password'].value_counts()"
   ]
  },
  {
   "cell_type": "code",
   "execution_count": 27,
   "metadata": {},
   "outputs": [
    {
     "data": {
      "text/plain": [
       "0"
      ]
     },
     "execution_count": 27,
     "metadata": {},
     "output_type": "execute_result"
    }
   ],
   "source": [
    "df['Customer Password'].isna().sum()"
   ]
  },
  {
   "cell_type": "markdown",
   "metadata": {},
   "source": [
    "### 16 Customer Segment"
   ]
  },
  {
   "cell_type": "code",
   "execution_count": 28,
   "metadata": {},
   "outputs": [
    {
     "data": {
      "text/plain": [
       "0            Consumer\n",
       "1            Consumer\n",
       "2            Consumer\n",
       "3         Home Office\n",
       "4           Corporate\n",
       "             ...     \n",
       "180514    Home Office\n",
       "180515      Corporate\n",
       "180516      Corporate\n",
       "180517       Consumer\n",
       "180518       Consumer\n",
       "Name: Customer Segment, Length: 180519, dtype: object"
      ]
     },
     "execution_count": 28,
     "metadata": {},
     "output_type": "execute_result"
    }
   ],
   "source": [
    "df['Customer Segment']"
   ]
  },
  {
   "cell_type": "code",
   "execution_count": 29,
   "metadata": {},
   "outputs": [
    {
     "data": {
      "text/plain": [
       "array(['Consumer', 'Home Office', 'Corporate'], dtype=object)"
      ]
     },
     "execution_count": 29,
     "metadata": {},
     "output_type": "execute_result"
    }
   ],
   "source": [
    "df['Customer Segment'].unique()"
   ]
  },
  {
   "cell_type": "code",
   "execution_count": 30,
   "metadata": {},
   "outputs": [
    {
     "data": {
      "text/plain": [
       "Consumer       93504\n",
       "Corporate      54789\n",
       "Home Office    32226\n",
       "Name: Customer Segment, dtype: int64"
      ]
     },
     "execution_count": 30,
     "metadata": {},
     "output_type": "execute_result"
    }
   ],
   "source": [
    "df['Customer Segment'].value_counts()"
   ]
  },
  {
   "cell_type": "code",
   "execution_count": 31,
   "metadata": {},
   "outputs": [
    {
     "data": {
      "text/plain": [
       "0"
      ]
     },
     "execution_count": 31,
     "metadata": {},
     "output_type": "execute_result"
    }
   ],
   "source": [
    "df['Customer Segment'].isna().sum()"
   ]
  },
  {
   "cell_type": "code",
   "execution_count": 37,
   "metadata": {},
   "outputs": [
    {
     "data": {
      "image/png": "[encoded data removed]",
      "text/plain": [
       "<Figure size 432x288 with 1 Axes>"
      ]
     },
     "metadata": {},
     "output_type": "display_data"
    }
   ],
   "source": [
    "plt.title('Share of Customer Segment')\n",
    "df['Customer Segment'].value_counts().plot(kind = 'pie', autopct = '%.2f%%', cmap = 'Set2', explode = [0.1, 0.1, 0.1])\n",
    "plt.ylabel('');"
   ]
  },
  {
   "cell_type": "markdown",
   "metadata": {},
   "source": [
    "### 17 Customer State"
   ]
  },
  {
   "cell_type": "code",
   "execution_count": 40,
   "metadata": {},
   "outputs": [
    {
     "data": {
      "text/plain": [
       "0         PR\n",
       "1         PR\n",
       "2         CA\n",
       "3         CA\n",
       "4         PR\n",
       "          ..\n",
       "180514    NY\n",
       "180515    CA\n",
       "180516    CT\n",
       "180517    PR\n",
       "180518    PR\n",
       "Name: Customer State, Length: 180519, dtype: object"
      ]
     },
     "execution_count": 40,
     "metadata": {},
     "output_type": "execute_result"
    }
   ],
   "source": [
    "df['Customer State']"
   ]
  },
  {
   "cell_type": "code",
   "execution_count": 41,
   "metadata": {},
   "outputs": [
    {
     "data": {
      "text/plain": [
       "array(['PR', 'CA', 'NY', 'FL', 'MA', 'IL', 'MT', 'PA', 'MI', 'TX', 'DE',\n",
       "       'GA', 'MD', 'OH', 'HI', 'NJ', 'WI', 'AZ', 'CO', 'MN', 'NC', 'NM',\n",
       "       'OR', 'SC', 'VA', 'UT', 'WA', 'KY', 'WV', 'RI', 'CT', 'LA', 'TN',\n",
       "       'DC', 'ND', 'MO', 'IN', 'ID', 'NV', 'KS', 'AR', 'OK', 'AL', 'IA',\n",
       "       '95758', '91732'], dtype=object)"
      ]
     },
     "execution_count": 41,
     "metadata": {},
     "output_type": "execute_result"
    }
   ],
   "source": [
    "df['Customer State'].unique()"
   ]
  },
  {
   "cell_type": "code",
   "execution_count": 42,
   "metadata": {},
   "outputs": [
    {
     "data": {
      "text/plain": [
       "PR       69373\n",
       "CA       29223\n",
       "NY       11327\n",
       "TX        9103\n",
       "IL        7631\n",
       "FL        5456\n",
       "OH        4095\n",
       "PA        3824\n",
       "MI        3804\n",
       "NJ        3191\n",
       "AZ        3026\n",
       "GA        2503\n",
       "MD        2415\n",
       "NC        1992\n",
       "CO        1914\n",
       "VA        1849\n",
       "OR        1668\n",
       "MA        1607\n",
       "TN        1582\n",
       "NV        1440\n",
       "MO        1354\n",
       "HI        1248\n",
       "CT        1094\n",
       "UT         968\n",
       "NM         949\n",
       "LA         948\n",
       "WA         920\n",
       "WI         850\n",
       "MN         672\n",
       "SC         665\n",
       "IN         581\n",
       "DC         579\n",
       "KY         487\n",
       "KS         458\n",
       "DE         269\n",
       "RI         243\n",
       "WV         241\n",
       "OK         232\n",
       "ND         215\n",
       "ID         167\n",
       "AR         164\n",
       "MT          87\n",
       "IA          67\n",
       "AL          35\n",
       "95758        2\n",
       "91732        1\n",
       "Name: Customer State, dtype: int64"
      ]
     },
     "execution_count": 42,
     "metadata": {},
     "output_type": "execute_result"
    }
   ],
   "source": [
    "df['Customer State'].value_counts()"
   ]
  },
  {
   "cell_type": "code",
   "execution_count": 43,
   "metadata": {},
   "outputs": [
    {
     "data": {
      "text/plain": [
       "0"
      ]
     },
     "execution_count": 43,
     "metadata": {},
     "output_type": "execute_result"
    }
   ],
   "source": [
    "df['Customer State'].isna().sum()"
   ]
  },
  {
   "cell_type": "markdown",
   "metadata": {},
   "source": [
    "### 18 Customer Street"
   ]
  },
  {
   "cell_type": "code",
   "execution_count": 45,
   "metadata": {},
   "outputs": [
    {
     "data": {
      "text/plain": [
       "0           5365 Noble Nectar Island\n",
       "1                   2679 Rustic Loop\n",
       "2               8510 Round Bear Gate\n",
       "3                    3200 Amber Bend\n",
       "4           8671 Iron Anchor Corners\n",
       "                     ...            \n",
       "180514              1322 Broad Glade\n",
       "180515         7330 Broad Apple Moor\n",
       "180516            97 Burning Landing\n",
       "180517    2585 Silent Autumn Landing\n",
       "180518             697 Little Meadow\n",
       "Name: Customer Street, Length: 180519, dtype: object"
      ]
     },
     "execution_count": 45,
     "metadata": {},
     "output_type": "execute_result"
    }
   ],
   "source": [
    "df['Customer Street']"
   ]
  },
  {
   "cell_type": "code",
   "execution_count": 46,
   "metadata": {},
   "outputs": [
    {
     "data": {
      "text/plain": [
       "array(['5365 Noble Nectar Island', '2679 Rustic Loop',\n",
       "       '8510 Round Bear Gate', ..., '245 Lost Way ', '2455 Merry Hollow ',\n",
       "       '8621 Broad Forest '], dtype=object)"
      ]
     },
     "execution_count": 46,
     "metadata": {},
     "output_type": "execute_result"
    }
   ],
   "source": [
    "df['Customer Street'].unique()"
   ]
  },
  {
   "cell_type": "code",
   "execution_count": 47,
   "metadata": {},
   "outputs": [
    {
     "data": {
      "text/plain": [
       "9126 Wishing Expressway     122\n",
       "4388 Burning Goose Ridge    117\n",
       "4720 Noble Hills Wynd       116\n",
       "2878 Hazy Wagon  Thicket    113\n",
       "398 Emerald Grove           109\n",
       "                           ... \n",
       "7213 Cozy Quay                1\n",
       "9899 Silent Court             1\n",
       "2805 Indian Passage           1\n",
       "1591 Foggy Meadow             1\n",
       "5154 Honey Bend               1\n",
       "Name: Customer Street, Length: 7458, dtype: int64"
      ]
     },
     "execution_count": 47,
     "metadata": {},
     "output_type": "execute_result"
    }
   ],
   "source": [
    "df['Customer Street'].value_counts()"
   ]
  },
  {
   "cell_type": "code",
   "execution_count": 48,
   "metadata": {},
   "outputs": [
    {
     "data": {
      "text/plain": [
       "0"
      ]
     },
     "execution_count": 48,
     "metadata": {},
     "output_type": "execute_result"
    }
   ],
   "source": [
    "df['Customer Street'].isna().sum()"
   ]
  },
  {
   "cell_type": "markdown",
   "metadata": {},
   "source": [
    "### 19 Customer Zipcode"
   ]
  },
  {
   "cell_type": "code",
   "execution_count": 49,
   "metadata": {},
   "outputs": [
    {
     "data": {
      "text/plain": [
       "0           725.0\n",
       "1           725.0\n",
       "2         95125.0\n",
       "3         90027.0\n",
       "4           725.0\n",
       "           ...   \n",
       "180514    11207.0\n",
       "180515    93304.0\n",
       "180516     6010.0\n",
       "180517      725.0\n",
       "180518      725.0\n",
       "Name: Customer Zipcode, Length: 180519, dtype: float64"
      ]
     },
     "execution_count": 49,
     "metadata": {},
     "output_type": "execute_result"
    }
   ],
   "source": [
    "df['Customer Zipcode']"
   ]
  },
  {
   "cell_type": "code",
   "execution_count": 50,
   "metadata": {},
   "outputs": [
    {
     "data": {
      "text/plain": [
       "array([  725., 95125., 90027., 14150., 33162., 94583., 11520., 93905.,\n",
       "        1960.,   729., 90723., 60056., 90813., 95670., 59102., 18702.,\n",
       "       48066., 90706., 60187., 48238., 75220., 17013., 75228., 19702.,\n",
       "       91402., 30318., 94539., 14609., 75211.,   957.,   784.,   795.,\n",
       "       20744., 93304., 11368., 45238., 20874., 75006., 77093., 90023.,\n",
       "       96706.,  8701., 13440., 92083., 76106., 54935., 19139., 91764.,\n",
       "       32765., 14221., 96822., 92056., 14120., 93611., 11434., 62040.,\n",
       "        2155., 91766., 85281., 92703., 17402., 80010., 93065., 20904.,\n",
       "       55124., 78201., 19143., 19149., 10466., 27858.,  7960., 92115.,\n",
       "       93030., 33147., 87111., 79109., 33549., 97701.,  8816., 29720.,\n",
       "       91762., 77015., 23666., 10016., 93257., 97223., 44136., 79927.,\n",
       "       78840., 84010., 98031., 60620.,  2360., 11691., 77088., 19124.,\n",
       "       48227., 92840., 92105., 60609., 92870., 95148., 44060., 95051.,\n",
       "        7083., 90805., 92683., 33068., 91702., 33324.,  8540.,  8861.,\n",
       "       45140., 23455., 40214., 14094., 60608., 10314., 85719., 44120.,\n",
       "       10458., 14580., 95207., 25401., 21502., 61554., 32308., 32225.,\n",
       "        2895., 95206., 30058., 60453., 48213., 91801.,  6511., 85029.,\n",
       "       70065., 15301., 49423., 19067., 38128., 98023., 92113., 60626.,\n",
       "       10457., 60637., 91790., 93003., 20009., 33594., 96744., 11218.,\n",
       "       92057., 76116., 19145., 95240., 93308., 95122., 37130., 92009.,\n",
       "       45011., 77083., 10031., 94541.,  8302., 11706., 60067., 30080.,\n",
       "       91406., 33055., 90046., 55106.,  8817., 77520., 91342., 55337.,\n",
       "       11746., 94087., 77478.,  2135., 58501., 20878., 96817., 30047.,\n",
       "       84604., 38401., 30062.,   745., 11212., 80219., 48180., 48205.,\n",
       "       44102., 63301., 95014., 65807., 92692., 90042., 30075., 48197.,\n",
       "       85345., 92843.,  8021., 38127., 37013., 84118., 91344., 11550.,\n",
       "       11103., 95020., 28645., 43228., 97321.,   791., 11757., 44035.,\n",
       "       92504., 90745., 85204., 96818.,   921.,   693.,   680.,   612.,\n",
       "         685., 85033., 97402., 90806., 60102., 46227., 90003., 90620.,\n",
       "       21228., 10306., 30066.,  7305., 38109., 60148., 11207.,  2740.,\n",
       "       12550., 33175., 19446., 90037., 21206., 85035., 92833., 21218.,\n",
       "       95823., 60614., 27410., 95127., 44107., 97470., 95350., 10003.,\n",
       "       92024., 95116., 95076., 83642., 77084., 11229., 13760., 77450.,\n",
       "       93277., 93535., 85022., 93436., 33186., 17404., 84404., 27610.,\n",
       "       91745.,  7087., 33023., 60440., 47906.,  7105., 22192., 78596.,\n",
       "       11432., 75243., 90201., 92109., 90638., 90065.,  7047., 92691.,\n",
       "       10002., 53704., 94080., 19144., 33312., 89030., 80013.,  1844.,\n",
       "       92627., 60649., 21061., 45014., 91306., 93063., 60616., 78501.,\n",
       "       90032., 60435., 78520.,  2860., 80918.,  2169., 78227.,  1201.,\n",
       "       91710., 60640., 10461., 43302., 91343., 60617., 67401., 20783.,\n",
       "       76180., 10977., 60643.,  1841., 44130., 91761., 31907., 90063.,\n",
       "       45013., 95035., 91748., 90247., 60804., 97405., 90024., 27203.,\n",
       "       54601., 63031., 91351., 14850., 18103., 92026., 94553., 48098.,\n",
       "       22204., 75227., 95616., 11238., 85225., 85224., 60613., 60123.,\n",
       "       93550., 11758., 92707., 94565.,  7093., 75217., 90007., 80011.,\n",
       "       32822., 17331., 23452., 85301., 60641.,  6082., 19134., 91706.,\n",
       "       60657., 91709., 19104.,  8753., 60622., 95822., 48192.,  7104.,\n",
       "       11204., 96789., 10011., 11221., 60426., 17055., 70570., 96734.,\n",
       "       23503., 22193., 60126., 77479., 27606., 45601., 91304., 49201.,\n",
       "       92553., 60624., 70119., 78586., 11203., 19720.,  7003., 87105.,\n",
       "       90001., 90630., 70117., 10040., 70072., 75052., 10467., 80631.,\n",
       "       92111., 33165., 44109., 80126., 80501., 23320., 80110., 60004.,\n",
       "       33624., 46226., 90043., 95351.,  7111., 19711., 11375., 10029.,\n",
       "       78521., 48126., 75007., 93307., 90221., 17601., 75043., 92507.,\n",
       "       96797., 85713., 95608., 92780., 92805., 60651., 48187., 22554.,\n",
       "       92126., 11419., 45044., 75240., 85308.,  7052., 94015., 30127.,\n",
       "       21234., 48224., 33010., 90022., 11236., 53511., 27834., 75287.,\n",
       "         603.,   983.,   698., 90066., 11226., 11209., 63376., 92114.,\n",
       "       60615., 30906., 78223., 87120., 19140., 10021., 27514., 48823.,\n",
       "        6902., 91765., 77036., 94544., 53215., 30044.,  6040., 11224.,\n",
       "       91744., 92392., 23223., 63033., 21224., 32244., 78852., 92335.,\n",
       "       63021., 11220., 78130., 89121., 29445., 78577., 10701., 91732.,\n",
       "       96816., 33064., 43068., 48212., 94587., 44256., 33313., 92346.,\n",
       "       90019., 72401., 95758., 90640., 94109., 30907., 60025., 60647.,\n",
       "       85282., 95111., 29730., 60660., 85746., 78753., 85254., 95060.,\n",
       "       97045., 22003., 38118., 75023.,  8854., 33155., 23322., 92084.,\n",
       "       92025., 30067., 92705., 92021., 43026., 32073., 10025., 60625.,\n",
       "       30032., 94806., 33016., 92804., 32808., 78228., 19120., 90804.,\n",
       "       30135., 89015., 60120., 77840., 78664., 75150., 74012., 98052.,\n",
       "       45840., 90631., 92653., 14215., 90057., 21215., 79912., 43230.,\n",
       "       92407., 27502., 94110., 23464., 91733., 80231., 89103., 75061.,\n",
       "       11234., 24060.,  2124., 60505., 92336.,  7307., 78207., 20854.,\n",
       "       77469., 84119., 90002., 32792., 60610., 30083., 93117., 21740.,\n",
       "       94501., 33161., 92701., 63136., 78240., 90660., 91910., 92882.,\n",
       "       63116., 60619., 95124., 79924., 92020., 85032., 76010., 17603.,\n",
       "       76133., 95023., 91605., 55104., 78704., 90033., 94122., 60638.,\n",
       "       11235., 62301., 10472., 10473.,  8901., 97007., 20020., 60411.,\n",
       "       92054., 92345., 92503., 27511., 27330., 78040., 48185., 10453.,\n",
       "       91911., 30281., 60188., 11237., 10469., 33012., 60634., 67212.,\n",
       "       94509., 89110., 90004., 66062., 75216., 11354., 10312., 90220.,\n",
       "       90262., 90034., 92802.,  2151., 92410., 43081., 38018., 60623.,\n",
       "       60506., 92129., 90011., 93230., 11216., 32825., 11213., 12180.,\n",
       "       92376., 60050., 78572., 11214., 97301., 30096., 92509., 19148.,\n",
       "        6810., 43055., 70122., 40601., 91786., 91770., 48858., 97303.,\n",
       "       88201., 19131., 92630., 10023., 19380., 10460., 10128., 92404.,\n",
       "       80015., 10033., 11377., 94536., 30093., 93306., 93722., 43701.,\n",
       "       60504., 92102., 27406., 44077., 91977., 30331., 97229., 98037.,\n",
       "       44646., 33021., 60644., 60014., 11374., 19111., 55112., 48103.,\n",
       "       97206., 93727., 49509., 91941., 78539., 48843., 46360., 53081.,\n",
       "       61265., 85283., 77055., 89101., 11373., 11208., 10456., 85364.,\n",
       "       10024., 89108., 10027., 95008., 89123., 28205., 94601., 92069.,\n",
       "       91789., 84120., 78550., 80012., 87124., 37211., 21401., 60618.,\n",
       "       33177., 92677., 92071., 84084., 11206., 33157., 28601.,   674.,\n",
       "         976.,   728.,   953., 15642., 11420., 93536., 11215., 80906.,\n",
       "       11385., 79936., 95355., 42101., 92104., 75080., 89115., 89119.,\n",
       "       33126., 38111., 92704., 79907., 91352., 65203., 92646., 58103.,\n",
       "       97006., 60085., 90006., 48219., 48203., 11219., 85040., 78666.,\n",
       "       90703., 20906., 10009., 75067., 94538.,  6457., 95112., 30022.,\n",
       "       63129., 93702., 85009., 11210., 33125., 17602., 11230., 33176.,\n",
       "       47150., 19382., 43229., 75149., 33015., 29223., 76201., 10032.,\n",
       "       91405., 92592., 60477., 93033., 33065., 21222., 78250., 46307.,\n",
       "       11201., 10452., 73505., 28314., 10463.,  6460., 60103., 60630.,\n",
       "       89502.,  7055., 90016., 91335., 78046., 11756.,  7470., 70003.,\n",
       "       20002., 44105., 26003., 85705., 90250., 94558., 60402., 92708.,\n",
       "       23456., 88005., 32703., 90044., 95630., 92243., 92557., 11372.,\n",
       "       48234., 91331., 77072., 48221., 11435., 43207., 60632., 37075.,\n",
       "       84015., 98115., 90047., 85201., 60628., 32303., 48601., 63123.,\n",
       "       72032., 33025., 44870., 90731., 92801., 43123., 37922., 92117.,\n",
       "       90255., 87112., 15601., 91767., 60441., 92064., 23454., 63366.,\n",
       "       17201., 44118., 61761.,  1902., 10028., 75093., 33142., 90018.,\n",
       "       19020.,  6010., 95828., 17701., 92626., 75231., 98632., 90650.,\n",
       "       89117.,  7002., 93274., 91950., 92879., 45424., 94112., 95376.,\n",
       "       29483., 95340., 85710., 93906.,  2301., 85706., 30034., 20011.,\n",
       "       94533., 94591.,  6516., 21122., 92154., 33614., 92027., 90026.,\n",
       "       90280., 48093., 37042., 49442., 85008., 28540., 77080., 33511.,\n",
       "       96819., 91730., 11211., 60645., 93458., 18901., 47374., 92324.,\n",
       "       92647., 38116., 48235., 75060., 92201.,  7060., 94014., 98226.,\n",
       "       93720., 60629., 93309., 30043., 77379., 11355., 10462., 91606.,\n",
       "       53209., 94550., 60639., 87505., 94303., 20019., 23233., 60016.,\n",
       "       23462., 33024., 77081., 60636., 35215., 80020.,   969.,   736.,\n",
       "       60621., 40475., 60544., 30349., 95610., 33063., 78745., 10468.,\n",
       "       94086., 99205., 52001., 93638., 21229., 98208., 11717., 28655.,\n",
       "       95687., 95123.,  2148., 21207.,   949.,  2780.,  7728., 98390.,\n",
       "       48228., 90744., 11223., 43130., 11225., 75040., 33311., 11233.,\n",
       "       32210., 89014.,  7306.,    nan])"
      ]
     },
     "execution_count": 50,
     "metadata": {},
     "output_type": "execute_result"
    }
   ],
   "source": [
    "df['Customer Zipcode'].unique()"
   ]
  },
  {
   "cell_type": "code",
   "execution_count": 51,
   "metadata": {},
   "outputs": [
    {
     "data": {
      "text/plain": [
       "725.0      66770\n",
       "921.0        337\n",
       "23455.0      334\n",
       "957.0        297\n",
       "79109.0      292\n",
       "           ...  \n",
       "60636.0       18\n",
       "89015.0       16\n",
       "32210.0       15\n",
       "7728.0        13\n",
       "11225.0        9\n",
       "Name: Customer Zipcode, Length: 995, dtype: int64"
      ]
     },
     "execution_count": 51,
     "metadata": {},
     "output_type": "execute_result"
    }
   ],
   "source": [
    "df['Customer Zipcode'].value_counts()"
   ]
  },
  {
   "cell_type": "code",
   "execution_count": 52,
   "metadata": {},
   "outputs": [
    {
     "data": {
      "text/plain": [
       "3"
      ]
     },
     "execution_count": 52,
     "metadata": {},
     "output_type": "execute_result"
    }
   ],
   "source": [
    "df['Customer Zipcode'].isna().sum()"
   ]
  },
  {
   "cell_type": "code",
   "execution_count": 53,
   "metadata": {},
   "outputs": [
    {
     "data": {
      "text/plain": [
       "<AxesSubplot:>"
      ]
     },
     "execution_count": 53,
     "metadata": {},
     "output_type": "execute_result"
    },
    {
     "data": {
      "image/png": "[encoded data removed]",
      "text/plain": [
       "<Figure size 432x288 with 1 Axes>"
      ]
     },
     "metadata": {},
     "output_type": "display_data"
    }
   ],
   "source": [
    "df[['Customer Zipcode']].boxplot()"
   ]
  },
  {
   "cell_type": "code",
   "execution_count": 54,
   "metadata": {
    "scrolled": true
   },
   "outputs": [
    {
     "data": {
      "text/plain": [
       "<AxesSubplot:xlabel='Customer Zipcode'>"
      ]
     },
     "execution_count": 54,
     "metadata": {},
     "output_type": "execute_result"
    },
    {
     "data": {
      "image/png": "[encoded data removed]",
      "text/plain": [
       "<Figure size 432x288 with 1 Axes>"
      ]
     },
     "metadata": {},
     "output_type": "display_data"
    }
   ],
   "source": [
    "sns.boxplot(x = df['Customer Zipcode'])"
   ]
  },
  {
   "cell_type": "markdown",
   "metadata": {},
   "source": [
    "### 20 Department Id"
   ]
  },
  {
   "cell_type": "code",
   "execution_count": 55,
   "metadata": {
    "scrolled": true
   },
   "outputs": [
    {
     "data": {
      "text/plain": [
       "0         2\n",
       "1         2\n",
       "2         2\n",
       "3         2\n",
       "4         2\n",
       "         ..\n",
       "180514    7\n",
       "180515    7\n",
       "180516    7\n",
       "180517    7\n",
       "180518    7\n",
       "Name: Department Id, Length: 180519, dtype: int64"
      ]
     },
     "execution_count": 55,
     "metadata": {},
     "output_type": "execute_result"
    }
   ],
   "source": [
    "df['Department Id']"
   ]
  },
  {
   "cell_type": "code",
   "execution_count": 56,
   "metadata": {},
   "outputs": [
    {
     "data": {
      "text/plain": [
       "array([ 2,  4,  5,  3,  6,  7, 10,  8,  9, 11, 12], dtype=int64)"
      ]
     },
     "execution_count": 56,
     "metadata": {},
     "output_type": "execute_result"
    }
   ],
   "source": [
    "df['Department Id'].unique()"
   ]
  },
  {
   "cell_type": "code",
   "execution_count": 57,
   "metadata": {},
   "outputs": [
    {
     "data": {
      "text/plain": [
       "7     66861\n",
       "4     48998\n",
       "5     33220\n",
       "3     14525\n",
       "6      9686\n",
       "2      2479\n",
       "9      2026\n",
       "10     1465\n",
       "11      492\n",
       "8       405\n",
       "12      362\n",
       "Name: Department Id, dtype: int64"
      ]
     },
     "execution_count": 57,
     "metadata": {},
     "output_type": "execute_result"
    }
   ],
   "source": [
    "df['Department Id'].value_counts()"
   ]
  },
  {
   "cell_type": "code",
   "execution_count": 58,
   "metadata": {},
   "outputs": [
    {
     "data": {
      "text/plain": [
       "0"
      ]
     },
     "execution_count": 58,
     "metadata": {},
     "output_type": "execute_result"
    }
   ],
   "source": [
    "df['Department Id'].isna().sum()"
   ]
  },
  {
   "cell_type": "code",
   "execution_count": 59,
   "metadata": {},
   "outputs": [
    {
     "data": {
      "text/plain": [
       "<AxesSubplot:>"
      ]
     },
     "execution_count": 59,
     "metadata": {},
     "output_type": "execute_result"
    },
    {
     "data": {
      "image/png": "[encoded data removed]",
      "text/plain": [
       "<Figure size 432x288 with 1 Axes>"
      ]
     },
     "metadata": {},
     "output_type": "display_data"
    }
   ],
   "source": [
    "df[['Department Id']].boxplot()"
   ]
  },
  {
   "cell_type": "code",
   "execution_count": 63,
   "metadata": {},
   "outputs": [
    {
     "data": {
      "image/png": "[encoded data removed]",
      "text/plain": [
       "<Figure size 432x288 with 1 Axes>"
      ]
     },
     "metadata": {},
     "output_type": "display_data"
    }
   ],
   "source": [
    "plt.title('Department code of store')\n",
    "df['Department Id'].value_counts().plot(kind = 'pie', autopct = '%.2f%%', cmap = 'Set2', explode = [0.1, 0.1, 0.1,0.1, 0.1, 0.1,0.1, 0.1, 0.1,0.1, 0.1])\n",
    "plt.ylabel('');"
   ]
  },
  {
   "cell_type": "markdown",
   "metadata": {},
   "source": [
    "### 21 Department Name"
   ]
  },
  {
   "cell_type": "code",
   "execution_count": 64,
   "metadata": {},
   "outputs": [
    {
     "data": {
      "text/plain": [
       "0          Fitness\n",
       "1          Fitness\n",
       "2          Fitness\n",
       "3          Fitness\n",
       "4          Fitness\n",
       "            ...   \n",
       "180514    Fan Shop\n",
       "180515    Fan Shop\n",
       "180516    Fan Shop\n",
       "180517    Fan Shop\n",
       "180518    Fan Shop\n",
       "Name: Department Name, Length: 180519, dtype: object"
      ]
     },
     "execution_count": 64,
     "metadata": {},
     "output_type": "execute_result"
    }
   ],
   "source": [
    "df['Department Name']"
   ]
  },
  {
   "cell_type": "code",
   "execution_count": 65,
   "metadata": {},
   "outputs": [
    {
     "data": {
      "text/plain": [
       "array(['Fitness', 'Apparel', 'Golf', 'Footwear', 'Outdoors', 'Fan Shop',\n",
       "       'Technology', 'Book Shop', 'Discs Shop', 'Pet Shop',\n",
       "       'Health and Beauty '], dtype=object)"
      ]
     },
     "execution_count": 65,
     "metadata": {},
     "output_type": "execute_result"
    }
   ],
   "source": [
    "df['Department Name'].unique()"
   ]
  },
  {
   "cell_type": "code",
   "execution_count": 66,
   "metadata": {},
   "outputs": [
    {
     "data": {
      "text/plain": [
       "Fan Shop              66861\n",
       "Apparel               48998\n",
       "Golf                  33220\n",
       "Footwear              14525\n",
       "Outdoors               9686\n",
       "Fitness                2479\n",
       "Discs Shop             2026\n",
       "Technology             1465\n",
       "Pet Shop                492\n",
       "Book Shop               405\n",
       "Health and Beauty       362\n",
       "Name: Department Name, dtype: int64"
      ]
     },
     "execution_count": 66,
     "metadata": {},
     "output_type": "execute_result"
    }
   ],
   "source": [
    "df['Department Name'].value_counts()"
   ]
  },
  {
   "cell_type": "code",
   "execution_count": 67,
   "metadata": {},
   "outputs": [
    {
     "data": {
      "text/plain": [
       "0"
      ]
     },
     "execution_count": 67,
     "metadata": {},
     "output_type": "execute_result"
    }
   ],
   "source": [
    "df['Department Name'].isna().sum()"
   ]
  },
  {
   "cell_type": "markdown",
   "metadata": {},
   "source": [
    "### 22 Latitude"
   ]
  },
  {
   "cell_type": "code",
   "execution_count": 70,
   "metadata": {},
   "outputs": [
    {
     "data": {
      "text/plain": [
       "0         18.251453\n",
       "1         18.279451\n",
       "2         37.292233\n",
       "3         34.125946\n",
       "4         18.253769\n",
       "            ...    \n",
       "180514    40.640930\n",
       "180515    35.362545\n",
       "180516    41.629959\n",
       "180517    18.213350\n",
       "180518    18.290380\n",
       "Name: Latitude, Length: 180519, dtype: float64"
      ]
     },
     "execution_count": 70,
     "metadata": {},
     "output_type": "execute_result"
    }
   ],
   "source": [
    "df['Latitude']"
   ]
  },
  {
   "cell_type": "code",
   "execution_count": 71,
   "metadata": {},
   "outputs": [
    {
     "data": {
      "text/plain": [
       "array([18.2514534 , 18.27945137, 37.29223251, ..., 18.24048233,\n",
       "       18.26129723, 18.24248505])"
      ]
     },
     "execution_count": 71,
     "metadata": {},
     "output_type": "execute_result"
    }
   ],
   "source": [
    "df['Latitude'].unique()"
   ]
  },
  {
   "cell_type": "code",
   "execution_count": 72,
   "metadata": {},
   "outputs": [
    {
     "data": {
      "text/plain": [
       "18.227573    417\n",
       "39.495914    370\n",
       "18.227577    300\n",
       "36.910831    280\n",
       "26.098499    270\n",
       "            ... \n",
       "18.246212      1\n",
       "18.212696      1\n",
       "18.261103      1\n",
       "18.277172      1\n",
       "18.216928      1\n",
       "Name: Latitude, Length: 11250, dtype: int64"
      ]
     },
     "execution_count": 72,
     "metadata": {},
     "output_type": "execute_result"
    }
   ],
   "source": [
    "df['Latitude'].value_counts()"
   ]
  },
  {
   "cell_type": "code",
   "execution_count": 73,
   "metadata": {},
   "outputs": [
    {
     "data": {
      "text/plain": [
       "0"
      ]
     },
     "execution_count": 73,
     "metadata": {},
     "output_type": "execute_result"
    }
   ],
   "source": [
    "df['Latitude'].isna().sum()"
   ]
  },
  {
   "cell_type": "code",
   "execution_count": 75,
   "metadata": {},
   "outputs": [
    {
     "data": {
      "text/plain": [
       "<AxesSubplot:>"
      ]
     },
     "execution_count": 75,
     "metadata": {},
     "output_type": "execute_result"
    },
    {
     "data": {
      "image/png": "[encoded data removed]",
      "text/plain": [
       "<Figure size 432x288 with 1 Axes>"
      ]
     },
     "metadata": {},
     "output_type": "display_data"
    }
   ],
   "source": [
    "df[['Latitude']].boxplot()"
   ]
  },
  {
   "cell_type": "markdown",
   "metadata": {},
   "source": [
    "### 23 Longitude"
   ]
  },
  {
   "cell_type": "code",
   "execution_count": 77,
   "metadata": {},
   "outputs": [
    {
     "data": {
      "text/plain": [
       "0         -66.037056\n",
       "1         -66.037064\n",
       "2        -121.881279\n",
       "3        -118.291016\n",
       "4         -66.037048\n",
       "             ...    \n",
       "180514    -73.942711\n",
       "180515   -119.018700\n",
       "180516    -72.967155\n",
       "180517    -66.370575\n",
       "180518    -66.370613\n",
       "Name: Longitude, Length: 180519, dtype: float64"
      ]
     },
     "execution_count": 77,
     "metadata": {},
     "output_type": "execute_result"
    }
   ],
   "source": [
    "df['Longitude']"
   ]
  },
  {
   "cell_type": "code",
   "execution_count": 78,
   "metadata": {},
   "outputs": [
    {
     "data": {
      "text/plain": [
       "array([ -66.03705597,  -66.0370636 , -121.881279  , ..., -117.8856812 ,\n",
       "        -87.69457245,  -66.54897308])"
      ]
     },
     "execution_count": 78,
     "metadata": {},
     "output_type": "execute_result"
    }
   ],
   "source": [
    "df['Longitude'].unique()"
   ]
  },
  {
   "cell_type": "code",
   "execution_count": 79,
   "metadata": {},
   "outputs": [
    {
     "data": {
      "text/plain": [
       "-66.370613    3821\n",
       "-66.370575    3523\n",
       "-66.370590    3522\n",
       "-66.370506    3465\n",
       "-66.370552    3417\n",
       "              ... \n",
       "-91.200142       1\n",
       "-77.089798       1\n",
       "-83.120888       1\n",
       "-88.345695       1\n",
       "-90.351189       1\n",
       "Name: Longitude, Length: 4487, dtype: int64"
      ]
     },
     "execution_count": 79,
     "metadata": {},
     "output_type": "execute_result"
    }
   ],
   "source": [
    "df['Longitude'].value_counts()"
   ]
  },
  {
   "cell_type": "code",
   "execution_count": 80,
   "metadata": {},
   "outputs": [
    {
     "data": {
      "text/plain": [
       "0"
      ]
     },
     "execution_count": 80,
     "metadata": {},
     "output_type": "execute_result"
    }
   ],
   "source": [
    "df['Longitude'].isna().sum()"
   ]
  },
  {
   "cell_type": "code",
   "execution_count": 81,
   "metadata": {},
   "outputs": [
    {
     "data": {
      "text/plain": [
       "<AxesSubplot:>"
      ]
     },
     "execution_count": 81,
     "metadata": {},
     "output_type": "execute_result"
    },
    {
     "data": {
      "image/png": "[encoded data removed]",
      "text/plain": [
       "<Figure size 432x288 with 1 Axes>"
      ]
     },
     "metadata": {},
     "output_type": "display_data"
    }
   ],
   "source": [
    "df[['Longitude']].boxplot()"
   ]
  },
  {
   "cell_type": "markdown",
   "metadata": {},
   "source": [
    "### 24 Market"
   ]
  },
  {
   "cell_type": "code",
   "execution_count": 82,
   "metadata": {},
   "outputs": [
    {
     "data": {
      "text/plain": [
       "0         Pacific Asia\n",
       "1         Pacific Asia\n",
       "2         Pacific Asia\n",
       "3         Pacific Asia\n",
       "4         Pacific Asia\n",
       "              ...     \n",
       "180514    Pacific Asia\n",
       "180515    Pacific Asia\n",
       "180516    Pacific Asia\n",
       "180517    Pacific Asia\n",
       "180518    Pacific Asia\n",
       "Name: Market, Length: 180519, dtype: object"
      ]
     },
     "execution_count": 82,
     "metadata": {},
     "output_type": "execute_result"
    }
   ],
   "source": [
    "df['Market']"
   ]
  },
  {
   "cell_type": "code",
   "execution_count": 83,
   "metadata": {},
   "outputs": [
    {
     "data": {
      "text/plain": [
       "array(['Pacific Asia', 'USCA', 'Africa', 'Europe', 'LATAM'], dtype=object)"
      ]
     },
     "execution_count": 83,
     "metadata": {},
     "output_type": "execute_result"
    }
   ],
   "source": [
    "df['Market'].unique()"
   ]
  },
  {
   "cell_type": "code",
   "execution_count": 84,
   "metadata": {},
   "outputs": [
    {
     "data": {
      "text/plain": [
       "LATAM           51594\n",
       "Europe          50252\n",
       "Pacific Asia    41260\n",
       "USCA            25799\n",
       "Africa          11614\n",
       "Name: Market, dtype: int64"
      ]
     },
     "execution_count": 84,
     "metadata": {},
     "output_type": "execute_result"
    }
   ],
   "source": [
    "df['Market'].value_counts()"
   ]
  },
  {
   "cell_type": "code",
   "execution_count": 85,
   "metadata": {},
   "outputs": [
    {
     "data": {
      "text/plain": [
       "0"
      ]
     },
     "execution_count": 85,
     "metadata": {},
     "output_type": "execute_result"
    }
   ],
   "source": [
    "df['Market'].isna().sum()"
   ]
  },
  {
   "cell_type": "code",
   "execution_count": 87,
   "metadata": {},
   "outputs": [
    {
     "data": {
      "image/png": "[encoded data removed]",
      "text/plain": [
       "<Figure size 432x288 with 1 Axes>"
      ]
     },
     "metadata": {},
     "output_type": "display_data"
    }
   ],
   "source": [
    "plt.title(' Market to where the order is delivered')\n",
    "df['Market'].value_counts().plot(kind = 'pie', autopct = '%.2f%%', cmap = 'Set2', explode = [0.1, 0.1, 0.1,0.1, 0.1])\n",
    "plt.ylabel('');"
   ]
  },
  {
   "cell_type": "markdown",
   "metadata": {},
   "source": [
    "### 25 Order City"
   ]
  },
  {
   "cell_type": "code",
   "execution_count": 88,
   "metadata": {},
   "outputs": [
    {
     "data": {
      "text/plain": [
       "0             Bekasi\n",
       "1            Bikaner\n",
       "2            Bikaner\n",
       "3         Townsville\n",
       "4         Townsville\n",
       "             ...    \n",
       "180514      Shanghái\n",
       "180515      Hirakata\n",
       "180516      Adelaide\n",
       "180517      Adelaide\n",
       "180518     Nagercoil\n",
       "Name: Order City, Length: 180519, dtype: object"
      ]
     },
     "execution_count": 88,
     "metadata": {},
     "output_type": "execute_result"
    }
   ],
   "source": [
    "df['Order City']"
   ]
  },
  {
   "cell_type": "code",
   "execution_count": 89,
   "metadata": {},
   "outputs": [
    {
     "data": {
      "text/plain": [
       "array(['Bekasi', 'Bikaner', 'Townsville', ..., 'Tongling', 'Liuyang',\n",
       "       'Nashua'], dtype=object)"
      ]
     },
     "execution_count": 89,
     "metadata": {},
     "output_type": "execute_result"
    }
   ],
   "source": [
    "df['Order City'].unique()"
   ]
  },
  {
   "cell_type": "code",
   "execution_count": 90,
   "metadata": {},
   "outputs": [
    {
     "data": {
      "text/plain": [
       "Santo Domingo    2211\n",
       "New York City    2202\n",
       "Los Angeles      1845\n",
       "Tegucigalpa      1783\n",
       "Managua          1682\n",
       "                 ... \n",
       "Trani               1\n",
       "Midyat              1\n",
       "Asti                1\n",
       "Ipatinga            1\n",
       "Ormond Beach        1\n",
       "Name: Order City, Length: 3597, dtype: int64"
      ]
     },
     "execution_count": 90,
     "metadata": {},
     "output_type": "execute_result"
    }
   ],
   "source": [
    "df['Order City'].value_counts()"
   ]
  },
  {
   "cell_type": "code",
   "execution_count": 91,
   "metadata": {},
   "outputs": [
    {
     "data": {
      "text/plain": [
       "0"
      ]
     },
     "execution_count": 91,
     "metadata": {},
     "output_type": "execute_result"
    }
   ],
   "source": [
    "df['Order City'].isna().sum()"
   ]
  },
  {
   "cell_type": "markdown",
   "metadata": {},
   "source": [
    "### 26 Order Country"
   ]
  },
  {
   "cell_type": "code",
   "execution_count": 93,
   "metadata": {},
   "outputs": [
    {
     "data": {
      "text/plain": [
       "0         Indonesia\n",
       "1             India\n",
       "2             India\n",
       "3         Australia\n",
       "4         Australia\n",
       "            ...    \n",
       "180514        China\n",
       "180515        Japón\n",
       "180516    Australia\n",
       "180517    Australia\n",
       "180518        India\n",
       "Name: Order Country, Length: 180519, dtype: object"
      ]
     },
     "execution_count": 93,
     "metadata": {},
     "output_type": "execute_result"
    }
   ],
   "source": [
    "df['Order Country']"
   ]
  },
  {
   "cell_type": "code",
   "execution_count": 94,
   "metadata": {},
   "outputs": [
    {
     "data": {
      "text/plain": [
       "array(['Indonesia', 'India', 'Australia', 'China', 'Japón',\n",
       "       'Corea del Sur', 'Singapur', 'Turquía', 'Mongolia',\n",
       "       'Estados Unidos', 'Nigeria', 'República Democrática del Congo',\n",
       "       'Senegal', 'Marruecos', 'Alemania', 'Francia', 'Países Bajos',\n",
       "       'Reino Unido', 'Guatemala', 'El Salvador', 'Panamá',\n",
       "       'República Dominicana', 'Venezuela', 'Colombia', 'Honduras',\n",
       "       'Brasil', 'México', 'Uruguay', 'Argentina', 'Cuba', 'Perú',\n",
       "       'Nicaragua', 'Ecuador', 'Angola', 'Sudán', 'Somalia',\n",
       "       'Costa de Marfil', 'Egipto', 'Italia', 'España', 'Suecia',\n",
       "       'Austria', 'Canada', 'Madagascar', 'Argelia', 'Liberia', 'Zambia',\n",
       "       'Níger', 'SudAfrica', 'Mozambique', 'Tanzania', 'Ruanda', 'Israel',\n",
       "       'Nueva Zelanda', 'Bangladés', 'Tailandia', 'Irak', 'Arabia Saudí',\n",
       "       'Filipinas', 'Kazajistán', 'Irán', 'Myanmar (Birmania)',\n",
       "       'Uzbekistán', 'Benín', 'Camerún', 'Kenia', 'Togo', 'Ucrania',\n",
       "       'Polonia', 'Portugal', 'Rumania', 'Trinidad y Tobago',\n",
       "       'Afganistán', 'Pakistán', 'Vietnam', 'Malasia', 'Finlandia',\n",
       "       'Rusia', 'Irlanda', 'Noruega', 'Eslovaquia', 'Bélgica', 'Bolivia',\n",
       "       'Chile', 'Jamaica', 'Yemen', 'Ghana', 'Guinea', 'Etiopía',\n",
       "       'Bulgaria', 'Kirguistán', 'Georgia', 'Nepal',\n",
       "       'Emiratos Árabes Unidos', 'Camboya', 'Uganda', 'Lesoto',\n",
       "       'Lituania', 'Suiza', 'Hungría', 'Dinamarca', 'Haití',\n",
       "       'Bielorrusia', 'Croacia', 'Laos', 'Baréin', 'Macedonia',\n",
       "       'República Checa', 'Sri Lanka', 'Zimbabue', 'Eritrea',\n",
       "       'Burkina Faso', 'Costa Rica', 'Libia', 'Barbados', 'Tayikistán',\n",
       "       'Siria', 'Guadalupe', 'Papúa Nueva Guinea', 'Azerbaiyán',\n",
       "       'Turkmenistán', 'Paraguay', 'Jordania', 'Hong Kong', 'Martinica',\n",
       "       'Moldavia', 'Qatar', 'Mali', 'Albania', 'República del Congo',\n",
       "       'Bosnia y Herzegovina', 'Omán', 'Túnez', 'Sierra Leona', 'Yibuti',\n",
       "       'Burundi', 'Montenegro', 'Gabón', 'Sudán del Sur', 'Luxemburgo',\n",
       "       'Namibia', 'Mauritania', 'Grecia', 'Suazilandia', 'Guyana',\n",
       "       'Guayana Francesa', 'República Centroafricana', 'Taiwán',\n",
       "       'Estonia', 'Líbano', 'Chipre', 'Guinea-Bissau', 'Surinam',\n",
       "       'Belice', 'Eslovenia', 'República de Gambia', 'Botsuana',\n",
       "       'Armenia', 'Guinea Ecuatorial', 'Kuwait', 'Bután', 'Chad',\n",
       "       'Serbia', 'Sáhara Occidental'], dtype=object)"
      ]
     },
     "execution_count": 94,
     "metadata": {},
     "output_type": "execute_result"
    }
   ],
   "source": [
    "df['Order Country'].unique()"
   ]
  },
  {
   "cell_type": "code",
   "execution_count": 95,
   "metadata": {},
   "outputs": [
    {
     "data": {
      "text/plain": [
       "Estados Unidos       24840\n",
       "Francia              13222\n",
       "México               13172\n",
       "Alemania              9564\n",
       "Australia             8497\n",
       "                     ...  \n",
       "Eritrea                  2\n",
       "Guinea Ecuatorial        2\n",
       "Sáhara Occidental        2\n",
       "Serbia                   1\n",
       "Burundi                  1\n",
       "Name: Order Country, Length: 164, dtype: int64"
      ]
     },
     "execution_count": 95,
     "metadata": {},
     "output_type": "execute_result"
    }
   ],
   "source": [
    "df['Order Country'].value_counts()"
   ]
  },
  {
   "cell_type": "code",
   "execution_count": 96,
   "metadata": {},
   "outputs": [
    {
     "data": {
      "text/plain": [
       "0"
      ]
     },
     "execution_count": 96,
     "metadata": {},
     "output_type": "execute_result"
    }
   ],
   "source": [
    "df['Order Country'].isna().sum()"
   ]
  },
  {
   "cell_type": "markdown",
   "metadata": {},
   "source": [
    "# Feature Engineering "
   ]
  },
  {
   "cell_type": "markdown",
   "metadata": {},
   "source": [
    "### 14 Customer Id"
   ]
  },
  {
   "cell_type": "code",
   "execution_count": 97,
   "metadata": {},
   "outputs": [
    {
     "name": "stdout",
     "output_type": "stream",
     "text": [
      "Q1 : 3258.5\n",
      "Q2 : 6457.0\n",
      "Q3 : 9779.0\n",
      "upper_tail ----> 19559.75\n",
      "lower_tail -----> -6522.25\n",
      "Median ---> 6457.0\n",
      "Mean ---> 6691.37949467923\n"
     ]
    }
   ],
   "source": [
    "q1 = df['Customer Id'].quantile(0.25)\n",
    "q2 = df['Customer Id'].quantile(0.50)\n",
    "q3 = df['Customer Id'].quantile(0.75)\n",
    "\n",
    "iqr =  q3 - q1\n",
    "\n",
    "upper_tail = q3 + 1.5 * iqr\n",
    "lower_tail = q1 - 1.5 * iqr\n",
    "\n",
    "print(\"Q1 :\",q1)\n",
    "print(\"Q2 :\",q2)\n",
    "print(\"Q3 :\",q3)\n",
    "\n",
    "print(\"upper_tail ---->\",upper_tail)\n",
    "print(\"lower_tail ----->\",lower_tail)\n",
    "print(\"Median --->\",df['Customer Id'].median())\n",
    "print(\"Mean --->\",df['Customer Id'].mean())"
   ]
  },
  {
   "cell_type": "code",
   "execution_count": 98,
   "metadata": {},
   "outputs": [
    {
     "data": {
      "text/plain": [
       "0         20755\n",
       "234       20423\n",
       "261       20529\n",
       "267       20655\n",
       "822       20402\n",
       "          ...  \n",
       "176825    20094\n",
       "176826    19913\n",
       "176827    20092\n",
       "176828    19890\n",
       "176837    20008\n",
       "Name: Customer Id, Length: 1198, dtype: int64"
      ]
     },
     "execution_count": 98,
     "metadata": {},
     "output_type": "execute_result"
    }
   ],
   "source": [
    "df['Customer Id'].loc[df['Customer Id'] > upper_tail]"
   ]
  },
  {
   "cell_type": "code",
   "execution_count": 99,
   "metadata": {},
   "outputs": [
    {
     "name": "stderr",
     "output_type": "stream",
     "text": [
      "C:\\Users\\lenovo\\AppData\\Roaming\\Python\\Python36\\site-packages\\pandas\\core\\indexing.py:670: SettingWithCopyWarning: \n",
      "A value is trying to be set on a copy of a slice from a DataFrame\n",
      "\n",
      "See the caveats in the documentation: https://pandas.pydata.org/pandas-docs/stable/user_guide/indexing.html#returning-a-view-versus-a-copy\n",
      "  iloc._setitem_with_indexer(indexer, value)\n"
     ]
    }
   ],
   "source": [
    "df['Customer Id'].loc[df['Customer Id'] > upper_tail] = upper_tail"
   ]
  },
  {
   "cell_type": "code",
   "execution_count": 100,
   "metadata": {},
   "outputs": [
    {
     "data": {
      "text/plain": [
       "Series([], Name: Customer Id, dtype: float64)"
      ]
     },
     "execution_count": 100,
     "metadata": {},
     "output_type": "execute_result"
    }
   ],
   "source": [
    "df['Customer Id'].loc[df['Customer Id'] > upper_tail]"
   ]
  },
  {
   "cell_type": "code",
   "execution_count": 101,
   "metadata": {},
   "outputs": [
    {
     "data": {
      "text/plain": [
       "<AxesSubplot:>"
      ]
     },
     "execution_count": 101,
     "metadata": {},
     "output_type": "execute_result"
    },
    {
     "data": {
      "image/png": "[encoded data removed]",
      "text/plain": [
       "<Figure size 432x288 with 1 Axes>"
      ]
     },
     "metadata": {},
     "output_type": "display_data"
    }
   ],
   "source": [
    "df[['Customer Id']].boxplot()"
   ]
  },
  {
   "cell_type": "markdown",
   "metadata": {},
   "source": [
    "### 15 Customer Lname"
   ]
  },
  {
   "cell_type": "code",
   "execution_count": null,
   "metadata": {},
   "outputs": [],
   "source": [
    "df['Customer Lname'].isna().sum()"
   ]
  },
  {
   "cell_type": "code",
   "execution_count": 105,
   "metadata": {},
   "outputs": [
    {
     "data": {
      "text/plain": [
       "'Smith'"
      ]
     },
     "execution_count": 105,
     "metadata": {},
     "output_type": "execute_result"
    }
   ],
   "source": [
    "df['Customer Lname'].mode()[0]"
   ]
  },
  {
   "cell_type": "code",
   "execution_count": 107,
   "metadata": {},
   "outputs": [],
   "source": [
    "df['Customer Lname'].fillna(df['Customer Lname'].mode()[0],inplace = True)"
   ]
  },
  {
   "cell_type": "code",
   "execution_count": 108,
   "metadata": {},
   "outputs": [
    {
     "data": {
      "text/plain": [
       "0"
      ]
     },
     "execution_count": 108,
     "metadata": {},
     "output_type": "execute_result"
    }
   ],
   "source": [
    "df['Customer Lname'].isna().sum()"
   ]
  },
  {
   "cell_type": "code",
   "execution_count": 133,
   "metadata": {},
   "outputs": [],
   "source": [
    "df = pd.get_dummies(df,columns  =['Customer Lname'])"
   ]
  },
  {
   "cell_type": "markdown",
   "metadata": {},
   "source": [
    "### 16 Customer Segment"
   ]
  },
  {
   "cell_type": "code",
   "execution_count": 110,
   "metadata": {},
   "outputs": [
    {
     "data": {
      "text/plain": [
       "array(['Consumer', 'Home Office', 'Corporate'], dtype=object)"
      ]
     },
     "execution_count": 110,
     "metadata": {},
     "output_type": "execute_result"
    }
   ],
   "source": [
    "df['Customer Segment'].unique()"
   ]
  },
  {
   "cell_type": "code",
   "execution_count": 111,
   "metadata": {},
   "outputs": [],
   "source": [
    "df['Customer Segment'].replace({'Consumer':0, 'Home Office':1, 'Corporate':2},inplace = True)"
   ]
  },
  {
   "cell_type": "code",
   "execution_count": 112,
   "metadata": {},
   "outputs": [
    {
     "data": {
      "text/plain": [
       "array([0, 1, 2], dtype=int64)"
      ]
     },
     "execution_count": 112,
     "metadata": {},
     "output_type": "execute_result"
    }
   ],
   "source": [
    "df['Customer Segment'].unique()"
   ]
  },
  {
   "cell_type": "code",
   "execution_count": 113,
   "metadata": {},
   "outputs": [
    {
     "data": {
      "text/plain": [
       "{'Consumer': 0, 'Home Office': 1, 'Corporate': 2}"
      ]
     },
     "execution_count": 113,
     "metadata": {},
     "output_type": "execute_result"
    }
   ],
   "source": [
    "Customer_Segment_values = {'Consumer':0, 'Home Office':1, 'Corporate':2}\n",
    "Customer_Segment_values"
   ]
  },
  {
   "cell_type": "markdown",
   "metadata": {},
   "source": [
    "### 17 Customer State"
   ]
  },
  {
   "cell_type": "code",
   "execution_count": 114,
   "metadata": {},
   "outputs": [
    {
     "data": {
      "text/plain": [
       "array(['PR', 'CA', 'NY', 'FL', 'MA', 'IL', 'MT', 'PA', 'MI', 'TX', 'DE',\n",
       "       'GA', 'MD', 'OH', 'HI', 'NJ', 'WI', 'AZ', 'CO', 'MN', 'NC', 'NM',\n",
       "       'OR', 'SC', 'VA', 'UT', 'WA', 'KY', 'WV', 'RI', 'CT', 'LA', 'TN',\n",
       "       'DC', 'ND', 'MO', 'IN', 'ID', 'NV', 'KS', 'AR', 'OK', 'AL', 'IA',\n",
       "       '95758', '91732'], dtype=object)"
      ]
     },
     "execution_count": 114,
     "metadata": {},
     "output_type": "execute_result"
    }
   ],
   "source": [
    "df['Customer State'].unique()"
   ]
  },
  {
   "cell_type": "code",
   "execution_count": 115,
   "metadata": {},
   "outputs": [],
   "source": [
    "df['Customer State'].replace({'PR':0, 'CA':1, 'NY':2, 'FL':3, 'MA':4, 'IL':5, 'MT':6, 'PA':7,\n",
    "                'MI':8, 'TX':9, 'DE':10, 'GA':11, 'MD':12, 'OH':13, 'HI':14, 'NJ':15,\n",
    "                'WI':16, 'AZ':17, 'CO':18, 'MN':19, 'NC':20, 'NM':21,'OR':22, 'SC':23, 'VA':24, \n",
    "                'UT':25, 'WA':26, 'KY':27, 'WV':28, 'RI':29, 'CT':30, 'LA':31,'TN':32,'DC':33, \n",
    "                'ND':34, 'MO':35, 'IN':36, 'ID':37, 'NV':38, 'KS':39, 'AR':40, 'OK':41, 'AL':42,\n",
    "                              'IA':43,'95758':44, '91732':45},inplace = True)"
   ]
  },
  {
   "cell_type": "code",
   "execution_count": 117,
   "metadata": {},
   "outputs": [
    {
     "data": {
      "text/plain": [
       "{'PR': 0,\n",
       " 'CA': 1,\n",
       " 'NY': 2,\n",
       " 'FL': 3,\n",
       " 'MA': 4,\n",
       " 'IL': 5,\n",
       " 'MT': 6,\n",
       " 'PA': 7,\n",
       " 'MI': 8,\n",
       " 'TX': 9,\n",
       " 'DE': 10,\n",
       " 'GA': 11,\n",
       " 'MD': 12,\n",
       " 'OH': 13,\n",
       " 'HI': 14,\n",
       " 'NJ': 15,\n",
       " 'WI': 16,\n",
       " 'AZ': 17,\n",
       " 'CO': 18,\n",
       " 'MN': 19,\n",
       " 'NC': 20,\n",
       " 'NM': 21,\n",
       " 'OR': 22,\n",
       " 'SC': 23,\n",
       " 'VA': 24,\n",
       " 'UT': 25,\n",
       " 'WA': 26,\n",
       " 'KY': 27,\n",
       " 'WV': 28,\n",
       " 'RI': 29,\n",
       " 'CT': 30,\n",
       " 'LA': 31,\n",
       " 'TN': 32,\n",
       " 'DC': 33,\n",
       " 'ND': 34,\n",
       " 'MO': 35,\n",
       " 'IN': 36,\n",
       " 'ID': 37,\n",
       " 'NV': 38,\n",
       " 'KS': 39,\n",
       " 'AR': 40,\n",
       " 'OK': 41,\n",
       " 'AL': 42,\n",
       " 'IA': 43,\n",
       " '95758': 44,\n",
       " '91732': 45}"
      ]
     },
     "execution_count": 117,
     "metadata": {},
     "output_type": "execute_result"
    }
   ],
   "source": [
    "Customer_State_values = {'PR':0, 'CA':1, 'NY':2, 'FL':3, 'MA':4, 'IL':5, 'MT':6, 'PA':7,\n",
    "                'MI':8, 'TX':9, 'DE':10, 'GA':11, 'MD':12, 'OH':13, 'HI':14, 'NJ':15,\n",
    "                'WI':16, 'AZ':17, 'CO':18, 'MN':19, 'NC':20, 'NM':21,'OR':22, 'SC':23, 'VA':24, \n",
    "                'UT':25, 'WA':26, 'KY':27, 'WV':28, 'RI':29, 'CT':30, 'LA':31,'TN':32,'DC':33, \n",
    "                'ND':34, 'MO':35, 'IN':36, 'ID':37, 'NV':38, 'KS':39, 'AR':40, 'OK':41, 'AL':42,\n",
    "                              'IA':43,'95758':44, '91732':45}\n",
    "\n",
    "Customer_State_values"
   ]
  },
  {
   "cell_type": "markdown",
   "metadata": {},
   "source": [
    "### Customer Street"
   ]
  },
  {
   "cell_type": "code",
   "execution_count": 119,
   "metadata": {},
   "outputs": [
    {
     "data": {
      "text/plain": [
       "0           5365 Noble Nectar Island\n",
       "1                   2679 Rustic Loop\n",
       "2               8510 Round Bear Gate\n",
       "3                    3200 Amber Bend\n",
       "4           8671 Iron Anchor Corners\n",
       "                     ...            \n",
       "180514              1322 Broad Glade\n",
       "180515         7330 Broad Apple Moor\n",
       "180516            97 Burning Landing\n",
       "180517    2585 Silent Autumn Landing\n",
       "180518             697 Little Meadow\n",
       "Name: Customer Street, Length: 180519, dtype: object"
      ]
     },
     "execution_count": 119,
     "metadata": {},
     "output_type": "execute_result"
    }
   ],
   "source": [
    "df['Customer Street']"
   ]
  },
  {
   "cell_type": "code",
   "execution_count": 135,
   "metadata": {},
   "outputs": [],
   "source": [
    "df = pd.get_dummies(df,columns = ['Customer Street'])"
   ]
  },
  {
   "cell_type": "markdown",
   "metadata": {},
   "source": [
    "### 20 Customer Zipcode"
   ]
  },
  {
   "cell_type": "code",
   "execution_count": null,
   "metadata": {},
   "outputs": [],
   "source": []
  },
  {
   "cell_type": "markdown",
   "metadata": {},
   "source": [
    "### 21 Department Id"
   ]
  },
  {
   "cell_type": "code",
   "execution_count": null,
   "metadata": {},
   "outputs": [],
   "source": []
  },
  {
   "cell_type": "markdown",
   "metadata": {},
   "source": [
    "### 22 Department Name"
   ]
  },
  {
   "cell_type": "code",
   "execution_count": 120,
   "metadata": {},
   "outputs": [
    {
     "data": {
      "text/plain": [
       "array(['Fitness', 'Apparel', 'Golf', 'Footwear', 'Outdoors', 'Fan Shop',\n",
       "       'Technology', 'Book Shop', 'Discs Shop', 'Pet Shop',\n",
       "       'Health and Beauty '], dtype=object)"
      ]
     },
     "execution_count": 120,
     "metadata": {},
     "output_type": "execute_result"
    }
   ],
   "source": [
    "df['Department Name'].unique()"
   ]
  },
  {
   "cell_type": "code",
   "execution_count": 121,
   "metadata": {},
   "outputs": [],
   "source": [
    "df['Department Name'].replace({'Fitness':0, 'Apparel':1, 'Golf':2, 'Footwear':3, 'Outdoors':4,\n",
    "                               'Fan Shop':5,'Technology':6, 'Book Shop':7, 'Discs Shop':8, \n",
    "                               'Pet Shop':9,'Health and Beauty ':10},inplace = True)"
   ]
  },
  {
   "cell_type": "code",
   "execution_count": 122,
   "metadata": {},
   "outputs": [
    {
     "data": {
      "text/plain": [
       "{'Fitness': 0,\n",
       " 'Apparel': 1,\n",
       " 'Golf': 2,\n",
       " 'Footwear': 3,\n",
       " 'Outdoors': 4,\n",
       " 'Fan Shop': 5,\n",
       " 'Technology': 6,\n",
       " 'Book Shop': 7,\n",
       " 'Discs Shop': 8,\n",
       " 'Pet Shop': 9,\n",
       " 'Health and Beauty ': 10}"
      ]
     },
     "execution_count": 122,
     "metadata": {},
     "output_type": "execute_result"
    }
   ],
   "source": [
    "Department_Name_values = {'Fitness':0, 'Apparel':1, 'Golf':2, 'Footwear':3, 'Outdoors':4,\n",
    "                               'Fan Shop':5,'Technology':6, 'Book Shop':7, 'Discs Shop':8, \n",
    "                               'Pet Shop':9,'Health and Beauty ':10}\n",
    "Department_Name_values"
   ]
  },
  {
   "cell_type": "code",
   "execution_count": 123,
   "metadata": {},
   "outputs": [
    {
     "data": {
      "text/plain": [
       "array([ 0,  1,  2,  3,  4,  5,  6,  7,  8,  9, 10], dtype=int64)"
      ]
     },
     "execution_count": 123,
     "metadata": {},
     "output_type": "execute_result"
    }
   ],
   "source": [
    "df['Department Name'].unique()"
   ]
  },
  {
   "cell_type": "markdown",
   "metadata": {},
   "source": [
    "### 23 Market"
   ]
  },
  {
   "cell_type": "code",
   "execution_count": 124,
   "metadata": {},
   "outputs": [
    {
     "data": {
      "text/plain": [
       "array(['Pacific Asia', 'USCA', 'Africa', 'Europe', 'LATAM'], dtype=object)"
      ]
     },
     "execution_count": 124,
     "metadata": {},
     "output_type": "execute_result"
    }
   ],
   "source": [
    "df['Market'].unique()"
   ]
  },
  {
   "cell_type": "code",
   "execution_count": 125,
   "metadata": {},
   "outputs": [],
   "source": [
    "df['Market'].replace({'Pacific Asia':0, 'USCA':1, 'Africa':2, 'Europe':3, 'LATAM':4},inplace = True)"
   ]
  },
  {
   "cell_type": "code",
   "execution_count": 127,
   "metadata": {},
   "outputs": [
    {
     "data": {
      "text/plain": [
       "{'Pacific Asia': 0, 'USCA': 1, 'Africa': 2, 'Europe': 3, 'LATAM': 4}"
      ]
     },
     "execution_count": 127,
     "metadata": {},
     "output_type": "execute_result"
    }
   ],
   "source": [
    "Market_values = {'Pacific Asia':0, 'USCA':1, 'Africa':2, 'Europe':3, 'LATAM':4}\n",
    "Market_values"
   ]
  },
  {
   "cell_type": "code",
   "execution_count": 128,
   "metadata": {},
   "outputs": [
    {
     "data": {
      "text/plain": [
       "0         0\n",
       "1         0\n",
       "2         0\n",
       "3         0\n",
       "4         0\n",
       "         ..\n",
       "180514    0\n",
       "180515    0\n",
       "180516    0\n",
       "180517    0\n",
       "180518    0\n",
       "Name: Market, Length: 180519, dtype: int64"
      ]
     },
     "execution_count": 128,
     "metadata": {},
     "output_type": "execute_result"
    }
   ],
   "source": [
    "df['Market']"
   ]
  },
  {
   "cell_type": "markdown",
   "metadata": {},
   "source": [
    "### 24 Order City"
   ]
  },
  {
   "cell_type": "code",
   "execution_count": 129,
   "metadata": {},
   "outputs": [
    {
     "data": {
      "text/html": [
       "<div>\n",
       "<style scoped>\n",
       "    .dataframe tbody tr th:only-of-type {\n",
       "        vertical-align: middle;\n",
       "    }\n",
       "\n",
       "    .dataframe tbody tr th {\n",
       "        vertical-align: top;\n",
       "    }\n",
       "\n",
       "    .dataframe thead th {\n",
       "        text-align: right;\n",
       "    }\n",
       "</style>\n",
       "<table border=\"1\" class=\"dataframe\">\n",
       "  <thead>\n",
       "    <tr style=\"text-align: right;\">\n",
       "      <th></th>\n",
       "      <th>Type</th>\n",
       "      <th>Days for shipping (real)</th>\n",
       "      <th>Days for shipment (scheduled)</th>\n",
       "      <th>Benefit per order</th>\n",
       "      <th>Sales per customer</th>\n",
       "      <th>Delivery Status</th>\n",
       "      <th>Late_delivery_risk</th>\n",
       "      <th>Category Id</th>\n",
       "      <th>Category Name</th>\n",
       "      <th>Customer City</th>\n",
       "      <th>...</th>\n",
       "      <th>Order City_Zlatoust</th>\n",
       "      <th>Order City_Zunyi</th>\n",
       "      <th>Order City_Zurich</th>\n",
       "      <th>Order City_Zwedru</th>\n",
       "      <th>Order City_Zwickau</th>\n",
       "      <th>Order City_Zwolle</th>\n",
       "      <th>Order City_eMbalenhle</th>\n",
       "      <th>Order City_Águas Lindas de Goiás</th>\n",
       "      <th>Order City_Çanakkale</th>\n",
       "      <th>Order City_Ústí nad Labem</th>\n",
       "    </tr>\n",
       "  </thead>\n",
       "  <tbody>\n",
       "    <tr>\n",
       "      <th>0</th>\n",
       "      <td>DEBIT</td>\n",
       "      <td>3</td>\n",
       "      <td>4</td>\n",
       "      <td>91.250000</td>\n",
       "      <td>314.640015</td>\n",
       "      <td>Advance shipping</td>\n",
       "      <td>0</td>\n",
       "      <td>73</td>\n",
       "      <td>Sporting Goods</td>\n",
       "      <td>Caguas</td>\n",
       "      <td>...</td>\n",
       "      <td>0</td>\n",
       "      <td>0</td>\n",
       "      <td>0</td>\n",
       "      <td>0</td>\n",
       "      <td>0</td>\n",
       "      <td>0</td>\n",
       "      <td>0</td>\n",
       "      <td>0</td>\n",
       "      <td>0</td>\n",
       "      <td>0</td>\n",
       "    </tr>\n",
       "    <tr>\n",
       "      <th>1</th>\n",
       "      <td>TRANSFER</td>\n",
       "      <td>5</td>\n",
       "      <td>4</td>\n",
       "      <td>-249.089996</td>\n",
       "      <td>311.359985</td>\n",
       "      <td>Late delivery</td>\n",
       "      <td>1</td>\n",
       "      <td>73</td>\n",
       "      <td>Sporting Goods</td>\n",
       "      <td>Caguas</td>\n",
       "      <td>...</td>\n",
       "      <td>0</td>\n",
       "      <td>0</td>\n",
       "      <td>0</td>\n",
       "      <td>0</td>\n",
       "      <td>0</td>\n",
       "      <td>0</td>\n",
       "      <td>0</td>\n",
       "      <td>0</td>\n",
       "      <td>0</td>\n",
       "      <td>0</td>\n",
       "    </tr>\n",
       "    <tr>\n",
       "      <th>2</th>\n",
       "      <td>CASH</td>\n",
       "      <td>4</td>\n",
       "      <td>4</td>\n",
       "      <td>-247.779999</td>\n",
       "      <td>309.720001</td>\n",
       "      <td>Shipping on time</td>\n",
       "      <td>0</td>\n",
       "      <td>73</td>\n",
       "      <td>Sporting Goods</td>\n",
       "      <td>San Jose</td>\n",
       "      <td>...</td>\n",
       "      <td>0</td>\n",
       "      <td>0</td>\n",
       "      <td>0</td>\n",
       "      <td>0</td>\n",
       "      <td>0</td>\n",
       "      <td>0</td>\n",
       "      <td>0</td>\n",
       "      <td>0</td>\n",
       "      <td>0</td>\n",
       "      <td>0</td>\n",
       "    </tr>\n",
       "    <tr>\n",
       "      <th>3</th>\n",
       "      <td>DEBIT</td>\n",
       "      <td>3</td>\n",
       "      <td>4</td>\n",
       "      <td>22.860001</td>\n",
       "      <td>304.809998</td>\n",
       "      <td>Advance shipping</td>\n",
       "      <td>0</td>\n",
       "      <td>73</td>\n",
       "      <td>Sporting Goods</td>\n",
       "      <td>Los Angeles</td>\n",
       "      <td>...</td>\n",
       "      <td>0</td>\n",
       "      <td>0</td>\n",
       "      <td>0</td>\n",
       "      <td>0</td>\n",
       "      <td>0</td>\n",
       "      <td>0</td>\n",
       "      <td>0</td>\n",
       "      <td>0</td>\n",
       "      <td>0</td>\n",
       "      <td>0</td>\n",
       "    </tr>\n",
       "    <tr>\n",
       "      <th>4</th>\n",
       "      <td>PAYMENT</td>\n",
       "      <td>2</td>\n",
       "      <td>4</td>\n",
       "      <td>134.210007</td>\n",
       "      <td>298.250000</td>\n",
       "      <td>Advance shipping</td>\n",
       "      <td>0</td>\n",
       "      <td>73</td>\n",
       "      <td>Sporting Goods</td>\n",
       "      <td>Caguas</td>\n",
       "      <td>...</td>\n",
       "      <td>0</td>\n",
       "      <td>0</td>\n",
       "      <td>0</td>\n",
       "      <td>0</td>\n",
       "      <td>0</td>\n",
       "      <td>0</td>\n",
       "      <td>0</td>\n",
       "      <td>0</td>\n",
       "      <td>0</td>\n",
       "      <td>0</td>\n",
       "    </tr>\n",
       "    <tr>\n",
       "      <th>...</th>\n",
       "      <td>...</td>\n",
       "      <td>...</td>\n",
       "      <td>...</td>\n",
       "      <td>...</td>\n",
       "      <td>...</td>\n",
       "      <td>...</td>\n",
       "      <td>...</td>\n",
       "      <td>...</td>\n",
       "      <td>...</td>\n",
       "      <td>...</td>\n",
       "      <td>...</td>\n",
       "      <td>...</td>\n",
       "      <td>...</td>\n",
       "      <td>...</td>\n",
       "      <td>...</td>\n",
       "      <td>...</td>\n",
       "      <td>...</td>\n",
       "      <td>...</td>\n",
       "      <td>...</td>\n",
       "      <td>...</td>\n",
       "      <td>...</td>\n",
       "    </tr>\n",
       "    <tr>\n",
       "      <th>180514</th>\n",
       "      <td>CASH</td>\n",
       "      <td>4</td>\n",
       "      <td>4</td>\n",
       "      <td>40.000000</td>\n",
       "      <td>399.980011</td>\n",
       "      <td>Shipping on time</td>\n",
       "      <td>0</td>\n",
       "      <td>45</td>\n",
       "      <td>Fishing</td>\n",
       "      <td>Brooklyn</td>\n",
       "      <td>...</td>\n",
       "      <td>0</td>\n",
       "      <td>0</td>\n",
       "      <td>0</td>\n",
       "      <td>0</td>\n",
       "      <td>0</td>\n",
       "      <td>0</td>\n",
       "      <td>0</td>\n",
       "      <td>0</td>\n",
       "      <td>0</td>\n",
       "      <td>0</td>\n",
       "    </tr>\n",
       "    <tr>\n",
       "      <th>180515</th>\n",
       "      <td>DEBIT</td>\n",
       "      <td>3</td>\n",
       "      <td>2</td>\n",
       "      <td>-613.770019</td>\n",
       "      <td>395.980011</td>\n",
       "      <td>Late delivery</td>\n",
       "      <td>1</td>\n",
       "      <td>45</td>\n",
       "      <td>Fishing</td>\n",
       "      <td>Bakersfield</td>\n",
       "      <td>...</td>\n",
       "      <td>0</td>\n",
       "      <td>0</td>\n",
       "      <td>0</td>\n",
       "      <td>0</td>\n",
       "      <td>0</td>\n",
       "      <td>0</td>\n",
       "      <td>0</td>\n",
       "      <td>0</td>\n",
       "      <td>0</td>\n",
       "      <td>0</td>\n",
       "    </tr>\n",
       "    <tr>\n",
       "      <th>180516</th>\n",
       "      <td>TRANSFER</td>\n",
       "      <td>5</td>\n",
       "      <td>4</td>\n",
       "      <td>141.110001</td>\n",
       "      <td>391.980011</td>\n",
       "      <td>Late delivery</td>\n",
       "      <td>1</td>\n",
       "      <td>45</td>\n",
       "      <td>Fishing</td>\n",
       "      <td>Bristol</td>\n",
       "      <td>...</td>\n",
       "      <td>0</td>\n",
       "      <td>0</td>\n",
       "      <td>0</td>\n",
       "      <td>0</td>\n",
       "      <td>0</td>\n",
       "      <td>0</td>\n",
       "      <td>0</td>\n",
       "      <td>0</td>\n",
       "      <td>0</td>\n",
       "      <td>0</td>\n",
       "    </tr>\n",
       "    <tr>\n",
       "      <th>180517</th>\n",
       "      <td>PAYMENT</td>\n",
       "      <td>3</td>\n",
       "      <td>4</td>\n",
       "      <td>186.229996</td>\n",
       "      <td>387.980011</td>\n",
       "      <td>Advance shipping</td>\n",
       "      <td>0</td>\n",
       "      <td>45</td>\n",
       "      <td>Fishing</td>\n",
       "      <td>Caguas</td>\n",
       "      <td>...</td>\n",
       "      <td>0</td>\n",
       "      <td>0</td>\n",
       "      <td>0</td>\n",
       "      <td>0</td>\n",
       "      <td>0</td>\n",
       "      <td>0</td>\n",
       "      <td>0</td>\n",
       "      <td>0</td>\n",
       "      <td>0</td>\n",
       "      <td>0</td>\n",
       "    </tr>\n",
       "    <tr>\n",
       "      <th>180518</th>\n",
       "      <td>PAYMENT</td>\n",
       "      <td>4</td>\n",
       "      <td>4</td>\n",
       "      <td>168.949997</td>\n",
       "      <td>383.980011</td>\n",
       "      <td>Shipping on time</td>\n",
       "      <td>0</td>\n",
       "      <td>45</td>\n",
       "      <td>Fishing</td>\n",
       "      <td>Caguas</td>\n",
       "      <td>...</td>\n",
       "      <td>0</td>\n",
       "      <td>0</td>\n",
       "      <td>0</td>\n",
       "      <td>0</td>\n",
       "      <td>0</td>\n",
       "      <td>0</td>\n",
       "      <td>0</td>\n",
       "      <td>0</td>\n",
       "      <td>0</td>\n",
       "      <td>0</td>\n",
       "    </tr>\n",
       "  </tbody>\n",
       "</table>\n",
       "<p>180519 rows × 3649 columns</p>\n",
       "</div>"
      ],
      "text/plain": [
       "            Type  Days for shipping (real)  Days for shipment (scheduled)  \\\n",
       "0          DEBIT                         3                              4   \n",
       "1       TRANSFER                         5                              4   \n",
       "2           CASH                         4                              4   \n",
       "3          DEBIT                         3                              4   \n",
       "4        PAYMENT                         2                              4   \n",
       "...          ...                       ...                            ...   \n",
       "180514      CASH                         4                              4   \n",
       "180515     DEBIT                         3                              2   \n",
       "180516  TRANSFER                         5                              4   \n",
       "180517   PAYMENT                         3                              4   \n",
       "180518   PAYMENT                         4                              4   \n",
       "\n",
       "        Benefit per order  Sales per customer   Delivery Status  \\\n",
       "0               91.250000          314.640015  Advance shipping   \n",
       "1             -249.089996          311.359985     Late delivery   \n",
       "2             -247.779999          309.720001  Shipping on time   \n",
       "3               22.860001          304.809998  Advance shipping   \n",
       "4              134.210007          298.250000  Advance shipping   \n",
       "...                   ...                 ...               ...   \n",
       "180514          40.000000          399.980011  Shipping on time   \n",
       "180515        -613.770019          395.980011     Late delivery   \n",
       "180516         141.110001          391.980011     Late delivery   \n",
       "180517         186.229996          387.980011  Advance shipping   \n",
       "180518         168.949997          383.980011  Shipping on time   \n",
       "\n",
       "        Late_delivery_risk  Category Id   Category Name Customer City  ...  \\\n",
       "0                        0           73  Sporting Goods        Caguas  ...   \n",
       "1                        1           73  Sporting Goods        Caguas  ...   \n",
       "2                        0           73  Sporting Goods      San Jose  ...   \n",
       "3                        0           73  Sporting Goods   Los Angeles  ...   \n",
       "4                        0           73  Sporting Goods        Caguas  ...   \n",
       "...                    ...          ...             ...           ...  ...   \n",
       "180514                   0           45         Fishing      Brooklyn  ...   \n",
       "180515                   1           45         Fishing   Bakersfield  ...   \n",
       "180516                   1           45         Fishing       Bristol  ...   \n",
       "180517                   0           45         Fishing        Caguas  ...   \n",
       "180518                   0           45         Fishing        Caguas  ...   \n",
       "\n",
       "       Order City_Zlatoust Order City_Zunyi Order City_Zurich  \\\n",
       "0                        0                0                 0   \n",
       "1                        0                0                 0   \n",
       "2                        0                0                 0   \n",
       "3                        0                0                 0   \n",
       "4                        0                0                 0   \n",
       "...                    ...              ...               ...   \n",
       "180514                   0                0                 0   \n",
       "180515                   0                0                 0   \n",
       "180516                   0                0                 0   \n",
       "180517                   0                0                 0   \n",
       "180518                   0                0                 0   \n",
       "\n",
       "        Order City_Zwedru Order City_Zwickau Order City_Zwolle  \\\n",
       "0                       0                  0                 0   \n",
       "1                       0                  0                 0   \n",
       "2                       0                  0                 0   \n",
       "3                       0                  0                 0   \n",
       "4                       0                  0                 0   \n",
       "...                   ...                ...               ...   \n",
       "180514                  0                  0                 0   \n",
       "180515                  0                  0                 0   \n",
       "180516                  0                  0                 0   \n",
       "180517                  0                  0                 0   \n",
       "180518                  0                  0                 0   \n",
       "\n",
       "        Order City_eMbalenhle  Order City_Águas Lindas de Goiás  \\\n",
       "0                           0                                 0   \n",
       "1                           0                                 0   \n",
       "2                           0                                 0   \n",
       "3                           0                                 0   \n",
       "4                           0                                 0   \n",
       "...                       ...                               ...   \n",
       "180514                      0                                 0   \n",
       "180515                      0                                 0   \n",
       "180516                      0                                 0   \n",
       "180517                      0                                 0   \n",
       "180518                      0                                 0   \n",
       "\n",
       "       Order City_Çanakkale  Order City_Ústí nad Labem  \n",
       "0                         0                          0  \n",
       "1                         0                          0  \n",
       "2                         0                          0  \n",
       "3                         0                          0  \n",
       "4                         0                          0  \n",
       "...                     ...                        ...  \n",
       "180514                    0                          0  \n",
       "180515                    0                          0  \n",
       "180516                    0                          0  \n",
       "180517                    0                          0  \n",
       "180518                    0                          0  \n",
       "\n",
       "[180519 rows x 3649 columns]"
      ]
     },
     "execution_count": 129,
     "metadata": {},
     "output_type": "execute_result"
    }
   ],
   "source": [
    "df = pd.get_dummies(df,columns = ['Order City'])"
   ]
  },
  {
   "cell_type": "markdown",
   "metadata": {},
   "source": [
    "### 25 Order Country"
   ]
  },
  {
   "cell_type": "code",
   "execution_count": 130,
   "metadata": {},
   "outputs": [],
   "source": [
    "df = pd.get_dummies(df,columns = ['Order Country'])"
   ]
  },
  {
   "cell_type": "code",
   "execution_count": 131,
   "metadata": {},
   "outputs": [
    {
     "name": "stdout",
     "output_type": "stream",
     "text": [
      "<class 'pandas.core.frame.DataFrame'>\n",
      "RangeIndex: 180519 entries, 0 to 180518\n",
      "Columns: 3812 entries, Type to Order Country_Zimbabue\n",
      "dtypes: float64(16), int64(17), object(18), uint8(3761)\n",
      "memory usage: 717.7+ MB\n"
     ]
    }
   ],
   "source": [
    "df.info()"
   ]
  },
  {
   "cell_type": "code",
   "execution_count": null,
   "metadata": {},
   "outputs": [],
   "source": []
  },
  {
   "cell_type": "code",
   "execution_count": 49,
   "metadata": {},
   "outputs": [
    {
     "name": "stdout",
     "output_type": "stream",
     "text": [
      "Python 3.10.0\n"
     ]
    }
   ],
   "source": [
    "!python --version"
   ]
  },
  {
   "cell_type": "code",
   "execution_count": 54,
   "metadata": {},
   "outputs": [
    {
     "name": "stdout",
     "output_type": "stream",
     "text": [
      "0.24.2\n"
     ]
    }
   ],
   "source": [
    "import sklearn\n",
    "print(sklearn.__version__)"
   ]
  },
  {
   "cell_type": "code",
   "execution_count": 56,
   "metadata": {},
   "outputs": [
    {
     "name": "stdout",
     "output_type": "stream",
     "text": [
      "1.5.4\n"
     ]
    }
   ],
   "source": [
    "import scipy\n",
    "print(scipy.__version__)"
   ]
  },
  {
   "cell_type": "code",
   "execution_count": 57,
   "metadata": {},
   "outputs": [
    {
     "name": "stdout",
     "output_type": "stream",
     "text": [
      "1.19.5\n"
     ]
    }
   ],
   "source": [
    "import numpy as np\n",
    "print(np.__version__)"
   ]
  },
  {
   "cell_type": "code",
   "execution_count": 58,
   "metadata": {},
   "outputs": [
    {
     "name": "stdout",
     "output_type": "stream",
     "text": [
      "1.1.5\n"
     ]
    }
   ],
   "source": [
    "import pandas as pd\n",
    "print(pd.__version__)"
   ]
  },
  {
   "cell_type": "code",
   "execution_count": 59,
   "metadata": {},
   "outputs": [
    {
     "name": "stdout",
     "output_type": "stream",
     "text": [
      "1.0.2\n"
     ]
    }
   ],
   "source": [
    "import flask\n",
    "print(flask.__version__)"
   ]
  },
  {
   "cell_type": "code",
   "execution_count": 61,
   "metadata": {},
   "outputs": [
    {
     "name": "stdout",
     "output_type": "stream",
     "text": [
      "0.9.0\n"
     ]
    }
   ],
   "source": [
    "import statsmodels\n",
    "print(statsmodels.__version__)"
   ]
  },
  {
   "cell_type": "code",
   "execution_count": null,
   "metadata": {},
   "outputs": [],
   "source": [
    "from sklearn.preprocessing import LabelEncoder\n",
    "\n",
    "# Initialize the LabelEncoder\n",
    "label_encoder = LabelEncoder()\n",
    "\n",
    "# Apply label encoding to the desired columns\n",
    "encoded_column1 = label_encoder.fit_transform(column1)\n",
    "encoded_column2 = label_encoder.fit_transform(column2)\n",
    "# Repeat this step for other columns you want to encode\n",
    "\n",
    "\n"
   ]
  },
  {
   "cell_type": "code",
   "execution_count": null,
   "metadata": {},
   "outputs": [],
   "source": [
    "from sklearn.preprocessing import LabelEncoder\n",
    "\n",
    "# Initialize the LabelEncoder\n",
    "label_encoder = LabelEncoder()\n",
    "\n",
    "# Apply label encoding to the desired columns\n",
    "encoded_column1 = label_encoder.fit_transform(column1)\n",
    "encoded_column2 = label_encoder.fit_transform(column2)\n",
    "# Repeat this step for other columns you want to encode\n",
    "Saurabh Bhoi10:07 PM\n",
    "import json\n",
    "\n",
    "# Read the label encoding mappings from the JSON file\n",
    "with open('label_encodings.json', 'r') as file:\n",
    "    label_encodings = json.load(file)"
   ]
  },
  {
   "cell_type": "code",
   "execution_count": null,
   "metadata": {},
   "outputs": [],
   "source": []
  }
 ],
 "metadata": {
  "kernelspec": {
   "display_name": "Python 3",
   "language": "python",
   "name": "python3"
  },
  "language_info": {
   "codemirror_mode": {
    "name": "ipython",
    "version": 3
   },
   "file_extension": ".py",
   "mimetype": "text/x-python",
   "name": "python",
   "nbconvert_exporter": "python",
   "pygments_lexer": "ipython3",
   "version": "3.6.5"
  }
 },
 "nbformat": 4,
 "nbformat_minor": 2
}
