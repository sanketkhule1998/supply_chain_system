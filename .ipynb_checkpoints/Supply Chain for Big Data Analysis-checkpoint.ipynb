{
 "cells": [
  {
   "cell_type": "code",
   "execution_count": 1083,
   "metadata": {},
   "outputs": [],
   "source": [
    "import numpy as np\n",
    "import pandas as pd\n",
    "\n",
    "import seaborn as sns\n",
    "import matplotlib.pyplot as plt\n",
    "from sklearn.preprocessing import LabelEncoder\n",
    "\n",
    "from sklearn.tree import DecisionTreeClassifier,plot_tree\n",
    "from sklearn.model_selection import train_test_split,GridSearchCV,RandomizedSearchCV\n",
    "\n",
    "from sklearn.ensemble import AdaBoostClassifier\n",
    "\n",
    "from sklearn.metrics import accuracy_score,classification_report,confusion_matrix\n",
    "\n",
    "import warnings\n",
    "warnings.filterwarnings(\"ignore\")\n",
    "\n"
   ]
  },
  {
   "cell_type": "code",
   "execution_count": 715,
   "metadata": {},
   "outputs": [
    {
     "data": {
      "text/html": [
       "<div>\n",
       "<style scoped>\n",
       "    .dataframe tbody tr th:only-of-type {\n",
       "        vertical-align: middle;\n",
       "    }\n",
       "\n",
       "    .dataframe tbody tr th {\n",
       "        vertical-align: top;\n",
       "    }\n",
       "\n",
       "    .dataframe thead th {\n",
       "        text-align: right;\n",
       "    }\n",
       "</style>\n",
       "<table border=\"1\" class=\"dataframe\">\n",
       "  <thead>\n",
       "    <tr style=\"text-align: right;\">\n",
       "      <th></th>\n",
       "      <th>Type</th>\n",
       "      <th>Days for shipping (real)</th>\n",
       "      <th>Days for shipment (scheduled)</th>\n",
       "      <th>Benefit per order</th>\n",
       "      <th>Sales per customer</th>\n",
       "      <th>Delivery Status</th>\n",
       "      <th>Late_delivery_risk</th>\n",
       "      <th>Category Id</th>\n",
       "      <th>Category Name</th>\n",
       "      <th>Customer City</th>\n",
       "      <th>...</th>\n",
       "      <th>Order Zipcode</th>\n",
       "      <th>Product Card Id</th>\n",
       "      <th>Product Category Id</th>\n",
       "      <th>Product Description</th>\n",
       "      <th>Product Image</th>\n",
       "      <th>Product Name</th>\n",
       "      <th>Product Price</th>\n",
       "      <th>Product Status</th>\n",
       "      <th>shipping date (DateOrders)</th>\n",
       "      <th>Shipping Mode</th>\n",
       "    </tr>\n",
       "  </thead>\n",
       "  <tbody>\n",
       "    <tr>\n",
       "      <th>0</th>\n",
       "      <td>DEBIT</td>\n",
       "      <td>3</td>\n",
       "      <td>4</td>\n",
       "      <td>91.250000</td>\n",
       "      <td>314.640015</td>\n",
       "      <td>Advance shipping</td>\n",
       "      <td>0</td>\n",
       "      <td>73</td>\n",
       "      <td>Sporting Goods</td>\n",
       "      <td>Caguas</td>\n",
       "      <td>...</td>\n",
       "      <td>NaN</td>\n",
       "      <td>1360</td>\n",
       "      <td>73</td>\n",
       "      <td>NaN</td>\n",
       "      <td>http://images.acmesports.sports/Smart+watch</td>\n",
       "      <td>Smart watch</td>\n",
       "      <td>327.750000</td>\n",
       "      <td>0</td>\n",
       "      <td>2/3/2018 22:56</td>\n",
       "      <td>Standard Class</td>\n",
       "    </tr>\n",
       "    <tr>\n",
       "      <th>1</th>\n",
       "      <td>TRANSFER</td>\n",
       "      <td>5</td>\n",
       "      <td>4</td>\n",
       "      <td>-249.089996</td>\n",
       "      <td>311.359985</td>\n",
       "      <td>Late delivery</td>\n",
       "      <td>1</td>\n",
       "      <td>73</td>\n",
       "      <td>Sporting Goods</td>\n",
       "      <td>Caguas</td>\n",
       "      <td>...</td>\n",
       "      <td>NaN</td>\n",
       "      <td>1360</td>\n",
       "      <td>73</td>\n",
       "      <td>NaN</td>\n",
       "      <td>http://images.acmesports.sports/Smart+watch</td>\n",
       "      <td>Smart watch</td>\n",
       "      <td>327.750000</td>\n",
       "      <td>0</td>\n",
       "      <td>1/18/2018 12:27</td>\n",
       "      <td>Standard Class</td>\n",
       "    </tr>\n",
       "    <tr>\n",
       "      <th>2</th>\n",
       "      <td>CASH</td>\n",
       "      <td>4</td>\n",
       "      <td>4</td>\n",
       "      <td>-247.779999</td>\n",
       "      <td>309.720001</td>\n",
       "      <td>Shipping on time</td>\n",
       "      <td>0</td>\n",
       "      <td>73</td>\n",
       "      <td>Sporting Goods</td>\n",
       "      <td>San Jose</td>\n",
       "      <td>...</td>\n",
       "      <td>NaN</td>\n",
       "      <td>1360</td>\n",
       "      <td>73</td>\n",
       "      <td>NaN</td>\n",
       "      <td>http://images.acmesports.sports/Smart+watch</td>\n",
       "      <td>Smart watch</td>\n",
       "      <td>327.750000</td>\n",
       "      <td>0</td>\n",
       "      <td>1/17/2018 12:06</td>\n",
       "      <td>Standard Class</td>\n",
       "    </tr>\n",
       "    <tr>\n",
       "      <th>3</th>\n",
       "      <td>DEBIT</td>\n",
       "      <td>3</td>\n",
       "      <td>4</td>\n",
       "      <td>22.860001</td>\n",
       "      <td>304.809998</td>\n",
       "      <td>Advance shipping</td>\n",
       "      <td>0</td>\n",
       "      <td>73</td>\n",
       "      <td>Sporting Goods</td>\n",
       "      <td>Los Angeles</td>\n",
       "      <td>...</td>\n",
       "      <td>NaN</td>\n",
       "      <td>1360</td>\n",
       "      <td>73</td>\n",
       "      <td>NaN</td>\n",
       "      <td>http://images.acmesports.sports/Smart+watch</td>\n",
       "      <td>Smart watch</td>\n",
       "      <td>327.750000</td>\n",
       "      <td>0</td>\n",
       "      <td>1/16/2018 11:45</td>\n",
       "      <td>Standard Class</td>\n",
       "    </tr>\n",
       "    <tr>\n",
       "      <th>4</th>\n",
       "      <td>PAYMENT</td>\n",
       "      <td>2</td>\n",
       "      <td>4</td>\n",
       "      <td>134.210007</td>\n",
       "      <td>298.250000</td>\n",
       "      <td>Advance shipping</td>\n",
       "      <td>0</td>\n",
       "      <td>73</td>\n",
       "      <td>Sporting Goods</td>\n",
       "      <td>Caguas</td>\n",
       "      <td>...</td>\n",
       "      <td>NaN</td>\n",
       "      <td>1360</td>\n",
       "      <td>73</td>\n",
       "      <td>NaN</td>\n",
       "      <td>http://images.acmesports.sports/Smart+watch</td>\n",
       "      <td>Smart watch</td>\n",
       "      <td>327.750000</td>\n",
       "      <td>0</td>\n",
       "      <td>1/15/2018 11:24</td>\n",
       "      <td>Standard Class</td>\n",
       "    </tr>\n",
       "    <tr>\n",
       "      <th>...</th>\n",
       "      <td>...</td>\n",
       "      <td>...</td>\n",
       "      <td>...</td>\n",
       "      <td>...</td>\n",
       "      <td>...</td>\n",
       "      <td>...</td>\n",
       "      <td>...</td>\n",
       "      <td>...</td>\n",
       "      <td>...</td>\n",
       "      <td>...</td>\n",
       "      <td>...</td>\n",
       "      <td>...</td>\n",
       "      <td>...</td>\n",
       "      <td>...</td>\n",
       "      <td>...</td>\n",
       "      <td>...</td>\n",
       "      <td>...</td>\n",
       "      <td>...</td>\n",
       "      <td>...</td>\n",
       "      <td>...</td>\n",
       "      <td>...</td>\n",
       "    </tr>\n",
       "    <tr>\n",
       "      <th>180514</th>\n",
       "      <td>CASH</td>\n",
       "      <td>4</td>\n",
       "      <td>4</td>\n",
       "      <td>40.000000</td>\n",
       "      <td>399.980011</td>\n",
       "      <td>Shipping on time</td>\n",
       "      <td>0</td>\n",
       "      <td>45</td>\n",
       "      <td>Fishing</td>\n",
       "      <td>Brooklyn</td>\n",
       "      <td>...</td>\n",
       "      <td>NaN</td>\n",
       "      <td>1004</td>\n",
       "      <td>45</td>\n",
       "      <td>NaN</td>\n",
       "      <td>http://images.acmesports.sports/Field+%26+Stre...</td>\n",
       "      <td>Field &amp; Stream Sportsman 16 Gun Fire Safe</td>\n",
       "      <td>399.980011</td>\n",
       "      <td>0</td>\n",
       "      <td>1/20/2016 3:40</td>\n",
       "      <td>Standard Class</td>\n",
       "    </tr>\n",
       "    <tr>\n",
       "      <th>180515</th>\n",
       "      <td>DEBIT</td>\n",
       "      <td>3</td>\n",
       "      <td>2</td>\n",
       "      <td>-613.770019</td>\n",
       "      <td>395.980011</td>\n",
       "      <td>Late delivery</td>\n",
       "      <td>1</td>\n",
       "      <td>45</td>\n",
       "      <td>Fishing</td>\n",
       "      <td>Bakersfield</td>\n",
       "      <td>...</td>\n",
       "      <td>NaN</td>\n",
       "      <td>1004</td>\n",
       "      <td>45</td>\n",
       "      <td>NaN</td>\n",
       "      <td>http://images.acmesports.sports/Field+%26+Stre...</td>\n",
       "      <td>Field &amp; Stream Sportsman 16 Gun Fire Safe</td>\n",
       "      <td>399.980011</td>\n",
       "      <td>0</td>\n",
       "      <td>1/19/2016 1:34</td>\n",
       "      <td>Second Class</td>\n",
       "    </tr>\n",
       "    <tr>\n",
       "      <th>180516</th>\n",
       "      <td>TRANSFER</td>\n",
       "      <td>5</td>\n",
       "      <td>4</td>\n",
       "      <td>141.110001</td>\n",
       "      <td>391.980011</td>\n",
       "      <td>Late delivery</td>\n",
       "      <td>1</td>\n",
       "      <td>45</td>\n",
       "      <td>Fishing</td>\n",
       "      <td>Bristol</td>\n",
       "      <td>...</td>\n",
       "      <td>NaN</td>\n",
       "      <td>1004</td>\n",
       "      <td>45</td>\n",
       "      <td>NaN</td>\n",
       "      <td>http://images.acmesports.sports/Field+%26+Stre...</td>\n",
       "      <td>Field &amp; Stream Sportsman 16 Gun Fire Safe</td>\n",
       "      <td>399.980011</td>\n",
       "      <td>0</td>\n",
       "      <td>1/20/2016 21:00</td>\n",
       "      <td>Standard Class</td>\n",
       "    </tr>\n",
       "    <tr>\n",
       "      <th>180517</th>\n",
       "      <td>PAYMENT</td>\n",
       "      <td>3</td>\n",
       "      <td>4</td>\n",
       "      <td>186.229996</td>\n",
       "      <td>387.980011</td>\n",
       "      <td>Advance shipping</td>\n",
       "      <td>0</td>\n",
       "      <td>45</td>\n",
       "      <td>Fishing</td>\n",
       "      <td>Caguas</td>\n",
       "      <td>...</td>\n",
       "      <td>NaN</td>\n",
       "      <td>1004</td>\n",
       "      <td>45</td>\n",
       "      <td>NaN</td>\n",
       "      <td>http://images.acmesports.sports/Field+%26+Stre...</td>\n",
       "      <td>Field &amp; Stream Sportsman 16 Gun Fire Safe</td>\n",
       "      <td>399.980011</td>\n",
       "      <td>0</td>\n",
       "      <td>1/18/2016 20:18</td>\n",
       "      <td>Standard Class</td>\n",
       "    </tr>\n",
       "    <tr>\n",
       "      <th>180518</th>\n",
       "      <td>PAYMENT</td>\n",
       "      <td>4</td>\n",
       "      <td>4</td>\n",
       "      <td>168.949997</td>\n",
       "      <td>383.980011</td>\n",
       "      <td>Shipping on time</td>\n",
       "      <td>0</td>\n",
       "      <td>45</td>\n",
       "      <td>Fishing</td>\n",
       "      <td>Caguas</td>\n",
       "      <td>...</td>\n",
       "      <td>NaN</td>\n",
       "      <td>1004</td>\n",
       "      <td>45</td>\n",
       "      <td>NaN</td>\n",
       "      <td>http://images.acmesports.sports/Field+%26+Stre...</td>\n",
       "      <td>Field &amp; Stream Sportsman 16 Gun Fire Safe</td>\n",
       "      <td>399.980011</td>\n",
       "      <td>0</td>\n",
       "      <td>1/19/2016 18:54</td>\n",
       "      <td>Standard Class</td>\n",
       "    </tr>\n",
       "  </tbody>\n",
       "</table>\n",
       "<p>180519 rows × 53 columns</p>\n",
       "</div>"
      ],
      "text/plain": [
       "            Type  Days for shipping (real)  Days for shipment (scheduled)  \\\n",
       "0          DEBIT                         3                              4   \n",
       "1       TRANSFER                         5                              4   \n",
       "2           CASH                         4                              4   \n",
       "3          DEBIT                         3                              4   \n",
       "4        PAYMENT                         2                              4   \n",
       "...          ...                       ...                            ...   \n",
       "180514      CASH                         4                              4   \n",
       "180515     DEBIT                         3                              2   \n",
       "180516  TRANSFER                         5                              4   \n",
       "180517   PAYMENT                         3                              4   \n",
       "180518   PAYMENT                         4                              4   \n",
       "\n",
       "        Benefit per order  Sales per customer   Delivery Status  \\\n",
       "0               91.250000          314.640015  Advance shipping   \n",
       "1             -249.089996          311.359985     Late delivery   \n",
       "2             -247.779999          309.720001  Shipping on time   \n",
       "3               22.860001          304.809998  Advance shipping   \n",
       "4              134.210007          298.250000  Advance shipping   \n",
       "...                   ...                 ...               ...   \n",
       "180514          40.000000          399.980011  Shipping on time   \n",
       "180515        -613.770019          395.980011     Late delivery   \n",
       "180516         141.110001          391.980011     Late delivery   \n",
       "180517         186.229996          387.980011  Advance shipping   \n",
       "180518         168.949997          383.980011  Shipping on time   \n",
       "\n",
       "        Late_delivery_risk  Category Id   Category Name Customer City  ...  \\\n",
       "0                        0           73  Sporting Goods        Caguas  ...   \n",
       "1                        1           73  Sporting Goods        Caguas  ...   \n",
       "2                        0           73  Sporting Goods      San Jose  ...   \n",
       "3                        0           73  Sporting Goods   Los Angeles  ...   \n",
       "4                        0           73  Sporting Goods        Caguas  ...   \n",
       "...                    ...          ...             ...           ...  ...   \n",
       "180514                   0           45         Fishing      Brooklyn  ...   \n",
       "180515                   1           45         Fishing   Bakersfield  ...   \n",
       "180516                   1           45         Fishing       Bristol  ...   \n",
       "180517                   0           45         Fishing        Caguas  ...   \n",
       "180518                   0           45         Fishing        Caguas  ...   \n",
       "\n",
       "       Order Zipcode Product Card Id Product Category Id  Product Description  \\\n",
       "0                NaN            1360                  73                  NaN   \n",
       "1                NaN            1360                  73                  NaN   \n",
       "2                NaN            1360                  73                  NaN   \n",
       "3                NaN            1360                  73                  NaN   \n",
       "4                NaN            1360                  73                  NaN   \n",
       "...              ...             ...                 ...                  ...   \n",
       "180514           NaN            1004                  45                  NaN   \n",
       "180515           NaN            1004                  45                  NaN   \n",
       "180516           NaN            1004                  45                  NaN   \n",
       "180517           NaN            1004                  45                  NaN   \n",
       "180518           NaN            1004                  45                  NaN   \n",
       "\n",
       "                                            Product Image  \\\n",
       "0            http://images.acmesports.sports/Smart+watch    \n",
       "1            http://images.acmesports.sports/Smart+watch    \n",
       "2            http://images.acmesports.sports/Smart+watch    \n",
       "3            http://images.acmesports.sports/Smart+watch    \n",
       "4            http://images.acmesports.sports/Smart+watch    \n",
       "...                                                   ...   \n",
       "180514  http://images.acmesports.sports/Field+%26+Stre...   \n",
       "180515  http://images.acmesports.sports/Field+%26+Stre...   \n",
       "180516  http://images.acmesports.sports/Field+%26+Stre...   \n",
       "180517  http://images.acmesports.sports/Field+%26+Stre...   \n",
       "180518  http://images.acmesports.sports/Field+%26+Stre...   \n",
       "\n",
       "                                     Product Name Product Price  \\\n",
       "0                                    Smart watch     327.750000   \n",
       "1                                    Smart watch     327.750000   \n",
       "2                                    Smart watch     327.750000   \n",
       "3                                    Smart watch     327.750000   \n",
       "4                                    Smart watch     327.750000   \n",
       "...                                           ...           ...   \n",
       "180514  Field & Stream Sportsman 16 Gun Fire Safe    399.980011   \n",
       "180515  Field & Stream Sportsman 16 Gun Fire Safe    399.980011   \n",
       "180516  Field & Stream Sportsman 16 Gun Fire Safe    399.980011   \n",
       "180517  Field & Stream Sportsman 16 Gun Fire Safe    399.980011   \n",
       "180518  Field & Stream Sportsman 16 Gun Fire Safe    399.980011   \n",
       "\n",
       "       Product Status shipping date (DateOrders)   Shipping Mode  \n",
       "0                   0             2/3/2018 22:56  Standard Class  \n",
       "1                   0            1/18/2018 12:27  Standard Class  \n",
       "2                   0            1/17/2018 12:06  Standard Class  \n",
       "3                   0            1/16/2018 11:45  Standard Class  \n",
       "4                   0            1/15/2018 11:24  Standard Class  \n",
       "...               ...                        ...             ...  \n",
       "180514              0             1/20/2016 3:40  Standard Class  \n",
       "180515              0             1/19/2016 1:34    Second Class  \n",
       "180516              0            1/20/2016 21:00  Standard Class  \n",
       "180517              0            1/18/2016 20:18  Standard Class  \n",
       "180518              0            1/19/2016 18:54  Standard Class  \n",
       "\n",
       "[180519 rows x 53 columns]"
      ]
     },
     "execution_count": 715,
     "metadata": {},
     "output_type": "execute_result"
    }
   ],
   "source": [
    "df= pd.read_csv(\"supply_chain_dataset.csv\", encoding='latin-1')\n",
    "df"
   ]
  },
  {
   "cell_type": "markdown",
   "metadata": {},
   "source": [
    "### Exploratory Data Analysis"
   ]
  },
  {
   "cell_type": "markdown",
   "metadata": {},
   "source": [
    "### Dataframe Information"
   ]
  },
  {
   "cell_type": "code",
   "execution_count": 716,
   "metadata": {
    "scrolled": false
   },
   "outputs": [
    {
     "name": "stdout",
     "output_type": "stream",
     "text": [
      "<class 'pandas.core.frame.DataFrame'>\n",
      "RangeIndex: 180519 entries, 0 to 180518\n",
      "Data columns (total 53 columns):\n",
      " #   Column                         Non-Null Count   Dtype  \n",
      "---  ------                         --------------   -----  \n",
      " 0   Type                           180519 non-null  object \n",
      " 1   Days for shipping (real)       180519 non-null  int64  \n",
      " 2   Days for shipment (scheduled)  180519 non-null  int64  \n",
      " 3   Benefit per order              180519 non-null  float64\n",
      " 4   Sales per customer             180519 non-null  float64\n",
      " 5   Delivery Status                180519 non-null  object \n",
      " 6   Late_delivery_risk             180519 non-null  int64  \n",
      " 7   Category Id                    180519 non-null  int64  \n",
      " 8   Category Name                  180519 non-null  object \n",
      " 9   Customer City                  180519 non-null  object \n",
      " 10  Customer Country               180519 non-null  object \n",
      " 11  Customer Email                 180519 non-null  object \n",
      " 12  Customer Fname                 180519 non-null  object \n",
      " 13  Customer Id                    180519 non-null  int64  \n",
      " 14  Customer Lname                 180511 non-null  object \n",
      " 15  Customer Password              180519 non-null  object \n",
      " 16  Customer Segment               180519 non-null  object \n",
      " 17  Customer State                 180519 non-null  object \n",
      " 18  Customer Street                180519 non-null  object \n",
      " 19  Customer Zipcode               180516 non-null  float64\n",
      " 20  Department Id                  180519 non-null  int64  \n",
      " 21  Department Name                180519 non-null  object \n",
      " 22  Latitude                       180519 non-null  float64\n",
      " 23  Longitude                      180519 non-null  float64\n",
      " 24  Market                         180519 non-null  object \n",
      " 25  Order City                     180519 non-null  object \n",
      " 26  Order Country                  180519 non-null  object \n",
      " 27  Order Customer Id              180519 non-null  int64  \n",
      " 28  order date (DateOrders)        180519 non-null  object \n",
      " 29  Order Id                       180519 non-null  int64  \n",
      " 30  Order Item Cardprod Id         180519 non-null  int64  \n",
      " 31  Order Item Discount            180519 non-null  float64\n",
      " 32  Order Item Discount Rate       180519 non-null  float64\n",
      " 33  Order Item Id                  180519 non-null  int64  \n",
      " 34  Order Item Product Price       180519 non-null  float64\n",
      " 35  Order Item Profit Ratio        180519 non-null  float64\n",
      " 36  Order Item Quantity            180519 non-null  int64  \n",
      " 37  Sales                          180519 non-null  float64\n",
      " 38  Order Item Total               180519 non-null  float64\n",
      " 39  Order Profit Per Order         180519 non-null  float64\n",
      " 40  Order Region                   180519 non-null  object \n",
      " 41  Order State                    180519 non-null  object \n",
      " 42  Order Status                   180519 non-null  object \n",
      " 43  Order Zipcode                  24840 non-null   float64\n",
      " 44  Product Card Id                180519 non-null  int64  \n",
      " 45  Product Category Id            180519 non-null  int64  \n",
      " 46  Product Description            0 non-null       float64\n",
      " 47  Product Image                  180519 non-null  object \n",
      " 48  Product Name                   180519 non-null  object \n",
      " 49  Product Price                  180519 non-null  float64\n",
      " 50  Product Status                 180519 non-null  int64  \n",
      " 51  shipping date (DateOrders)     180519 non-null  object \n",
      " 52  Shipping Mode                  180519 non-null  object \n",
      "dtypes: float64(15), int64(14), object(24)\n",
      "memory usage: 73.0+ MB\n"
     ]
    }
   ],
   "source": [
    "df.info()"
   ]
  },
  {
   "cell_type": "markdown",
   "metadata": {},
   "source": [
    "### Statastical Information"
   ]
  },
  {
   "cell_type": "code",
   "execution_count": 717,
   "metadata": {
    "scrolled": true
   },
   "outputs": [
    {
     "data": {
      "text/html": [
       "<div>\n",
       "<style scoped>\n",
       "    .dataframe tbody tr th:only-of-type {\n",
       "        vertical-align: middle;\n",
       "    }\n",
       "\n",
       "    .dataframe tbody tr th {\n",
       "        vertical-align: top;\n",
       "    }\n",
       "\n",
       "    .dataframe thead th {\n",
       "        text-align: right;\n",
       "    }\n",
       "</style>\n",
       "<table border=\"1\" class=\"dataframe\">\n",
       "  <thead>\n",
       "    <tr style=\"text-align: right;\">\n",
       "      <th></th>\n",
       "      <th>Days for shipping (real)</th>\n",
       "      <th>Days for shipment (scheduled)</th>\n",
       "      <th>Benefit per order</th>\n",
       "      <th>Sales per customer</th>\n",
       "      <th>Late_delivery_risk</th>\n",
       "      <th>Category Id</th>\n",
       "      <th>Customer Id</th>\n",
       "      <th>Customer Zipcode</th>\n",
       "      <th>Department Id</th>\n",
       "      <th>Latitude</th>\n",
       "      <th>...</th>\n",
       "      <th>Order Item Quantity</th>\n",
       "      <th>Sales</th>\n",
       "      <th>Order Item Total</th>\n",
       "      <th>Order Profit Per Order</th>\n",
       "      <th>Order Zipcode</th>\n",
       "      <th>Product Card Id</th>\n",
       "      <th>Product Category Id</th>\n",
       "      <th>Product Description</th>\n",
       "      <th>Product Price</th>\n",
       "      <th>Product Status</th>\n",
       "    </tr>\n",
       "  </thead>\n",
       "  <tbody>\n",
       "    <tr>\n",
       "      <th>count</th>\n",
       "      <td>180519.000000</td>\n",
       "      <td>180519.000000</td>\n",
       "      <td>180519.000000</td>\n",
       "      <td>180519.000000</td>\n",
       "      <td>180519.000000</td>\n",
       "      <td>180519.000000</td>\n",
       "      <td>180519.000000</td>\n",
       "      <td>180516.000000</td>\n",
       "      <td>180519.000000</td>\n",
       "      <td>180519.000000</td>\n",
       "      <td>...</td>\n",
       "      <td>180519.000000</td>\n",
       "      <td>180519.000000</td>\n",
       "      <td>180519.000000</td>\n",
       "      <td>180519.000000</td>\n",
       "      <td>24840.000000</td>\n",
       "      <td>180519.000000</td>\n",
       "      <td>180519.000000</td>\n",
       "      <td>0.0</td>\n",
       "      <td>180519.000000</td>\n",
       "      <td>180519.0</td>\n",
       "    </tr>\n",
       "    <tr>\n",
       "      <th>mean</th>\n",
       "      <td>3.497654</td>\n",
       "      <td>2.931847</td>\n",
       "      <td>21.974989</td>\n",
       "      <td>183.107609</td>\n",
       "      <td>0.548291</td>\n",
       "      <td>31.851451</td>\n",
       "      <td>6691.379495</td>\n",
       "      <td>35921.126914</td>\n",
       "      <td>5.443460</td>\n",
       "      <td>29.719955</td>\n",
       "      <td>...</td>\n",
       "      <td>2.127638</td>\n",
       "      <td>203.772096</td>\n",
       "      <td>183.107609</td>\n",
       "      <td>21.974989</td>\n",
       "      <td>55426.132327</td>\n",
       "      <td>692.509764</td>\n",
       "      <td>31.851451</td>\n",
       "      <td>NaN</td>\n",
       "      <td>141.232550</td>\n",
       "      <td>0.0</td>\n",
       "    </tr>\n",
       "    <tr>\n",
       "      <th>std</th>\n",
       "      <td>1.623722</td>\n",
       "      <td>1.374449</td>\n",
       "      <td>104.433526</td>\n",
       "      <td>120.043670</td>\n",
       "      <td>0.497664</td>\n",
       "      <td>15.640064</td>\n",
       "      <td>4162.918106</td>\n",
       "      <td>37542.461122</td>\n",
       "      <td>1.629246</td>\n",
       "      <td>9.813646</td>\n",
       "      <td>...</td>\n",
       "      <td>1.453451</td>\n",
       "      <td>132.273077</td>\n",
       "      <td>120.043670</td>\n",
       "      <td>104.433526</td>\n",
       "      <td>31919.279101</td>\n",
       "      <td>336.446807</td>\n",
       "      <td>15.640064</td>\n",
       "      <td>NaN</td>\n",
       "      <td>139.732492</td>\n",
       "      <td>0.0</td>\n",
       "    </tr>\n",
       "    <tr>\n",
       "      <th>min</th>\n",
       "      <td>0.000000</td>\n",
       "      <td>0.000000</td>\n",
       "      <td>-4274.979980</td>\n",
       "      <td>7.490000</td>\n",
       "      <td>0.000000</td>\n",
       "      <td>2.000000</td>\n",
       "      <td>1.000000</td>\n",
       "      <td>603.000000</td>\n",
       "      <td>2.000000</td>\n",
       "      <td>-33.937553</td>\n",
       "      <td>...</td>\n",
       "      <td>1.000000</td>\n",
       "      <td>9.990000</td>\n",
       "      <td>7.490000</td>\n",
       "      <td>-4274.979980</td>\n",
       "      <td>1040.000000</td>\n",
       "      <td>19.000000</td>\n",
       "      <td>2.000000</td>\n",
       "      <td>NaN</td>\n",
       "      <td>9.990000</td>\n",
       "      <td>0.0</td>\n",
       "    </tr>\n",
       "    <tr>\n",
       "      <th>25%</th>\n",
       "      <td>2.000000</td>\n",
       "      <td>2.000000</td>\n",
       "      <td>7.000000</td>\n",
       "      <td>104.379997</td>\n",
       "      <td>0.000000</td>\n",
       "      <td>18.000000</td>\n",
       "      <td>3258.500000</td>\n",
       "      <td>725.000000</td>\n",
       "      <td>4.000000</td>\n",
       "      <td>18.265432</td>\n",
       "      <td>...</td>\n",
       "      <td>1.000000</td>\n",
       "      <td>119.980003</td>\n",
       "      <td>104.379997</td>\n",
       "      <td>7.000000</td>\n",
       "      <td>23464.000000</td>\n",
       "      <td>403.000000</td>\n",
       "      <td>18.000000</td>\n",
       "      <td>NaN</td>\n",
       "      <td>50.000000</td>\n",
       "      <td>0.0</td>\n",
       "    </tr>\n",
       "    <tr>\n",
       "      <th>50%</th>\n",
       "      <td>3.000000</td>\n",
       "      <td>4.000000</td>\n",
       "      <td>31.520000</td>\n",
       "      <td>163.990005</td>\n",
       "      <td>1.000000</td>\n",
       "      <td>29.000000</td>\n",
       "      <td>6457.000000</td>\n",
       "      <td>19380.000000</td>\n",
       "      <td>5.000000</td>\n",
       "      <td>33.144863</td>\n",
       "      <td>...</td>\n",
       "      <td>1.000000</td>\n",
       "      <td>199.919998</td>\n",
       "      <td>163.990005</td>\n",
       "      <td>31.520000</td>\n",
       "      <td>59405.000000</td>\n",
       "      <td>627.000000</td>\n",
       "      <td>29.000000</td>\n",
       "      <td>NaN</td>\n",
       "      <td>59.990002</td>\n",
       "      <td>0.0</td>\n",
       "    </tr>\n",
       "    <tr>\n",
       "      <th>75%</th>\n",
       "      <td>5.000000</td>\n",
       "      <td>4.000000</td>\n",
       "      <td>64.800003</td>\n",
       "      <td>247.399994</td>\n",
       "      <td>1.000000</td>\n",
       "      <td>45.000000</td>\n",
       "      <td>9779.000000</td>\n",
       "      <td>78207.000000</td>\n",
       "      <td>7.000000</td>\n",
       "      <td>39.279617</td>\n",
       "      <td>...</td>\n",
       "      <td>3.000000</td>\n",
       "      <td>299.950012</td>\n",
       "      <td>247.399994</td>\n",
       "      <td>64.800003</td>\n",
       "      <td>90008.000000</td>\n",
       "      <td>1004.000000</td>\n",
       "      <td>45.000000</td>\n",
       "      <td>NaN</td>\n",
       "      <td>199.990005</td>\n",
       "      <td>0.0</td>\n",
       "    </tr>\n",
       "    <tr>\n",
       "      <th>max</th>\n",
       "      <td>6.000000</td>\n",
       "      <td>4.000000</td>\n",
       "      <td>911.799988</td>\n",
       "      <td>1939.989990</td>\n",
       "      <td>1.000000</td>\n",
       "      <td>76.000000</td>\n",
       "      <td>20757.000000</td>\n",
       "      <td>99205.000000</td>\n",
       "      <td>12.000000</td>\n",
       "      <td>48.781933</td>\n",
       "      <td>...</td>\n",
       "      <td>5.000000</td>\n",
       "      <td>1999.989990</td>\n",
       "      <td>1939.989990</td>\n",
       "      <td>911.799988</td>\n",
       "      <td>99301.000000</td>\n",
       "      <td>1363.000000</td>\n",
       "      <td>76.000000</td>\n",
       "      <td>NaN</td>\n",
       "      <td>1999.989990</td>\n",
       "      <td>0.0</td>\n",
       "    </tr>\n",
       "  </tbody>\n",
       "</table>\n",
       "<p>8 rows × 29 columns</p>\n",
       "</div>"
      ],
      "text/plain": [
       "       Days for shipping (real)  Days for shipment (scheduled)  \\\n",
       "count             180519.000000                  180519.000000   \n",
       "mean                   3.497654                       2.931847   \n",
       "std                    1.623722                       1.374449   \n",
       "min                    0.000000                       0.000000   \n",
       "25%                    2.000000                       2.000000   \n",
       "50%                    3.000000                       4.000000   \n",
       "75%                    5.000000                       4.000000   \n",
       "max                    6.000000                       4.000000   \n",
       "\n",
       "       Benefit per order  Sales per customer  Late_delivery_risk  \\\n",
       "count      180519.000000       180519.000000       180519.000000   \n",
       "mean           21.974989          183.107609            0.548291   \n",
       "std           104.433526          120.043670            0.497664   \n",
       "min         -4274.979980            7.490000            0.000000   \n",
       "25%             7.000000          104.379997            0.000000   \n",
       "50%            31.520000          163.990005            1.000000   \n",
       "75%            64.800003          247.399994            1.000000   \n",
       "max           911.799988         1939.989990            1.000000   \n",
       "\n",
       "         Category Id    Customer Id  Customer Zipcode  Department Id  \\\n",
       "count  180519.000000  180519.000000     180516.000000  180519.000000   \n",
       "mean       31.851451    6691.379495      35921.126914       5.443460   \n",
       "std        15.640064    4162.918106      37542.461122       1.629246   \n",
       "min         2.000000       1.000000        603.000000       2.000000   \n",
       "25%        18.000000    3258.500000        725.000000       4.000000   \n",
       "50%        29.000000    6457.000000      19380.000000       5.000000   \n",
       "75%        45.000000    9779.000000      78207.000000       7.000000   \n",
       "max        76.000000   20757.000000      99205.000000      12.000000   \n",
       "\n",
       "            Latitude  ...  Order Item Quantity          Sales  \\\n",
       "count  180519.000000  ...        180519.000000  180519.000000   \n",
       "mean       29.719955  ...             2.127638     203.772096   \n",
       "std         9.813646  ...             1.453451     132.273077   \n",
       "min       -33.937553  ...             1.000000       9.990000   \n",
       "25%        18.265432  ...             1.000000     119.980003   \n",
       "50%        33.144863  ...             1.000000     199.919998   \n",
       "75%        39.279617  ...             3.000000     299.950012   \n",
       "max        48.781933  ...             5.000000    1999.989990   \n",
       "\n",
       "       Order Item Total  Order Profit Per Order  Order Zipcode  \\\n",
       "count     180519.000000           180519.000000   24840.000000   \n",
       "mean         183.107609               21.974989   55426.132327   \n",
       "std          120.043670              104.433526   31919.279101   \n",
       "min            7.490000            -4274.979980    1040.000000   \n",
       "25%          104.379997                7.000000   23464.000000   \n",
       "50%          163.990005               31.520000   59405.000000   \n",
       "75%          247.399994               64.800003   90008.000000   \n",
       "max         1939.989990              911.799988   99301.000000   \n",
       "\n",
       "       Product Card Id  Product Category Id  Product Description  \\\n",
       "count    180519.000000        180519.000000                  0.0   \n",
       "mean        692.509764            31.851451                  NaN   \n",
       "std         336.446807            15.640064                  NaN   \n",
       "min          19.000000             2.000000                  NaN   \n",
       "25%         403.000000            18.000000                  NaN   \n",
       "50%         627.000000            29.000000                  NaN   \n",
       "75%        1004.000000            45.000000                  NaN   \n",
       "max        1363.000000            76.000000                  NaN   \n",
       "\n",
       "       Product Price  Product Status  \n",
       "count  180519.000000        180519.0  \n",
       "mean      141.232550             0.0  \n",
       "std       139.732492             0.0  \n",
       "min         9.990000             0.0  \n",
       "25%        50.000000             0.0  \n",
       "50%        59.990002             0.0  \n",
       "75%       199.990005             0.0  \n",
       "max      1999.989990             0.0  \n",
       "\n",
       "[8 rows x 29 columns]"
      ]
     },
     "execution_count": 717,
     "metadata": {},
     "output_type": "execute_result"
    }
   ],
   "source": [
    "df.describe()"
   ]
  },
  {
   "cell_type": "markdown",
   "metadata": {},
   "source": [
    "### Missing Values Information"
   ]
  },
  {
   "cell_type": "code",
   "execution_count": 718,
   "metadata": {},
   "outputs": [
    {
     "data": {
      "text/plain": [
       "Type                                  0\n",
       "Days for shipping (real)              0\n",
       "Days for shipment (scheduled)         0\n",
       "Benefit per order                     0\n",
       "Sales per customer                    0\n",
       "Delivery Status                       0\n",
       "Late_delivery_risk                    0\n",
       "Category Id                           0\n",
       "Category Name                         0\n",
       "Customer City                         0\n",
       "Customer Country                      0\n",
       "Customer Email                        0\n",
       "Customer Fname                        0\n",
       "Customer Id                           0\n",
       "Customer Lname                        8\n",
       "Customer Password                     0\n",
       "Customer Segment                      0\n",
       "Customer State                        0\n",
       "Customer Street                       0\n",
       "Customer Zipcode                      3\n",
       "Department Id                         0\n",
       "Department Name                       0\n",
       "Latitude                              0\n",
       "Longitude                             0\n",
       "Market                                0\n",
       "Order City                            0\n",
       "Order Country                         0\n",
       "Order Customer Id                     0\n",
       "order date (DateOrders)               0\n",
       "Order Id                              0\n",
       "Order Item Cardprod Id                0\n",
       "Order Item Discount                   0\n",
       "Order Item Discount Rate              0\n",
       "Order Item Id                         0\n",
       "Order Item Product Price              0\n",
       "Order Item Profit Ratio               0\n",
       "Order Item Quantity                   0\n",
       "Sales                                 0\n",
       "Order Item Total                      0\n",
       "Order Profit Per Order                0\n",
       "Order Region                          0\n",
       "Order State                           0\n",
       "Order Status                          0\n",
       "Order Zipcode                    155679\n",
       "Product Card Id                       0\n",
       "Product Category Id                   0\n",
       "Product Description              180519\n",
       "Product Image                         0\n",
       "Product Name                          0\n",
       "Product Price                         0\n",
       "Product Status                        0\n",
       "shipping date (DateOrders)            0\n",
       "Shipping Mode                         0\n",
       "dtype: int64"
      ]
     },
     "execution_count": 718,
     "metadata": {},
     "output_type": "execute_result"
    }
   ],
   "source": [
    "df.isna().sum()"
   ]
  },
  {
   "cell_type": "markdown",
   "metadata": {},
   "source": [
    "### Outliers Information"
   ]
  },
  {
   "cell_type": "code",
   "execution_count": 719,
   "metadata": {},
   "outputs": [
    {
     "data": {
      "text/plain": [
       "<AxesSubplot:>"
      ]
     },
     "execution_count": 719,
     "metadata": {},
     "output_type": "execute_result"
    },
    {
     "data": {
      "image/png": "[encoded data removed]",
      "text/plain": [
       "<Figure size 432x288 with 1 Axes>"
      ]
     },
     "metadata": {},
     "output_type": "display_data"
    }
   ],
   "source": [
    "df.boxplot()"
   ]
  },
  {
   "cell_type": "code",
   "execution_count": null,
   "metadata": {},
   "outputs": [],
   "source": []
  },
  {
   "cell_type": "markdown",
   "metadata": {},
   "source": [
    "### Columns Information"
   ]
  },
  {
   "cell_type": "code",
   "execution_count": 720,
   "metadata": {
    "scrolled": false
   },
   "outputs": [
    {
     "data": {
      "text/plain": [
       "Index(['Type', 'Days for shipping (real)', 'Days for shipment (scheduled)',\n",
       "       'Benefit per order', 'Sales per customer', 'Delivery Status',\n",
       "       'Late_delivery_risk', 'Category Id', 'Category Name', 'Customer City',\n",
       "       'Customer Country', 'Customer Email', 'Customer Fname', 'Customer Id',\n",
       "       'Customer Lname', 'Customer Password', 'Customer Segment',\n",
       "       'Customer State', 'Customer Street', 'Customer Zipcode',\n",
       "       'Department Id', 'Department Name', 'Latitude', 'Longitude', 'Market',\n",
       "       'Order City', 'Order Country', 'Order Customer Id',\n",
       "       'order date (DateOrders)', 'Order Id', 'Order Item Cardprod Id',\n",
       "       'Order Item Discount', 'Order Item Discount Rate', 'Order Item Id',\n",
       "       'Order Item Product Price', 'Order Item Profit Ratio',\n",
       "       'Order Item Quantity', 'Sales', 'Order Item Total',\n",
       "       'Order Profit Per Order', 'Order Region', 'Order State', 'Order Status',\n",
       "       'Order Zipcode', 'Product Card Id', 'Product Category Id',\n",
       "       'Product Description', 'Product Image', 'Product Name', 'Product Price',\n",
       "       'Product Status', 'shipping date (DateOrders)', 'Shipping Mode'],\n",
       "      dtype='object')"
      ]
     },
     "execution_count": 720,
     "metadata": {},
     "output_type": "execute_result"
    }
   ],
   "source": [
    "df.columns"
   ]
  },
  {
   "cell_type": "markdown",
   "metadata": {},
   "source": [
    "### Type"
   ]
  },
  {
   "cell_type": "code",
   "execution_count": 721,
   "metadata": {},
   "outputs": [
    {
     "data": {
      "text/plain": [
       "DEBIT       69295\n",
       "TRANSFER    49883\n",
       "PAYMENT     41725\n",
       "CASH        19616\n",
       "Name: Type, dtype: int64"
      ]
     },
     "execution_count": 721,
     "metadata": {},
     "output_type": "execute_result"
    }
   ],
   "source": [
    "df[\"Type\"].value_counts()"
   ]
  },
  {
   "cell_type": "markdown",
   "metadata": {},
   "source": [
    "### Days for shipping (real)"
   ]
  },
  {
   "cell_type": "code",
   "execution_count": 722,
   "metadata": {
    "scrolled": true
   },
   "outputs": [
    {
     "data": {
      "text/plain": [
       "2    56618\n",
       "3    28765\n",
       "6    28723\n",
       "4    28513\n",
       "5    28163\n",
       "0     5080\n",
       "1     4657\n",
       "Name: Days for shipping (real), dtype: int64"
      ]
     },
     "execution_count": 722,
     "metadata": {},
     "output_type": "execute_result"
    }
   ],
   "source": [
    "df[\"Days for shipping (real)\"].value_counts()"
   ]
  },
  {
   "cell_type": "markdown",
   "metadata": {},
   "source": [
    "### Days for shipment (scheduled)"
   ]
  },
  {
   "cell_type": "code",
   "execution_count": 723,
   "metadata": {
    "scrolled": true
   },
   "outputs": [
    {
     "data": {
      "text/plain": [
       "4    107752\n",
       "2     35216\n",
       "1     27814\n",
       "0      9737\n",
       "Name: Days for shipment (scheduled), dtype: int64"
      ]
     },
     "execution_count": 723,
     "metadata": {},
     "output_type": "execute_result"
    }
   ],
   "source": [
    "df[\"Days for shipment (scheduled)\"].value_counts()"
   ]
  },
  {
   "cell_type": "markdown",
   "metadata": {},
   "source": [
    "### Benefit per order"
   ]
  },
  {
   "cell_type": "code",
   "execution_count": 724,
   "metadata": {},
   "outputs": [
    {
     "data": {
      "text/plain": [
       " 0.000000      1177\n",
       " 143.990005     199\n",
       " 72.000000      194\n",
       " 46.799999      188\n",
       " 24.000000      181\n",
       "               ... \n",
       "-33.029999        1\n",
       " 323.700012       1\n",
       "-106.589996       1\n",
       "-41.389999        1\n",
       "-63.520000        1\n",
       "Name: Benefit per order, Length: 21998, dtype: int64"
      ]
     },
     "execution_count": 724,
     "metadata": {},
     "output_type": "execute_result"
    }
   ],
   "source": [
    "df[\"Benefit per order\"].value_counts()"
   ]
  },
  {
   "cell_type": "markdown",
   "metadata": {},
   "source": [
    "### Sales per customer"
   ]
  },
  {
   "cell_type": "code",
   "execution_count": 725,
   "metadata": {},
   "outputs": [
    {
     "data": {
      "text/plain": [
       "122.839996    1264\n",
       "109.190002    1247\n",
       "114.389999    1243\n",
       "113.089996    1243\n",
       "129.990005    1243\n",
       "              ... \n",
       "432.200012       1\n",
       "131.199997       1\n",
       "464.769989       1\n",
       "521.989990       1\n",
       "165.279999       1\n",
       "Name: Sales per customer, Length: 2927, dtype: int64"
      ]
     },
     "execution_count": 725,
     "metadata": {},
     "output_type": "execute_result"
    }
   ],
   "source": [
    "df[\"Sales per customer\"].value_counts()"
   ]
  },
  {
   "cell_type": "markdown",
   "metadata": {},
   "source": [
    "### Delivery Status  "
   ]
  },
  {
   "cell_type": "code",
   "execution_count": 726,
   "metadata": {},
   "outputs": [
    {
     "data": {
      "text/plain": [
       "Late delivery        98977\n",
       "Advance shipping     41592\n",
       "Shipping on time     32196\n",
       "Shipping canceled     7754\n",
       "Name: Delivery Status, dtype: int64"
      ]
     },
     "execution_count": 726,
     "metadata": {},
     "output_type": "execute_result"
    }
   ],
   "source": [
    "df[\"Delivery Status\"].value_counts()"
   ]
  },
  {
   "cell_type": "markdown",
   "metadata": {},
   "source": [
    "### Late_delivery_risk "
   ]
  },
  {
   "cell_type": "code",
   "execution_count": 727,
   "metadata": {
    "scrolled": true
   },
   "outputs": [
    {
     "data": {
      "text/plain": [
       "1    98977\n",
       "0    81542\n",
       "Name: Late_delivery_risk, dtype: int64"
      ]
     },
     "execution_count": 727,
     "metadata": {},
     "output_type": "execute_result"
    }
   ],
   "source": [
    "df[\"Late_delivery_risk\"].value_counts()"
   ]
  },
  {
   "cell_type": "markdown",
   "metadata": {},
   "source": [
    "### Category Id"
   ]
  },
  {
   "cell_type": "code",
   "execution_count": 728,
   "metadata": {},
   "outputs": [
    {
     "data": {
      "text/plain": [
       "17    24551\n",
       "18    22246\n",
       "24    21035\n",
       "46    19298\n",
       "45    17325\n",
       "48    15540\n",
       "43    13729\n",
       "9     12487\n",
       "29    10984\n",
       "37     2029\n",
       "40     1780\n",
       "36     1475\n",
       "26     1201\n",
       "13     1127\n",
       "35     1070\n",
       "41      974\n",
       "75      838\n",
       "63      652\n",
       "76      650\n",
       "3       632\n",
       "7       614\n",
       "62      592\n",
       "74      529\n",
       "33      524\n",
       "72      492\n",
       "66      484\n",
       "68      484\n",
       "67      483\n",
       "64      442\n",
       "32      441\n",
       "44      440\n",
       "71      434\n",
       "65      431\n",
       "12      423\n",
       "59      405\n",
       "38      384\n",
       "69      362\n",
       "73      357\n",
       "5       343\n",
       "6       328\n",
       "11      309\n",
       "30      283\n",
       "61      271\n",
       "70      208\n",
       "60      207\n",
       "31      181\n",
       "2       138\n",
       "10      111\n",
       "16       68\n",
       "4        67\n",
       "34       61\n",
       "Name: Category Id, dtype: int64"
      ]
     },
     "execution_count": 728,
     "metadata": {},
     "output_type": "execute_result"
    }
   ],
   "source": [
    "df[\"Category Id\"].value_counts()"
   ]
  },
  {
   "cell_type": "markdown",
   "metadata": {},
   "source": [
    "### Category Name "
   ]
  },
  {
   "cell_type": "code",
   "execution_count": 729,
   "metadata": {},
   "outputs": [
    {
     "data": {
      "text/plain": [
       "Cleats                  24551\n",
       "Men's Footwear          22246\n",
       "Women's Apparel         21035\n",
       "Indoor/Outdoor Games    19298\n",
       "Fishing                 17325\n",
       "Water Sports            15540\n",
       "Camping & Hiking        13729\n",
       "Cardio Equipment        12487\n",
       "Shop By Sport           10984\n",
       "Electronics              3156\n",
       "Accessories              1780\n",
       "Golf Balls               1475\n",
       "Girls' Apparel           1201\n",
       "Golf Gloves              1070\n",
       "Trade-In                  974\n",
       "Video Games               838\n",
       "Children's Clothing       652\n",
       "Women's Clothing          650\n",
       "Baseball & Softball       632\n",
       "Hockey                    614\n",
       "Cameras                   592\n",
       "Toys                      529\n",
       "Golf Shoes                524\n",
       "Pet Supplies              492\n",
       "Crafts                    484\n",
       "Garden                    484\n",
       "DVDs                      483\n",
       "Computers                 442\n",
       "Golf Apparel              441\n",
       "Hunting & Shooting        440\n",
       "Music                     434\n",
       "Consumer Electronics      431\n",
       "Boxing & MMA              423\n",
       "Books                     405\n",
       "Kids' Golf Clubs          384\n",
       "Health and Beauty         362\n",
       "Sporting Goods            357\n",
       "Lacrosse                  343\n",
       "Tennis & Racquet          328\n",
       "Fitness Accessories       309\n",
       "Men's Golf Clubs          283\n",
       "CDs                       271\n",
       "Men's Clothing            208\n",
       "Baby                      207\n",
       "Women's Golf Clubs        181\n",
       "Soccer                    138\n",
       "Strength Training         111\n",
       "As Seen on  TV!            68\n",
       "Basketball                 67\n",
       "Golf Bags & Carts          61\n",
       "Name: Category Name, dtype: int64"
      ]
     },
     "execution_count": 729,
     "metadata": {},
     "output_type": "execute_result"
    }
   ],
   "source": [
    "df[\"Category Name\"].value_counts()"
   ]
  },
  {
   "cell_type": "markdown",
   "metadata": {},
   "source": [
    "### Customer City"
   ]
  },
  {
   "cell_type": "code",
   "execution_count": 730,
   "metadata": {},
   "outputs": [
    {
     "data": {
      "text/plain": [
       "Caguas         66770\n",
       "Chicago         3885\n",
       "Los Angeles     3417\n",
       "Brooklyn        3412\n",
       "New York        1816\n",
       "               ...  \n",
       "Bartlett          25\n",
       "Ponce             22\n",
       "Malden            22\n",
       "Freehold          13\n",
       "CA                 3\n",
       "Name: Customer City, Length: 563, dtype: int64"
      ]
     },
     "execution_count": 730,
     "metadata": {},
     "output_type": "execute_result"
    }
   ],
   "source": [
    "df[\"Customer City\"].value_counts()"
   ]
  },
  {
   "cell_type": "markdown",
   "metadata": {},
   "source": [
    "### Customer Country"
   ]
  },
  {
   "cell_type": "code",
   "execution_count": 731,
   "metadata": {
    "scrolled": true
   },
   "outputs": [
    {
     "data": {
      "text/plain": [
       "EE. UU.        111146\n",
       "Puerto Rico     69373\n",
       "Name: Customer Country, dtype: int64"
      ]
     },
     "execution_count": 731,
     "metadata": {},
     "output_type": "execute_result"
    }
   ],
   "source": [
    "df[\"Customer Country\"].value_counts()"
   ]
  },
  {
   "cell_type": "markdown",
   "metadata": {},
   "source": [
    "### Customer Email"
   ]
  },
  {
   "cell_type": "code",
   "execution_count": 732,
   "metadata": {
    "scrolled": true
   },
   "outputs": [
    {
     "data": {
      "text/plain": [
       "XXXXXXXXX    180519\n",
       "Name: Customer Email, dtype: int64"
      ]
     },
     "execution_count": 732,
     "metadata": {},
     "output_type": "execute_result"
    }
   ],
   "source": [
    "df[\"Customer Email\"].value_counts()"
   ]
  },
  {
   "cell_type": "markdown",
   "metadata": {},
   "source": [
    "### Customer Fname"
   ]
  },
  {
   "cell_type": "code",
   "execution_count": 733,
   "metadata": {
    "scrolled": true
   },
   "outputs": [
    {
     "data": {
      "text/plain": [
       "Mary       65150\n",
       "James       1835\n",
       "Robert      1759\n",
       "Michael     1680\n",
       "David       1625\n",
       "           ...  \n",
       "Anne           1\n",
       "Danna          1\n",
       "Beatty         1\n",
       "York           1\n",
       "Sybi           1\n",
       "Name: Customer Fname, Length: 782, dtype: int64"
      ]
     },
     "execution_count": 733,
     "metadata": {},
     "output_type": "execute_result"
    }
   ],
   "source": [
    "df[\"Customer Fname\"].value_counts()"
   ]
  },
  {
   "cell_type": "markdown",
   "metadata": {},
   "source": [
    "### 14 Customer Id"
   ]
  },
  {
   "cell_type": "code",
   "execution_count": 734,
   "metadata": {},
   "outputs": [
    {
     "data": {
      "text/plain": [
       "0         20755\n",
       "1         19492\n",
       "2         19491\n",
       "3         19490\n",
       "4         19489\n",
       "          ...  \n",
       "180514     1005\n",
       "180515     9141\n",
       "180516      291\n",
       "180517     2813\n",
       "180518     7547\n",
       "Name: Customer Id, Length: 180519, dtype: int64"
      ]
     },
     "execution_count": 734,
     "metadata": {},
     "output_type": "execute_result"
    }
   ],
   "source": [
    "df['Customer Id']"
   ]
  },
  {
   "cell_type": "code",
   "execution_count": 735,
   "metadata": {},
   "outputs": [
    {
     "data": {
      "text/plain": [
       "array([20755, 19492, 19491, ..., 18579, 16244,  2677], dtype=int64)"
      ]
     },
     "execution_count": 735,
     "metadata": {},
     "output_type": "execute_result"
    }
   ],
   "source": [
    "df['Customer Id'].unique()"
   ]
  },
  {
   "cell_type": "code",
   "execution_count": 736,
   "metadata": {},
   "outputs": [
    {
     "data": {
      "text/plain": [
       "5654     47\n",
       "5004     45\n",
       "10591    45\n",
       "5715     44\n",
       "3708     44\n",
       "         ..\n",
       "13486     1\n",
       "17887     1\n",
       "15952     1\n",
       "13905     1\n",
       "14375     1\n",
       "Name: Customer Id, Length: 20652, dtype: int64"
      ]
     },
     "execution_count": 736,
     "metadata": {},
     "output_type": "execute_result"
    }
   ],
   "source": [
    "df['Customer Id'].value_counts()"
   ]
  },
  {
   "cell_type": "code",
   "execution_count": 737,
   "metadata": {},
   "outputs": [
    {
     "data": {
      "text/plain": [
       "0"
      ]
     },
     "execution_count": 737,
     "metadata": {},
     "output_type": "execute_result"
    }
   ],
   "source": [
    "df['Customer Id'].isna().sum()"
   ]
  },
  {
   "cell_type": "code",
   "execution_count": 738,
   "metadata": {},
   "outputs": [
    {
     "data": {
      "text/plain": [
       "<AxesSubplot:>"
      ]
     },
     "execution_count": 738,
     "metadata": {},
     "output_type": "execute_result"
    },
    {
     "data": {
      "image/png": "[encoded data removed]",
      "text/plain": [
       "<Figure size 432x288 with 1 Axes>"
      ]
     },
     "metadata": {},
     "output_type": "display_data"
    }
   ],
   "source": [
    "df[['Customer Id']].boxplot()"
   ]
  },
  {
   "cell_type": "markdown",
   "metadata": {},
   "source": [
    "### 15 Customer Lname"
   ]
  },
  {
   "cell_type": "code",
   "execution_count": 739,
   "metadata": {},
   "outputs": [
    {
     "data": {
      "text/plain": [
       "0          Holloway\n",
       "1              Luna\n",
       "2         Maldonado\n",
       "3              Tate\n",
       "4         Hendricks\n",
       "            ...    \n",
       "180514     Peterson\n",
       "180515        Clark\n",
       "180516        Smith\n",
       "180517        Smith\n",
       "180518       Ortega\n",
       "Name: Customer Lname, Length: 180519, dtype: object"
      ]
     },
     "execution_count": 739,
     "metadata": {},
     "output_type": "execute_result"
    }
   ],
   "source": [
    "df['Customer Lname']"
   ]
  },
  {
   "cell_type": "code",
   "execution_count": 740,
   "metadata": {},
   "outputs": [
    {
     "data": {
      "text/plain": [
       "array(['Holloway', 'Luna', 'Maldonado', ..., 'Kiney', 'Delan', 'Harri'],\n",
       "      dtype=object)"
      ]
     },
     "execution_count": 740,
     "metadata": {},
     "output_type": "execute_result"
    }
   ],
   "source": [
    "df['Customer Lname'].unique()"
   ]
  },
  {
   "cell_type": "code",
   "execution_count": 741,
   "metadata": {},
   "outputs": [
    {
     "data": {
      "text/plain": [
       "Smith          64104\n",
       "Johnson          989\n",
       "Brown            909\n",
       "Williams         869\n",
       "Jones            859\n",
       "               ...  \n",
       "Lan                1\n",
       "Brandy             1\n",
       "Mclaughli          1\n",
       "Gerginokish        1\n",
       "Brell              1\n",
       "Name: Customer Lname, Length: 1109, dtype: int64"
      ]
     },
     "execution_count": 741,
     "metadata": {},
     "output_type": "execute_result"
    }
   ],
   "source": [
    "df['Customer Lname'].value_counts()"
   ]
  },
  {
   "cell_type": "code",
   "execution_count": 742,
   "metadata": {},
   "outputs": [
    {
     "data": {
      "text/plain": [
       "8"
      ]
     },
     "execution_count": 742,
     "metadata": {},
     "output_type": "execute_result"
    }
   ],
   "source": [
    "df['Customer Lname'].isna().sum()"
   ]
  },
  {
   "cell_type": "markdown",
   "metadata": {},
   "source": [
    "### 15 Customer Password"
   ]
  },
  {
   "cell_type": "code",
   "execution_count": 743,
   "metadata": {},
   "outputs": [
    {
     "data": {
      "text/plain": [
       "0         XXXXXXXXX\n",
       "1         XXXXXXXXX\n",
       "2         XXXXXXXXX\n",
       "3         XXXXXXXXX\n",
       "4         XXXXXXXXX\n",
       "            ...    \n",
       "180514    XXXXXXXXX\n",
       "180515    XXXXXXXXX\n",
       "180516    XXXXXXXXX\n",
       "180517    XXXXXXXXX\n",
       "180518    XXXXXXXXX\n",
       "Name: Customer Password, Length: 180519, dtype: object"
      ]
     },
     "execution_count": 743,
     "metadata": {},
     "output_type": "execute_result"
    }
   ],
   "source": [
    "df['Customer Password']"
   ]
  },
  {
   "cell_type": "code",
   "execution_count": 744,
   "metadata": {},
   "outputs": [
    {
     "data": {
      "text/plain": [
       "array(['XXXXXXXXX'], dtype=object)"
      ]
     },
     "execution_count": 744,
     "metadata": {},
     "output_type": "execute_result"
    }
   ],
   "source": [
    "df['Customer Password'].unique()"
   ]
  },
  {
   "cell_type": "code",
   "execution_count": 745,
   "metadata": {},
   "outputs": [
    {
     "data": {
      "text/plain": [
       "XXXXXXXXX    180519\n",
       "Name: Customer Password, dtype: int64"
      ]
     },
     "execution_count": 745,
     "metadata": {},
     "output_type": "execute_result"
    }
   ],
   "source": [
    "df['Customer Password'].value_counts()"
   ]
  },
  {
   "cell_type": "code",
   "execution_count": 746,
   "metadata": {},
   "outputs": [
    {
     "data": {
      "text/plain": [
       "0"
      ]
     },
     "execution_count": 746,
     "metadata": {},
     "output_type": "execute_result"
    }
   ],
   "source": [
    "df['Customer Password'].isna().sum()"
   ]
  },
  {
   "cell_type": "markdown",
   "metadata": {},
   "source": [
    "### 16 Customer Segment"
   ]
  },
  {
   "cell_type": "code",
   "execution_count": 747,
   "metadata": {},
   "outputs": [
    {
     "data": {
      "text/plain": [
       "0            Consumer\n",
       "1            Consumer\n",
       "2            Consumer\n",
       "3         Home Office\n",
       "4           Corporate\n",
       "             ...     \n",
       "180514    Home Office\n",
       "180515      Corporate\n",
       "180516      Corporate\n",
       "180517       Consumer\n",
       "180518       Consumer\n",
       "Name: Customer Segment, Length: 180519, dtype: object"
      ]
     },
     "execution_count": 747,
     "metadata": {},
     "output_type": "execute_result"
    }
   ],
   "source": [
    "df['Customer Segment']"
   ]
  },
  {
   "cell_type": "code",
   "execution_count": 748,
   "metadata": {},
   "outputs": [
    {
     "data": {
      "text/plain": [
       "array(['Consumer', 'Home Office', 'Corporate'], dtype=object)"
      ]
     },
     "execution_count": 748,
     "metadata": {},
     "output_type": "execute_result"
    }
   ],
   "source": [
    "df['Customer Segment'].unique()"
   ]
  },
  {
   "cell_type": "code",
   "execution_count": 749,
   "metadata": {},
   "outputs": [
    {
     "data": {
      "text/plain": [
       "Consumer       93504\n",
       "Corporate      54789\n",
       "Home Office    32226\n",
       "Name: Customer Segment, dtype: int64"
      ]
     },
     "execution_count": 749,
     "metadata": {},
     "output_type": "execute_result"
    }
   ],
   "source": [
    "df['Customer Segment'].value_counts()"
   ]
  },
  {
   "cell_type": "code",
   "execution_count": 750,
   "metadata": {},
   "outputs": [
    {
     "data": {
      "text/plain": [
       "0"
      ]
     },
     "execution_count": 750,
     "metadata": {},
     "output_type": "execute_result"
    }
   ],
   "source": [
    "df['Customer Segment'].isna().sum()"
   ]
  },
  {
   "cell_type": "code",
   "execution_count": 751,
   "metadata": {},
   "outputs": [
    {
     "data": {
      "image/png": "[encoded data removed]",
      "text/plain": [
       "<Figure size 432x288 with 1 Axes>"
      ]
     },
     "metadata": {},
     "output_type": "display_data"
    }
   ],
   "source": [
    "plt.title('Share of Customer Segment')\n",
    "df['Customer Segment'].value_counts().plot(kind = 'pie', autopct = '%.2f%%', cmap = 'Set2', explode = [0.1, 0.1, 0.1])\n",
    "plt.ylabel('');"
   ]
  },
  {
   "cell_type": "markdown",
   "metadata": {},
   "source": [
    "### 17 Customer State"
   ]
  },
  {
   "cell_type": "code",
   "execution_count": 752,
   "metadata": {},
   "outputs": [
    {
     "data": {
      "text/plain": [
       "0         PR\n",
       "1         PR\n",
       "2         CA\n",
       "3         CA\n",
       "4         PR\n",
       "          ..\n",
       "180514    NY\n",
       "180515    CA\n",
       "180516    CT\n",
       "180517    PR\n",
       "180518    PR\n",
       "Name: Customer State, Length: 180519, dtype: object"
      ]
     },
     "execution_count": 752,
     "metadata": {},
     "output_type": "execute_result"
    }
   ],
   "source": [
    "df['Customer State']"
   ]
  },
  {
   "cell_type": "code",
   "execution_count": 753,
   "metadata": {},
   "outputs": [
    {
     "data": {
      "text/plain": [
       "array(['PR', 'CA', 'NY', 'FL', 'MA', 'IL', 'MT', 'PA', 'MI', 'TX', 'DE',\n",
       "       'GA', 'MD', 'OH', 'HI', 'NJ', 'WI', 'AZ', 'CO', 'MN', 'NC', 'NM',\n",
       "       'OR', 'SC', 'VA', 'UT', 'WA', 'KY', 'WV', 'RI', 'CT', 'LA', 'TN',\n",
       "       'DC', 'ND', 'MO', 'IN', 'ID', 'NV', 'KS', 'AR', 'OK', 'AL', 'IA',\n",
       "       '95758', '91732'], dtype=object)"
      ]
     },
     "execution_count": 753,
     "metadata": {},
     "output_type": "execute_result"
    }
   ],
   "source": [
    "df['Customer State'].unique()"
   ]
  },
  {
   "cell_type": "code",
   "execution_count": 754,
   "metadata": {},
   "outputs": [
    {
     "data": {
      "text/plain": [
       "PR       69373\n",
       "CA       29223\n",
       "NY       11327\n",
       "TX        9103\n",
       "IL        7631\n",
       "FL        5456\n",
       "OH        4095\n",
       "PA        3824\n",
       "MI        3804\n",
       "NJ        3191\n",
       "AZ        3026\n",
       "GA        2503\n",
       "MD        2415\n",
       "NC        1992\n",
       "CO        1914\n",
       "VA        1849\n",
       "OR        1668\n",
       "MA        1607\n",
       "TN        1582\n",
       "NV        1440\n",
       "MO        1354\n",
       "HI        1248\n",
       "CT        1094\n",
       "UT         968\n",
       "NM         949\n",
       "LA         948\n",
       "WA         920\n",
       "WI         850\n",
       "MN         672\n",
       "SC         665\n",
       "IN         581\n",
       "DC         579\n",
       "KY         487\n",
       "KS         458\n",
       "DE         269\n",
       "RI         243\n",
       "WV         241\n",
       "OK         232\n",
       "ND         215\n",
       "ID         167\n",
       "AR         164\n",
       "MT          87\n",
       "IA          67\n",
       "AL          35\n",
       "95758        2\n",
       "91732        1\n",
       "Name: Customer State, dtype: int64"
      ]
     },
     "execution_count": 754,
     "metadata": {},
     "output_type": "execute_result"
    }
   ],
   "source": [
    "df['Customer State'].value_counts()"
   ]
  },
  {
   "cell_type": "code",
   "execution_count": 755,
   "metadata": {},
   "outputs": [
    {
     "data": {
      "text/plain": [
       "0"
      ]
     },
     "execution_count": 755,
     "metadata": {},
     "output_type": "execute_result"
    }
   ],
   "source": [
    "df['Customer State'].isna().sum()"
   ]
  },
  {
   "cell_type": "markdown",
   "metadata": {},
   "source": [
    "### 18 Customer Street"
   ]
  },
  {
   "cell_type": "code",
   "execution_count": 756,
   "metadata": {},
   "outputs": [
    {
     "data": {
      "text/plain": [
       "0           5365 Noble Nectar Island\n",
       "1                   2679 Rustic Loop\n",
       "2               8510 Round Bear Gate\n",
       "3                    3200 Amber Bend\n",
       "4           8671 Iron Anchor Corners\n",
       "                     ...            \n",
       "180514              1322 Broad Glade\n",
       "180515         7330 Broad Apple Moor\n",
       "180516            97 Burning Landing\n",
       "180517    2585 Silent Autumn Landing\n",
       "180518             697 Little Meadow\n",
       "Name: Customer Street, Length: 180519, dtype: object"
      ]
     },
     "execution_count": 756,
     "metadata": {},
     "output_type": "execute_result"
    }
   ],
   "source": [
    "df['Customer Street']"
   ]
  },
  {
   "cell_type": "code",
   "execution_count": 757,
   "metadata": {},
   "outputs": [
    {
     "data": {
      "text/plain": [
       "array(['5365 Noble Nectar Island', '2679 Rustic Loop',\n",
       "       '8510 Round Bear Gate', ..., '245 Lost Way ', '2455 Merry Hollow ',\n",
       "       '8621 Broad Forest '], dtype=object)"
      ]
     },
     "execution_count": 757,
     "metadata": {},
     "output_type": "execute_result"
    }
   ],
   "source": [
    "df['Customer Street'].unique()"
   ]
  },
  {
   "cell_type": "code",
   "execution_count": 758,
   "metadata": {},
   "outputs": [
    {
     "data": {
      "text/plain": [
       "9126 Wishing Expressway     122\n",
       "4388 Burning Goose Ridge    117\n",
       "4720 Noble Hills Wynd       116\n",
       "2878 Hazy Wagon  Thicket    113\n",
       "398 Emerald Grove           109\n",
       "                           ... \n",
       "5274 Noble Isle               1\n",
       "9853 Jagged Wharf             1\n",
       "1056 Cotton Run               1\n",
       "3282 Indian Hollow            1\n",
       "4515 Golden Manor             1\n",
       "Name: Customer Street, Length: 7458, dtype: int64"
      ]
     },
     "execution_count": 758,
     "metadata": {},
     "output_type": "execute_result"
    }
   ],
   "source": [
    "df['Customer Street'].value_counts()"
   ]
  },
  {
   "cell_type": "code",
   "execution_count": 759,
   "metadata": {},
   "outputs": [
    {
     "data": {
      "text/plain": [
       "0"
      ]
     },
     "execution_count": 759,
     "metadata": {},
     "output_type": "execute_result"
    }
   ],
   "source": [
    "df['Customer Street'].isna().sum()"
   ]
  },
  {
   "cell_type": "markdown",
   "metadata": {},
   "source": [
    "### 19 Customer Zipcode"
   ]
  },
  {
   "cell_type": "code",
   "execution_count": 760,
   "metadata": {},
   "outputs": [
    {
     "data": {
      "text/plain": [
       "0           725.0\n",
       "1           725.0\n",
       "2         95125.0\n",
       "3         90027.0\n",
       "4           725.0\n",
       "           ...   \n",
       "180514    11207.0\n",
       "180515    93304.0\n",
       "180516     6010.0\n",
       "180517      725.0\n",
       "180518      725.0\n",
       "Name: Customer Zipcode, Length: 180519, dtype: float64"
      ]
     },
     "execution_count": 760,
     "metadata": {},
     "output_type": "execute_result"
    }
   ],
   "source": [
    "df['Customer Zipcode']"
   ]
  },
  {
   "cell_type": "code",
   "execution_count": 761,
   "metadata": {},
   "outputs": [
    {
     "data": {
      "text/plain": [
       "array([  725., 95125., 90027., 14150., 33162., 94583., 11520., 93905.,\n",
       "        1960.,   729., 90723., 60056., 90813., 95670., 59102., 18702.,\n",
       "       48066., 90706., 60187., 48238., 75220., 17013., 75228., 19702.,\n",
       "       91402., 30318., 94539., 14609., 75211.,   957.,   784.,   795.,\n",
       "       20744., 93304., 11368., 45238., 20874., 75006., 77093., 90023.,\n",
       "       96706.,  8701., 13440., 92083., 76106., 54935., 19139., 91764.,\n",
       "       32765., 14221., 96822., 92056., 14120., 93611., 11434., 62040.,\n",
       "        2155., 91766., 85281., 92703., 17402., 80010., 93065., 20904.,\n",
       "       55124., 78201., 19143., 19149., 10466., 27858.,  7960., 92115.,\n",
       "       93030., 33147., 87111., 79109., 33549., 97701.,  8816., 29720.,\n",
       "       91762., 77015., 23666., 10016., 93257., 97223., 44136., 79927.,\n",
       "       78840., 84010., 98031., 60620.,  2360., 11691., 77088., 19124.,\n",
       "       48227., 92840., 92105., 60609., 92870., 95148., 44060., 95051.,\n",
       "        7083., 90805., 92683., 33068., 91702., 33324.,  8540.,  8861.,\n",
       "       45140., 23455., 40214., 14094., 60608., 10314., 85719., 44120.,\n",
       "       10458., 14580., 95207., 25401., 21502., 61554., 32308., 32225.,\n",
       "        2895., 95206., 30058., 60453., 48213., 91801.,  6511., 85029.,\n",
       "       70065., 15301., 49423., 19067., 38128., 98023., 92113., 60626.,\n",
       "       10457., 60637., 91790., 93003., 20009., 33594., 96744., 11218.,\n",
       "       92057., 76116., 19145., 95240., 93308., 95122., 37130., 92009.,\n",
       "       45011., 77083., 10031., 94541.,  8302., 11706., 60067., 30080.,\n",
       "       91406., 33055., 90046., 55106.,  8817., 77520., 91342., 55337.,\n",
       "       11746., 94087., 77478.,  2135., 58501., 20878., 96817., 30047.,\n",
       "       84604., 38401., 30062.,   745., 11212., 80219., 48180., 48205.,\n",
       "       44102., 63301., 95014., 65807., 92692., 90042., 30075., 48197.,\n",
       "       85345., 92843.,  8021., 38127., 37013., 84118., 91344., 11550.,\n",
       "       11103., 95020., 28645., 43228., 97321.,   791., 11757., 44035.,\n",
       "       92504., 90745., 85204., 96818.,   921.,   693.,   680.,   612.,\n",
       "         685., 85033., 97402., 90806., 60102., 46227., 90003., 90620.,\n",
       "       21228., 10306., 30066.,  7305., 38109., 60148., 11207.,  2740.,\n",
       "       12550., 33175., 19446., 90037., 21206., 85035., 92833., 21218.,\n",
       "       95823., 60614., 27410., 95127., 44107., 97470., 95350., 10003.,\n",
       "       92024., 95116., 95076., 83642., 77084., 11229., 13760., 77450.,\n",
       "       93277., 93535., 85022., 93436., 33186., 17404., 84404., 27610.,\n",
       "       91745.,  7087., 33023., 60440., 47906.,  7105., 22192., 78596.,\n",
       "       11432., 75243., 90201., 92109., 90638., 90065.,  7047., 92691.,\n",
       "       10002., 53704., 94080., 19144., 33312., 89030., 80013.,  1844.,\n",
       "       92627., 60649., 21061., 45014., 91306., 93063., 60616., 78501.,\n",
       "       90032., 60435., 78520.,  2860., 80918.,  2169., 78227.,  1201.,\n",
       "       91710., 60640., 10461., 43302., 91343., 60617., 67401., 20783.,\n",
       "       76180., 10977., 60643.,  1841., 44130., 91761., 31907., 90063.,\n",
       "       45013., 95035., 91748., 90247., 60804., 97405., 90024., 27203.,\n",
       "       54601., 63031., 91351., 14850., 18103., 92026., 94553., 48098.,\n",
       "       22204., 75227., 95616., 11238., 85225., 85224., 60613., 60123.,\n",
       "       93550., 11758., 92707., 94565.,  7093., 75217., 90007., 80011.,\n",
       "       32822., 17331., 23452., 85301., 60641.,  6082., 19134., 91706.,\n",
       "       60657., 91709., 19104.,  8753., 60622., 95822., 48192.,  7104.,\n",
       "       11204., 96789., 10011., 11221., 60426., 17055., 70570., 96734.,\n",
       "       23503., 22193., 60126., 77479., 27606., 45601., 91304., 49201.,\n",
       "       92553., 60624., 70119., 78586., 11203., 19720.,  7003., 87105.,\n",
       "       90001., 90630., 70117., 10040., 70072., 75052., 10467., 80631.,\n",
       "       92111., 33165., 44109., 80126., 80501., 23320., 80110., 60004.,\n",
       "       33624., 46226., 90043., 95351.,  7111., 19711., 11375., 10029.,\n",
       "       78521., 48126., 75007., 93307., 90221., 17601., 75043., 92507.,\n",
       "       96797., 85713., 95608., 92780., 92805., 60651., 48187., 22554.,\n",
       "       92126., 11419., 45044., 75240., 85308.,  7052., 94015., 30127.,\n",
       "       21234., 48224., 33010., 90022., 11236., 53511., 27834., 75287.,\n",
       "         603.,   983.,   698., 90066., 11226., 11209., 63376., 92114.,\n",
       "       60615., 30906., 78223., 87120., 19140., 10021., 27514., 48823.,\n",
       "        6902., 91765., 77036., 94544., 53215., 30044.,  6040., 11224.,\n",
       "       91744., 92392., 23223., 63033., 21224., 32244., 78852., 92335.,\n",
       "       63021., 11220., 78130., 89121., 29445., 78577., 10701., 91732.,\n",
       "       96816., 33064., 43068., 48212., 94587., 44256., 33313., 92346.,\n",
       "       90019., 72401., 95758., 90640., 94109., 30907., 60025., 60647.,\n",
       "       85282., 95111., 29730., 60660., 85746., 78753., 85254., 95060.,\n",
       "       97045., 22003., 38118., 75023.,  8854., 33155., 23322., 92084.,\n",
       "       92025., 30067., 92705., 92021., 43026., 32073., 10025., 60625.,\n",
       "       30032., 94806., 33016., 92804., 32808., 78228., 19120., 90804.,\n",
       "       30135., 89015., 60120., 77840., 78664., 75150., 74012., 98052.,\n",
       "       45840., 90631., 92653., 14215., 90057., 21215., 79912., 43230.,\n",
       "       92407., 27502., 94110., 23464., 91733., 80231., 89103., 75061.,\n",
       "       11234., 24060.,  2124., 60505., 92336.,  7307., 78207., 20854.,\n",
       "       77469., 84119., 90002., 32792., 60610., 30083., 93117., 21740.,\n",
       "       94501., 33161., 92701., 63136., 78240., 90660., 91910., 92882.,\n",
       "       63116., 60619., 95124., 79924., 92020., 85032., 76010., 17603.,\n",
       "       76133., 95023., 91605., 55104., 78704., 90033., 94122., 60638.,\n",
       "       11235., 62301., 10472., 10473.,  8901., 97007., 20020., 60411.,\n",
       "       92054., 92345., 92503., 27511., 27330., 78040., 48185., 10453.,\n",
       "       91911., 30281., 60188., 11237., 10469., 33012., 60634., 67212.,\n",
       "       94509., 89110., 90004., 66062., 75216., 11354., 10312., 90220.,\n",
       "       90262., 90034., 92802.,  2151., 92410., 43081., 38018., 60623.,\n",
       "       60506., 92129., 90011., 93230., 11216., 32825., 11213., 12180.,\n",
       "       92376., 60050., 78572., 11214., 97301., 30096., 92509., 19148.,\n",
       "        6810., 43055., 70122., 40601., 91786., 91770., 48858., 97303.,\n",
       "       88201., 19131., 92630., 10023., 19380., 10460., 10128., 92404.,\n",
       "       80015., 10033., 11377., 94536., 30093., 93306., 93722., 43701.,\n",
       "       60504., 92102., 27406., 44077., 91977., 30331., 97229., 98037.,\n",
       "       44646., 33021., 60644., 60014., 11374., 19111., 55112., 48103.,\n",
       "       97206., 93727., 49509., 91941., 78539., 48843., 46360., 53081.,\n",
       "       61265., 85283., 77055., 89101., 11373., 11208., 10456., 85364.,\n",
       "       10024., 89108., 10027., 95008., 89123., 28205., 94601., 92069.,\n",
       "       91789., 84120., 78550., 80012., 87124., 37211., 21401., 60618.,\n",
       "       33177., 92677., 92071., 84084., 11206., 33157., 28601.,   674.,\n",
       "         976.,   728.,   953., 15642., 11420., 93536., 11215., 80906.,\n",
       "       11385., 79936., 95355., 42101., 92104., 75080., 89115., 89119.,\n",
       "       33126., 38111., 92704., 79907., 91352., 65203., 92646., 58103.,\n",
       "       97006., 60085., 90006., 48219., 48203., 11219., 85040., 78666.,\n",
       "       90703., 20906., 10009., 75067., 94538.,  6457., 95112., 30022.,\n",
       "       63129., 93702., 85009., 11210., 33125., 17602., 11230., 33176.,\n",
       "       47150., 19382., 43229., 75149., 33015., 29223., 76201., 10032.,\n",
       "       91405., 92592., 60477., 93033., 33065., 21222., 78250., 46307.,\n",
       "       11201., 10452., 73505., 28314., 10463.,  6460., 60103., 60630.,\n",
       "       89502.,  7055., 90016., 91335., 78046., 11756.,  7470., 70003.,\n",
       "       20002., 44105., 26003., 85705., 90250., 94558., 60402., 92708.,\n",
       "       23456., 88005., 32703., 90044., 95630., 92243., 92557., 11372.,\n",
       "       48234., 91331., 77072., 48221., 11435., 43207., 60632., 37075.,\n",
       "       84015., 98115., 90047., 85201., 60628., 32303., 48601., 63123.,\n",
       "       72032., 33025., 44870., 90731., 92801., 43123., 37922., 92117.,\n",
       "       90255., 87112., 15601., 91767., 60441., 92064., 23454., 63366.,\n",
       "       17201., 44118., 61761.,  1902., 10028., 75093., 33142., 90018.,\n",
       "       19020.,  6010., 95828., 17701., 92626., 75231., 98632., 90650.,\n",
       "       89117.,  7002., 93274., 91950., 92879., 45424., 94112., 95376.,\n",
       "       29483., 95340., 85710., 93906.,  2301., 85706., 30034., 20011.,\n",
       "       94533., 94591.,  6516., 21122., 92154., 33614., 92027., 90026.,\n",
       "       90280., 48093., 37042., 49442., 85008., 28540., 77080., 33511.,\n",
       "       96819., 91730., 11211., 60645., 93458., 18901., 47374., 92324.,\n",
       "       92647., 38116., 48235., 75060., 92201.,  7060., 94014., 98226.,\n",
       "       93720., 60629., 93309., 30043., 77379., 11355., 10462., 91606.,\n",
       "       53209., 94550., 60639., 87505., 94303., 20019., 23233., 60016.,\n",
       "       23462., 33024., 77081., 60636., 35215., 80020.,   969.,   736.,\n",
       "       60621., 40475., 60544., 30349., 95610., 33063., 78745., 10468.,\n",
       "       94086., 99205., 52001., 93638., 21229., 98208., 11717., 28655.,\n",
       "       95687., 95123.,  2148., 21207.,   949.,  2780.,  7728., 98390.,\n",
       "       48228., 90744., 11223., 43130., 11225., 75040., 33311., 11233.,\n",
       "       32210., 89014.,  7306.,    nan])"
      ]
     },
     "execution_count": 761,
     "metadata": {},
     "output_type": "execute_result"
    }
   ],
   "source": [
    "df['Customer Zipcode'].unique()"
   ]
  },
  {
   "cell_type": "code",
   "execution_count": 762,
   "metadata": {},
   "outputs": [
    {
     "data": {
      "text/plain": [
       "725.0      66770\n",
       "921.0        337\n",
       "23455.0      334\n",
       "957.0        297\n",
       "79109.0      292\n",
       "           ...  \n",
       "60636.0       18\n",
       "89015.0       16\n",
       "32210.0       15\n",
       "7728.0        13\n",
       "11225.0        9\n",
       "Name: Customer Zipcode, Length: 995, dtype: int64"
      ]
     },
     "execution_count": 762,
     "metadata": {},
     "output_type": "execute_result"
    }
   ],
   "source": [
    "df['Customer Zipcode'].value_counts()"
   ]
  },
  {
   "cell_type": "code",
   "execution_count": 763,
   "metadata": {},
   "outputs": [
    {
     "data": {
      "text/plain": [
       "3"
      ]
     },
     "execution_count": 763,
     "metadata": {},
     "output_type": "execute_result"
    }
   ],
   "source": [
    "df['Customer Zipcode'].isna().sum()"
   ]
  },
  {
   "cell_type": "code",
   "execution_count": 764,
   "metadata": {},
   "outputs": [
    {
     "data": {
      "text/plain": [
       "<AxesSubplot:>"
      ]
     },
     "execution_count": 764,
     "metadata": {},
     "output_type": "execute_result"
    },
    {
     "data": {
      "image/png": "[encoded data removed]",
      "text/plain": [
       "<Figure size 432x288 with 1 Axes>"
      ]
     },
     "metadata": {},
     "output_type": "display_data"
    }
   ],
   "source": [
    "df[['Customer Zipcode']].boxplot()"
   ]
  },
  {
   "cell_type": "code",
   "execution_count": 765,
   "metadata": {
    "scrolled": true
   },
   "outputs": [
    {
     "data": {
      "text/plain": [
       "<AxesSubplot:xlabel='Customer Zipcode'>"
      ]
     },
     "execution_count": 765,
     "metadata": {},
     "output_type": "execute_result"
    },
    {
     "data": {
      "image/png": "[encoded data removed]",
      "text/plain": [
       "<Figure size 432x288 with 1 Axes>"
      ]
     },
     "metadata": {},
     "output_type": "display_data"
    }
   ],
   "source": [
    "sns.boxplot(x = df['Customer Zipcode'])"
   ]
  },
  {
   "cell_type": "markdown",
   "metadata": {},
   "source": [
    "### 20 Department Id"
   ]
  },
  {
   "cell_type": "code",
   "execution_count": 766,
   "metadata": {
    "scrolled": true
   },
   "outputs": [
    {
     "data": {
      "text/plain": [
       "0         2\n",
       "1         2\n",
       "2         2\n",
       "3         2\n",
       "4         2\n",
       "         ..\n",
       "180514    7\n",
       "180515    7\n",
       "180516    7\n",
       "180517    7\n",
       "180518    7\n",
       "Name: Department Id, Length: 180519, dtype: int64"
      ]
     },
     "execution_count": 766,
     "metadata": {},
     "output_type": "execute_result"
    }
   ],
   "source": [
    "df['Department Id']"
   ]
  },
  {
   "cell_type": "code",
   "execution_count": 767,
   "metadata": {},
   "outputs": [
    {
     "data": {
      "text/plain": [
       "array([ 2,  4,  5,  3,  6,  7, 10,  8,  9, 11, 12], dtype=int64)"
      ]
     },
     "execution_count": 767,
     "metadata": {},
     "output_type": "execute_result"
    }
   ],
   "source": [
    "df['Department Id'].unique()"
   ]
  },
  {
   "cell_type": "code",
   "execution_count": 768,
   "metadata": {},
   "outputs": [
    {
     "data": {
      "text/plain": [
       "7     66861\n",
       "4     48998\n",
       "5     33220\n",
       "3     14525\n",
       "6      9686\n",
       "2      2479\n",
       "9      2026\n",
       "10     1465\n",
       "11      492\n",
       "8       405\n",
       "12      362\n",
       "Name: Department Id, dtype: int64"
      ]
     },
     "execution_count": 768,
     "metadata": {},
     "output_type": "execute_result"
    }
   ],
   "source": [
    "df['Department Id'].value_counts()"
   ]
  },
  {
   "cell_type": "code",
   "execution_count": 769,
   "metadata": {},
   "outputs": [
    {
     "data": {
      "text/plain": [
       "0"
      ]
     },
     "execution_count": 769,
     "metadata": {},
     "output_type": "execute_result"
    }
   ],
   "source": [
    "df['Department Id'].isna().sum()"
   ]
  },
  {
   "cell_type": "code",
   "execution_count": 770,
   "metadata": {},
   "outputs": [
    {
     "data": {
      "text/plain": [
       "<AxesSubplot:>"
      ]
     },
     "execution_count": 770,
     "metadata": {},
     "output_type": "execute_result"
    },
    {
     "data": {
      "image/png": "[encoded data removed]",
      "text/plain": [
       "<Figure size 432x288 with 1 Axes>"
      ]
     },
     "metadata": {},
     "output_type": "display_data"
    }
   ],
   "source": [
    "df[['Department Id']].boxplot()"
   ]
  },
  {
   "cell_type": "code",
   "execution_count": 771,
   "metadata": {},
   "outputs": [
    {
     "data": {
      "image/png": "[encoded data removed]",
      "text/plain": [
       "<Figure size 432x288 with 1 Axes>"
      ]
     },
     "metadata": {},
     "output_type": "display_data"
    }
   ],
   "source": [
    "plt.title('Department code of store')\n",
    "df['Department Id'].value_counts().plot(kind = 'pie', autopct = '%.2f%%', cmap = 'Set2', explode = [0.1, 0.1, 0.1,0.1, 0.1, 0.1,0.1, 0.1, 0.1,0.1, 0.1])\n",
    "plt.ylabel('');"
   ]
  },
  {
   "cell_type": "markdown",
   "metadata": {},
   "source": [
    "### 21 Department Name"
   ]
  },
  {
   "cell_type": "code",
   "execution_count": 772,
   "metadata": {},
   "outputs": [
    {
     "data": {
      "text/plain": [
       "0          Fitness\n",
       "1          Fitness\n",
       "2          Fitness\n",
       "3          Fitness\n",
       "4          Fitness\n",
       "            ...   \n",
       "180514    Fan Shop\n",
       "180515    Fan Shop\n",
       "180516    Fan Shop\n",
       "180517    Fan Shop\n",
       "180518    Fan Shop\n",
       "Name: Department Name, Length: 180519, dtype: object"
      ]
     },
     "execution_count": 772,
     "metadata": {},
     "output_type": "execute_result"
    }
   ],
   "source": [
    "df['Department Name']"
   ]
  },
  {
   "cell_type": "code",
   "execution_count": 773,
   "metadata": {},
   "outputs": [
    {
     "data": {
      "text/plain": [
       "array(['Fitness', 'Apparel', 'Golf', 'Footwear', 'Outdoors', 'Fan Shop',\n",
       "       'Technology', 'Book Shop', 'Discs Shop', 'Pet Shop',\n",
       "       'Health and Beauty '], dtype=object)"
      ]
     },
     "execution_count": 773,
     "metadata": {},
     "output_type": "execute_result"
    }
   ],
   "source": [
    "df['Department Name'].unique()"
   ]
  },
  {
   "cell_type": "code",
   "execution_count": 774,
   "metadata": {},
   "outputs": [
    {
     "data": {
      "text/plain": [
       "Fan Shop              66861\n",
       "Apparel               48998\n",
       "Golf                  33220\n",
       "Footwear              14525\n",
       "Outdoors               9686\n",
       "Fitness                2479\n",
       "Discs Shop             2026\n",
       "Technology             1465\n",
       "Pet Shop                492\n",
       "Book Shop               405\n",
       "Health and Beauty       362\n",
       "Name: Department Name, dtype: int64"
      ]
     },
     "execution_count": 774,
     "metadata": {},
     "output_type": "execute_result"
    }
   ],
   "source": [
    "df['Department Name'].value_counts()"
   ]
  },
  {
   "cell_type": "code",
   "execution_count": 775,
   "metadata": {},
   "outputs": [
    {
     "data": {
      "text/plain": [
       "0"
      ]
     },
     "execution_count": 775,
     "metadata": {},
     "output_type": "execute_result"
    }
   ],
   "source": [
    "df['Department Name'].isna().sum()"
   ]
  },
  {
   "cell_type": "markdown",
   "metadata": {},
   "source": [
    "### 22 Latitude"
   ]
  },
  {
   "cell_type": "code",
   "execution_count": 776,
   "metadata": {},
   "outputs": [
    {
     "data": {
      "text/plain": [
       "0         18.251453\n",
       "1         18.279451\n",
       "2         37.292233\n",
       "3         34.125946\n",
       "4         18.253769\n",
       "            ...    \n",
       "180514    40.640930\n",
       "180515    35.362545\n",
       "180516    41.629959\n",
       "180517    18.213350\n",
       "180518    18.290380\n",
       "Name: Latitude, Length: 180519, dtype: float64"
      ]
     },
     "execution_count": 776,
     "metadata": {},
     "output_type": "execute_result"
    }
   ],
   "source": [
    "df['Latitude']"
   ]
  },
  {
   "cell_type": "code",
   "execution_count": 777,
   "metadata": {},
   "outputs": [
    {
     "data": {
      "text/plain": [
       "array([18.2514534 , 18.27945137, 37.29223251, ..., 18.24048233,\n",
       "       18.26129723, 18.24248505])"
      ]
     },
     "execution_count": 777,
     "metadata": {},
     "output_type": "execute_result"
    }
   ],
   "source": [
    "df['Latitude'].unique()"
   ]
  },
  {
   "cell_type": "code",
   "execution_count": 778,
   "metadata": {},
   "outputs": [
    {
     "data": {
      "text/plain": [
       "18.227573    417\n",
       "39.495914    370\n",
       "18.227577    300\n",
       "36.910831    280\n",
       "26.098499    270\n",
       "            ... \n",
       "18.246212      1\n",
       "18.212696      1\n",
       "18.261103      1\n",
       "18.277172      1\n",
       "18.216928      1\n",
       "Name: Latitude, Length: 11250, dtype: int64"
      ]
     },
     "execution_count": 778,
     "metadata": {},
     "output_type": "execute_result"
    }
   ],
   "source": [
    "df['Latitude'].value_counts()"
   ]
  },
  {
   "cell_type": "code",
   "execution_count": 779,
   "metadata": {},
   "outputs": [
    {
     "data": {
      "text/plain": [
       "0"
      ]
     },
     "execution_count": 779,
     "metadata": {},
     "output_type": "execute_result"
    }
   ],
   "source": [
    "df['Latitude'].isna().sum()"
   ]
  },
  {
   "cell_type": "code",
   "execution_count": 780,
   "metadata": {},
   "outputs": [
    {
     "data": {
      "text/plain": [
       "<AxesSubplot:>"
      ]
     },
     "execution_count": 780,
     "metadata": {},
     "output_type": "execute_result"
    },
    {
     "data": {
      "image/png": "[encoded data removed]",
      "text/plain": [
       "<Figure size 432x288 with 1 Axes>"
      ]
     },
     "metadata": {},
     "output_type": "display_data"
    }
   ],
   "source": [
    "df[['Latitude']].boxplot()"
   ]
  },
  {
   "cell_type": "markdown",
   "metadata": {},
   "source": [
    "### 23 Longitude"
   ]
  },
  {
   "cell_type": "code",
   "execution_count": 781,
   "metadata": {},
   "outputs": [
    {
     "data": {
      "text/plain": [
       "0         -66.037056\n",
       "1         -66.037064\n",
       "2        -121.881279\n",
       "3        -118.291016\n",
       "4         -66.037048\n",
       "             ...    \n",
       "180514    -73.942711\n",
       "180515   -119.018700\n",
       "180516    -72.967155\n",
       "180517    -66.370575\n",
       "180518    -66.370613\n",
       "Name: Longitude, Length: 180519, dtype: float64"
      ]
     },
     "execution_count": 781,
     "metadata": {},
     "output_type": "execute_result"
    }
   ],
   "source": [
    "df['Longitude']"
   ]
  },
  {
   "cell_type": "code",
   "execution_count": 782,
   "metadata": {},
   "outputs": [
    {
     "data": {
      "text/plain": [
       "array([ -66.03705597,  -66.0370636 , -121.881279  , ..., -117.8856812 ,\n",
       "        -87.69457245,  -66.54897308])"
      ]
     },
     "execution_count": 782,
     "metadata": {},
     "output_type": "execute_result"
    }
   ],
   "source": [
    "df['Longitude'].unique()"
   ]
  },
  {
   "cell_type": "code",
   "execution_count": 783,
   "metadata": {},
   "outputs": [
    {
     "data": {
      "text/plain": [
       "-66.370613    3821\n",
       "-66.370575    3523\n",
       "-66.370590    3522\n",
       "-66.370506    3465\n",
       "-66.370552    3417\n",
       "              ... \n",
       "-91.200142       1\n",
       "-77.089798       1\n",
       "-83.120888       1\n",
       "-88.345695       1\n",
       "-90.351189       1\n",
       "Name: Longitude, Length: 4487, dtype: int64"
      ]
     },
     "execution_count": 783,
     "metadata": {},
     "output_type": "execute_result"
    }
   ],
   "source": [
    "df['Longitude'].value_counts()"
   ]
  },
  {
   "cell_type": "code",
   "execution_count": 784,
   "metadata": {},
   "outputs": [
    {
     "data": {
      "text/plain": [
       "0"
      ]
     },
     "execution_count": 784,
     "metadata": {},
     "output_type": "execute_result"
    }
   ],
   "source": [
    "df['Longitude'].isna().sum()"
   ]
  },
  {
   "cell_type": "code",
   "execution_count": 785,
   "metadata": {},
   "outputs": [
    {
     "data": {
      "text/plain": [
       "<AxesSubplot:>"
      ]
     },
     "execution_count": 785,
     "metadata": {},
     "output_type": "execute_result"
    },
    {
     "data": {
      "image/png": "[encoded data removed]",
      "text/plain": [
       "<Figure size 432x288 with 1 Axes>"
      ]
     },
     "metadata": {},
     "output_type": "display_data"
    }
   ],
   "source": [
    "df[['Longitude']].boxplot()"
   ]
  },
  {
   "cell_type": "markdown",
   "metadata": {},
   "source": [
    "### 24 Market"
   ]
  },
  {
   "cell_type": "code",
   "execution_count": 786,
   "metadata": {},
   "outputs": [
    {
     "data": {
      "text/plain": [
       "0         Pacific Asia\n",
       "1         Pacific Asia\n",
       "2         Pacific Asia\n",
       "3         Pacific Asia\n",
       "4         Pacific Asia\n",
       "              ...     \n",
       "180514    Pacific Asia\n",
       "180515    Pacific Asia\n",
       "180516    Pacific Asia\n",
       "180517    Pacific Asia\n",
       "180518    Pacific Asia\n",
       "Name: Market, Length: 180519, dtype: object"
      ]
     },
     "execution_count": 786,
     "metadata": {},
     "output_type": "execute_result"
    }
   ],
   "source": [
    "df['Market']"
   ]
  },
  {
   "cell_type": "code",
   "execution_count": 787,
   "metadata": {},
   "outputs": [
    {
     "data": {
      "text/plain": [
       "array(['Pacific Asia', 'USCA', 'Africa', 'Europe', 'LATAM'], dtype=object)"
      ]
     },
     "execution_count": 787,
     "metadata": {},
     "output_type": "execute_result"
    }
   ],
   "source": [
    "df['Market'].unique()"
   ]
  },
  {
   "cell_type": "code",
   "execution_count": 788,
   "metadata": {},
   "outputs": [
    {
     "data": {
      "text/plain": [
       "LATAM           51594\n",
       "Europe          50252\n",
       "Pacific Asia    41260\n",
       "USCA            25799\n",
       "Africa          11614\n",
       "Name: Market, dtype: int64"
      ]
     },
     "execution_count": 788,
     "metadata": {},
     "output_type": "execute_result"
    }
   ],
   "source": [
    "df['Market'].value_counts()"
   ]
  },
  {
   "cell_type": "code",
   "execution_count": 789,
   "metadata": {},
   "outputs": [
    {
     "data": {
      "text/plain": [
       "0"
      ]
     },
     "execution_count": 789,
     "metadata": {},
     "output_type": "execute_result"
    }
   ],
   "source": [
    "df['Market'].isna().sum()"
   ]
  },
  {
   "cell_type": "code",
   "execution_count": 790,
   "metadata": {},
   "outputs": [
    {
     "data": {
      "image/png": "[encoded data removed]",
      "text/plain": [
       "<Figure size 432x288 with 1 Axes>"
      ]
     },
     "metadata": {},
     "output_type": "display_data"
    }
   ],
   "source": [
    "plt.title(' Market to where the order is delivered')\n",
    "df['Market'].value_counts().plot(kind = 'pie', autopct = '%.2f%%', cmap = 'Set2', explode = [0.1, 0.1, 0.1,0.1, 0.1])\n",
    "plt.ylabel('');"
   ]
  },
  {
   "cell_type": "markdown",
   "metadata": {},
   "source": [
    "### 25 Order City"
   ]
  },
  {
   "cell_type": "code",
   "execution_count": 791,
   "metadata": {},
   "outputs": [
    {
     "data": {
      "text/plain": [
       "0             Bekasi\n",
       "1            Bikaner\n",
       "2            Bikaner\n",
       "3         Townsville\n",
       "4         Townsville\n",
       "             ...    \n",
       "180514      Shanghái\n",
       "180515      Hirakata\n",
       "180516      Adelaide\n",
       "180517      Adelaide\n",
       "180518     Nagercoil\n",
       "Name: Order City, Length: 180519, dtype: object"
      ]
     },
     "execution_count": 791,
     "metadata": {},
     "output_type": "execute_result"
    }
   ],
   "source": [
    "df['Order City']"
   ]
  },
  {
   "cell_type": "code",
   "execution_count": 792,
   "metadata": {},
   "outputs": [
    {
     "data": {
      "text/plain": [
       "array(['Bekasi', 'Bikaner', 'Townsville', ..., 'Tongling', 'Liuyang',\n",
       "       'Nashua'], dtype=object)"
      ]
     },
     "execution_count": 792,
     "metadata": {},
     "output_type": "execute_result"
    }
   ],
   "source": [
    "df['Order City'].unique()"
   ]
  },
  {
   "cell_type": "code",
   "execution_count": 793,
   "metadata": {},
   "outputs": [
    {
     "data": {
      "text/plain": [
       "Santo Domingo    2211\n",
       "New York City    2202\n",
       "Los Angeles      1845\n",
       "Tegucigalpa      1783\n",
       "Managua          1682\n",
       "                 ... \n",
       "Tinley Park         1\n",
       "Saint Peters        1\n",
       "Fort Portal         1\n",
       "Amagasaki           1\n",
       "Gatineau            1\n",
       "Name: Order City, Length: 3597, dtype: int64"
      ]
     },
     "execution_count": 793,
     "metadata": {},
     "output_type": "execute_result"
    }
   ],
   "source": [
    "df['Order City'].value_counts()"
   ]
  },
  {
   "cell_type": "code",
   "execution_count": 794,
   "metadata": {},
   "outputs": [
    {
     "data": {
      "text/plain": [
       "0"
      ]
     },
     "execution_count": 794,
     "metadata": {},
     "output_type": "execute_result"
    }
   ],
   "source": [
    "df['Order City'].isna().sum()"
   ]
  },
  {
   "cell_type": "markdown",
   "metadata": {},
   "source": [
    "### 26 Order Country"
   ]
  },
  {
   "cell_type": "code",
   "execution_count": 795,
   "metadata": {},
   "outputs": [
    {
     "data": {
      "text/plain": [
       "0         Indonesia\n",
       "1             India\n",
       "2             India\n",
       "3         Australia\n",
       "4         Australia\n",
       "            ...    \n",
       "180514        China\n",
       "180515        Japón\n",
       "180516    Australia\n",
       "180517    Australia\n",
       "180518        India\n",
       "Name: Order Country, Length: 180519, dtype: object"
      ]
     },
     "execution_count": 795,
     "metadata": {},
     "output_type": "execute_result"
    }
   ],
   "source": [
    "df['Order Country']"
   ]
  },
  {
   "cell_type": "code",
   "execution_count": 796,
   "metadata": {},
   "outputs": [
    {
     "data": {
      "text/plain": [
       "array(['Indonesia', 'India', 'Australia', 'China', 'Japón',\n",
       "       'Corea del Sur', 'Singapur', 'Turquía', 'Mongolia',\n",
       "       'Estados Unidos', 'Nigeria', 'República Democrática del Congo',\n",
       "       'Senegal', 'Marruecos', 'Alemania', 'Francia', 'Países Bajos',\n",
       "       'Reino Unido', 'Guatemala', 'El Salvador', 'Panamá',\n",
       "       'República Dominicana', 'Venezuela', 'Colombia', 'Honduras',\n",
       "       'Brasil', 'México', 'Uruguay', 'Argentina', 'Cuba', 'Perú',\n",
       "       'Nicaragua', 'Ecuador', 'Angola', 'Sudán', 'Somalia',\n",
       "       'Costa de Marfil', 'Egipto', 'Italia', 'España', 'Suecia',\n",
       "       'Austria', 'Canada', 'Madagascar', 'Argelia', 'Liberia', 'Zambia',\n",
       "       'Níger', 'SudAfrica', 'Mozambique', 'Tanzania', 'Ruanda', 'Israel',\n",
       "       'Nueva Zelanda', 'Bangladés', 'Tailandia', 'Irak', 'Arabia Saudí',\n",
       "       'Filipinas', 'Kazajistán', 'Irán', 'Myanmar (Birmania)',\n",
       "       'Uzbekistán', 'Benín', 'Camerún', 'Kenia', 'Togo', 'Ucrania',\n",
       "       'Polonia', 'Portugal', 'Rumania', 'Trinidad y Tobago',\n",
       "       'Afganistán', 'Pakistán', 'Vietnam', 'Malasia', 'Finlandia',\n",
       "       'Rusia', 'Irlanda', 'Noruega', 'Eslovaquia', 'Bélgica', 'Bolivia',\n",
       "       'Chile', 'Jamaica', 'Yemen', 'Ghana', 'Guinea', 'Etiopía',\n",
       "       'Bulgaria', 'Kirguistán', 'Georgia', 'Nepal',\n",
       "       'Emiratos Árabes Unidos', 'Camboya', 'Uganda', 'Lesoto',\n",
       "       'Lituania', 'Suiza', 'Hungría', 'Dinamarca', 'Haití',\n",
       "       'Bielorrusia', 'Croacia', 'Laos', 'Baréin', 'Macedonia',\n",
       "       'República Checa', 'Sri Lanka', 'Zimbabue', 'Eritrea',\n",
       "       'Burkina Faso', 'Costa Rica', 'Libia', 'Barbados', 'Tayikistán',\n",
       "       'Siria', 'Guadalupe', 'Papúa Nueva Guinea', 'Azerbaiyán',\n",
       "       'Turkmenistán', 'Paraguay', 'Jordania', 'Hong Kong', 'Martinica',\n",
       "       'Moldavia', 'Qatar', 'Mali', 'Albania', 'República del Congo',\n",
       "       'Bosnia y Herzegovina', 'Omán', 'Túnez', 'Sierra Leona', 'Yibuti',\n",
       "       'Burundi', 'Montenegro', 'Gabón', 'Sudán del Sur', 'Luxemburgo',\n",
       "       'Namibia', 'Mauritania', 'Grecia', 'Suazilandia', 'Guyana',\n",
       "       'Guayana Francesa', 'República Centroafricana', 'Taiwán',\n",
       "       'Estonia', 'Líbano', 'Chipre', 'Guinea-Bissau', 'Surinam',\n",
       "       'Belice', 'Eslovenia', 'República de Gambia', 'Botsuana',\n",
       "       'Armenia', 'Guinea Ecuatorial', 'Kuwait', 'Bután', 'Chad',\n",
       "       'Serbia', 'Sáhara Occidental'], dtype=object)"
      ]
     },
     "execution_count": 796,
     "metadata": {},
     "output_type": "execute_result"
    }
   ],
   "source": [
    "df['Order Country'].unique()"
   ]
  },
  {
   "cell_type": "code",
   "execution_count": 797,
   "metadata": {},
   "outputs": [
    {
     "data": {
      "text/plain": [
       "Estados Unidos       24840\n",
       "Francia              13222\n",
       "México               13172\n",
       "Alemania              9564\n",
       "Australia             8497\n",
       "                     ...  \n",
       "Guinea Ecuatorial        2\n",
       "Eritrea                  2\n",
       "Sáhara Occidental        2\n",
       "Serbia                   1\n",
       "Burundi                  1\n",
       "Name: Order Country, Length: 164, dtype: int64"
      ]
     },
     "execution_count": 797,
     "metadata": {},
     "output_type": "execute_result"
    }
   ],
   "source": [
    "df['Order Country'].value_counts()"
   ]
  },
  {
   "cell_type": "code",
   "execution_count": 798,
   "metadata": {},
   "outputs": [
    {
     "data": {
      "text/plain": [
       "0"
      ]
     },
     "execution_count": 798,
     "metadata": {},
     "output_type": "execute_result"
    }
   ],
   "source": [
    "df['Order Country'].isna().sum()"
   ]
  },
  {
   "cell_type": "markdown",
   "metadata": {},
   "source": [
    "### Order Customer Id"
   ]
  },
  {
   "cell_type": "code",
   "execution_count": 799,
   "metadata": {},
   "outputs": [
    {
     "data": {
      "text/plain": [
       "5654     47\n",
       "5004     45\n",
       "10591    45\n",
       "5715     44\n",
       "3708     44\n",
       "         ..\n",
       "13486     1\n",
       "17887     1\n",
       "15952     1\n",
       "13905     1\n",
       "14375     1\n",
       "Name: Order Customer Id, Length: 20652, dtype: int64"
      ]
     },
     "execution_count": 799,
     "metadata": {},
     "output_type": "execute_result"
    }
   ],
   "source": [
    "df[\"Order Customer Id\"].value_counts()"
   ]
  },
  {
   "cell_type": "code",
   "execution_count": 800,
   "metadata": {},
   "outputs": [
    {
     "data": {
      "text/plain": [
       "array([20755, 19492, 19491, ..., 18579, 16244,  2677], dtype=int64)"
      ]
     },
     "execution_count": 800,
     "metadata": {},
     "output_type": "execute_result"
    }
   ],
   "source": [
    "df[\"Order Customer Id\"].unique()"
   ]
  },
  {
   "cell_type": "code",
   "execution_count": 801,
   "metadata": {},
   "outputs": [
    {
     "data": {
      "text/plain": [
       "0"
      ]
     },
     "execution_count": 801,
     "metadata": {},
     "output_type": "execute_result"
    }
   ],
   "source": [
    "df[\"Order Customer Id\"].isna().sum()"
   ]
  },
  {
   "cell_type": "code",
   "execution_count": 802,
   "metadata": {},
   "outputs": [
    {
     "data": {
      "image/png": "[encoded data removed]",
      "text/plain": [
       "<Figure size 432x288 with 1 Axes>"
      ]
     },
     "metadata": {},
     "output_type": "display_data"
    }
   ],
   "source": [
    "sns.boxplot(df[\"Order Customer Id\"])\n",
    "plt.show()"
   ]
  },
  {
   "cell_type": "markdown",
   "metadata": {},
   "source": [
    "### order date (DateOrders)"
   ]
  },
  {
   "cell_type": "code",
   "execution_count": 803,
   "metadata": {},
   "outputs": [
    {
     "data": {
      "text/plain": [
       "3/21/2016 17:25     5\n",
       "8/9/2016 11:05      5\n",
       "8/27/2015 19:17     5\n",
       "8/5/2015 9:09       5\n",
       "6/13/2017 8:33      5\n",
       "                   ..\n",
       "12/29/2016 12:38    1\n",
       "10/30/2017 13:47    1\n",
       "5/27/2016 22:03     1\n",
       "11/11/2017 3:37     1\n",
       "1/19/2016 3:50      1\n",
       "Name: order date (DateOrders), Length: 65752, dtype: int64"
      ]
     },
     "execution_count": 803,
     "metadata": {},
     "output_type": "execute_result"
    }
   ],
   "source": [
    "df[\"order date (DateOrders)\"].value_counts()"
   ]
  },
  {
   "cell_type": "code",
   "execution_count": 804,
   "metadata": {},
   "outputs": [
    {
     "data": {
      "text/plain": [
       "array(['1/31/2018 22:56', '1/13/2018 12:27', '1/13/2018 12:06', ...,\n",
       "       '1/21/2016 2:47', '1/20/2016 7:10', '1/17/2016 5:56'], dtype=object)"
      ]
     },
     "execution_count": 804,
     "metadata": {},
     "output_type": "execute_result"
    }
   ],
   "source": [
    "df[\"order date (DateOrders)\"].unique()"
   ]
  },
  {
   "cell_type": "code",
   "execution_count": 805,
   "metadata": {},
   "outputs": [
    {
     "data": {
      "text/plain": [
       "0"
      ]
     },
     "execution_count": 805,
     "metadata": {},
     "output_type": "execute_result"
    }
   ],
   "source": [
    "df[\"order date (DateOrders)\"].isna().sum()"
   ]
  },
  {
   "cell_type": "markdown",
   "metadata": {},
   "source": [
    "### Order Id"
   ]
  },
  {
   "cell_type": "code",
   "execution_count": 806,
   "metadata": {},
   "outputs": [
    {
     "data": {
      "text/plain": [
       "30397    5\n",
       "16203    5\n",
       "42806    5\n",
       "49302    5\n",
       "60278    5\n",
       "        ..\n",
       "41140    1\n",
       "34752    1\n",
       "75636    1\n",
       "73587    1\n",
       "2049     1\n",
       "Name: Order Id, Length: 65752, dtype: int64"
      ]
     },
     "execution_count": 806,
     "metadata": {},
     "output_type": "execute_result"
    }
   ],
   "source": [
    "df[\"Order Id\"].value_counts()"
   ]
  },
  {
   "cell_type": "code",
   "execution_count": 807,
   "metadata": {},
   "outputs": [
    {
     "data": {
      "text/plain": [
       "array([77202, 75939, 75938, ..., 26383, 26327, 26118], dtype=int64)"
      ]
     },
     "execution_count": 807,
     "metadata": {},
     "output_type": "execute_result"
    }
   ],
   "source": [
    "df[\"Order Id\"].unique()"
   ]
  },
  {
   "cell_type": "code",
   "execution_count": 808,
   "metadata": {},
   "outputs": [
    {
     "data": {
      "text/plain": [
       "0"
      ]
     },
     "execution_count": 808,
     "metadata": {},
     "output_type": "execute_result"
    }
   ],
   "source": [
    "df[\"Order Id\"].isna().sum()"
   ]
  },
  {
   "cell_type": "code",
   "execution_count": 809,
   "metadata": {},
   "outputs": [
    {
     "data": {
      "image/png": "[encoded data removed]",
      "text/plain": [
       "<Figure size 432x288 with 1 Axes>"
      ]
     },
     "metadata": {},
     "output_type": "display_data"
    }
   ],
   "source": [
    "sns.boxplot(df[\"Order Id\"])\n",
    "plt.show()"
   ]
  },
  {
   "cell_type": "markdown",
   "metadata": {},
   "source": [
    "### Order Item Cardprod Id"
   ]
  },
  {
   "cell_type": "code",
   "execution_count": 810,
   "metadata": {},
   "outputs": [
    {
     "data": {
      "text/plain": [
       "365     24515\n",
       "403     22246\n",
       "502     21035\n",
       "1014    19298\n",
       "1004    17325\n",
       "        ...  \n",
       "127        27\n",
       "208        15\n",
       "860        11\n",
       "60         10\n",
       "226        10\n",
       "Name: Order Item Cardprod Id, Length: 118, dtype: int64"
      ]
     },
     "execution_count": 810,
     "metadata": {},
     "output_type": "execute_result"
    }
   ],
   "source": [
    "df[\"Order Item Cardprod Id\"].value_counts()"
   ]
  },
  {
   "cell_type": "code",
   "execution_count": 811,
   "metadata": {},
   "outputs": [
    {
     "data": {
      "text/plain": [
       "array([1360,  365,  627,  502,  278,  249,  191,  917,  828,  642,  818,\n",
       "        825,  306,  977,   44,  251,  403,  957, 1352, 1349, 1351,   60,\n",
       "         24,  567,  893,  924,  905,  564,  885, 1363, 1353, 1357,  906,\n",
       "        886,  926,  116,  235,  273,  282,  359,  565,  572,  804,  822,\n",
       "        835,  276,  823,  203,  364, 1350,  897,   37,  172,  810,  821,\n",
       "         93, 1347,  305, 1004, 1346,   58,  311,  303, 1354, 1348,   78,\n",
       "        258,  797,  981, 1355,  135,  134,  845,  982,  625, 1359, 1356,\n",
       "        607, 1358, 1362,  295,  127,   61,   35,  858,  860,  216,   19,\n",
       "        226,  208,  793,  792,  786,  778,  777,  775,  773,  771,  768,\n",
       "        743,  730,  728,  725,  724,  715,  705,  703,  691,  677,  671,\n",
       "        666,  652,  647,  646, 1361, 1073, 1059, 1014], dtype=int64)"
      ]
     },
     "execution_count": 811,
     "metadata": {},
     "output_type": "execute_result"
    }
   ],
   "source": [
    "df[\"Order Item Cardprod Id\"].unique()"
   ]
  },
  {
   "cell_type": "code",
   "execution_count": 812,
   "metadata": {},
   "outputs": [
    {
     "data": {
      "text/plain": [
       "0"
      ]
     },
     "execution_count": 812,
     "metadata": {},
     "output_type": "execute_result"
    }
   ],
   "source": [
    "df[\"Order Item Cardprod Id\"].isna().sum()"
   ]
  },
  {
   "cell_type": "code",
   "execution_count": 813,
   "metadata": {},
   "outputs": [
    {
     "data": {
      "image/png": "[encoded data removed]",
      "text/plain": [
       "<Figure size 432x288 with 1 Axes>"
      ]
     },
     "metadata": {},
     "output_type": "display_data"
    }
   ],
   "source": [
    "sns.boxplot(df[\"Order Item Cardprod Id\"])\n",
    "plt.show()"
   ]
  },
  {
   "cell_type": "markdown",
   "metadata": {},
   "source": [
    "### Order Item Discount"
   ]
  },
  {
   "cell_type": "code",
   "execution_count": 814,
   "metadata": {},
   "outputs": [
    {
     "data": {
      "text/plain": [
       "0.000000     10028\n",
       "6.000000      4589\n",
       "12.000000     4067\n",
       "4.000000      3647\n",
       "8.000000      3626\n",
       "             ...  \n",
       "57.599998        1\n",
       "40.799999        1\n",
       "54.400002        1\n",
       "61.740002        1\n",
       "80.739998        1\n",
       "Name: Order Item Discount, Length: 1017, dtype: int64"
      ]
     },
     "execution_count": 814,
     "metadata": {},
     "output_type": "execute_result"
    }
   ],
   "source": [
    "df[\"Order Item Discount\"].value_counts()"
   ]
  },
  {
   "cell_type": "code",
   "execution_count": 815,
   "metadata": {},
   "outputs": [
    {
     "data": {
      "text/plain": [
       "array([ 13.10999966,  16.38999939,  18.03000069, ..., 140.        ,\n",
       "        33.65999985,  61.18999863])"
      ]
     },
     "execution_count": 815,
     "metadata": {},
     "output_type": "execute_result"
    }
   ],
   "source": [
    "df[\"Order Item Discount\"].unique()"
   ]
  },
  {
   "cell_type": "code",
   "execution_count": 816,
   "metadata": {},
   "outputs": [
    {
     "data": {
      "text/plain": [
       "0"
      ]
     },
     "execution_count": 816,
     "metadata": {},
     "output_type": "execute_result"
    }
   ],
   "source": [
    "df[\"Order Item Discount\"].isna().sum()"
   ]
  },
  {
   "cell_type": "code",
   "execution_count": 817,
   "metadata": {},
   "outputs": [
    {
     "data": {
      "image/png": "[encoded data removed]",
      "text/plain": [
       "<Figure size 432x288 with 1 Axes>"
      ]
     },
     "metadata": {},
     "output_type": "display_data"
    }
   ],
   "source": [
    "sns.boxplot(df[\"Order Item Discount\"])\n",
    "plt.show()"
   ]
  },
  {
   "cell_type": "markdown",
   "metadata": {},
   "source": [
    "### Order Item Discount Rate"
   ]
  },
  {
   "cell_type": "code",
   "execution_count": 818,
   "metadata": {},
   "outputs": [
    {
     "data": {
      "text/plain": [
       "0.16    10029\n",
       "0.07    10029\n",
       "0.18    10029\n",
       "0.05    10029\n",
       "0.04    10029\n",
       "0.15    10029\n",
       "0.10    10029\n",
       "0.13    10029\n",
       "0.25    10029\n",
       "0.09    10029\n",
       "0.20    10029\n",
       "0.03    10029\n",
       "0.06    10029\n",
       "0.17    10029\n",
       "0.12    10029\n",
       "0.02    10028\n",
       "0.00    10028\n",
       "0.01    10028\n",
       "Name: Order Item Discount Rate, dtype: int64"
      ]
     },
     "execution_count": 818,
     "metadata": {},
     "output_type": "execute_result"
    }
   ],
   "source": [
    "df[\"Order Item Discount Rate\"].value_counts()"
   ]
  },
  {
   "cell_type": "code",
   "execution_count": 819,
   "metadata": {},
   "outputs": [
    {
     "data": {
      "text/plain": [
       "array([0.04      , 0.05      , 0.06      , 0.07      , 0.09      ,\n",
       "       0.1       , 0.12      , 0.13      , 0.15000001, 0.16      ,\n",
       "       0.17      , 0.18000001, 0.2       , 0.25      , 0.        ,\n",
       "       0.01      , 0.02      , 0.03      ])"
      ]
     },
     "execution_count": 819,
     "metadata": {},
     "output_type": "execute_result"
    }
   ],
   "source": [
    "df[\"Order Item Discount Rate\"].unique()"
   ]
  },
  {
   "cell_type": "code",
   "execution_count": 820,
   "metadata": {},
   "outputs": [
    {
     "data": {
      "text/plain": [
       "0"
      ]
     },
     "execution_count": 820,
     "metadata": {},
     "output_type": "execute_result"
    }
   ],
   "source": [
    "df[\"Order Item Discount Rate\"].isna().sum()"
   ]
  },
  {
   "cell_type": "code",
   "execution_count": 821,
   "metadata": {},
   "outputs": [
    {
     "data": {
      "image/png": "[encoded data removed]",
      "text/plain": [
       "<Figure size 432x288 with 1 Axes>"
      ]
     },
     "metadata": {},
     "output_type": "display_data"
    }
   ],
   "source": [
    "sns.boxplot(df[\"Order Item Discount Rate\"])\n",
    "plt.show()"
   ]
  },
  {
   "cell_type": "markdown",
   "metadata": {},
   "source": [
    "### Order Item Id"
   ]
  },
  {
   "cell_type": "code",
   "execution_count": 822,
   "metadata": {},
   "outputs": [
    {
     "data": {
      "text/plain": [
       "2047      1\n",
       "79372     1\n",
       "144748    1\n",
       "134507    1\n",
       "132458    1\n",
       "         ..\n",
       "39622     1\n",
       "33477     1\n",
       "35524     1\n",
       "45763     1\n",
       "2049      1\n",
       "Name: Order Item Id, Length: 180519, dtype: int64"
      ]
     },
     "execution_count": 822,
     "metadata": {},
     "output_type": "execute_result"
    }
   ],
   "source": [
    "df[\"Order Item Id\"].value_counts()"
   ]
  },
  {
   "cell_type": "code",
   "execution_count": 823,
   "metadata": {},
   "outputs": [
    {
     "data": {
      "text/plain": [
       "array([180517, 179254, 179253, ...,  65129,  65126,  65113], dtype=int64)"
      ]
     },
     "execution_count": 823,
     "metadata": {},
     "output_type": "execute_result"
    }
   ],
   "source": [
    "df[\"Order Item Id\"].unique()"
   ]
  },
  {
   "cell_type": "code",
   "execution_count": 824,
   "metadata": {},
   "outputs": [
    {
     "data": {
      "text/plain": [
       "0"
      ]
     },
     "execution_count": 824,
     "metadata": {},
     "output_type": "execute_result"
    }
   ],
   "source": [
    "df[\"Order Item Id\"].isna().sum()"
   ]
  },
  {
   "cell_type": "code",
   "execution_count": 825,
   "metadata": {},
   "outputs": [
    {
     "data": {
      "image/png": "[encoded data removed]",
      "text/plain": [
       "<Figure size 432x288 with 1 Axes>"
      ]
     },
     "metadata": {},
     "output_type": "display_data"
    }
   ],
   "source": [
    "sns.boxplot(df[\"Order Item Id\"])\n",
    "plt.show()"
   ]
  },
  {
   "cell_type": "markdown",
   "metadata": {},
   "source": [
    "### Order Item Product Price"
   ]
  },
  {
   "cell_type": "code",
   "execution_count": 826,
   "metadata": {},
   "outputs": [
    {
     "data": {
      "text/plain": [
       "59.990002      24820\n",
       "129.990005     22372\n",
       "50.000000      21035\n",
       "49.980000      19298\n",
       "399.980011     17325\n",
       "               ...  \n",
       "349.989990        40\n",
       "329.989990        27\n",
       "599.989990        21\n",
       "1999.989990       15\n",
       "999.989990        10\n",
       "Name: Order Item Product Price, Length: 75, dtype: int64"
      ]
     },
     "execution_count": 826,
     "metadata": {},
     "output_type": "execute_result"
    }
   ],
   "source": [
    "df[\"Order Item Product Price\"].value_counts()"
   ]
  },
  {
   "cell_type": "code",
   "execution_count": 827,
   "metadata": {},
   "outputs": [
    {
     "data": {
      "text/plain": [
       "array([ 327.75      ,   59.99000168,   39.99000168,   50.        ,\n",
       "         44.99000168,   54.97000122,   99.98999786,   21.98999977,\n",
       "         31.98999977,   30.        ,   47.99000168,   89.98999786,\n",
       "         29.98999977,  129.9900055 ,  299.980011  ,  252.8800049 ,\n",
       "        452.0400085 , 1500.        ,  999.9899902 ,   79.98999786,\n",
       "         25.        ,   24.98999977,   15.98999977,  215.8200073 ,\n",
       "        461.480011  ,  210.8500061 ,   34.99000168,   27.98999977,\n",
       "         70.        ,   19.98999977,   51.99000168,  399.9899902 ,\n",
       "        299.9899902 ,  357.1000061 ,   59.08000183,  199.        ,\n",
       "        399.980011  ,   31.07999992,  109.9499969 ,  164.3800049 ,\n",
       "         11.28999996,   94.98999786,   17.98999977,   99.        ,\n",
       "        532.5800171 ,   22.        ,  149.9900055 ,  199.9900055 ,\n",
       "         84.40000153,  293.0400085 ,  249.9900055 ,  260.6499939 ,\n",
       "         39.75      ,   99.94999695,  329.9899902 ,  159.9900055 ,\n",
       "        599.9899902 ,  189.        ,  124.9899979 , 1999.98999   ,\n",
       "         14.98999977,  179.9900055 ,    9.98999977,  169.9900055 ,\n",
       "         80.        ,   65.        ,  108.        ,  100.        ,\n",
       "        119.9899979 ,  209.9900055 ,  109.9899979 ,  134.9900055 ,\n",
       "         11.53999996,  349.9899902 ,   49.97999954])"
      ]
     },
     "execution_count": 827,
     "metadata": {},
     "output_type": "execute_result"
    }
   ],
   "source": [
    "df[\"Order Item Product Price\"].unique()"
   ]
  },
  {
   "cell_type": "code",
   "execution_count": 828,
   "metadata": {},
   "outputs": [
    {
     "data": {
      "text/plain": [
       "0"
      ]
     },
     "execution_count": 828,
     "metadata": {},
     "output_type": "execute_result"
    }
   ],
   "source": [
    "df[\"Order Item Product Price\"].isna().sum()"
   ]
  },
  {
   "cell_type": "code",
   "execution_count": 829,
   "metadata": {},
   "outputs": [
    {
     "data": {
      "image/png": "[encoded data removed]",
      "text/plain": [
       "<Figure size 432x288 with 1 Axes>"
      ]
     },
     "metadata": {},
     "output_type": "display_data"
    }
   ],
   "source": [
    "sns.boxplot(df[\"Order Item Product Price\"])\n",
    "plt.show()"
   ]
  },
  {
   "cell_type": "markdown",
   "metadata": {},
   "source": [
    "### Order Item Profit Ratio "
   ]
  },
  {
   "cell_type": "code",
   "execution_count": 830,
   "metadata": {},
   "outputs": [
    {
     "data": {
      "text/plain": [
       " 0.48    9197\n",
       " 0.35    7997\n",
       " 0.26    6577\n",
       " 0.34    6507\n",
       " 0.47    6378\n",
       "         ... \n",
       "-2.30      18\n",
       "-2.05      18\n",
       "-2.10      18\n",
       "-0.93      18\n",
       "-1.10      18\n",
       "Name: Order Item Profit Ratio, Length: 162, dtype: int64"
      ]
     },
     "execution_count": 830,
     "metadata": {},
     "output_type": "execute_result"
    }
   ],
   "source": [
    "df[\"Order Item Profit Ratio\"].value_counts()"
   ]
  },
  {
   "cell_type": "code",
   "execution_count": 831,
   "metadata": {},
   "outputs": [
    {
     "data": {
      "text/plain": [
       "array([ 0.28999999, -0.80000001,  0.08      ,  0.44999999,  0.06      ,\n",
       "        0.33000001,  0.23999999,  0.47999999,  0.17      ,  0.1       ,\n",
       "        0.05      , -0.76999998,  0.28      ,  0.5       ,  0.27000001,\n",
       "        0.31      ,  0.46000001,  0.30000001, -0.06      ,  0.09      ,\n",
       "       -0.30000001, -1.33000004,  0.2       ,  0.11      ,  0.19      ,\n",
       "        0.41999999,  0.        , -0.27000001, -1.54999995,  0.34999999,\n",
       "       -0.25      ,  0.25999999, -0.69999999,  0.34      ,  0.44      ,\n",
       "        0.49000001,  0.25      ,  0.15000001,  0.14      , -1.60000002,\n",
       "       -0.16      ,  0.16      ,  0.13      ,  0.04      ,  0.36000001,\n",
       "        0.22      , -0.1       , -0.2       , -0.04      ,  0.37999999,\n",
       "       -1.64999998, -0.60000002, -0.05      ,  0.18000001,  0.47      ,\n",
       "       -0.82999998, -0.55000001,  0.03      , -0.68000001, -0.14      ,\n",
       "        0.12      ,  0.23      ,  0.07      , -1.70000005, -0.19      ,\n",
       "       -0.01      , -0.73000002,  0.41      , -2.70000005, -0.67000002,\n",
       "       -0.20999999, -0.23      ,  0.20999999, -1.5       , -0.23999999,\n",
       "       -0.88      ,  0.02      ,  0.37000001,  0.43000001, -1.75      ,\n",
       "       -0.18000001, -0.11      ,  0.31999999, -0.44999999,  0.38999999,\n",
       "       -0.17      , -0.08      , -0.13      , -0.74000001, -0.28      ,\n",
       "       -0.03      , -0.09      , -1.76999998, -0.63      ,  0.01      ,\n",
       "       -0.22      , -0.15000001, -0.40000001, -0.37999999, -0.33000001,\n",
       "       -0.47999999,  0.40000001, -1.42999995, -0.64999998, -0.52999997,\n",
       "       -2.75      , -1.10000002, -0.07      , -0.62      , -0.34      ,\n",
       "       -1.47000003, -2.06999993, -0.85000002, -0.51999998, -2.5999999 ,\n",
       "       -2.04999995, -2.54999995, -0.63999999, -0.66000003, -2.20000005,\n",
       "       -2.5       , -0.37000001, -0.34999999, -0.77999997, -1.57000005,\n",
       "       -0.46000001, -0.75      , -0.5       , -2.25      , -0.43000001,\n",
       "       -0.31      , -1.29999995, -0.86000001, -0.36000001, -0.56999999,\n",
       "       -1.23000002, -1.04999995, -1.17999995, -1.25      , -0.49000001,\n",
       "       -1.79999995, -0.25999999, -0.57999998, -0.31999999, -0.56      ,\n",
       "       -1.39999998, -0.98000002, -0.44      , -2.3499999 , -2.6500001 ,\n",
       "       -0.41999999, -1.20000005, -0.54000002, -0.02      , -1.37000001,\n",
       "       -2.45000005, -0.93000001, -1.27999997, -0.89999998, -2.29999995,\n",
       "       -1.08000004, -2.0999999 ])"
      ]
     },
     "execution_count": 831,
     "metadata": {},
     "output_type": "execute_result"
    }
   ],
   "source": [
    "df[\"Order Item Profit Ratio\"].unique()"
   ]
  },
  {
   "cell_type": "code",
   "execution_count": 832,
   "metadata": {},
   "outputs": [
    {
     "data": {
      "text/plain": [
       "0"
      ]
     },
     "execution_count": 832,
     "metadata": {},
     "output_type": "execute_result"
    }
   ],
   "source": [
    "df[\"Order Item Profit Ratio\"].isna().sum()"
   ]
  },
  {
   "cell_type": "code",
   "execution_count": 833,
   "metadata": {},
   "outputs": [
    {
     "data": {
      "image/png": "[encoded data removed]",
      "text/plain": [
       "<Figure size 432x288 with 1 Axes>"
      ]
     },
     "metadata": {},
     "output_type": "display_data"
    }
   ],
   "source": [
    "sns.boxplot(df[\"Order Item Profit Ratio\"])\n",
    "plt.show()"
   ]
  },
  {
   "cell_type": "markdown",
   "metadata": {},
   "source": [
    "### Order Item Quantity "
   ]
  },
  {
   "cell_type": "code",
   "execution_count": 834,
   "metadata": {},
   "outputs": [
    {
     "data": {
      "text/plain": [
       "1    99134\n",
       "5    20385\n",
       "3    20350\n",
       "4    20335\n",
       "2    20315\n",
       "Name: Order Item Quantity, dtype: int64"
      ]
     },
     "execution_count": 834,
     "metadata": {},
     "output_type": "execute_result"
    }
   ],
   "source": [
    "df[\"Order Item Quantity\"].value_counts()"
   ]
  },
  {
   "cell_type": "code",
   "execution_count": 835,
   "metadata": {},
   "outputs": [
    {
     "data": {
      "text/plain": [
       "array([1, 2, 3, 5, 4], dtype=int64)"
      ]
     },
     "execution_count": 835,
     "metadata": {},
     "output_type": "execute_result"
    }
   ],
   "source": [
    "df[\"Order Item Quantity\"].unique()"
   ]
  },
  {
   "cell_type": "code",
   "execution_count": 836,
   "metadata": {},
   "outputs": [
    {
     "data": {
      "text/plain": [
       "0"
      ]
     },
     "execution_count": 836,
     "metadata": {},
     "output_type": "execute_result"
    }
   ],
   "source": [
    "df[\"Order Item Quantity\"].isna().sum()"
   ]
  },
  {
   "cell_type": "code",
   "execution_count": 837,
   "metadata": {},
   "outputs": [
    {
     "data": {
      "image/png": "[encoded data removed]",
      "text/plain": [
       "<Figure size 432x288 with 1 Axes>"
      ]
     },
     "metadata": {},
     "output_type": "display_data"
    }
   ],
   "source": [
    "sns.boxplot(df[\"Order Item Quantity\"])\n",
    "plt.show()"
   ]
  },
  {
   "cell_type": "markdown",
   "metadata": {},
   "source": [
    "### Sales"
   ]
  },
  {
   "cell_type": "code",
   "execution_count": 838,
   "metadata": {},
   "outputs": [
    {
     "data": {
      "text/plain": [
       "129.990005    22372\n",
       "399.980011    17325\n",
       "199.990005    15622\n",
       "299.980011    13729\n",
       "179.970001     5016\n",
       "              ...  \n",
       "379.959992       10\n",
       "999.989990       10\n",
       "99.000000         9\n",
       "198.000000        9\n",
       "396.000000        9\n",
       "Name: Sales, Length: 193, dtype: int64"
      ]
     },
     "execution_count": 838,
     "metadata": {},
     "output_type": "execute_result"
    }
   ],
   "source": [
    "df[\"Sales\"].value_counts()"
   ]
  },
  {
   "cell_type": "code",
   "execution_count": 839,
   "metadata": {},
   "outputs": [
    {
     "data": {
      "text/plain": [
       "array([ 327.75      ,  119.9800034 ,   79.98000336,  100.        ,\n",
       "         89.98000336,  109.9400024 ,  299.9700012 ,  119.9700012 ,\n",
       "         65.97000122,   95.97000122,  179.9700012 ,  150.        ,\n",
       "        250.        ,  199.9499969 ,  239.9499969 ,  159.9499969 ,\n",
       "        449.9500122 ,  149.9499969 ,  299.9500122 ,  499.9500122 ,\n",
       "         99.98999786,  129.9900055 ,   59.99000168,  299.980011  ,\n",
       "        252.8800049 ,  452.0400085 , 1500.        ,  999.9899902 ,\n",
       "         79.98999786,   44.99000168,  134.9700012 ,   75.        ,\n",
       "         74.97000122,   47.97000122,  239.9600067 ,  200.        ,\n",
       "        159.9600067 ,   99.95999908,  399.9599915 ,  120.        ,\n",
       "        215.8200073 ,  461.480011  ,  210.8500061 ,  124.9499969 ,\n",
       "         79.94999695,  224.9499969 ,  174.9499969 ,  139.9499969 ,\n",
       "        140.        ,   50.        ,   63.97999954,   49.97999954,\n",
       "         39.97999954,   95.98000336,  127.9599991 ,  207.9600067 ,\n",
       "        350.        ,   99.94999695,  399.9899902 ,   27.98999977,\n",
       "        299.9899902 ,  357.1000061 ,  125.        ,   79.95999908,\n",
       "        179.9600067 ,  280.        ,   59.08000183,   31.97999954,\n",
       "        199.9799957 ,   55.97999954,   60.        ,   31.98999977,\n",
       "         24.98999977,  199.        ,  399.980011  ,   31.07999992,\n",
       "         89.98999786,   39.99000168,   30.        ,   19.98999977,\n",
       "        109.9499969 ,  164.3800049 ,   11.28999996,   63.95999908,\n",
       "        191.9600067 ,  319.9599915 ,  111.9599991 ,  139.9600067 ,\n",
       "        379.9599915 ,   89.94999695,  259.9500122 ,  495.        ,\n",
       "         21.98999977,  532.5800171 ,   47.99000168,   15.98999977,\n",
       "         51.99000168,  103.9800034 ,   43.97999954,   69.98000336,\n",
       "         90.        ,  104.9700012 ,   44.        ,   88.        ,\n",
       "         22.        ,   66.        ,  110.        ,   25.        ,\n",
       "         70.        ,  149.9900055 ,   34.99000168,  199.9900055 ,\n",
       "         17.98999977,   84.40000153,  293.0400085 ,  249.9900055 ,\n",
       "        260.6499939 ,  155.9700012 ,  274.8500061 ,   39.75      ,\n",
       "         29.98999977,  399.9500122 ,   71.95999908,  219.8800049 ,\n",
       "        299.8500061 ,  164.9100037 ,   59.97000122,  143.9700012 ,\n",
       "        210.        ,   83.97000122,   53.97000122,  329.9899902 ,\n",
       "        159.9900055 ,  599.9899902 ,   54.97000122,   59.97999954,\n",
       "        199.8999939 ,  284.9700012 ,   89.97000122,  119.9599991 ,\n",
       "         87.95999908,  159.9799957 ,   35.97999954,  297.        ,\n",
       "        399.7999878 ,  189.9799957 ,  179.9799957 ,  189.        ,\n",
       "        359.9599915 ,  499.75      ,  474.9500122 ,  239.9700012 ,\n",
       "        124.9899979 , 1999.98999   ,  198.        ,  269.9700012 ,\n",
       "        396.        ,   99.        ,   94.98999786,   14.98999977,\n",
       "         29.97999954,   59.95999908,   44.97000122,   74.94999695,\n",
       "        179.9900055 ,   39.95999908,   29.96999931,   19.97999954,\n",
       "          9.98999977,   49.95000076,  169.9900055 ,  160.        ,\n",
       "         80.        ,  320.        ,  400.        ,  240.        ,\n",
       "        325.        ,   65.        ,  130.        ,  195.        ,\n",
       "        260.        ,  108.        ,  300.        ,  500.        ,\n",
       "        119.9899979 ,  209.9900055 ,  109.9899979 ,  134.9900055 ,\n",
       "         11.53999996,  349.9899902 ,  149.9400024 ,  249.8999939 ,\n",
       "        199.9199982 ])"
      ]
     },
     "execution_count": 839,
     "metadata": {},
     "output_type": "execute_result"
    }
   ],
   "source": [
    "df[\"Sales\"].unique()"
   ]
  },
  {
   "cell_type": "code",
   "execution_count": 840,
   "metadata": {},
   "outputs": [
    {
     "data": {
      "text/plain": [
       "0"
      ]
     },
     "execution_count": 840,
     "metadata": {},
     "output_type": "execute_result"
    }
   ],
   "source": [
    "df[\"Sales\"].isna().sum()"
   ]
  },
  {
   "cell_type": "code",
   "execution_count": 841,
   "metadata": {},
   "outputs": [
    {
     "data": {
      "image/png": "[encoded data removed]",
      "text/plain": [
       "<Figure size 432x288 with 1 Axes>"
      ]
     },
     "metadata": {},
     "output_type": "display_data"
    }
   ],
   "source": [
    "sns.boxplot(df[\"Sales\"])\n",
    "plt.show()"
   ]
  },
  {
   "cell_type": "markdown",
   "metadata": {},
   "source": [
    "### Order Item Total"
   ]
  },
  {
   "cell_type": "code",
   "execution_count": 842,
   "metadata": {},
   "outputs": [
    {
     "data": {
      "text/plain": [
       "122.839996    1264\n",
       "109.190002    1247\n",
       "114.389999    1243\n",
       "113.089996    1243\n",
       "129.990005    1243\n",
       "              ... \n",
       "432.200012       1\n",
       "131.199997       1\n",
       "464.769989       1\n",
       "521.989990       1\n",
       "165.279999       1\n",
       "Name: Order Item Total, Length: 2927, dtype: int64"
      ]
     },
     "execution_count": 842,
     "metadata": {},
     "output_type": "execute_result"
    }
   ],
   "source": [
    "df[\"Order Item Total\"].value_counts()"
   ]
  },
  {
   "cell_type": "code",
   "execution_count": 843,
   "metadata": {},
   "outputs": [
    {
     "data": {
      "text/plain": [
       "array([314.6400146, 311.3599854, 309.7200012, ..., 298.769989 ,\n",
       "       403.7099915, 474.7600098])"
      ]
     },
     "execution_count": 843,
     "metadata": {},
     "output_type": "execute_result"
    }
   ],
   "source": [
    "df[\"Order Item Total\"].unique()"
   ]
  },
  {
   "cell_type": "code",
   "execution_count": 844,
   "metadata": {},
   "outputs": [
    {
     "data": {
      "text/plain": [
       "0"
      ]
     },
     "execution_count": 844,
     "metadata": {},
     "output_type": "execute_result"
    }
   ],
   "source": [
    "df[\"Order Item Total\"].isna().sum()"
   ]
  },
  {
   "cell_type": "code",
   "execution_count": 845,
   "metadata": {},
   "outputs": [
    {
     "data": {
      "image/png": "[encoded data removed]",
      "text/plain": [
       "<Figure size 432x288 with 1 Axes>"
      ]
     },
     "metadata": {},
     "output_type": "display_data"
    }
   ],
   "source": [
    "sns.boxplot(df[\"Order Item Total\"])\n",
    "plt.show()"
   ]
  },
  {
   "cell_type": "markdown",
   "metadata": {},
   "source": [
    "### Order Profit Per Order"
   ]
  },
  {
   "cell_type": "code",
   "execution_count": 846,
   "metadata": {},
   "outputs": [
    {
     "data": {
      "text/plain": [
       " 0.000000      1177\n",
       " 143.990005     199\n",
       " 72.000000      194\n",
       " 46.799999      188\n",
       " 24.000000      181\n",
       "               ... \n",
       "-33.029999        1\n",
       " 323.700012       1\n",
       "-106.589996       1\n",
       "-41.389999        1\n",
       "-63.520000        1\n",
       "Name: Order Profit Per Order, Length: 21998, dtype: int64"
      ]
     },
     "execution_count": 846,
     "metadata": {},
     "output_type": "execute_result"
    }
   ],
   "source": [
    "df[\"Order Profit Per Order\"].value_counts()"
   ]
  },
  {
   "cell_type": "code",
   "execution_count": 847,
   "metadata": {},
   "outputs": [
    {
     "data": {
      "text/plain": [
       "array([  91.25     , -249.0899963, -247.7799988, ..., -103.9700012,\n",
       "       -237.5899963, -337.1000061])"
      ]
     },
     "execution_count": 847,
     "metadata": {},
     "output_type": "execute_result"
    }
   ],
   "source": [
    "df[\"Order Profit Per Order\"].unique()"
   ]
  },
  {
   "cell_type": "code",
   "execution_count": 848,
   "metadata": {},
   "outputs": [
    {
     "data": {
      "text/plain": [
       "0"
      ]
     },
     "execution_count": 848,
     "metadata": {},
     "output_type": "execute_result"
    }
   ],
   "source": [
    "df[\"Order Profit Per Order\"].isna().sum()"
   ]
  },
  {
   "cell_type": "code",
   "execution_count": 849,
   "metadata": {},
   "outputs": [
    {
     "data": {
      "image/png": "[encoded data removed]",
      "text/plain": [
       "<Figure size 432x288 with 1 Axes>"
      ]
     },
     "metadata": {},
     "output_type": "display_data"
    }
   ],
   "source": [
    "sns.boxplot(df[\"Order Profit Per Order\"])\n",
    "plt.show()"
   ]
  },
  {
   "cell_type": "markdown",
   "metadata": {},
   "source": [
    "# column no. 40 - order region"
   ]
  },
  {
   "cell_type": "code",
   "execution_count": 850,
   "metadata": {},
   "outputs": [
    {
     "data": {
      "text/plain": [
       "Central America    28341\n",
       "Western Europe     27109\n",
       "South America      14935\n",
       "Oceania            10148\n",
       "Northern Europe     9792\n",
       "Southeast Asia      9539\n",
       "Southern Europe     9431\n",
       "Caribbean           8318\n",
       "West of USA         7993\n",
       "South Asia          7731\n",
       "Eastern Asia        7280\n",
       "East of USA         6915\n",
       "West Asia           6009\n",
       "US Center           5887\n",
       "South of  USA       4045\n",
       "Eastern Europe      3920\n",
       "West Africa         3696\n",
       "North Africa        3232\n",
       "East Africa         1852\n",
       "Central Africa      1677\n",
       "Southern Africa     1157\n",
       "Canada               959\n",
       "Central Asia         553\n",
       "Name: Order Region, dtype: int64"
      ]
     },
     "execution_count": 850,
     "metadata": {},
     "output_type": "execute_result"
    }
   ],
   "source": [
    "df['Order Region'].value_counts()"
   ]
  },
  {
   "cell_type": "markdown",
   "metadata": {},
   "source": [
    "### Identifying missing values"
   ]
  },
  {
   "cell_type": "code",
   "execution_count": 851,
   "metadata": {},
   "outputs": [
    {
     "data": {
      "text/plain": [
       "0"
      ]
     },
     "execution_count": 851,
     "metadata": {},
     "output_type": "execute_result"
    }
   ],
   "source": [
    "df['Order Region'].isna().sum()"
   ]
  },
  {
   "cell_type": "markdown",
   "metadata": {},
   "source": [
    "### Identifying outliers"
   ]
  },
  {
   "cell_type": "raw",
   "metadata": {},
   "source": [
    "No Outliers because of categeorical data "
   ]
  },
  {
   "cell_type": "markdown",
   "metadata": {},
   "source": [
    "# column no. 41 - Order State"
   ]
  },
  {
   "cell_type": "code",
   "execution_count": 852,
   "metadata": {},
   "outputs": [
    {
     "data": {
      "text/plain": [
       "Inglaterra                     6722\n",
       "California                     4966\n",
       "Isla de Francia                4580\n",
       "Renania del Norte-Westfalia    3303\n",
       "San Salvador                   3055\n",
       "                               ... \n",
       "Bistrita-Nasaud                   1\n",
       "Kabarole                          1\n",
       "Aomori                            1\n",
       "Terranova                         1\n",
       "Suceava                           1\n",
       "Name: Order State, Length: 1089, dtype: int64"
      ]
     },
     "execution_count": 852,
     "metadata": {},
     "output_type": "execute_result"
    }
   ],
   "source": [
    "df['Order State'].value_counts()"
   ]
  },
  {
   "cell_type": "markdown",
   "metadata": {},
   "source": [
    "### Identifying missing values"
   ]
  },
  {
   "cell_type": "code",
   "execution_count": 853,
   "metadata": {},
   "outputs": [
    {
     "data": {
      "text/plain": [
       "0"
      ]
     },
     "execution_count": 853,
     "metadata": {},
     "output_type": "execute_result"
    }
   ],
   "source": [
    "df['Order State'].isna().sum()"
   ]
  },
  {
   "cell_type": "markdown",
   "metadata": {},
   "source": [
    "### Identifying outliers"
   ]
  },
  {
   "cell_type": "raw",
   "metadata": {},
   "source": [
    "No Outliers because of categeorical data "
   ]
  },
  {
   "cell_type": "markdown",
   "metadata": {},
   "source": [
    "# column no. 42 - Order Status"
   ]
  },
  {
   "cell_type": "code",
   "execution_count": 854,
   "metadata": {},
   "outputs": [
    {
     "data": {
      "text/plain": [
       "COMPLETE           59491\n",
       "PENDING_PAYMENT    39832\n",
       "PROCESSING         21902\n",
       "PENDING            20227\n",
       "CLOSED             19616\n",
       "ON_HOLD             9804\n",
       "SUSPECTED_FRAUD     4062\n",
       "CANCELED            3692\n",
       "PAYMENT_REVIEW      1893\n",
       "Name: Order Status, dtype: int64"
      ]
     },
     "execution_count": 854,
     "metadata": {},
     "output_type": "execute_result"
    }
   ],
   "source": [
    "df['Order Status'].value_counts()"
   ]
  },
  {
   "cell_type": "markdown",
   "metadata": {},
   "source": [
    "### Identifying missing values"
   ]
  },
  {
   "cell_type": "code",
   "execution_count": 855,
   "metadata": {},
   "outputs": [
    {
     "data": {
      "text/plain": [
       "0"
      ]
     },
     "execution_count": 855,
     "metadata": {},
     "output_type": "execute_result"
    }
   ],
   "source": [
    "df['Order Status'].isna().sum()"
   ]
  },
  {
   "cell_type": "markdown",
   "metadata": {},
   "source": [
    "### Identifying outliers"
   ]
  },
  {
   "cell_type": "raw",
   "metadata": {},
   "source": [
    "No Outliers because of categeorical data "
   ]
  },
  {
   "cell_type": "markdown",
   "metadata": {},
   "source": [
    "# column no. 43 - Order Zipcode"
   ]
  },
  {
   "cell_type": "code",
   "execution_count": 856,
   "metadata": {},
   "outputs": [
    {
     "data": {
      "text/plain": [
       "10035.0    648\n",
       "10009.0    550\n",
       "10024.0    541\n",
       "94122.0    526\n",
       "10011.0    463\n",
       "          ... \n",
       "59801.0      1\n",
       "60477.0      1\n",
       "31088.0      1\n",
       "61832.0      1\n",
       "30188.0      1\n",
       "Name: Order Zipcode, Length: 609, dtype: int64"
      ]
     },
     "execution_count": 856,
     "metadata": {},
     "output_type": "execute_result"
    }
   ],
   "source": [
    "df['Order Zipcode'].value_counts()"
   ]
  },
  {
   "cell_type": "markdown",
   "metadata": {},
   "source": [
    "### Identifying missing values"
   ]
  },
  {
   "cell_type": "code",
   "execution_count": 857,
   "metadata": {},
   "outputs": [
    {
     "data": {
      "text/plain": [
       "155679"
      ]
     },
     "execution_count": 857,
     "metadata": {},
     "output_type": "execute_result"
    }
   ],
   "source": [
    "df['Order Zipcode'].isna().sum()"
   ]
  },
  {
   "cell_type": "markdown",
   "metadata": {},
   "source": [
    "### Identifying outliers"
   ]
  },
  {
   "cell_type": "code",
   "execution_count": 858,
   "metadata": {},
   "outputs": [
    {
     "data": {
      "text/plain": [
       "<AxesSubplot:xlabel='Order Zipcode'>"
      ]
     },
     "execution_count": 858,
     "metadata": {},
     "output_type": "execute_result"
    },
    {
     "data": {
      "image/png": "[encoded data removed]",
      "text/plain": [
       "<Figure size 432x288 with 1 Axes>"
      ]
     },
     "metadata": {},
     "output_type": "display_data"
    }
   ],
   "source": [
    "sns.boxplot(df['Order Zipcode'])"
   ]
  },
  {
   "cell_type": "raw",
   "metadata": {},
   "source": [
    "There is no outliers in Order Zipcode"
   ]
  },
  {
   "cell_type": "markdown",
   "metadata": {},
   "source": [
    "# column no. 43 - Order Zipcode"
   ]
  },
  {
   "cell_type": "code",
   "execution_count": 859,
   "metadata": {},
   "outputs": [
    {
     "data": {
      "text/plain": [
       "10035.0    648\n",
       "10009.0    550\n",
       "10024.0    541\n",
       "94122.0    526\n",
       "10011.0    463\n",
       "          ... \n",
       "59801.0      1\n",
       "60477.0      1\n",
       "31088.0      1\n",
       "61832.0      1\n",
       "30188.0      1\n",
       "Name: Order Zipcode, Length: 609, dtype: int64"
      ]
     },
     "execution_count": 859,
     "metadata": {},
     "output_type": "execute_result"
    }
   ],
   "source": [
    "df['Order Zipcode'].value_counts()"
   ]
  },
  {
   "cell_type": "markdown",
   "metadata": {},
   "source": [
    "### Identifying missing values"
   ]
  },
  {
   "cell_type": "code",
   "execution_count": 860,
   "metadata": {},
   "outputs": [
    {
     "data": {
      "text/plain": [
       "155679"
      ]
     },
     "execution_count": 860,
     "metadata": {},
     "output_type": "execute_result"
    }
   ],
   "source": [
    "df['Order Zipcode'].isna().sum()"
   ]
  },
  {
   "cell_type": "markdown",
   "metadata": {},
   "source": [
    "### Identifying outliers"
   ]
  },
  {
   "cell_type": "code",
   "execution_count": 861,
   "metadata": {},
   "outputs": [
    {
     "data": {
      "text/plain": [
       "<AxesSubplot:xlabel='Order Zipcode'>"
      ]
     },
     "execution_count": 861,
     "metadata": {},
     "output_type": "execute_result"
    },
    {
     "data": {
      "image/png": "[encoded data removed]",
      "text/plain": [
       "<Figure size 432x288 with 1 Axes>"
      ]
     },
     "metadata": {},
     "output_type": "display_data"
    }
   ],
   "source": [
    "sns.boxplot(df['Order Zipcode'])"
   ]
  },
  {
   "cell_type": "raw",
   "metadata": {},
   "source": [
    "There is no outliers present"
   ]
  },
  {
   "cell_type": "markdown",
   "metadata": {},
   "source": [
    "# column no. 44 - Product Card Id"
   ]
  },
  {
   "cell_type": "code",
   "execution_count": 862,
   "metadata": {},
   "outputs": [
    {
     "data": {
      "text/plain": [
       "365     24515\n",
       "403     22246\n",
       "502     21035\n",
       "1014    19298\n",
       "1004    17325\n",
       "        ...  \n",
       "127        27\n",
       "208        15\n",
       "860        11\n",
       "60         10\n",
       "226        10\n",
       "Name: Product Card Id, Length: 118, dtype: int64"
      ]
     },
     "execution_count": 862,
     "metadata": {},
     "output_type": "execute_result"
    }
   ],
   "source": [
    "df['Product Card Id'].value_counts()"
   ]
  },
  {
   "cell_type": "markdown",
   "metadata": {},
   "source": [
    "### Identifying missing values"
   ]
  },
  {
   "cell_type": "code",
   "execution_count": 863,
   "metadata": {},
   "outputs": [
    {
     "data": {
      "text/plain": [
       "0"
      ]
     },
     "execution_count": 863,
     "metadata": {},
     "output_type": "execute_result"
    }
   ],
   "source": [
    "df['Product Card Id'].isna().sum()"
   ]
  },
  {
   "cell_type": "markdown",
   "metadata": {},
   "source": [
    "### Identifying outliers"
   ]
  },
  {
   "cell_type": "code",
   "execution_count": 864,
   "metadata": {},
   "outputs": [
    {
     "data": {
      "text/plain": [
       "<AxesSubplot:xlabel='Product Card Id'>"
      ]
     },
     "execution_count": 864,
     "metadata": {},
     "output_type": "execute_result"
    },
    {
     "data": {
      "image/png": "[encoded data removed]",
      "text/plain": [
       "<Figure size 432x288 with 1 Axes>"
      ]
     },
     "metadata": {},
     "output_type": "display_data"
    }
   ],
   "source": [
    "sns.boxplot(df['Product Card Id'])"
   ]
  },
  {
   "cell_type": "raw",
   "metadata": {},
   "source": [
    "There is no outliers present"
   ]
  },
  {
   "cell_type": "markdown",
   "metadata": {},
   "source": [
    "# column no. 45 - Product Category Id"
   ]
  },
  {
   "cell_type": "code",
   "execution_count": 865,
   "metadata": {},
   "outputs": [
    {
     "data": {
      "text/plain": [
       "17    24551\n",
       "18    22246\n",
       "24    21035\n",
       "46    19298\n",
       "45    17325\n",
       "48    15540\n",
       "43    13729\n",
       "9     12487\n",
       "29    10984\n",
       "37     2029\n",
       "40     1780\n",
       "36     1475\n",
       "26     1201\n",
       "13     1127\n",
       "35     1070\n",
       "41      974\n",
       "75      838\n",
       "63      652\n",
       "76      650\n",
       "3       632\n",
       "7       614\n",
       "62      592\n",
       "74      529\n",
       "33      524\n",
       "72      492\n",
       "66      484\n",
       "68      484\n",
       "67      483\n",
       "64      442\n",
       "32      441\n",
       "44      440\n",
       "71      434\n",
       "65      431\n",
       "12      423\n",
       "59      405\n",
       "38      384\n",
       "69      362\n",
       "73      357\n",
       "5       343\n",
       "6       328\n",
       "11      309\n",
       "30      283\n",
       "61      271\n",
       "70      208\n",
       "60      207\n",
       "31      181\n",
       "2       138\n",
       "10      111\n",
       "16       68\n",
       "4        67\n",
       "34       61\n",
       "Name: Product Category Id, dtype: int64"
      ]
     },
     "execution_count": 865,
     "metadata": {},
     "output_type": "execute_result"
    }
   ],
   "source": [
    "df['Product Category Id'].value_counts()"
   ]
  },
  {
   "cell_type": "markdown",
   "metadata": {},
   "source": [
    "### Identifying missing values"
   ]
  },
  {
   "cell_type": "code",
   "execution_count": 866,
   "metadata": {},
   "outputs": [
    {
     "data": {
      "text/plain": [
       "0"
      ]
     },
     "execution_count": 866,
     "metadata": {},
     "output_type": "execute_result"
    }
   ],
   "source": [
    "df['Product Category Id'].isna().sum()"
   ]
  },
  {
   "cell_type": "markdown",
   "metadata": {},
   "source": [
    "### Identifying outliers"
   ]
  },
  {
   "cell_type": "code",
   "execution_count": 867,
   "metadata": {},
   "outputs": [
    {
     "data": {
      "text/plain": [
       "<AxesSubplot:xlabel='Product Category Id'>"
      ]
     },
     "execution_count": 867,
     "metadata": {},
     "output_type": "execute_result"
    },
    {
     "data": {
      "image/png": "[encoded data removed]",
      "text/plain": [
       "<Figure size 432x288 with 1 Axes>"
      ]
     },
     "metadata": {},
     "output_type": "display_data"
    }
   ],
   "source": [
    "sns.boxplot(df['Product Category Id'])"
   ]
  },
  {
   "cell_type": "raw",
   "metadata": {},
   "source": [
    "There is no outliers present"
   ]
  },
  {
   "cell_type": "markdown",
   "metadata": {},
   "source": [
    "# column no.46 - Product Description"
   ]
  },
  {
   "cell_type": "raw",
   "metadata": {},
   "source": [
    "There is not a single value present in Product Description column thats why we are dropping that column"
   ]
  },
  {
   "cell_type": "code",
   "execution_count": 868,
   "metadata": {},
   "outputs": [
    {
     "data": {
      "text/html": [
       "<div>\n",
       "<style scoped>\n",
       "    .dataframe tbody tr th:only-of-type {\n",
       "        vertical-align: middle;\n",
       "    }\n",
       "\n",
       "    .dataframe tbody tr th {\n",
       "        vertical-align: top;\n",
       "    }\n",
       "\n",
       "    .dataframe thead th {\n",
       "        text-align: right;\n",
       "    }\n",
       "</style>\n",
       "<table border=\"1\" class=\"dataframe\">\n",
       "  <thead>\n",
       "    <tr style=\"text-align: right;\">\n",
       "      <th></th>\n",
       "      <th>Type</th>\n",
       "      <th>Days for shipping (real)</th>\n",
       "      <th>Days for shipment (scheduled)</th>\n",
       "      <th>Benefit per order</th>\n",
       "      <th>Sales per customer</th>\n",
       "      <th>Delivery Status</th>\n",
       "      <th>Late_delivery_risk</th>\n",
       "      <th>Category Id</th>\n",
       "      <th>Category Name</th>\n",
       "      <th>Customer City</th>\n",
       "      <th>...</th>\n",
       "      <th>Order Status</th>\n",
       "      <th>Order Zipcode</th>\n",
       "      <th>Product Card Id</th>\n",
       "      <th>Product Category Id</th>\n",
       "      <th>Product Image</th>\n",
       "      <th>Product Name</th>\n",
       "      <th>Product Price</th>\n",
       "      <th>Product Status</th>\n",
       "      <th>shipping date (DateOrders)</th>\n",
       "      <th>Shipping Mode</th>\n",
       "    </tr>\n",
       "  </thead>\n",
       "  <tbody>\n",
       "    <tr>\n",
       "      <th>0</th>\n",
       "      <td>DEBIT</td>\n",
       "      <td>3</td>\n",
       "      <td>4</td>\n",
       "      <td>91.250000</td>\n",
       "      <td>314.640015</td>\n",
       "      <td>Advance shipping</td>\n",
       "      <td>0</td>\n",
       "      <td>73</td>\n",
       "      <td>Sporting Goods</td>\n",
       "      <td>Caguas</td>\n",
       "      <td>...</td>\n",
       "      <td>COMPLETE</td>\n",
       "      <td>NaN</td>\n",
       "      <td>1360</td>\n",
       "      <td>73</td>\n",
       "      <td>http://images.acmesports.sports/Smart+watch</td>\n",
       "      <td>Smart watch</td>\n",
       "      <td>327.750000</td>\n",
       "      <td>0</td>\n",
       "      <td>2/3/2018 22:56</td>\n",
       "      <td>Standard Class</td>\n",
       "    </tr>\n",
       "    <tr>\n",
       "      <th>1</th>\n",
       "      <td>TRANSFER</td>\n",
       "      <td>5</td>\n",
       "      <td>4</td>\n",
       "      <td>-249.089996</td>\n",
       "      <td>311.359985</td>\n",
       "      <td>Late delivery</td>\n",
       "      <td>1</td>\n",
       "      <td>73</td>\n",
       "      <td>Sporting Goods</td>\n",
       "      <td>Caguas</td>\n",
       "      <td>...</td>\n",
       "      <td>PENDING</td>\n",
       "      <td>NaN</td>\n",
       "      <td>1360</td>\n",
       "      <td>73</td>\n",
       "      <td>http://images.acmesports.sports/Smart+watch</td>\n",
       "      <td>Smart watch</td>\n",
       "      <td>327.750000</td>\n",
       "      <td>0</td>\n",
       "      <td>1/18/2018 12:27</td>\n",
       "      <td>Standard Class</td>\n",
       "    </tr>\n",
       "    <tr>\n",
       "      <th>2</th>\n",
       "      <td>CASH</td>\n",
       "      <td>4</td>\n",
       "      <td>4</td>\n",
       "      <td>-247.779999</td>\n",
       "      <td>309.720001</td>\n",
       "      <td>Shipping on time</td>\n",
       "      <td>0</td>\n",
       "      <td>73</td>\n",
       "      <td>Sporting Goods</td>\n",
       "      <td>San Jose</td>\n",
       "      <td>...</td>\n",
       "      <td>CLOSED</td>\n",
       "      <td>NaN</td>\n",
       "      <td>1360</td>\n",
       "      <td>73</td>\n",
       "      <td>http://images.acmesports.sports/Smart+watch</td>\n",
       "      <td>Smart watch</td>\n",
       "      <td>327.750000</td>\n",
       "      <td>0</td>\n",
       "      <td>1/17/2018 12:06</td>\n",
       "      <td>Standard Class</td>\n",
       "    </tr>\n",
       "    <tr>\n",
       "      <th>3</th>\n",
       "      <td>DEBIT</td>\n",
       "      <td>3</td>\n",
       "      <td>4</td>\n",
       "      <td>22.860001</td>\n",
       "      <td>304.809998</td>\n",
       "      <td>Advance shipping</td>\n",
       "      <td>0</td>\n",
       "      <td>73</td>\n",
       "      <td>Sporting Goods</td>\n",
       "      <td>Los Angeles</td>\n",
       "      <td>...</td>\n",
       "      <td>COMPLETE</td>\n",
       "      <td>NaN</td>\n",
       "      <td>1360</td>\n",
       "      <td>73</td>\n",
       "      <td>http://images.acmesports.sports/Smart+watch</td>\n",
       "      <td>Smart watch</td>\n",
       "      <td>327.750000</td>\n",
       "      <td>0</td>\n",
       "      <td>1/16/2018 11:45</td>\n",
       "      <td>Standard Class</td>\n",
       "    </tr>\n",
       "    <tr>\n",
       "      <th>4</th>\n",
       "      <td>PAYMENT</td>\n",
       "      <td>2</td>\n",
       "      <td>4</td>\n",
       "      <td>134.210007</td>\n",
       "      <td>298.250000</td>\n",
       "      <td>Advance shipping</td>\n",
       "      <td>0</td>\n",
       "      <td>73</td>\n",
       "      <td>Sporting Goods</td>\n",
       "      <td>Caguas</td>\n",
       "      <td>...</td>\n",
       "      <td>PENDING_PAYMENT</td>\n",
       "      <td>NaN</td>\n",
       "      <td>1360</td>\n",
       "      <td>73</td>\n",
       "      <td>http://images.acmesports.sports/Smart+watch</td>\n",
       "      <td>Smart watch</td>\n",
       "      <td>327.750000</td>\n",
       "      <td>0</td>\n",
       "      <td>1/15/2018 11:24</td>\n",
       "      <td>Standard Class</td>\n",
       "    </tr>\n",
       "    <tr>\n",
       "      <th>...</th>\n",
       "      <td>...</td>\n",
       "      <td>...</td>\n",
       "      <td>...</td>\n",
       "      <td>...</td>\n",
       "      <td>...</td>\n",
       "      <td>...</td>\n",
       "      <td>...</td>\n",
       "      <td>...</td>\n",
       "      <td>...</td>\n",
       "      <td>...</td>\n",
       "      <td>...</td>\n",
       "      <td>...</td>\n",
       "      <td>...</td>\n",
       "      <td>...</td>\n",
       "      <td>...</td>\n",
       "      <td>...</td>\n",
       "      <td>...</td>\n",
       "      <td>...</td>\n",
       "      <td>...</td>\n",
       "      <td>...</td>\n",
       "      <td>...</td>\n",
       "    </tr>\n",
       "    <tr>\n",
       "      <th>180514</th>\n",
       "      <td>CASH</td>\n",
       "      <td>4</td>\n",
       "      <td>4</td>\n",
       "      <td>40.000000</td>\n",
       "      <td>399.980011</td>\n",
       "      <td>Shipping on time</td>\n",
       "      <td>0</td>\n",
       "      <td>45</td>\n",
       "      <td>Fishing</td>\n",
       "      <td>Brooklyn</td>\n",
       "      <td>...</td>\n",
       "      <td>CLOSED</td>\n",
       "      <td>NaN</td>\n",
       "      <td>1004</td>\n",
       "      <td>45</td>\n",
       "      <td>http://images.acmesports.sports/Field+%26+Stre...</td>\n",
       "      <td>Field &amp; Stream Sportsman 16 Gun Fire Safe</td>\n",
       "      <td>399.980011</td>\n",
       "      <td>0</td>\n",
       "      <td>1/20/2016 3:40</td>\n",
       "      <td>Standard Class</td>\n",
       "    </tr>\n",
       "    <tr>\n",
       "      <th>180515</th>\n",
       "      <td>DEBIT</td>\n",
       "      <td>3</td>\n",
       "      <td>2</td>\n",
       "      <td>-613.770019</td>\n",
       "      <td>395.980011</td>\n",
       "      <td>Late delivery</td>\n",
       "      <td>1</td>\n",
       "      <td>45</td>\n",
       "      <td>Fishing</td>\n",
       "      <td>Bakersfield</td>\n",
       "      <td>...</td>\n",
       "      <td>COMPLETE</td>\n",
       "      <td>NaN</td>\n",
       "      <td>1004</td>\n",
       "      <td>45</td>\n",
       "      <td>http://images.acmesports.sports/Field+%26+Stre...</td>\n",
       "      <td>Field &amp; Stream Sportsman 16 Gun Fire Safe</td>\n",
       "      <td>399.980011</td>\n",
       "      <td>0</td>\n",
       "      <td>1/19/2016 1:34</td>\n",
       "      <td>Second Class</td>\n",
       "    </tr>\n",
       "    <tr>\n",
       "      <th>180516</th>\n",
       "      <td>TRANSFER</td>\n",
       "      <td>5</td>\n",
       "      <td>4</td>\n",
       "      <td>141.110001</td>\n",
       "      <td>391.980011</td>\n",
       "      <td>Late delivery</td>\n",
       "      <td>1</td>\n",
       "      <td>45</td>\n",
       "      <td>Fishing</td>\n",
       "      <td>Bristol</td>\n",
       "      <td>...</td>\n",
       "      <td>PENDING</td>\n",
       "      <td>NaN</td>\n",
       "      <td>1004</td>\n",
       "      <td>45</td>\n",
       "      <td>http://images.acmesports.sports/Field+%26+Stre...</td>\n",
       "      <td>Field &amp; Stream Sportsman 16 Gun Fire Safe</td>\n",
       "      <td>399.980011</td>\n",
       "      <td>0</td>\n",
       "      <td>1/20/2016 21:00</td>\n",
       "      <td>Standard Class</td>\n",
       "    </tr>\n",
       "    <tr>\n",
       "      <th>180517</th>\n",
       "      <td>PAYMENT</td>\n",
       "      <td>3</td>\n",
       "      <td>4</td>\n",
       "      <td>186.229996</td>\n",
       "      <td>387.980011</td>\n",
       "      <td>Advance shipping</td>\n",
       "      <td>0</td>\n",
       "      <td>45</td>\n",
       "      <td>Fishing</td>\n",
       "      <td>Caguas</td>\n",
       "      <td>...</td>\n",
       "      <td>PENDING_PAYMENT</td>\n",
       "      <td>NaN</td>\n",
       "      <td>1004</td>\n",
       "      <td>45</td>\n",
       "      <td>http://images.acmesports.sports/Field+%26+Stre...</td>\n",
       "      <td>Field &amp; Stream Sportsman 16 Gun Fire Safe</td>\n",
       "      <td>399.980011</td>\n",
       "      <td>0</td>\n",
       "      <td>1/18/2016 20:18</td>\n",
       "      <td>Standard Class</td>\n",
       "    </tr>\n",
       "    <tr>\n",
       "      <th>180518</th>\n",
       "      <td>PAYMENT</td>\n",
       "      <td>4</td>\n",
       "      <td>4</td>\n",
       "      <td>168.949997</td>\n",
       "      <td>383.980011</td>\n",
       "      <td>Shipping on time</td>\n",
       "      <td>0</td>\n",
       "      <td>45</td>\n",
       "      <td>Fishing</td>\n",
       "      <td>Caguas</td>\n",
       "      <td>...</td>\n",
       "      <td>PENDING_PAYMENT</td>\n",
       "      <td>NaN</td>\n",
       "      <td>1004</td>\n",
       "      <td>45</td>\n",
       "      <td>http://images.acmesports.sports/Field+%26+Stre...</td>\n",
       "      <td>Field &amp; Stream Sportsman 16 Gun Fire Safe</td>\n",
       "      <td>399.980011</td>\n",
       "      <td>0</td>\n",
       "      <td>1/19/2016 18:54</td>\n",
       "      <td>Standard Class</td>\n",
       "    </tr>\n",
       "  </tbody>\n",
       "</table>\n",
       "<p>180519 rows × 52 columns</p>\n",
       "</div>"
      ],
      "text/plain": [
       "            Type  Days for shipping (real)  Days for shipment (scheduled)  \\\n",
       "0          DEBIT                         3                              4   \n",
       "1       TRANSFER                         5                              4   \n",
       "2           CASH                         4                              4   \n",
       "3          DEBIT                         3                              4   \n",
       "4        PAYMENT                         2                              4   \n",
       "...          ...                       ...                            ...   \n",
       "180514      CASH                         4                              4   \n",
       "180515     DEBIT                         3                              2   \n",
       "180516  TRANSFER                         5                              4   \n",
       "180517   PAYMENT                         3                              4   \n",
       "180518   PAYMENT                         4                              4   \n",
       "\n",
       "        Benefit per order  Sales per customer   Delivery Status  \\\n",
       "0               91.250000          314.640015  Advance shipping   \n",
       "1             -249.089996          311.359985     Late delivery   \n",
       "2             -247.779999          309.720001  Shipping on time   \n",
       "3               22.860001          304.809998  Advance shipping   \n",
       "4              134.210007          298.250000  Advance shipping   \n",
       "...                   ...                 ...               ...   \n",
       "180514          40.000000          399.980011  Shipping on time   \n",
       "180515        -613.770019          395.980011     Late delivery   \n",
       "180516         141.110001          391.980011     Late delivery   \n",
       "180517         186.229996          387.980011  Advance shipping   \n",
       "180518         168.949997          383.980011  Shipping on time   \n",
       "\n",
       "        Late_delivery_risk  Category Id   Category Name Customer City  ...  \\\n",
       "0                        0           73  Sporting Goods        Caguas  ...   \n",
       "1                        1           73  Sporting Goods        Caguas  ...   \n",
       "2                        0           73  Sporting Goods      San Jose  ...   \n",
       "3                        0           73  Sporting Goods   Los Angeles  ...   \n",
       "4                        0           73  Sporting Goods        Caguas  ...   \n",
       "...                    ...          ...             ...           ...  ...   \n",
       "180514                   0           45         Fishing      Brooklyn  ...   \n",
       "180515                   1           45         Fishing   Bakersfield  ...   \n",
       "180516                   1           45         Fishing       Bristol  ...   \n",
       "180517                   0           45         Fishing        Caguas  ...   \n",
       "180518                   0           45         Fishing        Caguas  ...   \n",
       "\n",
       "           Order Status Order Zipcode Product Card Id  Product Category Id  \\\n",
       "0              COMPLETE           NaN            1360                   73   \n",
       "1               PENDING           NaN            1360                   73   \n",
       "2                CLOSED           NaN            1360                   73   \n",
       "3              COMPLETE           NaN            1360                   73   \n",
       "4       PENDING_PAYMENT           NaN            1360                   73   \n",
       "...                 ...           ...             ...                  ...   \n",
       "180514           CLOSED           NaN            1004                   45   \n",
       "180515         COMPLETE           NaN            1004                   45   \n",
       "180516          PENDING           NaN            1004                   45   \n",
       "180517  PENDING_PAYMENT           NaN            1004                   45   \n",
       "180518  PENDING_PAYMENT           NaN            1004                   45   \n",
       "\n",
       "                                            Product Image  \\\n",
       "0            http://images.acmesports.sports/Smart+watch    \n",
       "1            http://images.acmesports.sports/Smart+watch    \n",
       "2            http://images.acmesports.sports/Smart+watch    \n",
       "3            http://images.acmesports.sports/Smart+watch    \n",
       "4            http://images.acmesports.sports/Smart+watch    \n",
       "...                                                   ...   \n",
       "180514  http://images.acmesports.sports/Field+%26+Stre...   \n",
       "180515  http://images.acmesports.sports/Field+%26+Stre...   \n",
       "180516  http://images.acmesports.sports/Field+%26+Stre...   \n",
       "180517  http://images.acmesports.sports/Field+%26+Stre...   \n",
       "180518  http://images.acmesports.sports/Field+%26+Stre...   \n",
       "\n",
       "                                     Product Name Product Price  \\\n",
       "0                                    Smart watch     327.750000   \n",
       "1                                    Smart watch     327.750000   \n",
       "2                                    Smart watch     327.750000   \n",
       "3                                    Smart watch     327.750000   \n",
       "4                                    Smart watch     327.750000   \n",
       "...                                           ...           ...   \n",
       "180514  Field & Stream Sportsman 16 Gun Fire Safe    399.980011   \n",
       "180515  Field & Stream Sportsman 16 Gun Fire Safe    399.980011   \n",
       "180516  Field & Stream Sportsman 16 Gun Fire Safe    399.980011   \n",
       "180517  Field & Stream Sportsman 16 Gun Fire Safe    399.980011   \n",
       "180518  Field & Stream Sportsman 16 Gun Fire Safe    399.980011   \n",
       "\n",
       "       Product Status shipping date (DateOrders)   Shipping Mode  \n",
       "0                   0             2/3/2018 22:56  Standard Class  \n",
       "1                   0            1/18/2018 12:27  Standard Class  \n",
       "2                   0            1/17/2018 12:06  Standard Class  \n",
       "3                   0            1/16/2018 11:45  Standard Class  \n",
       "4                   0            1/15/2018 11:24  Standard Class  \n",
       "...               ...                        ...             ...  \n",
       "180514              0             1/20/2016 3:40  Standard Class  \n",
       "180515              0             1/19/2016 1:34    Second Class  \n",
       "180516              0            1/20/2016 21:00  Standard Class  \n",
       "180517              0            1/18/2016 20:18  Standard Class  \n",
       "180518              0            1/19/2016 18:54  Standard Class  \n",
       "\n",
       "[180519 rows x 52 columns]"
      ]
     },
     "execution_count": 868,
     "metadata": {},
     "output_type": "execute_result"
    }
   ],
   "source": [
    "df.drop('Product Description', axis=1)"
   ]
  },
  {
   "cell_type": "markdown",
   "metadata": {},
   "source": [
    "# column no. 47 - Product Image"
   ]
  },
  {
   "cell_type": "code",
   "execution_count": 869,
   "metadata": {},
   "outputs": [
    {
     "data": {
      "text/plain": [
       "http://images.acmesports.sports/Perfect+Fitness+Perfect+Rip+Deck                                 24515\n",
       "http://images.acmesports.sports/Nike+Men%27s+CJ+Elite+2+TD+Football+Cleat                        22246\n",
       "http://images.acmesports.sports/Nike+Men%27s+Dri-FIT+Victory+Golf+Polo                           21035\n",
       "http://images.acmesports.sports/O%27Brien+Men%27s+Neoprene+Life+Vest                             19298\n",
       "http://images.acmesports.sports/Field+%26+Stream+Sportsman+16+Gun+Fire+Safe                      17325\n",
       "                                                                                                 ...  \n",
       "http://images.acmesports.sports/Stiga+Master+Series+ST3100+Competition+Indoor+Table+Tennis...       27\n",
       "http://images.acmesports.sports/SOLE+E35+Elliptical                                                 15\n",
       "http://images.acmesports.sports/Bushnell+Pro+X7+Jolt+Slope+Rangefinder                              11\n",
       "http://images.acmesports.sports/Bowflex+SelectTech+1090+Dumbbells                                   10\n",
       "http://images.acmesports.sports/SOLE+E25+Elliptical                                                 10\n",
       "Name: Product Image, Length: 118, dtype: int64"
      ]
     },
     "execution_count": 869,
     "metadata": {},
     "output_type": "execute_result"
    }
   ],
   "source": [
    "df['Product Image'].value_counts()"
   ]
  },
  {
   "cell_type": "markdown",
   "metadata": {},
   "source": [
    "### Identifying missing values"
   ]
  },
  {
   "cell_type": "code",
   "execution_count": 870,
   "metadata": {},
   "outputs": [
    {
     "data": {
      "text/plain": [
       "0"
      ]
     },
     "execution_count": 870,
     "metadata": {},
     "output_type": "execute_result"
    }
   ],
   "source": [
    "df['Product Image'].isna().sum()"
   ]
  },
  {
   "cell_type": "markdown",
   "metadata": {},
   "source": [
    "### Identifying outliers"
   ]
  },
  {
   "cell_type": "raw",
   "metadata": {},
   "source": [
    "No Outliers because of categeorical data "
   ]
  },
  {
   "cell_type": "code",
   "execution_count": 871,
   "metadata": {},
   "outputs": [
    {
     "data": {
      "text/html": [
       "<div>\n",
       "<style scoped>\n",
       "    .dataframe tbody tr th:only-of-type {\n",
       "        vertical-align: middle;\n",
       "    }\n",
       "\n",
       "    .dataframe tbody tr th {\n",
       "        vertical-align: top;\n",
       "    }\n",
       "\n",
       "    .dataframe thead th {\n",
       "        text-align: right;\n",
       "    }\n",
       "</style>\n",
       "<table border=\"1\" class=\"dataframe\">\n",
       "  <thead>\n",
       "    <tr style=\"text-align: right;\">\n",
       "      <th></th>\n",
       "      <th>Type</th>\n",
       "      <th>Days for shipping (real)</th>\n",
       "      <th>Days for shipment (scheduled)</th>\n",
       "      <th>Benefit per order</th>\n",
       "      <th>Sales per customer</th>\n",
       "      <th>Delivery Status</th>\n",
       "      <th>Late_delivery_risk</th>\n",
       "      <th>Category Id</th>\n",
       "      <th>Category Name</th>\n",
       "      <th>Customer City</th>\n",
       "      <th>...</th>\n",
       "      <th>Order Status</th>\n",
       "      <th>Order Zipcode</th>\n",
       "      <th>Product Card Id</th>\n",
       "      <th>Product Category Id</th>\n",
       "      <th>Product Description</th>\n",
       "      <th>Product Name</th>\n",
       "      <th>Product Price</th>\n",
       "      <th>Product Status</th>\n",
       "      <th>shipping date (DateOrders)</th>\n",
       "      <th>Shipping Mode</th>\n",
       "    </tr>\n",
       "  </thead>\n",
       "  <tbody>\n",
       "    <tr>\n",
       "      <th>0</th>\n",
       "      <td>DEBIT</td>\n",
       "      <td>3</td>\n",
       "      <td>4</td>\n",
       "      <td>91.250000</td>\n",
       "      <td>314.640015</td>\n",
       "      <td>Advance shipping</td>\n",
       "      <td>0</td>\n",
       "      <td>73</td>\n",
       "      <td>Sporting Goods</td>\n",
       "      <td>Caguas</td>\n",
       "      <td>...</td>\n",
       "      <td>COMPLETE</td>\n",
       "      <td>NaN</td>\n",
       "      <td>1360</td>\n",
       "      <td>73</td>\n",
       "      <td>NaN</td>\n",
       "      <td>Smart watch</td>\n",
       "      <td>327.750000</td>\n",
       "      <td>0</td>\n",
       "      <td>2/3/2018 22:56</td>\n",
       "      <td>Standard Class</td>\n",
       "    </tr>\n",
       "    <tr>\n",
       "      <th>1</th>\n",
       "      <td>TRANSFER</td>\n",
       "      <td>5</td>\n",
       "      <td>4</td>\n",
       "      <td>-249.089996</td>\n",
       "      <td>311.359985</td>\n",
       "      <td>Late delivery</td>\n",
       "      <td>1</td>\n",
       "      <td>73</td>\n",
       "      <td>Sporting Goods</td>\n",
       "      <td>Caguas</td>\n",
       "      <td>...</td>\n",
       "      <td>PENDING</td>\n",
       "      <td>NaN</td>\n",
       "      <td>1360</td>\n",
       "      <td>73</td>\n",
       "      <td>NaN</td>\n",
       "      <td>Smart watch</td>\n",
       "      <td>327.750000</td>\n",
       "      <td>0</td>\n",
       "      <td>1/18/2018 12:27</td>\n",
       "      <td>Standard Class</td>\n",
       "    </tr>\n",
       "    <tr>\n",
       "      <th>2</th>\n",
       "      <td>CASH</td>\n",
       "      <td>4</td>\n",
       "      <td>4</td>\n",
       "      <td>-247.779999</td>\n",
       "      <td>309.720001</td>\n",
       "      <td>Shipping on time</td>\n",
       "      <td>0</td>\n",
       "      <td>73</td>\n",
       "      <td>Sporting Goods</td>\n",
       "      <td>San Jose</td>\n",
       "      <td>...</td>\n",
       "      <td>CLOSED</td>\n",
       "      <td>NaN</td>\n",
       "      <td>1360</td>\n",
       "      <td>73</td>\n",
       "      <td>NaN</td>\n",
       "      <td>Smart watch</td>\n",
       "      <td>327.750000</td>\n",
       "      <td>0</td>\n",
       "      <td>1/17/2018 12:06</td>\n",
       "      <td>Standard Class</td>\n",
       "    </tr>\n",
       "    <tr>\n",
       "      <th>3</th>\n",
       "      <td>DEBIT</td>\n",
       "      <td>3</td>\n",
       "      <td>4</td>\n",
       "      <td>22.860001</td>\n",
       "      <td>304.809998</td>\n",
       "      <td>Advance shipping</td>\n",
       "      <td>0</td>\n",
       "      <td>73</td>\n",
       "      <td>Sporting Goods</td>\n",
       "      <td>Los Angeles</td>\n",
       "      <td>...</td>\n",
       "      <td>COMPLETE</td>\n",
       "      <td>NaN</td>\n",
       "      <td>1360</td>\n",
       "      <td>73</td>\n",
       "      <td>NaN</td>\n",
       "      <td>Smart watch</td>\n",
       "      <td>327.750000</td>\n",
       "      <td>0</td>\n",
       "      <td>1/16/2018 11:45</td>\n",
       "      <td>Standard Class</td>\n",
       "    </tr>\n",
       "    <tr>\n",
       "      <th>4</th>\n",
       "      <td>PAYMENT</td>\n",
       "      <td>2</td>\n",
       "      <td>4</td>\n",
       "      <td>134.210007</td>\n",
       "      <td>298.250000</td>\n",
       "      <td>Advance shipping</td>\n",
       "      <td>0</td>\n",
       "      <td>73</td>\n",
       "      <td>Sporting Goods</td>\n",
       "      <td>Caguas</td>\n",
       "      <td>...</td>\n",
       "      <td>PENDING_PAYMENT</td>\n",
       "      <td>NaN</td>\n",
       "      <td>1360</td>\n",
       "      <td>73</td>\n",
       "      <td>NaN</td>\n",
       "      <td>Smart watch</td>\n",
       "      <td>327.750000</td>\n",
       "      <td>0</td>\n",
       "      <td>1/15/2018 11:24</td>\n",
       "      <td>Standard Class</td>\n",
       "    </tr>\n",
       "    <tr>\n",
       "      <th>...</th>\n",
       "      <td>...</td>\n",
       "      <td>...</td>\n",
       "      <td>...</td>\n",
       "      <td>...</td>\n",
       "      <td>...</td>\n",
       "      <td>...</td>\n",
       "      <td>...</td>\n",
       "      <td>...</td>\n",
       "      <td>...</td>\n",
       "      <td>...</td>\n",
       "      <td>...</td>\n",
       "      <td>...</td>\n",
       "      <td>...</td>\n",
       "      <td>...</td>\n",
       "      <td>...</td>\n",
       "      <td>...</td>\n",
       "      <td>...</td>\n",
       "      <td>...</td>\n",
       "      <td>...</td>\n",
       "      <td>...</td>\n",
       "      <td>...</td>\n",
       "    </tr>\n",
       "    <tr>\n",
       "      <th>180514</th>\n",
       "      <td>CASH</td>\n",
       "      <td>4</td>\n",
       "      <td>4</td>\n",
       "      <td>40.000000</td>\n",
       "      <td>399.980011</td>\n",
       "      <td>Shipping on time</td>\n",
       "      <td>0</td>\n",
       "      <td>45</td>\n",
       "      <td>Fishing</td>\n",
       "      <td>Brooklyn</td>\n",
       "      <td>...</td>\n",
       "      <td>CLOSED</td>\n",
       "      <td>NaN</td>\n",
       "      <td>1004</td>\n",
       "      <td>45</td>\n",
       "      <td>NaN</td>\n",
       "      <td>Field &amp; Stream Sportsman 16 Gun Fire Safe</td>\n",
       "      <td>399.980011</td>\n",
       "      <td>0</td>\n",
       "      <td>1/20/2016 3:40</td>\n",
       "      <td>Standard Class</td>\n",
       "    </tr>\n",
       "    <tr>\n",
       "      <th>180515</th>\n",
       "      <td>DEBIT</td>\n",
       "      <td>3</td>\n",
       "      <td>2</td>\n",
       "      <td>-613.770019</td>\n",
       "      <td>395.980011</td>\n",
       "      <td>Late delivery</td>\n",
       "      <td>1</td>\n",
       "      <td>45</td>\n",
       "      <td>Fishing</td>\n",
       "      <td>Bakersfield</td>\n",
       "      <td>...</td>\n",
       "      <td>COMPLETE</td>\n",
       "      <td>NaN</td>\n",
       "      <td>1004</td>\n",
       "      <td>45</td>\n",
       "      <td>NaN</td>\n",
       "      <td>Field &amp; Stream Sportsman 16 Gun Fire Safe</td>\n",
       "      <td>399.980011</td>\n",
       "      <td>0</td>\n",
       "      <td>1/19/2016 1:34</td>\n",
       "      <td>Second Class</td>\n",
       "    </tr>\n",
       "    <tr>\n",
       "      <th>180516</th>\n",
       "      <td>TRANSFER</td>\n",
       "      <td>5</td>\n",
       "      <td>4</td>\n",
       "      <td>141.110001</td>\n",
       "      <td>391.980011</td>\n",
       "      <td>Late delivery</td>\n",
       "      <td>1</td>\n",
       "      <td>45</td>\n",
       "      <td>Fishing</td>\n",
       "      <td>Bristol</td>\n",
       "      <td>...</td>\n",
       "      <td>PENDING</td>\n",
       "      <td>NaN</td>\n",
       "      <td>1004</td>\n",
       "      <td>45</td>\n",
       "      <td>NaN</td>\n",
       "      <td>Field &amp; Stream Sportsman 16 Gun Fire Safe</td>\n",
       "      <td>399.980011</td>\n",
       "      <td>0</td>\n",
       "      <td>1/20/2016 21:00</td>\n",
       "      <td>Standard Class</td>\n",
       "    </tr>\n",
       "    <tr>\n",
       "      <th>180517</th>\n",
       "      <td>PAYMENT</td>\n",
       "      <td>3</td>\n",
       "      <td>4</td>\n",
       "      <td>186.229996</td>\n",
       "      <td>387.980011</td>\n",
       "      <td>Advance shipping</td>\n",
       "      <td>0</td>\n",
       "      <td>45</td>\n",
       "      <td>Fishing</td>\n",
       "      <td>Caguas</td>\n",
       "      <td>...</td>\n",
       "      <td>PENDING_PAYMENT</td>\n",
       "      <td>NaN</td>\n",
       "      <td>1004</td>\n",
       "      <td>45</td>\n",
       "      <td>NaN</td>\n",
       "      <td>Field &amp; Stream Sportsman 16 Gun Fire Safe</td>\n",
       "      <td>399.980011</td>\n",
       "      <td>0</td>\n",
       "      <td>1/18/2016 20:18</td>\n",
       "      <td>Standard Class</td>\n",
       "    </tr>\n",
       "    <tr>\n",
       "      <th>180518</th>\n",
       "      <td>PAYMENT</td>\n",
       "      <td>4</td>\n",
       "      <td>4</td>\n",
       "      <td>168.949997</td>\n",
       "      <td>383.980011</td>\n",
       "      <td>Shipping on time</td>\n",
       "      <td>0</td>\n",
       "      <td>45</td>\n",
       "      <td>Fishing</td>\n",
       "      <td>Caguas</td>\n",
       "      <td>...</td>\n",
       "      <td>PENDING_PAYMENT</td>\n",
       "      <td>NaN</td>\n",
       "      <td>1004</td>\n",
       "      <td>45</td>\n",
       "      <td>NaN</td>\n",
       "      <td>Field &amp; Stream Sportsman 16 Gun Fire Safe</td>\n",
       "      <td>399.980011</td>\n",
       "      <td>0</td>\n",
       "      <td>1/19/2016 18:54</td>\n",
       "      <td>Standard Class</td>\n",
       "    </tr>\n",
       "  </tbody>\n",
       "</table>\n",
       "<p>180519 rows × 52 columns</p>\n",
       "</div>"
      ],
      "text/plain": [
       "            Type  Days for shipping (real)  Days for shipment (scheduled)  \\\n",
       "0          DEBIT                         3                              4   \n",
       "1       TRANSFER                         5                              4   \n",
       "2           CASH                         4                              4   \n",
       "3          DEBIT                         3                              4   \n",
       "4        PAYMENT                         2                              4   \n",
       "...          ...                       ...                            ...   \n",
       "180514      CASH                         4                              4   \n",
       "180515     DEBIT                         3                              2   \n",
       "180516  TRANSFER                         5                              4   \n",
       "180517   PAYMENT                         3                              4   \n",
       "180518   PAYMENT                         4                              4   \n",
       "\n",
       "        Benefit per order  Sales per customer   Delivery Status  \\\n",
       "0               91.250000          314.640015  Advance shipping   \n",
       "1             -249.089996          311.359985     Late delivery   \n",
       "2             -247.779999          309.720001  Shipping on time   \n",
       "3               22.860001          304.809998  Advance shipping   \n",
       "4              134.210007          298.250000  Advance shipping   \n",
       "...                   ...                 ...               ...   \n",
       "180514          40.000000          399.980011  Shipping on time   \n",
       "180515        -613.770019          395.980011     Late delivery   \n",
       "180516         141.110001          391.980011     Late delivery   \n",
       "180517         186.229996          387.980011  Advance shipping   \n",
       "180518         168.949997          383.980011  Shipping on time   \n",
       "\n",
       "        Late_delivery_risk  Category Id   Category Name Customer City  ...  \\\n",
       "0                        0           73  Sporting Goods        Caguas  ...   \n",
       "1                        1           73  Sporting Goods        Caguas  ...   \n",
       "2                        0           73  Sporting Goods      San Jose  ...   \n",
       "3                        0           73  Sporting Goods   Los Angeles  ...   \n",
       "4                        0           73  Sporting Goods        Caguas  ...   \n",
       "...                    ...          ...             ...           ...  ...   \n",
       "180514                   0           45         Fishing      Brooklyn  ...   \n",
       "180515                   1           45         Fishing   Bakersfield  ...   \n",
       "180516                   1           45         Fishing       Bristol  ...   \n",
       "180517                   0           45         Fishing        Caguas  ...   \n",
       "180518                   0           45         Fishing        Caguas  ...   \n",
       "\n",
       "           Order Status Order Zipcode Product Card Id  Product Category Id  \\\n",
       "0              COMPLETE           NaN            1360                   73   \n",
       "1               PENDING           NaN            1360                   73   \n",
       "2                CLOSED           NaN            1360                   73   \n",
       "3              COMPLETE           NaN            1360                   73   \n",
       "4       PENDING_PAYMENT           NaN            1360                   73   \n",
       "...                 ...           ...             ...                  ...   \n",
       "180514           CLOSED           NaN            1004                   45   \n",
       "180515         COMPLETE           NaN            1004                   45   \n",
       "180516          PENDING           NaN            1004                   45   \n",
       "180517  PENDING_PAYMENT           NaN            1004                   45   \n",
       "180518  PENDING_PAYMENT           NaN            1004                   45   \n",
       "\n",
       "       Product Description                               Product Name  \\\n",
       "0                      NaN                               Smart watch    \n",
       "1                      NaN                               Smart watch    \n",
       "2                      NaN                               Smart watch    \n",
       "3                      NaN                               Smart watch    \n",
       "4                      NaN                               Smart watch    \n",
       "...                    ...                                        ...   \n",
       "180514                 NaN  Field & Stream Sportsman 16 Gun Fire Safe   \n",
       "180515                 NaN  Field & Stream Sportsman 16 Gun Fire Safe   \n",
       "180516                 NaN  Field & Stream Sportsman 16 Gun Fire Safe   \n",
       "180517                 NaN  Field & Stream Sportsman 16 Gun Fire Safe   \n",
       "180518                 NaN  Field & Stream Sportsman 16 Gun Fire Safe   \n",
       "\n",
       "       Product Price Product Status shipping date (DateOrders)   Shipping Mode  \n",
       "0         327.750000              0             2/3/2018 22:56  Standard Class  \n",
       "1         327.750000              0            1/18/2018 12:27  Standard Class  \n",
       "2         327.750000              0            1/17/2018 12:06  Standard Class  \n",
       "3         327.750000              0            1/16/2018 11:45  Standard Class  \n",
       "4         327.750000              0            1/15/2018 11:24  Standard Class  \n",
       "...              ...            ...                        ...             ...  \n",
       "180514    399.980011              0             1/20/2016 3:40  Standard Class  \n",
       "180515    399.980011              0             1/19/2016 1:34    Second Class  \n",
       "180516    399.980011              0            1/20/2016 21:00  Standard Class  \n",
       "180517    399.980011              0            1/18/2016 20:18  Standard Class  \n",
       "180518    399.980011              0            1/19/2016 18:54  Standard Class  \n",
       "\n",
       "[180519 rows x 52 columns]"
      ]
     },
     "execution_count": 871,
     "metadata": {},
     "output_type": "execute_result"
    }
   ],
   "source": [
    "df.drop('Product Image', axis=1)"
   ]
  },
  {
   "cell_type": "markdown",
   "metadata": {},
   "source": [
    "# column no. 48 - Product Name"
   ]
  },
  {
   "cell_type": "code",
   "execution_count": 872,
   "metadata": {},
   "outputs": [
    {
     "data": {
      "text/plain": [
       "Perfect Fitness Perfect Rip Deck                 24515\n",
       "Nike Men's CJ Elite 2 TD Football Cleat          22246\n",
       "Nike Men's Dri-FIT Victory Golf Polo             21035\n",
       "O'Brien Men's Neoprene Life Vest                 19298\n",
       "Field & Stream Sportsman 16 Gun Fire Safe        17325\n",
       "                                                 ...  \n",
       "Stiga Master Series ST3100 Competition Indoor       27\n",
       "SOLE E35 Elliptical                                 15\n",
       "Bushnell Pro X7 Jolt Slope Rangefinder              11\n",
       "Bowflex SelectTech 1090 Dumbbells                   10\n",
       "SOLE E25 Elliptical                                 10\n",
       "Name: Product Name, Length: 118, dtype: int64"
      ]
     },
     "execution_count": 872,
     "metadata": {},
     "output_type": "execute_result"
    }
   ],
   "source": [
    "df['Product Name'].value_counts()"
   ]
  },
  {
   "cell_type": "markdown",
   "metadata": {},
   "source": [
    "### Identifying missing values"
   ]
  },
  {
   "cell_type": "code",
   "execution_count": 873,
   "metadata": {},
   "outputs": [
    {
     "data": {
      "text/plain": [
       "0"
      ]
     },
     "execution_count": 873,
     "metadata": {},
     "output_type": "execute_result"
    }
   ],
   "source": [
    "df['Product Name'].isna().sum()"
   ]
  },
  {
   "cell_type": "markdown",
   "metadata": {},
   "source": [
    "### Identifying outliers"
   ]
  },
  {
   "cell_type": "raw",
   "metadata": {},
   "source": [
    "No Outliers because of categeorical data "
   ]
  },
  {
   "cell_type": "markdown",
   "metadata": {},
   "source": [
    "# column no. 49 - Product Price"
   ]
  },
  {
   "cell_type": "code",
   "execution_count": 874,
   "metadata": {},
   "outputs": [
    {
     "data": {
      "text/plain": [
       "59.990002      24820\n",
       "129.990005     22372\n",
       "50.000000      21035\n",
       "49.980000      19298\n",
       "399.980011     17325\n",
       "               ...  \n",
       "349.989990        40\n",
       "329.989990        27\n",
       "599.989990        21\n",
       "1999.989990       15\n",
       "999.989990        10\n",
       "Name: Product Price, Length: 75, dtype: int64"
      ]
     },
     "execution_count": 874,
     "metadata": {},
     "output_type": "execute_result"
    }
   ],
   "source": [
    "df['Product Price'].value_counts()"
   ]
  },
  {
   "cell_type": "markdown",
   "metadata": {},
   "source": [
    "### Identifying missing values"
   ]
  },
  {
   "cell_type": "code",
   "execution_count": 875,
   "metadata": {},
   "outputs": [
    {
     "data": {
      "text/plain": [
       "0"
      ]
     },
     "execution_count": 875,
     "metadata": {},
     "output_type": "execute_result"
    }
   ],
   "source": [
    "df['Product Price'].isna().sum()"
   ]
  },
  {
   "cell_type": "markdown",
   "metadata": {},
   "source": [
    "### Identifying outliers"
   ]
  },
  {
   "cell_type": "code",
   "execution_count": 876,
   "metadata": {},
   "outputs": [
    {
     "data": {
      "text/plain": [
       "<AxesSubplot:xlabel='Product Price'>"
      ]
     },
     "execution_count": 876,
     "metadata": {},
     "output_type": "execute_result"
    },
    {
     "data": {
      "image/png": "[encoded data removed]",
      "text/plain": [
       "<Figure size 432x288 with 1 Axes>"
      ]
     },
     "metadata": {},
     "output_type": "display_data"
    }
   ],
   "source": [
    "sns.boxplot(df['Product Price'])"
   ]
  },
  {
   "cell_type": "raw",
   "metadata": {},
   "source": [
    "Outliers present"
   ]
  },
  {
   "cell_type": "markdown",
   "metadata": {},
   "source": [
    "# column no. 50 - Product Status"
   ]
  },
  {
   "cell_type": "code",
   "execution_count": 877,
   "metadata": {},
   "outputs": [
    {
     "data": {
      "text/plain": [
       "0    180519\n",
       "Name: Product Status, dtype: int64"
      ]
     },
     "execution_count": 877,
     "metadata": {},
     "output_type": "execute_result"
    }
   ],
   "source": [
    "df['Product Status'].value_counts()"
   ]
  },
  {
   "cell_type": "markdown",
   "metadata": {},
   "source": [
    "### Identifying missing values"
   ]
  },
  {
   "cell_type": "code",
   "execution_count": 878,
   "metadata": {},
   "outputs": [
    {
     "data": {
      "text/plain": [
       "0"
      ]
     },
     "execution_count": 878,
     "metadata": {},
     "output_type": "execute_result"
    }
   ],
   "source": [
    "df['Product Status'].isna().sum()"
   ]
  },
  {
   "cell_type": "markdown",
   "metadata": {},
   "source": [
    "### Identifying outliers"
   ]
  },
  {
   "cell_type": "code",
   "execution_count": 879,
   "metadata": {},
   "outputs": [
    {
     "data": {
      "text/plain": [
       "<AxesSubplot:xlabel='Product Status'>"
      ]
     },
     "execution_count": 879,
     "metadata": {},
     "output_type": "execute_result"
    },
    {
     "data": {
      "image/png": "[encoded data removed]",
      "text/plain": [
       "<Figure size 432x288 with 1 Axes>"
      ]
     },
     "metadata": {},
     "output_type": "display_data"
    }
   ],
   "source": [
    "sns.boxplot(df['Product Status'])"
   ]
  },
  {
   "cell_type": "raw",
   "metadata": {},
   "source": [
    "All the products are available"
   ]
  },
  {
   "cell_type": "markdown",
   "metadata": {},
   "source": [
    "# column no. 51 - shipping date (DateOrders)"
   ]
  },
  {
   "cell_type": "code",
   "execution_count": 880,
   "metadata": {},
   "outputs": [
    {
     "data": {
      "text/plain": [
       "2/12/2016 18:52     10\n",
       "3/31/2017 19:52     10\n",
       "8/7/2016 20:33      10\n",
       "8/1/2015 18:37      10\n",
       "10/8/2016 23:37     10\n",
       "                    ..\n",
       "10/22/2017 18:21     1\n",
       "9/2/2016 20:20       1\n",
       "8/15/2015 8:26       1\n",
       "11/15/2017 14:18     1\n",
       "6/27/2016 15:32      1\n",
       "Name: shipping date (DateOrders), Length: 63701, dtype: int64"
      ]
     },
     "execution_count": 880,
     "metadata": {},
     "output_type": "execute_result"
    }
   ],
   "source": [
    "df['shipping date (DateOrders)'].value_counts()"
   ]
  },
  {
   "cell_type": "markdown",
   "metadata": {},
   "source": [
    "### Identifying missing values"
   ]
  },
  {
   "cell_type": "code",
   "execution_count": 881,
   "metadata": {},
   "outputs": [
    {
     "data": {
      "text/plain": [
       "0"
      ]
     },
     "execution_count": 881,
     "metadata": {},
     "output_type": "execute_result"
    }
   ],
   "source": [
    "df['shipping date (DateOrders)'].isna().sum()"
   ]
  },
  {
   "cell_type": "markdown",
   "metadata": {},
   "source": [
    "### Identifying outliers"
   ]
  },
  {
   "cell_type": "raw",
   "metadata": {},
   "source": [
    "No Outliers "
   ]
  },
  {
   "cell_type": "markdown",
   "metadata": {},
   "source": [
    "# column no. 52 - Shipping Mode"
   ]
  },
  {
   "cell_type": "code",
   "execution_count": 882,
   "metadata": {},
   "outputs": [
    {
     "data": {
      "text/plain": [
       "Standard Class    107752\n",
       "Second Class       35216\n",
       "First Class        27814\n",
       "Same Day            9737\n",
       "Name: Shipping Mode, dtype: int64"
      ]
     },
     "execution_count": 882,
     "metadata": {},
     "output_type": "execute_result"
    }
   ],
   "source": [
    "df['Shipping Mode'].value_counts()"
   ]
  },
  {
   "cell_type": "markdown",
   "metadata": {},
   "source": [
    "### Identifying missing values"
   ]
  },
  {
   "cell_type": "code",
   "execution_count": 883,
   "metadata": {},
   "outputs": [
    {
     "data": {
      "text/plain": [
       "0"
      ]
     },
     "execution_count": 883,
     "metadata": {},
     "output_type": "execute_result"
    }
   ],
   "source": [
    "df['Shipping Mode'].isna().sum()"
   ]
  },
  {
   "cell_type": "markdown",
   "metadata": {},
   "source": [
    "### Identifying outliers"
   ]
  },
  {
   "cell_type": "raw",
   "metadata": {},
   "source": [
    "No Outliers because of categeorical data "
   ]
  },
  {
   "cell_type": "code",
   "execution_count": null,
   "metadata": {},
   "outputs": [],
   "source": []
  },
  {
   "cell_type": "markdown",
   "metadata": {},
   "source": [
    "# Feature Engineering"
   ]
  },
  {
   "cell_type": "markdown",
   "metadata": {},
   "source": [
    "### Dropping column"
   ]
  },
  {
   "cell_type": "code",
   "execution_count": 884,
   "metadata": {},
   "outputs": [
    {
     "data": {
      "text/html": [
       "<div>\n",
       "<style scoped>\n",
       "    .dataframe tbody tr th:only-of-type {\n",
       "        vertical-align: middle;\n",
       "    }\n",
       "\n",
       "    .dataframe tbody tr th {\n",
       "        vertical-align: top;\n",
       "    }\n",
       "\n",
       "    .dataframe thead th {\n",
       "        text-align: right;\n",
       "    }\n",
       "</style>\n",
       "<table border=\"1\" class=\"dataframe\">\n",
       "  <thead>\n",
       "    <tr style=\"text-align: right;\">\n",
       "      <th></th>\n",
       "      <th>Type</th>\n",
       "      <th>Days for shipping (real)</th>\n",
       "      <th>Days for shipment (scheduled)</th>\n",
       "      <th>Benefit per order</th>\n",
       "      <th>Sales per customer</th>\n",
       "      <th>Delivery Status</th>\n",
       "      <th>Late_delivery_risk</th>\n",
       "      <th>Category Id</th>\n",
       "      <th>Category Name</th>\n",
       "      <th>Customer City</th>\n",
       "      <th>...</th>\n",
       "      <th>Order Zipcode</th>\n",
       "      <th>Product Card Id</th>\n",
       "      <th>Product Category Id</th>\n",
       "      <th>Product Description</th>\n",
       "      <th>Product Image</th>\n",
       "      <th>Product Name</th>\n",
       "      <th>Product Price</th>\n",
       "      <th>Product Status</th>\n",
       "      <th>shipping date (DateOrders)</th>\n",
       "      <th>Shipping Mode</th>\n",
       "    </tr>\n",
       "  </thead>\n",
       "  <tbody>\n",
       "    <tr>\n",
       "      <th>0</th>\n",
       "      <td>DEBIT</td>\n",
       "      <td>3</td>\n",
       "      <td>4</td>\n",
       "      <td>91.250000</td>\n",
       "      <td>314.640015</td>\n",
       "      <td>Advance shipping</td>\n",
       "      <td>0</td>\n",
       "      <td>73</td>\n",
       "      <td>Sporting Goods</td>\n",
       "      <td>Caguas</td>\n",
       "      <td>...</td>\n",
       "      <td>NaN</td>\n",
       "      <td>1360</td>\n",
       "      <td>73</td>\n",
       "      <td>NaN</td>\n",
       "      <td>http://images.acmesports.sports/Smart+watch</td>\n",
       "      <td>Smart watch</td>\n",
       "      <td>327.750000</td>\n",
       "      <td>0</td>\n",
       "      <td>2/3/2018 22:56</td>\n",
       "      <td>Standard Class</td>\n",
       "    </tr>\n",
       "    <tr>\n",
       "      <th>1</th>\n",
       "      <td>TRANSFER</td>\n",
       "      <td>5</td>\n",
       "      <td>4</td>\n",
       "      <td>-249.089996</td>\n",
       "      <td>311.359985</td>\n",
       "      <td>Late delivery</td>\n",
       "      <td>1</td>\n",
       "      <td>73</td>\n",
       "      <td>Sporting Goods</td>\n",
       "      <td>Caguas</td>\n",
       "      <td>...</td>\n",
       "      <td>NaN</td>\n",
       "      <td>1360</td>\n",
       "      <td>73</td>\n",
       "      <td>NaN</td>\n",
       "      <td>http://images.acmesports.sports/Smart+watch</td>\n",
       "      <td>Smart watch</td>\n",
       "      <td>327.750000</td>\n",
       "      <td>0</td>\n",
       "      <td>1/18/2018 12:27</td>\n",
       "      <td>Standard Class</td>\n",
       "    </tr>\n",
       "    <tr>\n",
       "      <th>2</th>\n",
       "      <td>CASH</td>\n",
       "      <td>4</td>\n",
       "      <td>4</td>\n",
       "      <td>-247.779999</td>\n",
       "      <td>309.720001</td>\n",
       "      <td>Shipping on time</td>\n",
       "      <td>0</td>\n",
       "      <td>73</td>\n",
       "      <td>Sporting Goods</td>\n",
       "      <td>San Jose</td>\n",
       "      <td>...</td>\n",
       "      <td>NaN</td>\n",
       "      <td>1360</td>\n",
       "      <td>73</td>\n",
       "      <td>NaN</td>\n",
       "      <td>http://images.acmesports.sports/Smart+watch</td>\n",
       "      <td>Smart watch</td>\n",
       "      <td>327.750000</td>\n",
       "      <td>0</td>\n",
       "      <td>1/17/2018 12:06</td>\n",
       "      <td>Standard Class</td>\n",
       "    </tr>\n",
       "    <tr>\n",
       "      <th>3</th>\n",
       "      <td>DEBIT</td>\n",
       "      <td>3</td>\n",
       "      <td>4</td>\n",
       "      <td>22.860001</td>\n",
       "      <td>304.809998</td>\n",
       "      <td>Advance shipping</td>\n",
       "      <td>0</td>\n",
       "      <td>73</td>\n",
       "      <td>Sporting Goods</td>\n",
       "      <td>Los Angeles</td>\n",
       "      <td>...</td>\n",
       "      <td>NaN</td>\n",
       "      <td>1360</td>\n",
       "      <td>73</td>\n",
       "      <td>NaN</td>\n",
       "      <td>http://images.acmesports.sports/Smart+watch</td>\n",
       "      <td>Smart watch</td>\n",
       "      <td>327.750000</td>\n",
       "      <td>0</td>\n",
       "      <td>1/16/2018 11:45</td>\n",
       "      <td>Standard Class</td>\n",
       "    </tr>\n",
       "    <tr>\n",
       "      <th>4</th>\n",
       "      <td>PAYMENT</td>\n",
       "      <td>2</td>\n",
       "      <td>4</td>\n",
       "      <td>134.210007</td>\n",
       "      <td>298.250000</td>\n",
       "      <td>Advance shipping</td>\n",
       "      <td>0</td>\n",
       "      <td>73</td>\n",
       "      <td>Sporting Goods</td>\n",
       "      <td>Caguas</td>\n",
       "      <td>...</td>\n",
       "      <td>NaN</td>\n",
       "      <td>1360</td>\n",
       "      <td>73</td>\n",
       "      <td>NaN</td>\n",
       "      <td>http://images.acmesports.sports/Smart+watch</td>\n",
       "      <td>Smart watch</td>\n",
       "      <td>327.750000</td>\n",
       "      <td>0</td>\n",
       "      <td>1/15/2018 11:24</td>\n",
       "      <td>Standard Class</td>\n",
       "    </tr>\n",
       "    <tr>\n",
       "      <th>...</th>\n",
       "      <td>...</td>\n",
       "      <td>...</td>\n",
       "      <td>...</td>\n",
       "      <td>...</td>\n",
       "      <td>...</td>\n",
       "      <td>...</td>\n",
       "      <td>...</td>\n",
       "      <td>...</td>\n",
       "      <td>...</td>\n",
       "      <td>...</td>\n",
       "      <td>...</td>\n",
       "      <td>...</td>\n",
       "      <td>...</td>\n",
       "      <td>...</td>\n",
       "      <td>...</td>\n",
       "      <td>...</td>\n",
       "      <td>...</td>\n",
       "      <td>...</td>\n",
       "      <td>...</td>\n",
       "      <td>...</td>\n",
       "      <td>...</td>\n",
       "    </tr>\n",
       "    <tr>\n",
       "      <th>180514</th>\n",
       "      <td>CASH</td>\n",
       "      <td>4</td>\n",
       "      <td>4</td>\n",
       "      <td>40.000000</td>\n",
       "      <td>399.980011</td>\n",
       "      <td>Shipping on time</td>\n",
       "      <td>0</td>\n",
       "      <td>45</td>\n",
       "      <td>Fishing</td>\n",
       "      <td>Brooklyn</td>\n",
       "      <td>...</td>\n",
       "      <td>NaN</td>\n",
       "      <td>1004</td>\n",
       "      <td>45</td>\n",
       "      <td>NaN</td>\n",
       "      <td>http://images.acmesports.sports/Field+%26+Stre...</td>\n",
       "      <td>Field &amp; Stream Sportsman 16 Gun Fire Safe</td>\n",
       "      <td>399.980011</td>\n",
       "      <td>0</td>\n",
       "      <td>1/20/2016 3:40</td>\n",
       "      <td>Standard Class</td>\n",
       "    </tr>\n",
       "    <tr>\n",
       "      <th>180515</th>\n",
       "      <td>DEBIT</td>\n",
       "      <td>3</td>\n",
       "      <td>2</td>\n",
       "      <td>-613.770019</td>\n",
       "      <td>395.980011</td>\n",
       "      <td>Late delivery</td>\n",
       "      <td>1</td>\n",
       "      <td>45</td>\n",
       "      <td>Fishing</td>\n",
       "      <td>Bakersfield</td>\n",
       "      <td>...</td>\n",
       "      <td>NaN</td>\n",
       "      <td>1004</td>\n",
       "      <td>45</td>\n",
       "      <td>NaN</td>\n",
       "      <td>http://images.acmesports.sports/Field+%26+Stre...</td>\n",
       "      <td>Field &amp; Stream Sportsman 16 Gun Fire Safe</td>\n",
       "      <td>399.980011</td>\n",
       "      <td>0</td>\n",
       "      <td>1/19/2016 1:34</td>\n",
       "      <td>Second Class</td>\n",
       "    </tr>\n",
       "    <tr>\n",
       "      <th>180516</th>\n",
       "      <td>TRANSFER</td>\n",
       "      <td>5</td>\n",
       "      <td>4</td>\n",
       "      <td>141.110001</td>\n",
       "      <td>391.980011</td>\n",
       "      <td>Late delivery</td>\n",
       "      <td>1</td>\n",
       "      <td>45</td>\n",
       "      <td>Fishing</td>\n",
       "      <td>Bristol</td>\n",
       "      <td>...</td>\n",
       "      <td>NaN</td>\n",
       "      <td>1004</td>\n",
       "      <td>45</td>\n",
       "      <td>NaN</td>\n",
       "      <td>http://images.acmesports.sports/Field+%26+Stre...</td>\n",
       "      <td>Field &amp; Stream Sportsman 16 Gun Fire Safe</td>\n",
       "      <td>399.980011</td>\n",
       "      <td>0</td>\n",
       "      <td>1/20/2016 21:00</td>\n",
       "      <td>Standard Class</td>\n",
       "    </tr>\n",
       "    <tr>\n",
       "      <th>180517</th>\n",
       "      <td>PAYMENT</td>\n",
       "      <td>3</td>\n",
       "      <td>4</td>\n",
       "      <td>186.229996</td>\n",
       "      <td>387.980011</td>\n",
       "      <td>Advance shipping</td>\n",
       "      <td>0</td>\n",
       "      <td>45</td>\n",
       "      <td>Fishing</td>\n",
       "      <td>Caguas</td>\n",
       "      <td>...</td>\n",
       "      <td>NaN</td>\n",
       "      <td>1004</td>\n",
       "      <td>45</td>\n",
       "      <td>NaN</td>\n",
       "      <td>http://images.acmesports.sports/Field+%26+Stre...</td>\n",
       "      <td>Field &amp; Stream Sportsman 16 Gun Fire Safe</td>\n",
       "      <td>399.980011</td>\n",
       "      <td>0</td>\n",
       "      <td>1/18/2016 20:18</td>\n",
       "      <td>Standard Class</td>\n",
       "    </tr>\n",
       "    <tr>\n",
       "      <th>180518</th>\n",
       "      <td>PAYMENT</td>\n",
       "      <td>4</td>\n",
       "      <td>4</td>\n",
       "      <td>168.949997</td>\n",
       "      <td>383.980011</td>\n",
       "      <td>Shipping on time</td>\n",
       "      <td>0</td>\n",
       "      <td>45</td>\n",
       "      <td>Fishing</td>\n",
       "      <td>Caguas</td>\n",
       "      <td>...</td>\n",
       "      <td>NaN</td>\n",
       "      <td>1004</td>\n",
       "      <td>45</td>\n",
       "      <td>NaN</td>\n",
       "      <td>http://images.acmesports.sports/Field+%26+Stre...</td>\n",
       "      <td>Field &amp; Stream Sportsman 16 Gun Fire Safe</td>\n",
       "      <td>399.980011</td>\n",
       "      <td>0</td>\n",
       "      <td>1/19/2016 18:54</td>\n",
       "      <td>Standard Class</td>\n",
       "    </tr>\n",
       "  </tbody>\n",
       "</table>\n",
       "<p>180519 rows × 52 columns</p>\n",
       "</div>"
      ],
      "text/plain": [
       "            Type  Days for shipping (real)  Days for shipment (scheduled)  \\\n",
       "0          DEBIT                         3                              4   \n",
       "1       TRANSFER                         5                              4   \n",
       "2           CASH                         4                              4   \n",
       "3          DEBIT                         3                              4   \n",
       "4        PAYMENT                         2                              4   \n",
       "...          ...                       ...                            ...   \n",
       "180514      CASH                         4                              4   \n",
       "180515     DEBIT                         3                              2   \n",
       "180516  TRANSFER                         5                              4   \n",
       "180517   PAYMENT                         3                              4   \n",
       "180518   PAYMENT                         4                              4   \n",
       "\n",
       "        Benefit per order  Sales per customer   Delivery Status  \\\n",
       "0               91.250000          314.640015  Advance shipping   \n",
       "1             -249.089996          311.359985     Late delivery   \n",
       "2             -247.779999          309.720001  Shipping on time   \n",
       "3               22.860001          304.809998  Advance shipping   \n",
       "4              134.210007          298.250000  Advance shipping   \n",
       "...                   ...                 ...               ...   \n",
       "180514          40.000000          399.980011  Shipping on time   \n",
       "180515        -613.770019          395.980011     Late delivery   \n",
       "180516         141.110001          391.980011     Late delivery   \n",
       "180517         186.229996          387.980011  Advance shipping   \n",
       "180518         168.949997          383.980011  Shipping on time   \n",
       "\n",
       "        Late_delivery_risk  Category Id   Category Name Customer City  ...  \\\n",
       "0                        0           73  Sporting Goods        Caguas  ...   \n",
       "1                        1           73  Sporting Goods        Caguas  ...   \n",
       "2                        0           73  Sporting Goods      San Jose  ...   \n",
       "3                        0           73  Sporting Goods   Los Angeles  ...   \n",
       "4                        0           73  Sporting Goods        Caguas  ...   \n",
       "...                    ...          ...             ...           ...  ...   \n",
       "180514                   0           45         Fishing      Brooklyn  ...   \n",
       "180515                   1           45         Fishing   Bakersfield  ...   \n",
       "180516                   1           45         Fishing       Bristol  ...   \n",
       "180517                   0           45         Fishing        Caguas  ...   \n",
       "180518                   0           45         Fishing        Caguas  ...   \n",
       "\n",
       "       Order Zipcode Product Card Id  Product Category Id Product Description  \\\n",
       "0                NaN            1360                   73                 NaN   \n",
       "1                NaN            1360                   73                 NaN   \n",
       "2                NaN            1360                   73                 NaN   \n",
       "3                NaN            1360                   73                 NaN   \n",
       "4                NaN            1360                   73                 NaN   \n",
       "...              ...             ...                  ...                 ...   \n",
       "180514           NaN            1004                   45                 NaN   \n",
       "180515           NaN            1004                   45                 NaN   \n",
       "180516           NaN            1004                   45                 NaN   \n",
       "180517           NaN            1004                   45                 NaN   \n",
       "180518           NaN            1004                   45                 NaN   \n",
       "\n",
       "                                            Product Image  \\\n",
       "0            http://images.acmesports.sports/Smart+watch    \n",
       "1            http://images.acmesports.sports/Smart+watch    \n",
       "2            http://images.acmesports.sports/Smart+watch    \n",
       "3            http://images.acmesports.sports/Smart+watch    \n",
       "4            http://images.acmesports.sports/Smart+watch    \n",
       "...                                                   ...   \n",
       "180514  http://images.acmesports.sports/Field+%26+Stre...   \n",
       "180515  http://images.acmesports.sports/Field+%26+Stre...   \n",
       "180516  http://images.acmesports.sports/Field+%26+Stre...   \n",
       "180517  http://images.acmesports.sports/Field+%26+Stre...   \n",
       "180518  http://images.acmesports.sports/Field+%26+Stre...   \n",
       "\n",
       "                                     Product Name Product Price  \\\n",
       "0                                    Smart watch     327.750000   \n",
       "1                                    Smart watch     327.750000   \n",
       "2                                    Smart watch     327.750000   \n",
       "3                                    Smart watch     327.750000   \n",
       "4                                    Smart watch     327.750000   \n",
       "...                                           ...           ...   \n",
       "180514  Field & Stream Sportsman 16 Gun Fire Safe    399.980011   \n",
       "180515  Field & Stream Sportsman 16 Gun Fire Safe    399.980011   \n",
       "180516  Field & Stream Sportsman 16 Gun Fire Safe    399.980011   \n",
       "180517  Field & Stream Sportsman 16 Gun Fire Safe    399.980011   \n",
       "180518  Field & Stream Sportsman 16 Gun Fire Safe    399.980011   \n",
       "\n",
       "       Product Status  shipping date (DateOrders)   Shipping Mode  \n",
       "0                   0              2/3/2018 22:56  Standard Class  \n",
       "1                   0             1/18/2018 12:27  Standard Class  \n",
       "2                   0             1/17/2018 12:06  Standard Class  \n",
       "3                   0             1/16/2018 11:45  Standard Class  \n",
       "4                   0             1/15/2018 11:24  Standard Class  \n",
       "...               ...                         ...             ...  \n",
       "180514              0              1/20/2016 3:40  Standard Class  \n",
       "180515              0              1/19/2016 1:34    Second Class  \n",
       "180516              0             1/20/2016 21:00  Standard Class  \n",
       "180517              0             1/18/2016 20:18  Standard Class  \n",
       "180518              0             1/19/2016 18:54  Standard Class  \n",
       "\n",
       "[180519 rows x 52 columns]"
      ]
     },
     "execution_count": 884,
     "metadata": {},
     "output_type": "execute_result"
    }
   ],
   "source": [
    "df.drop(\"Customer Email\", axis=1)"
   ]
  },
  {
   "cell_type": "markdown",
   "metadata": {},
   "source": [
    "### Encoding "
   ]
  },
  {
   "cell_type": "markdown",
   "metadata": {},
   "source": [
    "### Type"
   ]
  },
  {
   "cell_type": "code",
   "execution_count": 885,
   "metadata": {},
   "outputs": [
    {
     "data": {
      "text/plain": [
       "array(['DEBIT', 'TRANSFER', 'CASH', 'PAYMENT'], dtype=object)"
      ]
     },
     "execution_count": 885,
     "metadata": {},
     "output_type": "execute_result"
    }
   ],
   "source": [
    "df[\"Type\"].unique()"
   ]
  },
  {
   "cell_type": "code",
   "execution_count": 886,
   "metadata": {},
   "outputs": [],
   "source": [
    "df[\"Type\"].replace({'DEBIT':0, 'TRANSFER':1, 'CASH':2, 'PAYMENT':3}, inplace=True)"
   ]
  },
  {
   "cell_type": "code",
   "execution_count": 887,
   "metadata": {},
   "outputs": [
    {
     "data": {
      "text/plain": [
       "{'DEBIT': 0, 'TRANSFER': 1, 'CASH': 2, 'PAYMENT': 3}"
      ]
     },
     "execution_count": 887,
     "metadata": {},
     "output_type": "execute_result"
    }
   ],
   "source": [
    "Type_value = {'DEBIT':0, 'TRANSFER':1, 'CASH':2, 'PAYMENT':3}\n",
    "Type_value"
   ]
  },
  {
   "cell_type": "markdown",
   "metadata": {},
   "source": [
    "### Delivery Status"
   ]
  },
  {
   "cell_type": "code",
   "execution_count": 888,
   "metadata": {
    "scrolled": true
   },
   "outputs": [
    {
     "data": {
      "text/plain": [
       "array(['Advance shipping', 'Late delivery', 'Shipping on time',\n",
       "       'Shipping canceled'], dtype=object)"
      ]
     },
     "execution_count": 888,
     "metadata": {},
     "output_type": "execute_result"
    }
   ],
   "source": [
    "df[\"Delivery Status\"].unique()"
   ]
  },
  {
   "cell_type": "code",
   "execution_count": 889,
   "metadata": {
    "scrolled": false
   },
   "outputs": [],
   "source": [
    "df[\"Delivery Status\"].replace({'Advance shipping':0, 'Late delivery':1, 'Shipping on time':2,'Shipping canceled':3}, inplace=True)"
   ]
  },
  {
   "cell_type": "code",
   "execution_count": 890,
   "metadata": {},
   "outputs": [
    {
     "data": {
      "text/plain": [
       "{'Advance shipping': 0,\n",
       " 'Late delivery': 1,\n",
       " 'Shipping on time': 2,\n",
       " 'Shipping canceled': 3}"
      ]
     },
     "execution_count": 890,
     "metadata": {},
     "output_type": "execute_result"
    }
   ],
   "source": [
    "Delivery_Status_value = {'Advance shipping':0, 'Late delivery':1, 'Shipping on time':2,'Shipping canceled':3}\n",
    "Delivery_Status_value"
   ]
  },
  {
   "cell_type": "markdown",
   "metadata": {},
   "source": [
    "### Category Name"
   ]
  },
  {
   "cell_type": "code",
   "execution_count": 891,
   "metadata": {
    "scrolled": true
   },
   "outputs": [
    {
     "data": {
      "text/plain": [
       "array(['Sporting Goods', 'Cleats', 'Shop By Sport', \"Women's Apparel\",\n",
       "       'Electronics', 'Boxing & MMA', 'Cardio Equipment', 'Trade-In',\n",
       "       \"Kids' Golf Clubs\", 'Hunting & Shooting', 'Baseball & Softball',\n",
       "       \"Men's Footwear\", 'Camping & Hiking', 'Consumer Electronics',\n",
       "       'Cameras ', 'Computers', 'Basketball', 'Soccer', \"Girls' Apparel\",\n",
       "       'Accessories', \"Women's Clothing\", 'Crafts', \"Men's Clothing\",\n",
       "       'Tennis & Racquet', 'Fitness Accessories', 'As Seen on  TV!',\n",
       "       'Golf Balls', 'Strength Training', \"Children's Clothing\",\n",
       "       'Lacrosse', 'Baby ', 'Fishing', 'Books ', 'DVDs', 'CDs ', 'Garden',\n",
       "       'Hockey', 'Pet Supplies', 'Health and Beauty', 'Music',\n",
       "       'Video Games', 'Golf Gloves', 'Golf Bags & Carts', 'Golf Shoes',\n",
       "       'Golf Apparel', \"Women's Golf Clubs\", \"Men's Golf Clubs\", 'Toys',\n",
       "       'Water Sports', 'Indoor/Outdoor Games'], dtype=object)"
      ]
     },
     "execution_count": 891,
     "metadata": {},
     "output_type": "execute_result"
    }
   ],
   "source": [
    "df[\"Category Name\"].unique()"
   ]
  },
  {
   "cell_type": "code",
   "execution_count": 892,
   "metadata": {},
   "outputs": [
    {
     "data": {
      "text/html": [
       "<div>\n",
       "<style scoped>\n",
       "    .dataframe tbody tr th:only-of-type {\n",
       "        vertical-align: middle;\n",
       "    }\n",
       "\n",
       "    .dataframe tbody tr th {\n",
       "        vertical-align: top;\n",
       "    }\n",
       "\n",
       "    .dataframe thead th {\n",
       "        text-align: right;\n",
       "    }\n",
       "</style>\n",
       "<table border=\"1\" class=\"dataframe\">\n",
       "  <thead>\n",
       "    <tr style=\"text-align: right;\">\n",
       "      <th></th>\n",
       "      <th>Category Name</th>\n",
       "    </tr>\n",
       "  </thead>\n",
       "  <tbody>\n",
       "    <tr>\n",
       "      <th>0</th>\n",
       "      <td>40</td>\n",
       "    </tr>\n",
       "    <tr>\n",
       "      <th>1</th>\n",
       "      <td>40</td>\n",
       "    </tr>\n",
       "    <tr>\n",
       "      <th>2</th>\n",
       "      <td>40</td>\n",
       "    </tr>\n",
       "    <tr>\n",
       "      <th>3</th>\n",
       "      <td>40</td>\n",
       "    </tr>\n",
       "    <tr>\n",
       "      <th>4</th>\n",
       "      <td>40</td>\n",
       "    </tr>\n",
       "    <tr>\n",
       "      <th>...</th>\n",
       "      <td>...</td>\n",
       "    </tr>\n",
       "    <tr>\n",
       "      <th>180514</th>\n",
       "      <td>18</td>\n",
       "    </tr>\n",
       "    <tr>\n",
       "      <th>180515</th>\n",
       "      <td>18</td>\n",
       "    </tr>\n",
       "    <tr>\n",
       "      <th>180516</th>\n",
       "      <td>18</td>\n",
       "    </tr>\n",
       "    <tr>\n",
       "      <th>180517</th>\n",
       "      <td>18</td>\n",
       "    </tr>\n",
       "    <tr>\n",
       "      <th>180518</th>\n",
       "      <td>18</td>\n",
       "    </tr>\n",
       "  </tbody>\n",
       "</table>\n",
       "<p>180519 rows × 1 columns</p>\n",
       "</div>"
      ],
      "text/plain": [
       "        Category Name\n",
       "0                  40\n",
       "1                  40\n",
       "2                  40\n",
       "3                  40\n",
       "4                  40\n",
       "...               ...\n",
       "180514             18\n",
       "180515             18\n",
       "180516             18\n",
       "180517             18\n",
       "180518             18\n",
       "\n",
       "[180519 rows x 1 columns]"
      ]
     },
     "execution_count": 892,
     "metadata": {},
     "output_type": "execute_result"
    }
   ],
   "source": [
    "encoder = LabelEncoder()\n",
    "encoded_categories = encoder.fit_transform(df['Category Name'])\n",
    "df['Category Name'] = encoded_categories\n",
    "df[['Category Name']]"
   ]
  },
  {
   "cell_type": "markdown",
   "metadata": {},
   "source": [
    "### Customer City"
   ]
  },
  {
   "cell_type": "code",
   "execution_count": 893,
   "metadata": {
    "scrolled": false
   },
   "outputs": [
    {
     "data": {
      "text/plain": [
       "array(['Caguas', 'San Jose', 'Los Angeles', 'Tonawanda', 'Miami',\n",
       "       'San Ramon', 'Freeport', 'Salinas', 'Peabody', 'Canovanas',\n",
       "       'Paramount', 'Mount Prospect', 'Long Beach', 'Rancho Cordova',\n",
       "       'Billings', 'Wilkes Barre', 'Roseville', 'Bellflower', 'Wheaton',\n",
       "       'Detroit', 'Dallas', 'Carlisle', 'Newark', 'Panorama City',\n",
       "       'Atlanta', 'Fremont', 'Rochester', 'Bayamon', 'Guayama',\n",
       "       'Juana Diaz', 'Fort Washington', 'Bakersfield', 'Corona',\n",
       "       'Cincinnati', 'Germantown', 'Carrollton', 'Houston', 'Ewa Beach',\n",
       "       'Lakewood', 'Rome', 'Vista', 'Fort Worth', 'Fond Du Lac',\n",
       "       'Philadelphia', 'Ontario', 'Oviedo', 'Buffalo', 'Honolulu',\n",
       "       'Oceanside', 'North Tonawanda', 'Clovis', 'Jamaica',\n",
       "       'Granite City', 'Medford', 'Pomona', 'Tempe', 'Santa Ana', 'York',\n",
       "       'Aurora', 'Simi Valley', 'Silver Spring', 'Saint Paul',\n",
       "       'San Antonio', 'Bronx', 'Greenville', 'Morristown', 'San Diego',\n",
       "       'Oxnard', 'Albuquerque', 'Amarillo', 'Lutz', 'Bend',\n",
       "       'East Brunswick', 'Lancaster', 'Hampton', 'New York',\n",
       "       'Porterville', 'Portland', 'Strongsville', 'El Paso', 'Del Rio',\n",
       "       'Bountiful', 'Kent', 'Chicago', 'Plymouth', 'Far Rockaway',\n",
       "       'Garden Grove', 'Placentia', 'Mentor', 'Santa Clara', 'Union',\n",
       "       'Westminster', 'Pompano Beach', 'Azusa', 'Fort Lauderdale',\n",
       "       'Princeton', 'Perth Amboy', 'Loveland', 'Virginia Beach',\n",
       "       'Louisville', 'Lockport', 'Staten Island', 'Tucson', 'Cleveland',\n",
       "       'Webster', 'Stockton', 'Martinsburg', 'Cumberland', 'Pekin',\n",
       "       'Tallahassee', 'Jacksonville', 'Woonsocket', 'Lithonia',\n",
       "       'Oak Lawn', 'Alhambra', 'New Haven', 'Phoenix', 'Kenner',\n",
       "       'Washington', 'Holland', 'Morrisville', 'Memphis', 'Federal Way',\n",
       "       'West Covina', 'Ventura', 'Valrico', 'Kaneohe', 'Brooklyn', 'Lodi',\n",
       "       'Murfreesboro', 'Carlsbad', 'Hamilton', 'Hayward', 'Bridgeton',\n",
       "       'Bay Shore', 'Palatine', 'Smyrna', 'Van Nuys', 'Opa Locka',\n",
       "       'Edison', 'Baytown', 'Sylmar', 'Burnsville', 'Huntington Station',\n",
       "       'Sunnyvale', 'Sugar Land', 'Brighton', 'Bismarck', 'Gaithersburg',\n",
       "       'Lilburn', 'Provo', 'Columbia', 'Marietta', 'Rio Grande', 'Denver',\n",
       "       'Taylor', 'Saint Charles', 'Cupertino', 'Springfield',\n",
       "       'Mission Viejo', 'Roswell', 'Ypsilanti', 'Peoria', 'Clementon',\n",
       "       'Antioch', 'Salt Lake City', 'Granada Hills', 'Hempstead',\n",
       "       'Astoria', 'Gilroy', 'Lenoir', 'Columbus', 'Albany', 'Humacao',\n",
       "       'Lindenhurst', 'Elyria', 'Riverside', 'Carson', 'Mesa', 'San Juan',\n",
       "       'Vega Baja', 'Mayaguez', 'Arecibo', 'San Sebastian', 'Eugene',\n",
       "       'Algonquin', 'Indianapolis', 'Buena Park', 'Catonsville',\n",
       "       'Jersey City', 'Lombard', 'New Bedford', 'Newburgh', 'Lansdale',\n",
       "       'Baltimore', 'Fullerton', 'Sacramento', 'Greensboro', 'Roseburg',\n",
       "       'Modesto', 'Encinitas', 'Watsonville', 'Meridian', 'Endicott',\n",
       "       'Katy', 'Visalia', 'Lompoc', 'Ogden', 'Raleigh',\n",
       "       'Hacienda Heights', 'Union City', 'Hollywood', 'Bolingbrook',\n",
       "       'West Lafayette', 'Woodbridge', 'Weslaco', 'Bell Gardens',\n",
       "       'La Mirada', 'North Bergen', 'Madison', 'South San Francisco',\n",
       "       'North Las Vegas', 'Methuen', 'Costa Mesa', 'Glen Burnie',\n",
       "       'Fairfield', 'Winnetka', 'Mcallen', 'Joliet', 'Brownsville',\n",
       "       'Pawtucket', 'Colorado Springs', 'Quincy', 'Pittsfield', 'Chino',\n",
       "       'Marion', 'North Hills', 'Salina', 'Hyattsville',\n",
       "       'North Richland Hills', 'Spring Valley', 'Lawrence', 'Milpitas',\n",
       "       'Rowland Heights', 'Gardena', 'Cicero', 'Asheboro', 'La Crosse',\n",
       "       'Florissant', 'Canyon Country', 'Ithaca', 'Allentown', 'Escondido',\n",
       "       'Martinez', 'Troy', 'Arlington', 'Davis', 'Chandler', 'Elgin',\n",
       "       'Palmdale', 'Massapequa', 'Pittsburg', 'West New York', 'Orlando',\n",
       "       'Hanover', 'Glendale', 'Enfield', 'Baldwin Park', 'Chino Hills',\n",
       "       'Toms River', 'Wyandotte', 'Mililani', 'Harvey', 'Mechanicsburg',\n",
       "       'Opelousas', 'Kailua', 'Norfolk', 'Elmhurst', 'Chillicothe',\n",
       "       'Canoga Park', 'Jackson', 'Moreno Valley', 'New Orleans',\n",
       "       'San Benito', 'New Castle', 'Bloomfield', 'Cypress', 'Marrero',\n",
       "       'Grand Prairie', 'Greeley', 'Littleton', 'Longmont', 'Chesapeake',\n",
       "       'Englewood', 'Arlington Heights', 'Tampa', 'Irvington',\n",
       "       'Forest Hills', 'Dearborn', 'Compton', 'Garland', 'Waipahu',\n",
       "       'Carmichael', 'Tustin', 'Anaheim', 'Canton', 'Stafford',\n",
       "       'South Richmond Hill', 'Middletown', 'West Orange', 'Daly City',\n",
       "       'Powder Springs', 'Parkville', 'Hialeah', 'Beloit', 'Aguadilla',\n",
       "       'Carolina', 'Yauco', 'Saint Peters', 'Augusta', 'Chapel Hill',\n",
       "       'East Lansing', 'Stamford', 'Diamond Bar', 'Milwaukee',\n",
       "       'Lawrenceville', 'Manchester', 'La Puente', 'Victorville',\n",
       "       'Richmond', 'Eagle Pass', 'Fontana', 'Ballwin', 'New Braunfels',\n",
       "       'Las Vegas', 'Goose Creek', 'Pharr', 'Yonkers', 'El Monte',\n",
       "       'Reynoldsburg', 'Hamtramck', 'Medina', 'Highland', 'Jonesboro',\n",
       "       'Elk Grove', 'Montebello', 'San Francisco', 'Glenview',\n",
       "       'Rock Hill', 'Austin', 'Scottsdale', 'Santa Cruz', 'Oregon City',\n",
       "       'Annandale', 'Plano', 'Piscataway', 'El Cajon', 'Hilliard',\n",
       "       'Orange Park', 'Decatur', 'San Pablo', 'Douglasville', 'Henderson',\n",
       "       'College Station', 'Round Rock', 'Mesquite', 'Broken Arrow',\n",
       "       'Redmond', 'Findlay', 'La Habra', 'Laguna Hills', 'San Bernardino',\n",
       "       'Apex', 'South El Monte', 'Irving', 'Blacksburg',\n",
       "       'Dorchester Center', 'Potomac', 'Winter Park', 'Stone Mountain',\n",
       "       'Goleta', 'Hagerstown', 'Alameda', 'Saint Louis', 'Pico Rivera',\n",
       "       'Chula Vista', 'Hollister', 'North Hollywood', 'New Brunswick',\n",
       "       'Beaverton', 'Chicago Heights', 'Hesperia', 'Cary', 'Sanford',\n",
       "       'Laredo', 'Westland', 'Stockbridge', 'Carol Stream', 'Wichita',\n",
       "       'Olathe', 'Flushing', 'Lynwood', 'Revere', 'Westerville',\n",
       "       'Cordova', 'Hanford', 'Rialto', 'Mchenry', 'Mission', 'Salem',\n",
       "       'Duluth', 'Danbury', 'Frankfort', 'Upland', 'Rosemead',\n",
       "       'Mount Pleasant', 'Lake Forest', 'West Chester', 'Woodside',\n",
       "       'Norcross', 'Fresno', 'Zanesville', 'Painesville', 'Lynnwood',\n",
       "       'Massillon', 'Crystal Lake', 'Rego Park', 'Ann Arbor', 'Wyoming',\n",
       "       'La Mesa', 'Edinburg', 'Howell', 'Michigan City', 'Sheboygan',\n",
       "       'Moline', 'Yuma', 'Campbell', 'Charlotte', 'Oakland', 'San Marcos',\n",
       "       'Walnut', 'Harlingen', 'Rio Rancho', 'Nashville', 'Annapolis',\n",
       "       'Laguna Niguel', 'Santee', 'West Jordan', 'Hickory', 'Manati',\n",
       "       'Trujillo Alto', 'Ponce', 'Toa Alta', 'Irwin', 'South Ozone Park',\n",
       "       'Ridgewood', 'Bowling Green', 'Richardson', 'Sun Valley',\n",
       "       'Huntington Beach', 'Fargo', 'Waukegan', 'Highland Park',\n",
       "       'Cerritos', 'Lewisville', 'Alpharetta', 'New Albany', 'Denton',\n",
       "       'Temecula', 'Tinley Park', 'Dundalk', 'Crown Point', 'Lawton',\n",
       "       'Fayetteville', 'Milford', 'Bartlett', 'Reno', 'Passaic', 'Reseda',\n",
       "       'Levittown', 'Wayne', 'Metairie', 'Wheeling', 'Hawthorne', 'Napa',\n",
       "       'Berwyn', 'Fountain Valley', 'Las Cruces', 'Apopka', 'Folsom',\n",
       "       'El Centro', 'Jackson Heights', 'Pacoima', 'Hendersonville',\n",
       "       'Clearfield', 'Seattle', 'Saginaw', 'Conway', 'Sandusky',\n",
       "       'San Pedro', 'Grove City', 'Knoxville', 'Huntington Park',\n",
       "       'Greensburg', 'Poway', 'O Fallon', 'Chambersburg', 'Normal',\n",
       "       'Lynn', 'Bensalem', 'Bristol', 'Williamsport', 'Longview',\n",
       "       'Norwalk', 'Bayonne', 'Tulare', 'National City', 'Dayton', 'Tracy',\n",
       "       'Summerville', 'Merced', 'Brockton', 'Vallejo', 'West Haven',\n",
       "       'Pasadena', 'South Gate', 'Warren', 'Clarksville', 'Muskegon',\n",
       "       'Brandon', 'Rancho Cucamonga', 'Santa Maria', 'Doylestown',\n",
       "       'Colton', 'Indio', 'Plainfield', 'Bellingham', 'Spring',\n",
       "       'Livermore', 'Santa Fe', 'Palo Alto', 'Henrico', 'Des Plaines',\n",
       "       'Birmingham', 'Broomfield', 'Guaynabo', 'Cayey', 'Citrus Heights',\n",
       "       'Spokane', 'Dubuque', 'Madera', 'Everett', 'Brentwood',\n",
       "       'Morganton', 'Vacaville', 'Malden', 'Gwynn Oak', 'Toa Baja',\n",
       "       'Taunton', 'Freehold', 'Sumner', 'Wilmington', 'CA'], dtype=object)"
      ]
     },
     "execution_count": 893,
     "metadata": {},
     "output_type": "execute_result"
    }
   ],
   "source": [
    "df[\"Customer City\"].unique()"
   ]
  },
  {
   "cell_type": "code",
   "execution_count": 894,
   "metadata": {},
   "outputs": [
    {
     "data": {
      "text/html": [
       "<div>\n",
       "<style scoped>\n",
       "    .dataframe tbody tr th:only-of-type {\n",
       "        vertical-align: middle;\n",
       "    }\n",
       "\n",
       "    .dataframe tbody tr th {\n",
       "        vertical-align: top;\n",
       "    }\n",
       "\n",
       "    .dataframe thead th {\n",
       "        text-align: right;\n",
       "    }\n",
       "</style>\n",
       "<table border=\"1\" class=\"dataframe\">\n",
       "  <thead>\n",
       "    <tr style=\"text-align: right;\">\n",
       "      <th></th>\n",
       "      <th>Customer City</th>\n",
       "    </tr>\n",
       "  </thead>\n",
       "  <tbody>\n",
       "    <tr>\n",
       "      <th>0</th>\n",
       "      <td>66</td>\n",
       "    </tr>\n",
       "    <tr>\n",
       "      <th>1</th>\n",
       "      <td>66</td>\n",
       "    </tr>\n",
       "    <tr>\n",
       "      <th>2</th>\n",
       "      <td>452</td>\n",
       "    </tr>\n",
       "    <tr>\n",
       "      <th>3</th>\n",
       "      <td>285</td>\n",
       "    </tr>\n",
       "    <tr>\n",
       "      <th>4</th>\n",
       "      <td>66</td>\n",
       "    </tr>\n",
       "    <tr>\n",
       "      <th>...</th>\n",
       "      <td>...</td>\n",
       "    </tr>\n",
       "    <tr>\n",
       "      <th>180514</th>\n",
       "      <td>59</td>\n",
       "    </tr>\n",
       "    <tr>\n",
       "      <th>180515</th>\n",
       "      <td>26</td>\n",
       "    </tr>\n",
       "    <tr>\n",
       "      <th>180516</th>\n",
       "      <td>55</td>\n",
       "    </tr>\n",
       "    <tr>\n",
       "      <th>180517</th>\n",
       "      <td>66</td>\n",
       "    </tr>\n",
       "    <tr>\n",
       "      <th>180518</th>\n",
       "      <td>66</td>\n",
       "    </tr>\n",
       "  </tbody>\n",
       "</table>\n",
       "<p>180519 rows × 1 columns</p>\n",
       "</div>"
      ],
      "text/plain": [
       "        Customer City\n",
       "0                  66\n",
       "1                  66\n",
       "2                 452\n",
       "3                 285\n",
       "4                  66\n",
       "...               ...\n",
       "180514             59\n",
       "180515             26\n",
       "180516             55\n",
       "180517             66\n",
       "180518             66\n",
       "\n",
       "[180519 rows x 1 columns]"
      ]
     },
     "execution_count": 894,
     "metadata": {},
     "output_type": "execute_result"
    }
   ],
   "source": [
    "encoder = LabelEncoder()\n",
    "encoded_categories = encoder.fit_transform(df['Customer City'])\n",
    "df['Customer City'] = encoded_categories\n",
    "df[['Customer City']]"
   ]
  },
  {
   "cell_type": "markdown",
   "metadata": {},
   "source": [
    "### Customer Country"
   ]
  },
  {
   "cell_type": "code",
   "execution_count": 895,
   "metadata": {},
   "outputs": [
    {
     "data": {
      "text/plain": [
       "array(['Puerto Rico', 'EE. UU.'], dtype=object)"
      ]
     },
     "execution_count": 895,
     "metadata": {},
     "output_type": "execute_result"
    }
   ],
   "source": [
    "df[\"Customer Country\"].unique()"
   ]
  },
  {
   "cell_type": "code",
   "execution_count": 896,
   "metadata": {},
   "outputs": [],
   "source": [
    "df[\"Customer Country\"].replace({'Puerto Rico':0, 'EE. UU.':1}, inplace=True)"
   ]
  },
  {
   "cell_type": "code",
   "execution_count": 897,
   "metadata": {},
   "outputs": [
    {
     "data": {
      "text/plain": [
       "{'Puerto Rico': 0, 'EE. UU.': 1}"
      ]
     },
     "execution_count": 897,
     "metadata": {},
     "output_type": "execute_result"
    }
   ],
   "source": [
    "Customer_Country_value = {'Puerto Rico':0, 'EE. UU.':1}\n",
    "Customer_Country_value"
   ]
  },
  {
   "cell_type": "markdown",
   "metadata": {},
   "source": [
    "### Customer Fname"
   ]
  },
  {
   "cell_type": "code",
   "execution_count": 898,
   "metadata": {
    "scrolled": false
   },
   "outputs": [
    {
     "data": {
      "text/plain": [
       "array(['Cally', 'Irene', 'Gillian', 'Tana', 'Orli', 'Kimberly',\n",
       "       'Constance', 'Erica', 'Nichole', 'Oprah', 'Germane', 'Freya',\n",
       "       'Cassandra', 'Natalie', 'Kimberley', 'Sade', 'Brynne', 'Ciara',\n",
       "       'Bo', 'Kim', 'Kellie', 'Alma', 'Yeo', 'Lucy', 'Simone', 'Roary',\n",
       "       'Quail', 'Hannah', 'Evelyn', 'Jael', 'Teagan', 'Joan', 'Basia',\n",
       "       'Dominique', 'Ainsley', 'Aurora', 'Libby', 'Amy', 'Ivory',\n",
       "       'Karina', 'Deanna', 'Dacey', 'Adele', 'Sybill', 'Kay', 'Stacy',\n",
       "       'Marah', 'Taylor', 'Mary', 'Elizabeth', 'Katherine', 'Dennis',\n",
       "       'Frances', 'Alice', 'Kyle', 'Brenda', 'Frank', 'Johnny', 'Austin',\n",
       "       'Michael', 'Vincent', 'Gregory', 'Lisa', 'Megan', 'Grace',\n",
       "       'Douglas', 'Wayne', 'Ronald', 'Tammy', 'Christina', 'Alexander',\n",
       "       'Sandra', 'Ruth', 'Lauren', 'Melissa', 'Maria', 'Eugene', 'James',\n",
       "       'John', 'Roy', 'Janet', 'Nicole', 'Sharon', 'Matthew', 'Anthony',\n",
       "       'Jerry', 'Laura', 'Jack', 'Kirestin', 'Nora', 'Jennifer',\n",
       "       'Madonna', 'Noelani', 'Sydnee', 'Willa', 'Ila', 'Belle', 'Alyssa',\n",
       "       'Lani', 'Demetria', 'Gay', 'Audrey', 'Riley', 'Imani', 'Mechelle',\n",
       "       'Whitney', 'Roanna', 'Vivian', 'Xantha', 'Zia', 'Mara', 'Sloane',\n",
       "       'Winifred', 'Giselle', 'Nancy', 'David', 'Patricia', 'Julie',\n",
       "       'Tyler', 'Karen', 'Shawn', 'Willie', 'Bruce', 'Mark', 'Paul',\n",
       "       'Walter', 'Joyce', 'Daniel', 'Pamela', 'Betty', 'Christian',\n",
       "       'Tiffany', 'Stephen', 'George', 'Samuel', 'Larry', 'Peter',\n",
       "       'Diana', 'Theresa', 'Cynthia', 'Sean', 'Jonathan', 'Christopher',\n",
       "       'Donald', 'Rana', 'William', 'Rachel', 'Dorothy', 'Robert',\n",
       "       'Andrea', 'Martha', 'Carolyn', 'Lynn', 'Julia', 'Patience',\n",
       "       'Cheryl', 'Timothy', 'Aimee', 'Virginia', 'Jessica', 'Margaret',\n",
       "       'Richard', 'Deborah', 'Emma', 'Adam', 'Sarah', 'Edward', 'Harry',\n",
       "       'Charles', 'Debra', 'Doris', 'Benjamin', 'Stephanie', 'Nicholas',\n",
       "       'Joseph', 'Diane', 'Andrew', 'Roger', 'Danielle', 'Patrick',\n",
       "       'Brandon', 'Jacqueline', 'Kathy', 'Rebecca', 'Jeremy', 'Amanda',\n",
       "       'Felicia', 'Wanda', 'Hayfa', 'Lavinia', 'Yetta', 'Cleo', 'Wynter',\n",
       "       'Hyacinth', 'Xerxes', 'Noel', 'Maryam', 'Naida', 'Lana', 'Rylee',\n",
       "       'Dakota', 'Fallon', 'Kylynn', 'Inez', 'Miriam', 'Chloe', 'Beverly',\n",
       "       'Madeline', 'Yoshi', 'Hadley', 'Renee', 'Iola', 'Tamekah',\n",
       "       'Cherokee', 'Odessa', 'Rose', 'Linda', 'May', 'Lilah', 'Emi',\n",
       "       'Myra', 'Medge', 'Beatrice', 'Ria', 'Charity', 'Nell', 'Tamara',\n",
       "       'Phyllis', 'Nelle', 'Blossom', 'Breanna', 'Katelyn', 'Karly',\n",
       "       'Olga', 'Brenna', 'Tatyana', 'Ifeoma', 'Kitra', 'Summer',\n",
       "       'Sopoline', 'Eliana', 'Denise', 'Hermione', 'Lara', 'Hedy',\n",
       "       'Violet', 'Clare', 'Rhonda', 'Morgan', 'Illiana', 'Amity', 'Jayme',\n",
       "       'Geraldine', 'Anika', 'Dana', 'Sybil', 'Genevieve', 'Tara', 'Ella',\n",
       "       'Heather', 'Brittany', 'Lori', 'Billy', 'Terry', 'Lawrence',\n",
       "       'Aaron', 'Madison', 'Jane', 'Jordan', 'Kevin', 'Octavia', 'Emily',\n",
       "       'Kelsie', 'Marie', 'Judy', 'Kenneth', 'Jaime', 'Justin', 'Harold',\n",
       "       'Ryan', 'Kelly', 'Carl', 'Teresa', 'Nathan', 'Jason', 'Steven',\n",
       "       'Judith', 'Sara', 'Marilyn', 'Kathryn', 'Ralph', 'Amber', 'Donna',\n",
       "       'Scott', 'Thomas', 'Catherine', 'Barbara', 'Joshua', 'Susan',\n",
       "       'Zachary', 'Janice', 'Crystal', 'Michelle', 'Henry', 'Anna', 'Ann',\n",
       "       'Jesse', 'Raymond', 'Audra', 'Cora', 'Hillary', 'Bryan', 'Gloria',\n",
       "       'Louis', 'Shirley', 'Martina', 'Delilah', 'Jacob', 'Brian',\n",
       "       'Victoria', 'Jeffrey', 'Helen', 'Gary', 'Ethan', 'Philip',\n",
       "       'Christine', 'Ashley', 'Jean', 'Eric', 'Hope', 'Unity', 'Blythe',\n",
       "       'Cara', 'Jorden', 'Heidi', 'Lenore', 'Aiko', 'Kylie', 'Moana',\n",
       "       'Imelda', 'Mariam', 'Rae', 'Jamalia', 'Reagan', 'Amena',\n",
       "       'Mercedes', 'Brianna', 'Xyla', 'Daria', 'Yvette', 'Ina', 'Fay',\n",
       "       'Destiny', 'Petra', 'Farrah', 'Clio', 'Leigh', 'Tallulah', 'Pearl',\n",
       "       'Maya', 'Kiayada', 'Shannon', 'Nayda', 'Charissa', 'Fatima',\n",
       "       'Shelley', 'Yoko', 'Olympia', 'Raya', 'Quyn', 'Hilary', 'Karyn',\n",
       "       'Germaine', 'Maile', 'Vivien', 'Raven', 'Charlotte', 'Zelda',\n",
       "       'Isabella', 'Carla', 'Aspen', 'Janna', 'Xena', 'Ocean', 'Hedwig',\n",
       "       'Alea', 'Aileen', 'Cameron', 'Cailin', 'Jeanette', 'Suki',\n",
       "       'Maxine', 'Sophia', 'Skyler', 'Yvonne', 'Penelope', 'Tatum',\n",
       "       'Sylvia', 'Amela', 'Keiko', 'Shana', 'Whoopi', 'Mira', 'Jaden',\n",
       "       'Pascale', 'Maris', 'Cassady', 'Quynn', 'Sage', 'Calista', 'Sacha',\n",
       "       'Daryl', 'Aphrodite', 'Olivia', 'Mallory', 'Veronica', 'Yuri',\n",
       "       'Joelle', 'Hiroko', 'Kameko', 'Hollee', 'Eden', 'Lydia', 'Azalia',\n",
       "       'Alika', 'Dahlia', 'Jenette', 'Paloma', 'Xandra', 'Mariko',\n",
       "       'Darryl', 'Fiona', 'Zephr', 'Uta', 'Wendy', 'Sierra', 'Kelsey',\n",
       "       'Alexis', 'September', 'McKenzie', 'Eleanor', 'Chastity',\n",
       "       'Cheyenne', 'Hanna', 'Mona', 'Mari', 'Robin', 'Samantha', 'Gerald',\n",
       "       'Kyla', 'Xaviera', 'Macy', 'Briar', 'Athena', 'Desirae', 'Maia',\n",
       "       'Carol', 'Angela', 'Carissa', 'Zena', 'Phillip', 'Bobby', 'Blair',\n",
       "       'Melodie', 'Keith', 'India', 'Nadine', 'Miranda', 'Piper',\n",
       "       'Charde', 'Russell', 'Isabelle', 'Mildred', 'Dylan', 'Albert',\n",
       "       'Arthur', 'Kathleen', 'Juan', 'Cathleen', 'Jose', 'Holly',\n",
       "       'Zenaida', 'Ramona', 'Zorita', 'Jocelyn', 'Alan', 'Mia', 'Justina',\n",
       "       'Rosalyn', 'Rinah', 'Remedios', 'Shay', 'Aubrey', 'Neve', 'Lacy',\n",
       "       'Leilani', 'Shelby', 'Stella', 'Camille', 'Carly', 'Teegan',\n",
       "       'Lareina', 'Kirby', 'Kevyn', 'Gisela', 'Randy', 'Willow', 'Jolie',\n",
       "       'Jade', 'Gwendolyn', 'Lee', 'Celeste', 'Noelle', 'Brynn',\n",
       "       'Desiree', 'Christen', 'Gemma', 'Kendall', 'Bethany', 'Callie',\n",
       "       'Ayanna', 'Zoe', 'Brooke', 'Bree', 'Adrienne', 'Nomlanga', 'Sig',\n",
       "       'Stela', 'Ulla', 'Lesley', 'TaShya', 'Illana', 'Courtney',\n",
       "       'Larissa', 'Juliet', 'Melyssa', 'Latifah', 'Angelica', 'Eve',\n",
       "       'Melanie', 'Montana', 'Nevada', 'Abigail', 'Ivy', 'Lacota',\n",
       "       'Stacey', 'Meghan', 'Joe', 'Howard', 'Winter', 'Jolene', 'Ursa',\n",
       "       'Camilla', 'Iris', 'Bell', 'Chanda', 'Rhiannon', 'Candice',\n",
       "       'Regan', 'Avye', 'Whilemina', 'Lisandra', 'Guinevere', 'Ivana',\n",
       "       'Velma', 'Rhea', 'Dora', 'Lael', 'Echo', 'Kyra', 'Rhoda', 'Jana',\n",
       "       'Minerva', 'Jenna', 'Inga', 'Quemby', 'Abra', 'Quincy', 'Maisie',\n",
       "       'Leila', 'Rossy', 'Charly', 'Iona', 'Ignacia', 'Marcia',\n",
       "       'Florence', 'Ariel', 'Yen', 'Rowan', 'Halee', 'Nita', 'Signe',\n",
       "       'Kessie', 'Maggy', 'Aretha', 'Dawn', 'Elaine', 'Meredith',\n",
       "       'Josephine', 'Maite', 'Anjolie', 'Melinda', 'Kirsten', 'Chelsea',\n",
       "       'Lois', 'Britanney', 'Jillian', 'Shoshana', 'Bertha', 'Katell',\n",
       "       'Isadora', 'Serina', 'Scarlett', 'Selma', 'Eugenia', 'Alexa',\n",
       "       'Quintessa', 'Shellie', 'Maggie', 'Caryn', 'Evangeline', 'Darrel',\n",
       "       'Idola', 'Vielka', 'Clementine', 'Jescie', 'Sydney', 'Quin',\n",
       "       'Fredericka', 'Chantale', 'Buffy', 'Yael', 'Kai', 'Galena',\n",
       "       'Haviva', 'Halla', 'April', 'Alfreda', 'Paula', 'Gail', 'Zenia',\n",
       "       'Jessamine', 'Mikayla', 'Irma', 'Ingrid', 'Chava', 'Laurel',\n",
       "       'Chiquita', 'Marny', 'Faith', 'Amelia', 'Tashya', 'Tatiana',\n",
       "       'Wynne', 'Karleigh', 'Phoebe', 'Rebekah', 'Regina', 'Robina',\n",
       "       'Yolanda', 'Glenna', 'Nyssa', 'Kaitlin', 'Vera', 'Sheila', 'Bryar',\n",
       "       'Ima', 'Haley', 'Kamy', 'Emerald', 'Portia', 'Adara', 'Nerea',\n",
       "       'Harriet', 'Shea', 'Jemima', 'Lacey', 'Ora', 'Odette', 'Kaye',\n",
       "       'Joanha', 'Leandra', 'Indira', 'Lunea', 'Keelie', 'Astra',\n",
       "       'Claire', 'Jaquelyn', 'Sonia', 'Kalia', 'Liberty', 'Anastasia',\n",
       "       'Kiara', 'Ursula', 'Karla', 'Venus', 'Shaine', 'Kerry', 'Susy',\n",
       "       'Rina', 'Ginger', 'Mike', 'Claudia', 'Pandora', 'Veda', 'Jena',\n",
       "       'Lillian', 'Deirdre', 'Indigo', 'Lila', 'Hanae', 'Adena', 'Sonya',\n",
       "       'Anne', 'Oliver', 'Imogene', 'Alexandra', 'Ori', 'Cecilia',\n",
       "       'Lillith', 'Rama', 'Francesca', 'Hadassah', 'Nola', 'Idona',\n",
       "       'Allegra', 'Shafira', 'Shaeleigh', 'Deme', 'Blaine', 'Gretchen',\n",
       "       'Madeson', 'Molly', 'Martena', 'Hedda', 'Heidy', 'Filipe', 'Deysi',\n",
       "       'Brie', 'Alisa', 'Contreras', 'Quon', 'Tasha', 'Lynna', 'Lysandra',\n",
       "       'Priscilla', 'Britanni', 'Lina', 'Autumn', 'Risa', 'Cami', 'Ana',\n",
       "       'Leslie', 'Nadin', 'Naomi', 'Ray', 'Larisa', 'Rebeca', 'Jordana',\n",
       "       'Blanca', 'Sybi', 'Mollie', 'BlueOneal', 'Flora', 'Ariana',\n",
       "       'Anita', 'York', 'Mally', 'Rosa', 'Caro', 'Farley', 'Jenny',\n",
       "       'Danna', 'Fiora', 'Jay', 'Asley', 'Clau', 'Le', 'Huff', 'Beatty',\n",
       "       'Paola', 'Brees'], dtype=object)"
      ]
     },
     "execution_count": 898,
     "metadata": {},
     "output_type": "execute_result"
    }
   ],
   "source": [
    "df[\"Customer Fname\"].unique()"
   ]
  },
  {
   "cell_type": "code",
   "execution_count": 899,
   "metadata": {},
   "outputs": [
    {
     "data": {
      "text/html": [
       "<div>\n",
       "<style scoped>\n",
       "    .dataframe tbody tr th:only-of-type {\n",
       "        vertical-align: middle;\n",
       "    }\n",
       "\n",
       "    .dataframe tbody tr th {\n",
       "        vertical-align: top;\n",
       "    }\n",
       "\n",
       "    .dataframe thead th {\n",
       "        text-align: right;\n",
       "    }\n",
       "</style>\n",
       "<table border=\"1\" class=\"dataframe\">\n",
       "  <thead>\n",
       "    <tr style=\"text-align: right;\">\n",
       "      <th></th>\n",
       "      <th>Customer Fname</th>\n",
       "    </tr>\n",
       "  </thead>\n",
       "  <tbody>\n",
       "    <tr>\n",
       "      <th>0</th>\n",
       "      <td>109</td>\n",
       "    </tr>\n",
       "    <tr>\n",
       "      <th>1</th>\n",
       "      <td>311</td>\n",
       "    </tr>\n",
       "    <tr>\n",
       "      <th>2</th>\n",
       "      <td>249</td>\n",
       "    </tr>\n",
       "    <tr>\n",
       "      <th>3</th>\n",
       "      <td>707</td>\n",
       "    </tr>\n",
       "    <tr>\n",
       "      <th>4</th>\n",
       "      <td>570</td>\n",
       "    </tr>\n",
       "    <tr>\n",
       "      <th>...</th>\n",
       "      <td>...</td>\n",
       "    </tr>\n",
       "    <tr>\n",
       "      <th>180514</th>\n",
       "      <td>489</td>\n",
       "    </tr>\n",
       "    <tr>\n",
       "      <th>180515</th>\n",
       "      <td>635</td>\n",
       "    </tr>\n",
       "    <tr>\n",
       "      <th>180516</th>\n",
       "      <td>359</td>\n",
       "    </tr>\n",
       "    <tr>\n",
       "      <th>180517</th>\n",
       "      <td>500</td>\n",
       "    </tr>\n",
       "    <tr>\n",
       "      <th>180518</th>\n",
       "      <td>35</td>\n",
       "    </tr>\n",
       "  </tbody>\n",
       "</table>\n",
       "<p>180519 rows × 1 columns</p>\n",
       "</div>"
      ],
      "text/plain": [
       "        Customer Fname\n",
       "0                  109\n",
       "1                  311\n",
       "2                  249\n",
       "3                  707\n",
       "4                  570\n",
       "...                ...\n",
       "180514             489\n",
       "180515             635\n",
       "180516             359\n",
       "180517             500\n",
       "180518              35\n",
       "\n",
       "[180519 rows x 1 columns]"
      ]
     },
     "execution_count": 899,
     "metadata": {},
     "output_type": "execute_result"
    }
   ],
   "source": [
    "encoder = LabelEncoder()\n",
    "encoded_categories = encoder.fit_transform(df['Customer Fname'])\n",
    "df['Customer Fname'] = encoded_categories\n",
    "df[['Customer Fname']]"
   ]
  },
  {
   "cell_type": "markdown",
   "metadata": {},
   "source": [
    "### 14 Customer Id"
   ]
  },
  {
   "cell_type": "code",
   "execution_count": 900,
   "metadata": {},
   "outputs": [
    {
     "name": "stdout",
     "output_type": "stream",
     "text": [
      "Q1 : 3258.5\n",
      "Q2 : 6457.0\n",
      "Q3 : 9779.0\n",
      "upper_tail ----> 19559.75\n",
      "lower_tail -----> -6522.25\n",
      "Median ---> 6457.0\n",
      "Mean ---> 6691.37949467923\n"
     ]
    }
   ],
   "source": [
    "q1 = df['Customer Id'].quantile(0.25)\n",
    "q2 = df['Customer Id'].quantile(0.50)\n",
    "q3 = df['Customer Id'].quantile(0.75)\n",
    "\n",
    "iqr =  q3 - q1\n",
    "\n",
    "upper_tail = q3 + 1.5 * iqr\n",
    "lower_tail = q1 - 1.5 * iqr\n",
    "\n",
    "print(\"Q1 :\",q1)\n",
    "print(\"Q2 :\",q2)\n",
    "print(\"Q3 :\",q3)\n",
    "\n",
    "print(\"upper_tail ---->\",upper_tail)\n",
    "print(\"lower_tail ----->\",lower_tail)\n",
    "print(\"Median --->\",df['Customer Id'].median())\n",
    "print(\"Mean --->\",df['Customer Id'].mean())"
   ]
  },
  {
   "cell_type": "code",
   "execution_count": 901,
   "metadata": {},
   "outputs": [
    {
     "data": {
      "text/plain": [
       "0         20755\n",
       "234       20423\n",
       "261       20529\n",
       "267       20655\n",
       "822       20402\n",
       "          ...  \n",
       "176825    20094\n",
       "176826    19913\n",
       "176827    20092\n",
       "176828    19890\n",
       "176837    20008\n",
       "Name: Customer Id, Length: 1198, dtype: int64"
      ]
     },
     "execution_count": 901,
     "metadata": {},
     "output_type": "execute_result"
    }
   ],
   "source": [
    "df['Customer Id'].loc[df['Customer Id'] > upper_tail]"
   ]
  },
  {
   "cell_type": "code",
   "execution_count": 902,
   "metadata": {},
   "outputs": [],
   "source": [
    "df['Customer Id'].loc[df['Customer Id'] > upper_tail] = upper_tail"
   ]
  },
  {
   "cell_type": "code",
   "execution_count": 903,
   "metadata": {},
   "outputs": [
    {
     "data": {
      "text/plain": [
       "Series([], Name: Customer Id, dtype: float64)"
      ]
     },
     "execution_count": 903,
     "metadata": {},
     "output_type": "execute_result"
    }
   ],
   "source": [
    "df['Customer Id'].loc[df['Customer Id'] > upper_tail]"
   ]
  },
  {
   "cell_type": "code",
   "execution_count": 904,
   "metadata": {},
   "outputs": [
    {
     "data": {
      "text/plain": [
       "<AxesSubplot:>"
      ]
     },
     "execution_count": 904,
     "metadata": {},
     "output_type": "execute_result"
    },
    {
     "data": {
      "image/png": "[encoded data removed]",
      "text/plain": [
       "<Figure size 432x288 with 1 Axes>"
      ]
     },
     "metadata": {},
     "output_type": "display_data"
    }
   ],
   "source": [
    "df[['Customer Id']].boxplot()"
   ]
  },
  {
   "cell_type": "markdown",
   "metadata": {},
   "source": [
    "### 15 Customer Lname"
   ]
  },
  {
   "cell_type": "code",
   "execution_count": 905,
   "metadata": {},
   "outputs": [
    {
     "data": {
      "text/plain": [
       "8"
      ]
     },
     "execution_count": 905,
     "metadata": {},
     "output_type": "execute_result"
    }
   ],
   "source": [
    "df['Customer Lname'].isna().sum()"
   ]
  },
  {
   "cell_type": "code",
   "execution_count": 906,
   "metadata": {},
   "outputs": [
    {
     "data": {
      "text/plain": [
       "'Smith'"
      ]
     },
     "execution_count": 906,
     "metadata": {},
     "output_type": "execute_result"
    }
   ],
   "source": [
    "df['Customer Lname'].mode()[0]"
   ]
  },
  {
   "cell_type": "code",
   "execution_count": 907,
   "metadata": {},
   "outputs": [],
   "source": [
    "df['Customer Lname'].fillna(df['Customer Lname'].mode()[0],inplace = True)"
   ]
  },
  {
   "cell_type": "code",
   "execution_count": 908,
   "metadata": {},
   "outputs": [
    {
     "data": {
      "text/plain": [
       "0"
      ]
     },
     "execution_count": 908,
     "metadata": {},
     "output_type": "execute_result"
    }
   ],
   "source": [
    "df['Customer Lname'].isna().sum()"
   ]
  },
  {
   "cell_type": "code",
   "execution_count": 909,
   "metadata": {},
   "outputs": [
    {
     "data": {
      "text/html": [
       "<div>\n",
       "<style scoped>\n",
       "    .dataframe tbody tr th:only-of-type {\n",
       "        vertical-align: middle;\n",
       "    }\n",
       "\n",
       "    .dataframe tbody tr th {\n",
       "        vertical-align: top;\n",
       "    }\n",
       "\n",
       "    .dataframe thead th {\n",
       "        text-align: right;\n",
       "    }\n",
       "</style>\n",
       "<table border=\"1\" class=\"dataframe\">\n",
       "  <thead>\n",
       "    <tr style=\"text-align: right;\">\n",
       "      <th></th>\n",
       "      <th>Customer Lname</th>\n",
       "    </tr>\n",
       "  </thead>\n",
       "  <tbody>\n",
       "    <tr>\n",
       "      <th>0</th>\n",
       "      <td>482</td>\n",
       "    </tr>\n",
       "    <tr>\n",
       "      <th>1</th>\n",
       "      <td>615</td>\n",
       "    </tr>\n",
       "    <tr>\n",
       "      <th>2</th>\n",
       "      <td>626</td>\n",
       "    </tr>\n",
       "    <tr>\n",
       "      <th>3</th>\n",
       "      <td>989</td>\n",
       "    </tr>\n",
       "    <tr>\n",
       "      <th>4</th>\n",
       "      <td>454</td>\n",
       "    </tr>\n",
       "    <tr>\n",
       "      <th>...</th>\n",
       "      <td>...</td>\n",
       "    </tr>\n",
       "    <tr>\n",
       "      <th>180514</th>\n",
       "      <td>805</td>\n",
       "    </tr>\n",
       "    <tr>\n",
       "      <th>180515</th>\n",
       "      <td>195</td>\n",
       "    </tr>\n",
       "    <tr>\n",
       "      <th>180516</th>\n",
       "      <td>948</td>\n",
       "    </tr>\n",
       "    <tr>\n",
       "      <th>180517</th>\n",
       "      <td>948</td>\n",
       "    </tr>\n",
       "    <tr>\n",
       "      <th>180518</th>\n",
       "      <td>773</td>\n",
       "    </tr>\n",
       "  </tbody>\n",
       "</table>\n",
       "<p>180519 rows × 1 columns</p>\n",
       "</div>"
      ],
      "text/plain": [
       "        Customer Lname\n",
       "0                  482\n",
       "1                  615\n",
       "2                  626\n",
       "3                  989\n",
       "4                  454\n",
       "...                ...\n",
       "180514             805\n",
       "180515             195\n",
       "180516             948\n",
       "180517             948\n",
       "180518             773\n",
       "\n",
       "[180519 rows x 1 columns]"
      ]
     },
     "execution_count": 909,
     "metadata": {},
     "output_type": "execute_result"
    }
   ],
   "source": [
    "encoder = LabelEncoder()\n",
    "encoded_categories = encoder.fit_transform(df['Customer Lname'])\n",
    "df['Customer Lname'] = encoded_categories\n",
    "df[['Customer Lname']]"
   ]
  },
  {
   "cell_type": "markdown",
   "metadata": {},
   "source": [
    "### 16 Customer Segment"
   ]
  },
  {
   "cell_type": "code",
   "execution_count": 910,
   "metadata": {},
   "outputs": [
    {
     "data": {
      "text/plain": [
       "array(['Consumer', 'Home Office', 'Corporate'], dtype=object)"
      ]
     },
     "execution_count": 910,
     "metadata": {},
     "output_type": "execute_result"
    }
   ],
   "source": [
    "df['Customer Segment'].unique()"
   ]
  },
  {
   "cell_type": "code",
   "execution_count": 911,
   "metadata": {},
   "outputs": [],
   "source": [
    "df['Customer Segment'].replace({'Consumer':0, 'Home Office':1, 'Corporate':2},inplace = True)"
   ]
  },
  {
   "cell_type": "code",
   "execution_count": 912,
   "metadata": {},
   "outputs": [
    {
     "data": {
      "text/plain": [
       "array([0, 1, 2], dtype=int64)"
      ]
     },
     "execution_count": 912,
     "metadata": {},
     "output_type": "execute_result"
    }
   ],
   "source": [
    "df['Customer Segment'].unique()"
   ]
  },
  {
   "cell_type": "code",
   "execution_count": 913,
   "metadata": {},
   "outputs": [
    {
     "data": {
      "text/plain": [
       "{'Consumer': 0, 'Home Office': 1, 'Corporate': 2}"
      ]
     },
     "execution_count": 913,
     "metadata": {},
     "output_type": "execute_result"
    }
   ],
   "source": [
    "Customer_Segment_values = {'Consumer':0, 'Home Office':1, 'Corporate':2}\n",
    "Customer_Segment_values"
   ]
  },
  {
   "cell_type": "markdown",
   "metadata": {},
   "source": [
    "### 17 Customer State"
   ]
  },
  {
   "cell_type": "code",
   "execution_count": 914,
   "metadata": {},
   "outputs": [
    {
     "data": {
      "text/plain": [
       "array(['PR', 'CA', 'NY', 'FL', 'MA', 'IL', 'MT', 'PA', 'MI', 'TX', 'DE',\n",
       "       'GA', 'MD', 'OH', 'HI', 'NJ', 'WI', 'AZ', 'CO', 'MN', 'NC', 'NM',\n",
       "       'OR', 'SC', 'VA', 'UT', 'WA', 'KY', 'WV', 'RI', 'CT', 'LA', 'TN',\n",
       "       'DC', 'ND', 'MO', 'IN', 'ID', 'NV', 'KS', 'AR', 'OK', 'AL', 'IA',\n",
       "       '95758', '91732'], dtype=object)"
      ]
     },
     "execution_count": 914,
     "metadata": {},
     "output_type": "execute_result"
    }
   ],
   "source": [
    "df['Customer State'].unique()"
   ]
  },
  {
   "cell_type": "code",
   "execution_count": 915,
   "metadata": {},
   "outputs": [],
   "source": [
    "df['Customer State'].replace({'PR':0, 'CA':1, 'NY':2, 'FL':3, 'MA':4, 'IL':5, 'MT':6, 'PA':7,\n",
    "                'MI':8, 'TX':9, 'DE':10, 'GA':11, 'MD':12, 'OH':13, 'HI':14, 'NJ':15,\n",
    "                'WI':16, 'AZ':17, 'CO':18, 'MN':19, 'NC':20, 'NM':21,'OR':22, 'SC':23, 'VA':24, \n",
    "                'UT':25, 'WA':26, 'KY':27, 'WV':28, 'RI':29, 'CT':30, 'LA':31,'TN':32,'DC':33, \n",
    "                'ND':34, 'MO':35, 'IN':36, 'ID':37, 'NV':38, 'KS':39, 'AR':40, 'OK':41, 'AL':42,\n",
    "                              'IA':43,'95758':44, '91732':45},inplace = True)"
   ]
  },
  {
   "cell_type": "code",
   "execution_count": 916,
   "metadata": {},
   "outputs": [
    {
     "data": {
      "text/plain": [
       "{'PR': 0,\n",
       " 'CA': 1,\n",
       " 'NY': 2,\n",
       " 'FL': 3,\n",
       " 'MA': 4,\n",
       " 'IL': 5,\n",
       " 'MT': 6,\n",
       " 'PA': 7,\n",
       " 'MI': 8,\n",
       " 'TX': 9,\n",
       " 'DE': 10,\n",
       " 'GA': 11,\n",
       " 'MD': 12,\n",
       " 'OH': 13,\n",
       " 'HI': 14,\n",
       " 'NJ': 15,\n",
       " 'WI': 16,\n",
       " 'AZ': 17,\n",
       " 'CO': 18,\n",
       " 'MN': 19,\n",
       " 'NC': 20,\n",
       " 'NM': 21,\n",
       " 'OR': 22,\n",
       " 'SC': 23,\n",
       " 'VA': 24,\n",
       " 'UT': 25,\n",
       " 'WA': 26,\n",
       " 'KY': 27,\n",
       " 'WV': 28,\n",
       " 'RI': 29,\n",
       " 'CT': 30,\n",
       " 'LA': 31,\n",
       " 'TN': 32,\n",
       " 'DC': 33,\n",
       " 'ND': 34,\n",
       " 'MO': 35,\n",
       " 'IN': 36,\n",
       " 'ID': 37,\n",
       " 'NV': 38,\n",
       " 'KS': 39,\n",
       " 'AR': 40,\n",
       " 'OK': 41,\n",
       " 'AL': 42,\n",
       " 'IA': 43,\n",
       " '95758': 44,\n",
       " '91732': 45}"
      ]
     },
     "execution_count": 916,
     "metadata": {},
     "output_type": "execute_result"
    }
   ],
   "source": [
    "Customer_State_values = {'PR':0, 'CA':1, 'NY':2, 'FL':3, 'MA':4, 'IL':5, 'MT':6, 'PA':7,\n",
    "                'MI':8, 'TX':9, 'DE':10, 'GA':11, 'MD':12, 'OH':13, 'HI':14, 'NJ':15,\n",
    "                'WI':16, 'AZ':17, 'CO':18, 'MN':19, 'NC':20, 'NM':21,'OR':22, 'SC':23, 'VA':24, \n",
    "                'UT':25, 'WA':26, 'KY':27, 'WV':28, 'RI':29, 'CT':30, 'LA':31,'TN':32,'DC':33, \n",
    "                'ND':34, 'MO':35, 'IN':36, 'ID':37, 'NV':38, 'KS':39, 'AR':40, 'OK':41, 'AL':42,\n",
    "                              'IA':43,'95758':44, '91732':45}\n",
    "\n",
    "Customer_State_values"
   ]
  },
  {
   "cell_type": "markdown",
   "metadata": {},
   "source": [
    "### Customer Street"
   ]
  },
  {
   "cell_type": "code",
   "execution_count": 917,
   "metadata": {},
   "outputs": [
    {
     "data": {
      "text/plain": [
       "0           5365 Noble Nectar Island\n",
       "1                   2679 Rustic Loop\n",
       "2               8510 Round Bear Gate\n",
       "3                    3200 Amber Bend\n",
       "4           8671 Iron Anchor Corners\n",
       "                     ...            \n",
       "180514              1322 Broad Glade\n",
       "180515         7330 Broad Apple Moor\n",
       "180516            97 Burning Landing\n",
       "180517    2585 Silent Autumn Landing\n",
       "180518             697 Little Meadow\n",
       "Name: Customer Street, Length: 180519, dtype: object"
      ]
     },
     "execution_count": 917,
     "metadata": {},
     "output_type": "execute_result"
    }
   ],
   "source": [
    "df['Customer Street']"
   ]
  },
  {
   "cell_type": "code",
   "execution_count": 918,
   "metadata": {},
   "outputs": [
    {
     "data": {
      "text/html": [
       "<div>\n",
       "<style scoped>\n",
       "    .dataframe tbody tr th:only-of-type {\n",
       "        vertical-align: middle;\n",
       "    }\n",
       "\n",
       "    .dataframe tbody tr th {\n",
       "        vertical-align: top;\n",
       "    }\n",
       "\n",
       "    .dataframe thead th {\n",
       "        text-align: right;\n",
       "    }\n",
       "</style>\n",
       "<table border=\"1\" class=\"dataframe\">\n",
       "  <thead>\n",
       "    <tr style=\"text-align: right;\">\n",
       "      <th></th>\n",
       "      <th>Customer Street</th>\n",
       "    </tr>\n",
       "  </thead>\n",
       "  <tbody>\n",
       "    <tr>\n",
       "      <th>0</th>\n",
       "      <td>3683</td>\n",
       "    </tr>\n",
       "    <tr>\n",
       "      <th>1</th>\n",
       "      <td>1400</td>\n",
       "    </tr>\n",
       "    <tr>\n",
       "      <th>2</th>\n",
       "      <td>6217</td>\n",
       "    </tr>\n",
       "    <tr>\n",
       "      <th>3</th>\n",
       "      <td>1803</td>\n",
       "    </tr>\n",
       "    <tr>\n",
       "      <th>4</th>\n",
       "      <td>6345</td>\n",
       "    </tr>\n",
       "    <tr>\n",
       "      <th>...</th>\n",
       "      <td>...</td>\n",
       "    </tr>\n",
       "    <tr>\n",
       "      <th>180514</th>\n",
       "      <td>285</td>\n",
       "    </tr>\n",
       "    <tr>\n",
       "      <th>180515</th>\n",
       "      <td>5261</td>\n",
       "    </tr>\n",
       "    <tr>\n",
       "      <th>180516</th>\n",
       "      <td>7208</td>\n",
       "    </tr>\n",
       "    <tr>\n",
       "      <th>180517</th>\n",
       "      <td>1335</td>\n",
       "    </tr>\n",
       "    <tr>\n",
       "      <th>180518</th>\n",
       "      <td>5001</td>\n",
       "    </tr>\n",
       "  </tbody>\n",
       "</table>\n",
       "<p>180519 rows × 1 columns</p>\n",
       "</div>"
      ],
      "text/plain": [
       "        Customer Street\n",
       "0                  3683\n",
       "1                  1400\n",
       "2                  6217\n",
       "3                  1803\n",
       "4                  6345\n",
       "...                 ...\n",
       "180514              285\n",
       "180515             5261\n",
       "180516             7208\n",
       "180517             1335\n",
       "180518             5001\n",
       "\n",
       "[180519 rows x 1 columns]"
      ]
     },
     "execution_count": 918,
     "metadata": {},
     "output_type": "execute_result"
    }
   ],
   "source": [
    "encoder = LabelEncoder()\n",
    "encoded_categories = encoder.fit_transform(df['Customer Street'])\n",
    "df['Customer Street'] = encoded_categories\n",
    "df[['Customer Street']]"
   ]
  },
  {
   "cell_type": "markdown",
   "metadata": {},
   "source": [
    "### 22 Department Name"
   ]
  },
  {
   "cell_type": "code",
   "execution_count": 919,
   "metadata": {},
   "outputs": [
    {
     "data": {
      "text/plain": [
       "array(['Fitness', 'Apparel', 'Golf', 'Footwear', 'Outdoors', 'Fan Shop',\n",
       "       'Technology', 'Book Shop', 'Discs Shop', 'Pet Shop',\n",
       "       'Health and Beauty '], dtype=object)"
      ]
     },
     "execution_count": 919,
     "metadata": {},
     "output_type": "execute_result"
    }
   ],
   "source": [
    "df['Department Name'].unique()"
   ]
  },
  {
   "cell_type": "code",
   "execution_count": 920,
   "metadata": {},
   "outputs": [],
   "source": [
    "df['Department Name'].replace({'Fitness':0, 'Apparel':1, 'Golf':2, 'Footwear':3, 'Outdoors':4,\n",
    "                               'Fan Shop':5,'Technology':6, 'Book Shop':7, 'Discs Shop':8, \n",
    "                               'Pet Shop':9,'Health and Beauty ':10},inplace = True)"
   ]
  },
  {
   "cell_type": "code",
   "execution_count": 921,
   "metadata": {},
   "outputs": [
    {
     "data": {
      "text/plain": [
       "{'Fitness': 0,\n",
       " 'Apparel': 1,\n",
       " 'Golf': 2,\n",
       " 'Footwear': 3,\n",
       " 'Outdoors': 4,\n",
       " 'Fan Shop': 5,\n",
       " 'Technology': 6,\n",
       " 'Book Shop': 7,\n",
       " 'Discs Shop': 8,\n",
       " 'Pet Shop': 9,\n",
       " 'Health and Beauty ': 10}"
      ]
     },
     "execution_count": 921,
     "metadata": {},
     "output_type": "execute_result"
    }
   ],
   "source": [
    "Department_Name_values = {'Fitness':0, 'Apparel':1, 'Golf':2, 'Footwear':3, 'Outdoors':4,\n",
    "                               'Fan Shop':5,'Technology':6, 'Book Shop':7, 'Discs Shop':8, \n",
    "                               'Pet Shop':9,'Health and Beauty ':10}\n",
    "Department_Name_values"
   ]
  },
  {
   "cell_type": "code",
   "execution_count": 922,
   "metadata": {},
   "outputs": [
    {
     "data": {
      "text/plain": [
       "array([ 0,  1,  2,  3,  4,  5,  6,  7,  8,  9, 10], dtype=int64)"
      ]
     },
     "execution_count": 922,
     "metadata": {},
     "output_type": "execute_result"
    }
   ],
   "source": [
    "df['Department Name'].unique()"
   ]
  },
  {
   "cell_type": "markdown",
   "metadata": {},
   "source": [
    "### 23 Market"
   ]
  },
  {
   "cell_type": "code",
   "execution_count": 923,
   "metadata": {},
   "outputs": [
    {
     "data": {
      "text/plain": [
       "array(['Pacific Asia', 'USCA', 'Africa', 'Europe', 'LATAM'], dtype=object)"
      ]
     },
     "execution_count": 923,
     "metadata": {},
     "output_type": "execute_result"
    }
   ],
   "source": [
    "df['Market'].unique()"
   ]
  },
  {
   "cell_type": "code",
   "execution_count": 924,
   "metadata": {},
   "outputs": [],
   "source": [
    "df['Market'].replace({'Pacific Asia':0, 'USCA':1, 'Africa':2, 'Europe':3, 'LATAM':4},inplace = True)"
   ]
  },
  {
   "cell_type": "code",
   "execution_count": 925,
   "metadata": {},
   "outputs": [
    {
     "data": {
      "text/plain": [
       "{'Pacific Asia': 0, 'USCA': 1, 'Africa': 2, 'Europe': 3, 'LATAM': 4}"
      ]
     },
     "execution_count": 925,
     "metadata": {},
     "output_type": "execute_result"
    }
   ],
   "source": [
    "Market_values = {'Pacific Asia':0, 'USCA':1, 'Africa':2, 'Europe':3, 'LATAM':4}\n",
    "Market_values"
   ]
  },
  {
   "cell_type": "code",
   "execution_count": 926,
   "metadata": {},
   "outputs": [
    {
     "data": {
      "text/plain": [
       "0         0\n",
       "1         0\n",
       "2         0\n",
       "3         0\n",
       "4         0\n",
       "         ..\n",
       "180514    0\n",
       "180515    0\n",
       "180516    0\n",
       "180517    0\n",
       "180518    0\n",
       "Name: Market, Length: 180519, dtype: int64"
      ]
     },
     "execution_count": 926,
     "metadata": {},
     "output_type": "execute_result"
    }
   ],
   "source": [
    "df['Market']"
   ]
  },
  {
   "cell_type": "markdown",
   "metadata": {},
   "source": [
    "### 24 Order City"
   ]
  },
  {
   "cell_type": "code",
   "execution_count": 927,
   "metadata": {},
   "outputs": [
    {
     "data": {
      "text/html": [
       "<div>\n",
       "<style scoped>\n",
       "    .dataframe tbody tr th:only-of-type {\n",
       "        vertical-align: middle;\n",
       "    }\n",
       "\n",
       "    .dataframe tbody tr th {\n",
       "        vertical-align: top;\n",
       "    }\n",
       "\n",
       "    .dataframe thead th {\n",
       "        text-align: right;\n",
       "    }\n",
       "</style>\n",
       "<table border=\"1\" class=\"dataframe\">\n",
       "  <thead>\n",
       "    <tr style=\"text-align: right;\">\n",
       "      <th></th>\n",
       "      <th>Order City</th>\n",
       "    </tr>\n",
       "  </thead>\n",
       "  <tbody>\n",
       "    <tr>\n",
       "      <th>0</th>\n",
       "      <td>331</td>\n",
       "    </tr>\n",
       "    <tr>\n",
       "      <th>1</th>\n",
       "      <td>391</td>\n",
       "    </tr>\n",
       "    <tr>\n",
       "      <th>2</th>\n",
       "      <td>391</td>\n",
       "    </tr>\n",
       "    <tr>\n",
       "      <th>3</th>\n",
       "      <td>3226</td>\n",
       "    </tr>\n",
       "    <tr>\n",
       "      <th>4</th>\n",
       "      <td>3226</td>\n",
       "    </tr>\n",
       "    <tr>\n",
       "      <th>...</th>\n",
       "      <td>...</td>\n",
       "    </tr>\n",
       "    <tr>\n",
       "      <th>180514</th>\n",
       "      <td>2922</td>\n",
       "    </tr>\n",
       "    <tr>\n",
       "      <th>180515</th>\n",
       "      <td>1362</td>\n",
       "    </tr>\n",
       "    <tr>\n",
       "      <th>180516</th>\n",
       "      <td>25</td>\n",
       "    </tr>\n",
       "    <tr>\n",
       "      <th>180517</th>\n",
       "      <td>25</td>\n",
       "    </tr>\n",
       "    <tr>\n",
       "      <th>180518</th>\n",
       "      <td>2203</td>\n",
       "    </tr>\n",
       "  </tbody>\n",
       "</table>\n",
       "<p>180519 rows × 1 columns</p>\n",
       "</div>"
      ],
      "text/plain": [
       "        Order City\n",
       "0              331\n",
       "1              391\n",
       "2              391\n",
       "3             3226\n",
       "4             3226\n",
       "...            ...\n",
       "180514        2922\n",
       "180515        1362\n",
       "180516          25\n",
       "180517          25\n",
       "180518        2203\n",
       "\n",
       "[180519 rows x 1 columns]"
      ]
     },
     "execution_count": 927,
     "metadata": {},
     "output_type": "execute_result"
    }
   ],
   "source": [
    "encoder = LabelEncoder()\n",
    "encoded_categories = encoder.fit_transform(df['Order City'])\n",
    "df['Order City'] = encoded_categories\n",
    "df[['Order City']]"
   ]
  },
  {
   "cell_type": "markdown",
   "metadata": {},
   "source": [
    "### 25 Order Country"
   ]
  },
  {
   "cell_type": "code",
   "execution_count": 928,
   "metadata": {},
   "outputs": [
    {
     "data": {
      "text/html": [
       "<div>\n",
       "<style scoped>\n",
       "    .dataframe tbody tr th:only-of-type {\n",
       "        vertical-align: middle;\n",
       "    }\n",
       "\n",
       "    .dataframe tbody tr th {\n",
       "        vertical-align: top;\n",
       "    }\n",
       "\n",
       "    .dataframe thead th {\n",
       "        text-align: right;\n",
       "    }\n",
       "</style>\n",
       "<table border=\"1\" class=\"dataframe\">\n",
       "  <thead>\n",
       "    <tr style=\"text-align: right;\">\n",
       "      <th></th>\n",
       "      <th>Order Country</th>\n",
       "    </tr>\n",
       "  </thead>\n",
       "  <tbody>\n",
       "    <tr>\n",
       "      <th>0</th>\n",
       "      <td>70</td>\n",
       "    </tr>\n",
       "    <tr>\n",
       "      <th>1</th>\n",
       "      <td>69</td>\n",
       "    </tr>\n",
       "    <tr>\n",
       "      <th>2</th>\n",
       "      <td>69</td>\n",
       "    </tr>\n",
       "    <tr>\n",
       "      <th>3</th>\n",
       "      <td>8</td>\n",
       "    </tr>\n",
       "    <tr>\n",
       "      <th>4</th>\n",
       "      <td>8</td>\n",
       "    </tr>\n",
       "    <tr>\n",
       "      <th>...</th>\n",
       "      <td>...</td>\n",
       "    </tr>\n",
       "    <tr>\n",
       "      <th>180514</th>\n",
       "      <td>31</td>\n",
       "    </tr>\n",
       "    <tr>\n",
       "      <th>180515</th>\n",
       "      <td>77</td>\n",
       "    </tr>\n",
       "    <tr>\n",
       "      <th>180516</th>\n",
       "      <td>8</td>\n",
       "    </tr>\n",
       "    <tr>\n",
       "      <th>180517</th>\n",
       "      <td>8</td>\n",
       "    </tr>\n",
       "    <tr>\n",
       "      <th>180518</th>\n",
       "      <td>69</td>\n",
       "    </tr>\n",
       "  </tbody>\n",
       "</table>\n",
       "<p>180519 rows × 1 columns</p>\n",
       "</div>"
      ],
      "text/plain": [
       "        Order Country\n",
       "0                  70\n",
       "1                  69\n",
       "2                  69\n",
       "3                   8\n",
       "4                   8\n",
       "...               ...\n",
       "180514             31\n",
       "180515             77\n",
       "180516              8\n",
       "180517              8\n",
       "180518             69\n",
       "\n",
       "[180519 rows x 1 columns]"
      ]
     },
     "execution_count": 928,
     "metadata": {},
     "output_type": "execute_result"
    }
   ],
   "source": [
    "encoder = LabelEncoder()\n",
    "encoded_categories = encoder.fit_transform(df['Order Country'])\n",
    "df['Order Country'] = encoded_categories\n",
    "df[['Order Country']]"
   ]
  },
  {
   "cell_type": "code",
   "execution_count": 929,
   "metadata": {},
   "outputs": [
    {
     "name": "stdout",
     "output_type": "stream",
     "text": [
      "<class 'pandas.core.frame.DataFrame'>\n",
      "RangeIndex: 180519 entries, 0 to 180518\n",
      "Data columns (total 53 columns):\n",
      " #   Column                         Non-Null Count   Dtype  \n",
      "---  ------                         --------------   -----  \n",
      " 0   Type                           180519 non-null  int64  \n",
      " 1   Days for shipping (real)       180519 non-null  int64  \n",
      " 2   Days for shipment (scheduled)  180519 non-null  int64  \n",
      " 3   Benefit per order              180519 non-null  float64\n",
      " 4   Sales per customer             180519 non-null  float64\n",
      " 5   Delivery Status                180519 non-null  int64  \n",
      " 6   Late_delivery_risk             180519 non-null  int64  \n",
      " 7   Category Id                    180519 non-null  int64  \n",
      " 8   Category Name                  180519 non-null  int32  \n",
      " 9   Customer City                  180519 non-null  int32  \n",
      " 10  Customer Country               180519 non-null  int64  \n",
      " 11  Customer Email                 180519 non-null  object \n",
      " 12  Customer Fname                 180519 non-null  int32  \n",
      " 13  Customer Id                    180519 non-null  float64\n",
      " 14  Customer Lname                 180519 non-null  int32  \n",
      " 15  Customer Password              180519 non-null  object \n",
      " 16  Customer Segment               180519 non-null  int64  \n",
      " 17  Customer State                 180519 non-null  int64  \n",
      " 18  Customer Street                180519 non-null  int32  \n",
      " 19  Customer Zipcode               180516 non-null  float64\n",
      " 20  Department Id                  180519 non-null  int64  \n",
      " 21  Department Name                180519 non-null  int64  \n",
      " 22  Latitude                       180519 non-null  float64\n",
      " 23  Longitude                      180519 non-null  float64\n",
      " 24  Market                         180519 non-null  int64  \n",
      " 25  Order City                     180519 non-null  int32  \n",
      " 26  Order Country                  180519 non-null  int32  \n",
      " 27  Order Customer Id              180519 non-null  int64  \n",
      " 28  order date (DateOrders)        180519 non-null  object \n",
      " 29  Order Id                       180519 non-null  int64  \n",
      " 30  Order Item Cardprod Id         180519 non-null  int64  \n",
      " 31  Order Item Discount            180519 non-null  float64\n",
      " 32  Order Item Discount Rate       180519 non-null  float64\n",
      " 33  Order Item Id                  180519 non-null  int64  \n",
      " 34  Order Item Product Price       180519 non-null  float64\n",
      " 35  Order Item Profit Ratio        180519 non-null  float64\n",
      " 36  Order Item Quantity            180519 non-null  int64  \n",
      " 37  Sales                          180519 non-null  float64\n",
      " 38  Order Item Total               180519 non-null  float64\n",
      " 39  Order Profit Per Order         180519 non-null  float64\n",
      " 40  Order Region                   180519 non-null  object \n",
      " 41  Order State                    180519 non-null  object \n",
      " 42  Order Status                   180519 non-null  object \n",
      " 43  Order Zipcode                  24840 non-null   float64\n",
      " 44  Product Card Id                180519 non-null  int64  \n",
      " 45  Product Category Id            180519 non-null  int64  \n",
      " 46  Product Description            0 non-null       float64\n",
      " 47  Product Image                  180519 non-null  object \n",
      " 48  Product Name                   180519 non-null  object \n",
      " 49  Product Price                  180519 non-null  float64\n",
      " 50  Product Status                 180519 non-null  int64  \n",
      " 51  shipping date (DateOrders)     180519 non-null  object \n",
      " 52  Shipping Mode                  180519 non-null  object \n",
      "dtypes: float64(16), int32(7), int64(20), object(10)\n",
      "memory usage: 68.2+ MB\n"
     ]
    }
   ],
   "source": [
    "df.info()"
   ]
  },
  {
   "cell_type": "markdown",
   "metadata": {},
   "source": [
    "# column no. 40 - order region"
   ]
  },
  {
   "cell_type": "markdown",
   "metadata": {},
   "source": [
    "this is our target column"
   ]
  },
  {
   "cell_type": "markdown",
   "metadata": {},
   "source": [
    "# column no. 41 - Order State"
   ]
  },
  {
   "cell_type": "code",
   "execution_count": 930,
   "metadata": {},
   "outputs": [
    {
     "data": {
      "text/plain": [
       "{'Inglaterra': 6722,\n",
       " 'California': 4966,\n",
       " 'Isla de Francia': 4580,\n",
       " 'Renania del Norte-Westfalia': 3303,\n",
       " 'San Salvador': 3055,\n",
       " 'Nueva York': 2753,\n",
       " 'Distrito Federal': 2559,\n",
       " 'Texas': 2446,\n",
       " 'Nueva Gales del Sur': 2370,\n",
       " 'Santo Domingo': 2211,\n",
       " 'Queensland': 2186,\n",
       " 'Guatemala': 2109,\n",
       " 'São Paulo': 2031,\n",
       " 'Provenza-Alpes-Costa Azul': 1842,\n",
       " 'Capital Nacional': 1837,\n",
       " 'Managua': 1834,\n",
       " 'Francisco Morazán': 1783,\n",
       " 'Panamá': 1631,\n",
       " 'Victoria': 1456,\n",
       " 'Pensilvania': 1406,\n",
       " 'Washington': 1272,\n",
       " 'Illinois': 1237,\n",
       " 'Jalisco': 1217,\n",
       " 'Cortés': 1160,\n",
       " 'Ohio': 1122,\n",
       " 'Languedoc-Rosellón-Mediodía-Pirineos': 1084,\n",
       " 'Viena': 1038,\n",
       " 'Auvernia-Ródano-Alpes': 1016,\n",
       " 'Yakarta': 1006,\n",
       " 'Estambul': 998,\n",
       " 'Berlín': 995,\n",
       " 'Madrid': 992,\n",
       " 'Buenos Aires': 967,\n",
       " 'Florida': 941,\n",
       " 'Bavaria': 928,\n",
       " 'Australia Occidental': 917,\n",
       " 'Aquitania-Lemosín-Poitou-Charentes': 912,\n",
       " 'Maharashtra': 905,\n",
       " 'Lagos': 903,\n",
       " 'Norte-Paso de Calais-Picardía': 893,\n",
       " 'Bangkok': 889,\n",
       " 'Alsacia-Champaña-Ardenas-Lorena': 868,\n",
       " 'Guangdong': 857,\n",
       " 'Santiago de Chile': 834,\n",
       " 'Lacio': 828,\n",
       " 'Java Occidental': 817,\n",
       " 'Guanajuato': 812,\n",
       " 'México': 808,\n",
       " 'Santiago de Cuba': 797,\n",
       " 'Baden-Wurtemberg': 793,\n",
       " 'Chihuahua': 765,\n",
       " 'Puebla': 739,\n",
       " 'Estocolmo': 718,\n",
       " 'Lombardía': 689,\n",
       " 'Bahía': 676,\n",
       " 'Australia del Sur': 668,\n",
       " 'Punyab': 657,\n",
       " 'Cataluña': 647,\n",
       " 'Hamburgo': 627,\n",
       " 'Minas Gerais': 625,\n",
       " 'Nuevo León': 623,\n",
       " 'Baja Sajonia': 614,\n",
       " 'Carolina del Norte': 611,\n",
       " 'Michigan': 610,\n",
       " 'El Cairo': 600,\n",
       " 'Baja California': 599,\n",
       " 'Uttar Pradesh': 596,\n",
       " 'Gauteng': 587,\n",
       " 'Java Oriental': 575,\n",
       " 'Auckland': 572,\n",
       " 'Veracruz': 566,\n",
       " 'Arizona': 555,\n",
       " 'Virginia': 550,\n",
       " 'Santa Catarina': 541,\n",
       " 'Ciudad Ho Chi Minh': 524,\n",
       " 'Coahuila': 518,\n",
       " 'Emilia-Romaña': 516,\n",
       " 'Andalucía': 508,\n",
       " 'Ontario': 503,\n",
       " 'Ouest': 499,\n",
       " 'Tamaulipas': 498,\n",
       " 'Bogotá': 492,\n",
       " 'Países del Loira': 489,\n",
       " 'Campania': 485,\n",
       " 'Lima (ciudad)': 484,\n",
       " 'Kinshasa': 483,\n",
       " 'Georgia': 475,\n",
       " 'Colorado': 475,\n",
       " 'Holanda Meridional': 472,\n",
       " 'Territorio de la Capital Australiana': 469,\n",
       " 'Rio Grande do Sul': 457,\n",
       " 'Sicilia': 457,\n",
       " 'Singapur': 455,\n",
       " 'Tennessee': 454,\n",
       " 'Valenciana': 449,\n",
       " 'Normandía': 448,\n",
       " 'Shandong': 442,\n",
       " 'Toscana': 439,\n",
       " 'Bagdad': 436,\n",
       " 'Escocia': 434,\n",
       " 'Michoacán': 431,\n",
       " 'Bretaña': 430,\n",
       " 'Hesse': 422,\n",
       " 'Sumatra Septentrional': 415,\n",
       " 'Holanda Septentrional': 414,\n",
       " 'Río de Janeiro': 414,\n",
       " 'Jiangsu': 413,\n",
       " 'Pernambuco': 410,\n",
       " 'Rangún': 409,\n",
       " 'Ankara': 405,\n",
       " 'Apulia': 400,\n",
       " 'Indiana': 398,\n",
       " 'Renania-Palatinado': 398,\n",
       " 'Sajonia': 375,\n",
       " 'Sinaloa': 373,\n",
       " 'Dublín': 373,\n",
       " 'Tamil Nadu': 366,\n",
       " 'Piamonte': 360,\n",
       " 'Kentucky': 359,\n",
       " 'Gran Casablanca': 357,\n",
       " 'Ceará': 350,\n",
       " 'Granma': 349,\n",
       " 'Yucatán': 349,\n",
       " 'Heilongjiang': 348,\n",
       " 'Riad': 345,\n",
       " 'Marañón': 340,\n",
       " 'Massachusetts': 337,\n",
       " 'Karnataka': 335,\n",
       " 'Paraná': 332,\n",
       " 'Sonora': 327,\n",
       " 'Nueva Jersey': 324,\n",
       " 'Rabat-Salé-Zemur-Zaer': 323,\n",
       " 'Tasmania': 322,\n",
       " 'Holguín': 322,\n",
       " 'Brabante Septentrional': 319,\n",
       " 'Santa Ana': 312,\n",
       " 'Atlántida': 312,\n",
       " 'Rajastán': 312,\n",
       " 'La Romana': 311,\n",
       " 'Java Central': 310,\n",
       " 'Sichuan': 310,\n",
       " 'Izmir': 307,\n",
       " 'Wisconsin': 307,\n",
       " 'Wellington': 307,\n",
       " 'Daca': 306,\n",
       " 'Liaoning': 302,\n",
       " 'San Luis Potosí': 295,\n",
       " 'Shanghái': 294,\n",
       " 'País Vasco': 294,\n",
       " 'Pinar del Río': 287,\n",
       " 'Durango': 287,\n",
       " 'Las Tunas': 285,\n",
       " 'León': 283,\n",
       " 'Meca': 280,\n",
       " 'Chinandega': 277,\n",
       " 'Alejandría': 276,\n",
       " 'Oregón': 274,\n",
       " 'Castilla y León': 274,\n",
       " 'Guyarat': 272,\n",
       " 'Kano': 271,\n",
       " 'Hubei': 270,\n",
       " 'Centro-Valle de Loira': 270,\n",
       " 'Seúl': 269,\n",
       " 'Bremen': 268,\n",
       " 'Alagoas': 255,\n",
       " 'Maryland': 255,\n",
       " 'Uusimaa': 250,\n",
       " 'Limburgo': 250,\n",
       " 'Madhya Pradesh': 248,\n",
       " 'Minnesota': 243,\n",
       " 'Véneto': 242,\n",
       " 'Antioquía': 242,\n",
       " 'Camagüey': 241,\n",
       " 'Yogyakarta': 241,\n",
       " 'Delaware': 241,\n",
       " 'Querétaro': 237,\n",
       " 'Anhui': 235,\n",
       " 'Borgoña-Franco Condado': 233,\n",
       " 'Henan': 230,\n",
       " 'Santa Fe': 227,\n",
       " 'San Pedro de Macorís': 226,\n",
       " 'Chiriquí': 224,\n",
       " 'Chiapas': 224,\n",
       " 'Quezaltenango': 223,\n",
       " 'Cabo Occidental': 217,\n",
       " 'Andhra Pradesh': 215,\n",
       " 'Dakar': 215,\n",
       " 'Villa Clara': 215,\n",
       " 'Zhejiang': 210,\n",
       " 'Lisboa': 210,\n",
       " 'Utrecht': 210,\n",
       " 'Jorasán Razaví': 202,\n",
       " 'Guantánamo': 199,\n",
       " 'Bihar': 194,\n",
       " 'Choluteca': 193,\n",
       " 'Matagalpa': 190,\n",
       " 'Connecticut': 189,\n",
       " 'Cienfuegos': 188,\n",
       " 'Basora': 188,\n",
       " 'Lagunes': 188,\n",
       " 'Amberes': 187,\n",
       " 'Zulia': 187,\n",
       " 'Hunan': 185,\n",
       " 'Cheliábinsk': 185,\n",
       " 'Silesia': 184,\n",
       " 'Dar es Salaam': 183,\n",
       " 'Delhi': 182,\n",
       " 'Yoro': 181,\n",
       " 'Mecklemburgo-Pomerania Occidental': 180,\n",
       " 'Tabasco': 180,\n",
       " 'Tokio': 180,\n",
       " 'Buenos Aires (provincia)': 180,\n",
       " 'Central': 179,\n",
       " 'Katanga': 179,\n",
       " 'Turingia': 176,\n",
       " 'Oklahoma': 175,\n",
       " 'Pekín': 175,\n",
       " 'Luanda': 173,\n",
       " 'Misuri': 173,\n",
       " 'Escuintla': 171,\n",
       " 'Santa Caterina': 170,\n",
       " 'Pará': 170,\n",
       " 'Kalimantan Oriental': 170,\n",
       " 'Gran Accra': 169,\n",
       " 'Goiás': 169,\n",
       " 'Morelos': 169,\n",
       " 'Distrito Capital': 168,\n",
       " 'Quintana Roo': 168,\n",
       " 'Chhattisgarh': 167,\n",
       " 'Canterbury': 167,\n",
       " 'Región Capital': 166,\n",
       " 'Sajonia-Anhalt': 166,\n",
       " 'Atlántico': 164,\n",
       " 'Oyo': 164,\n",
       " 'Masaya': 162,\n",
       " 'Calabarzón': 161,\n",
       " 'Estelí': 161,\n",
       " 'Duarte': 161,\n",
       " 'Jilin': 160,\n",
       " 'Adana': 159,\n",
       " 'Nayarit': 158,\n",
       " 'Oslo': 157,\n",
       " 'Colima': 156,\n",
       " 'Utah': 155,\n",
       " 'Bashkortostán': 155,\n",
       " 'Alabama': 152,\n",
       " 'Nom Pen': 152,\n",
       " 'Telangana': 151,\n",
       " 'Huehuetenango': 150,\n",
       " 'Cabo Oriental': 150,\n",
       " 'Norte de Santander': 150,\n",
       " 'Bolívar': 149,\n",
       " 'Th? Dô Hà N?i': 148,\n",
       " 'Arkansas': 147,\n",
       " 'Dnipropetrovsk': 146,\n",
       " 'Gales': 146,\n",
       " 'Fars': 146,\n",
       " 'Matanzas': 143,\n",
       " 'Ciego de Ávila': 143,\n",
       " 'Tianjin': 143,\n",
       " 'Budapest': 143,\n",
       " 'Schleswig-Holstein': 143,\n",
       " 'San Juan': 142,\n",
       " 'Castilla-La Mancha': 142,\n",
       " 'Alger': 141,\n",
       " 'Bengala Occidental': 140,\n",
       " 'Zúrich': 140,\n",
       " 'Fujian': 140,\n",
       " 'Shanxi': 140,\n",
       " 'Granada': 139,\n",
       " 'Juzestán': 138,\n",
       " 'Sonsonate': 138,\n",
       " 'Quebec': 137,\n",
       " 'Mazovia': 137,\n",
       " 'Misisipi': 136,\n",
       " 'Pichincha': 136,\n",
       " 'Kaduna': 136,\n",
       " 'Rhode Island': 135,\n",
       " 'Bursa': 134,\n",
       " 'Jartum': 134,\n",
       " 'Brandenburgo': 133,\n",
       " 'Hebei': 133,\n",
       " 'Copperbelt': 132,\n",
       " 'Paraíba': 132,\n",
       " 'Río Grande del Norte': 132,\n",
       " 'Amazonas': 131,\n",
       " 'Liguria': 129,\n",
       " 'Galicia': 129,\n",
       " 'Sumatra Meridional': 127,\n",
       " 'Murcia': 126,\n",
       " 'Chimaltenango': 125,\n",
       " 'Chaco': 125,\n",
       " 'Santander': 124,\n",
       " 'Praga': 124,\n",
       " 'Alberta': 124,\n",
       " 'Flanders Oriental': 123,\n",
       " 'Sabah': 123,\n",
       " 'Daguestán': 123,\n",
       " 'Campeche': 123,\n",
       " 'Gaziantep': 122,\n",
       " 'Haryana': 122,\n",
       " 'Auvernia': 122,\n",
       " 'Carolina del Sur': 121,\n",
       " 'Cuscatlán': 121,\n",
       " 'Chongqing': 120,\n",
       " 'Nairobi': 120,\n",
       " 'Martinica': 120,\n",
       " 'Arbil': 119,\n",
       " 'Mayabeque': 119,\n",
       " 'Columbia británica': 119,\n",
       " 'Güeldres': 119,\n",
       " 'Járkov': 118,\n",
       " 'Aragua': 117,\n",
       " 'Centro': 117,\n",
       " 'San Miguel': 117,\n",
       " 'Kabul': 117,\n",
       " 'Harare': 114,\n",
       " 'Mersin': 114,\n",
       " 'Nínive': 114,\n",
       " 'Perak': 112,\n",
       " 'Montevideo': 110,\n",
       " 'Cerdeña': 109,\n",
       " 'Territorio del Norte': 109,\n",
       " 'Lviv': 108,\n",
       " 'Sind': 108,\n",
       " 'Nevada': 108,\n",
       " 'La Libertad': 107,\n",
       " 'Västra Götaland': 107,\n",
       " 'Tel Aviv': 106,\n",
       " 'Ríos': 106,\n",
       " 'Lusaka': 105,\n",
       " 'Marrakech-Tensift-Al Hauz': 104,\n",
       " 'Nebraska': 103,\n",
       " 'Analamanga': 102,\n",
       " 'Amán': 101,\n",
       " 'Antalya': 100,\n",
       " 'Gansu': 100,\n",
       " 'Marítima': 99,\n",
       " 'Luisiana': 99,\n",
       " 'Mendoza': 98,\n",
       " 'Kuala Lumpur': 98,\n",
       " 'Carintia': 98,\n",
       " 'Orán': 98,\n",
       " 'Guangxi': 97,\n",
       " 'Trentino-Alto Adigio': 97,\n",
       " 'Chittagong': 97,\n",
       " 'Porto': 97,\n",
       " 'Mato Grosso': 96,\n",
       " 'Riau': 96,\n",
       " 'Islas Baleares': 96,\n",
       " 'Nuevo México': 96,\n",
       " 'Alta Austria': 95,\n",
       " 'Espíritu Santo': 95,\n",
       " 'Guayas': 95,\n",
       " 'Guerrero': 94,\n",
       " 'Kerala': 94,\n",
       " 'Dinamarca Meridional': 94,\n",
       " 'Rogaland': 93,\n",
       " 'Qom': 93,\n",
       " 'Mongolia Interior': 91,\n",
       " 'Sofía-Ciudad': 90,\n",
       " 'Cork': 89,\n",
       " 'Iowa': 89,\n",
       " 'Bishkek': 89,\n",
       " 'Gyeonggi': 87,\n",
       " 'Isla de la Juventud': 87,\n",
       " 'Sancti Spíritus': 87,\n",
       " 'Donetsk': 87,\n",
       " 'Colón': 86,\n",
       " 'Overijssel': 86,\n",
       " 'Fez-Bulmán': 85,\n",
       " 'Shaanxi': 84,\n",
       " 'Groningen': 84,\n",
       " 'Meridional': 84,\n",
       " 'Carabobo': 83,\n",
       " 'Grodno': 82,\n",
       " 'Daejeon': 82,\n",
       " 'Mato Grosso del Sur': 81,\n",
       " 'Benadir': 81,\n",
       " 'Marche': 80,\n",
       " 'Ulán Bator': 79,\n",
       " 'Irkutsk': 79,\n",
       " 'Jiangxi': 79,\n",
       " 'Kigali': 78,\n",
       " 'KwaZulu-Natal': 77,\n",
       " 'Córdoba': 77,\n",
       " 'San Fernando': 77,\n",
       " 'Pomerania': 76,\n",
       " 'Jharkhand': 76,\n",
       " 'Isfahán': 76,\n",
       " 'Bamako': 75,\n",
       " 'Hamadán': 75,\n",
       " 'Kasai Oriental': 75,\n",
       " 'Tánger-Tetuán': 74,\n",
       " 'Vínnytsia': 74,\n",
       " 'Henao': 74,\n",
       " 'Cundinamarca': 74,\n",
       " 'Kayseri': 74,\n",
       " 'Bío-Bío': 73,\n",
       " 'Teherán': 73,\n",
       " 'Hong Kong': 73,\n",
       " 'Medina': 72,\n",
       " 'Lodz': 72,\n",
       " 'Niamey': 72,\n",
       " 'Cidade De Maputo': 72,\n",
       " 'Artemisa': 72,\n",
       " 'Pahang': 71,\n",
       " 'Bengasi': 70,\n",
       " 'Valparaíso': 70,\n",
       " 'Bulawayo': 70,\n",
       " 'Ardebil': 69,\n",
       " 'Bay of Plenty': 69,\n",
       " 'Kermanshah': 68,\n",
       " 'Yaroslavl': 68,\n",
       " 'Waikato': 68,\n",
       " 'Ashanti': 68,\n",
       " 'Baki': 68,\n",
       " 'Miranda': 67,\n",
       " 'Guilán': 67,\n",
       " 'Jerusalén': 67,\n",
       " 'Drenthe': 67,\n",
       " 'Tocantins': 67,\n",
       " 'Bali': 67,\n",
       " 'Manisa': 66,\n",
       " 'Risaralda': 65,\n",
       " 'Barahona': 65,\n",
       " 'Chisináu': 65,\n",
       " 'Célebes Suroriental': 65,\n",
       " 'Negeri Sembilan': 65,\n",
       " 'Tirol': 65,\n",
       " 'La Vega': 65,\n",
       " 'Amapá': 64,\n",
       " 'Nuevo Hampshire': 64,\n",
       " 'Anzoátegui': 64,\n",
       " 'Ceuta': 64,\n",
       " \"Hawke's Bay\": 64,\n",
       " 'Osaka': 64,\n",
       " 'Cross River': 64,\n",
       " 'Tiflis': 63,\n",
       " 'Provincia Oriental': 63,\n",
       " 'Karagandá': 63,\n",
       " 'Yunnan': 63,\n",
       " 'Taiz': 62,\n",
       " 'Ash Sharqiyah': 61,\n",
       " 'Abruzos': 61,\n",
       " 'Gómel': 61,\n",
       " 'Zacatecas': 61,\n",
       " 'Chaguanas': 61,\n",
       " 'Lorestan': 61,\n",
       " 'Artibonito': 60,\n",
       " 'Grad Zagreb': 60,\n",
       " 'Tolima': 60,\n",
       " 'Visayas Occidental': 60,\n",
       " \"O'Higgins\": 60,\n",
       " 'Costa': 60,\n",
       " 'Piauí': 60,\n",
       " 'Assam': 60,\n",
       " 'Otago': 59,\n",
       " 'Lublin': 59,\n",
       " 'Haifa': 59,\n",
       " 'Kampala': 58,\n",
       " 'Vilna': 58,\n",
       " 'Odisha': 58,\n",
       " 'Delta': 58,\n",
       " 'Zanyán': 58,\n",
       " 'Taranaki': 57,\n",
       " 'Kansas': 57,\n",
       " 'Kasai Occidental': 57,\n",
       " 'Borno': 57,\n",
       " 'Sistán y Baluchistán': 56,\n",
       " 'Littoral': 56,\n",
       " 'Guizhou': 56,\n",
       " 'Cantabria': 56,\n",
       " 'Santa Cruz': 55,\n",
       " 'Kanagawa': 54,\n",
       " 'Mequinez-Tafilalet': 54,\n",
       " 'Namur': 54,\n",
       " 'Sergipe': 54,\n",
       " 'Basilea-Ciudad': 54,\n",
       " 'Huambo': 53,\n",
       " 'Idaho': 53,\n",
       " 'Hyogo': 53,\n",
       " 'Jammu y Cachemira': 53,\n",
       " 'Caldas': 53,\n",
       " 'Sivas': 53,\n",
       " 'Uttarakhand': 53,\n",
       " 'Northland': 53,\n",
       " 'Edo': 53,\n",
       " 'Poltava': 53,\n",
       " 'Annaba': 53,\n",
       " 'Astaná': 52,\n",
       " 'Peravia': 52,\n",
       " 'Nelson': 52,\n",
       " 'Bandundu': 52,\n",
       " 'Kerman': 51,\n",
       " 'Lugansk': 51,\n",
       " 'Brest': 51,\n",
       " 'Sumatra Occidental': 51,\n",
       " 'Mazandarán': 51,\n",
       " 'Arjánguelsk': 51,\n",
       " 'Tabuk': 50,\n",
       " 'Konya': 50,\n",
       " 'Al Bahr al Ahmar': 50,\n",
       " 'Enugu': 50,\n",
       " 'Nord': 49,\n",
       " 'Gran Polonia': 49,\n",
       " 'Van': 49,\n",
       " 'Timis': 49,\n",
       " 'Valle del Cauca': 49,\n",
       " 'Balikesir': 49,\n",
       " 'Gyeongsangnam': 48,\n",
       " 'Galati': 48,\n",
       " 'Anambra': 48,\n",
       " 'Chernihiv': 48,\n",
       " 'Menia': 47,\n",
       " 'Cordillera': 47,\n",
       " 'Kwara': 47,\n",
       " 'Équateur': 47,\n",
       " 'Chiba': 46,\n",
       " 'Diyarbakir': 46,\n",
       " 'Stiria': 46,\n",
       " 'Estuaire': 45,\n",
       " 'Asturias': 45,\n",
       " 'Federación de Bosnia y Herzegovina': 45,\n",
       " 'Célebes Septentrional': 45,\n",
       " 'Zaporiyia': 45,\n",
       " 'Mwanza': 45,\n",
       " 'Salzburgo': 45,\n",
       " 'Manawatu-Wanganui': 45,\n",
       " 'Luzón Central': 44,\n",
       " 'Sofala': 44,\n",
       " 'Oita': 44,\n",
       " 'Pavlodar': 44,\n",
       " 'Sarre': 43,\n",
       " 'Berna': 43,\n",
       " 'Roraima': 43,\n",
       " 'Ciudad de Almatý': 43,\n",
       " 'Mar Rojo': 43,\n",
       " 'Bélgorod': 42,\n",
       " 'Chuquisaca': 42,\n",
       " 'Aichi': 42,\n",
       " 'Doha': 42,\n",
       " 'Gobolka Woqooyi Galbeed': 41,\n",
       " 'Markazí': 41,\n",
       " 'Eskisehir': 41,\n",
       " 'Jambi': 41,\n",
       " 'Quindío': 41,\n",
       " 'Sus-Masa-Draa': 41,\n",
       " 'Jaiber Pajtunjuá': 41,\n",
       " 'Umbría': 40,\n",
       " 'Territorio de la Capital Federal': 40,\n",
       " 'Ivanovo': 40,\n",
       " 'Gezira': 40,\n",
       " 'Kaluga': 39,\n",
       " 'Kahramanmara?': 39,\n",
       " 'Montana': 39,\n",
       " 'Bra?ov': 39,\n",
       " 'Escania': 39,\n",
       " 'Saskatchewan': 39,\n",
       " 'Distrito de Columbia': 39,\n",
       " 'Caquetá': 38,\n",
       " 'Namangán': 38,\n",
       " 'Thiès': 38,\n",
       " 'Xinjiang Uygur': 38,\n",
       " 'Flanders Occidental': 38,\n",
       " 'Maputo': 38,\n",
       " 'Puducherry': 38,\n",
       " 'Plateau': 37,\n",
       " 'Nusa Tenggara Oriental': 37,\n",
       " 'Azuay': 37,\n",
       " 'Katsina': 37,\n",
       " 'Magdalena': 37,\n",
       " 'San Cristóbal': 37,\n",
       " 'Hordaland': 37,\n",
       " 'Guanacaste': 36,\n",
       " 'Constantina': 36,\n",
       " 'Fayún': 36,\n",
       " 'Abia': 36,\n",
       " 'Túnez': 36,\n",
       " 'Acre': 36,\n",
       " 'Cadisia': 36,\n",
       " 'Guadalupe': 36,\n",
       " 'Djelfa': 35,\n",
       " 'Espaillat': 35,\n",
       " 'Corse': 35,\n",
       " 'Kaliningrado': 35,\n",
       " 'Noroeste': 35,\n",
       " 'Saitama': 35,\n",
       " 'Níger': 35,\n",
       " 'Zhytómyr': 34,\n",
       " 'Kaunas': 34,\n",
       " 'Chauía-Uardiga': 34,\n",
       " 'Frisia': 34,\n",
       " 'Vorónezh': 34,\n",
       " 'Vaud': 34,\n",
       " 'Sanliurfa': 33,\n",
       " 'Babilonia': 33,\n",
       " 'Upsala': 33,\n",
       " 'Yazd': 33,\n",
       " 'Brabante Flamenco': 33,\n",
       " 'Busan': 33,\n",
       " 'Ogun': 33,\n",
       " 'Iasi': 32,\n",
       " 'Corrientes': 32,\n",
       " 'Hims': 32,\n",
       " 'Junín': 32,\n",
       " 'Aswan': 32,\n",
       " 'Vallée du Bandama': 32,\n",
       " 'Calabria': 32,\n",
       " 'Selangor': 31,\n",
       " 'T?nh C?n Th?': 31,\n",
       " 'Septentrional': 31,\n",
       " 'Astracán': 31,\n",
       " 'Finlandia del Sudoeste': 31,\n",
       " 'Navarra': 31,\n",
       " 'Daegu': 31,\n",
       " 'Benguela': 31,\n",
       " 'Denizli': 31,\n",
       " 'Yibuti': 31,\n",
       " 'Montserrado': 31,\n",
       " 'Misiones': 31,\n",
       " 'Imericia': 30,\n",
       " 'Shizuoka': 30,\n",
       " 'Mykolayiv': 30,\n",
       " 'Khulna': 30,\n",
       " 'Gharbia': 30,\n",
       " 'Portuguesa': 30,\n",
       " 'Puno': 30,\n",
       " 'Borneo Occidental': 30,\n",
       " 'Kurdistán': 30,\n",
       " 'Tekirdag': 29,\n",
       " 'Zambezia': 29,\n",
       " 'Bié': 29,\n",
       " 'Dayr az Zawr': 29,\n",
       " 'Gran Valle del Rift': 29,\n",
       " 'Batman': 29,\n",
       " 'Taipéi': 29,\n",
       " 'La Paz': 29,\n",
       " 'Misurata': 29,\n",
       " 'Dakota del Sur': 29,\n",
       " 'Harjumaa': 28,\n",
       " 'Bisáu': 28,\n",
       " 'Attica': 28,\n",
       " 'Podlaquia': 28,\n",
       " 'Erzurum': 28,\n",
       " 'Marlborough': 28,\n",
       " 'El Beni': 28,\n",
       " 'Ginebra': 28,\n",
       " 'Buskerud': 28,\n",
       " 'Kivu del Sur': 28,\n",
       " 'Loreto': 27,\n",
       " 'Jizán': 27,\n",
       " 'Ica': 27,\n",
       " 'Kars': 27,\n",
       " 'Yamaguchi': 27,\n",
       " 'Garb-Chrarda-Beni Hsen': 27,\n",
       " 'Magallanes y Antártica Chilena': 27,\n",
       " 'Tambov': 27,\n",
       " 'Kocaeli': 26,\n",
       " 'Kostanái': 26,\n",
       " 'Hormozgán': 26,\n",
       " 'Ondo': 26,\n",
       " 'Briansk': 25,\n",
       " 'Borneo Meridional': 25,\n",
       " 'Asjabad': 25,\n",
       " 'Khmelnytskyi': 25,\n",
       " 'Dire Dawa': 25,\n",
       " 'Salta': 25,\n",
       " 'Hainan': 25,\n",
       " 'Manitoba': 25,\n",
       " 'Sarawak': 25,\n",
       " 'Antofagasta': 25,\n",
       " 'Jinja': 25,\n",
       " 'Gy?r': 25,\n",
       " 'Trebisonda': 25,\n",
       " 'Southland': 25,\n",
       " 'Varna': 24,\n",
       " 'Gisborne': 24,\n",
       " 'Guelma': 24,\n",
       " 'Osmaniye': 24,\n",
       " 'Arequipa': 24,\n",
       " 'Guárico': 24,\n",
       " 'Lara': 24,\n",
       " 'Dublín del Sur': 24,\n",
       " 'Huila': 24,\n",
       " 'Surjandarín': 24,\n",
       " 'Al Jawf': 24,\n",
       " 'Shinyanga': 24,\n",
       " 'Prahova': 23,\n",
       " 'Batna': 23,\n",
       " 'Nusatenggara Occidental': 23,\n",
       " 'Kigoma': 23,\n",
       " 'Amur': 23,\n",
       " 'Lucerna': 23,\n",
       " 'Ucayali': 23,\n",
       " 'Andiján': 23,\n",
       " 'Bangui': 23,\n",
       " 'Mbeya': 23,\n",
       " 'Corum': 23,\n",
       " 'Dà Nang': 23,\n",
       " 'Pilsen': 22,\n",
       " 'Neamt': 22,\n",
       " 'Ayacucho': 22,\n",
       " 'Ras al-Jaima': 22,\n",
       " 'Suhaj': 22,\n",
       " 'Potosí': 22,\n",
       " 'Panevezys': 22,\n",
       " 'Vermont': 22,\n",
       " 'Los Lagos': 22,\n",
       " 'Asir': 22,\n",
       " 'Entre Ríos': 22,\n",
       " 'Mardin': 22,\n",
       " 'Monagas': 22,\n",
       " 'Akmola': 22,\n",
       " 'Volinia': 22,\n",
       " 'Plovdiv': 22,\n",
       " 'Chubut': 22,\n",
       " 'Ulsan': 22,\n",
       " 'Benue': 21,\n",
       " 'Hiroshima': 21,\n",
       " 'Occidental': 21,\n",
       " 'Vargas': 21,\n",
       " 'Arauca': 21,\n",
       " 'Cherkasy': 21,\n",
       " 'Cesar': 21,\n",
       " 'Nariño': 21,\n",
       " 'Gunma': 21,\n",
       " 'Bacau': 21,\n",
       " 'Nouakchott': 21,\n",
       " 'Kashkadar': 21,\n",
       " 'Aydin': 21,\n",
       " 'Khomas': 20,\n",
       " 'Cluj': 20,\n",
       " 'Mures': 20,\n",
       " 'Kankan': 20,\n",
       " 'Nakhon Ratchasima': 20,\n",
       " 'Nilo Blanco': 20,\n",
       " 'Coimbra': 20,\n",
       " 'Yaracuy': 20,\n",
       " 'Dakota del Norte': 20,\n",
       " 'Skikda': 20,\n",
       " 'Boyacá': 20,\n",
       " 'Hatay': 20,\n",
       " 'Bihor': 20,\n",
       " 'Maseru': 20,\n",
       " 'Manabí': 20,\n",
       " 'Rondônia': 20,\n",
       " 'Samsun': 20,\n",
       " 'Amasya': 20,\n",
       " 'Est': 19,\n",
       " 'Arusha': 19,\n",
       " 'Akwa Ibom': 19,\n",
       " 'Ivano-Frankivsk': 19,\n",
       " 'Elazig': 19,\n",
       " 'Karbala': 19,\n",
       " 'Nampula': 19,\n",
       " 'Friuli-Venecia Julia': 19,\n",
       " 'Nzérékoré': 19,\n",
       " 'Aceh': 19,\n",
       " 'Botosani': 19,\n",
       " 'Trengganu': 19,\n",
       " 'Vladímir': 19,\n",
       " 'Oruro': 19,\n",
       " 'Boeny': 19,\n",
       " 'Demerara-Berbice Superior': 19,\n",
       " 'Osun': 19,\n",
       " 'Jubbada Hoose': 19,\n",
       " 'Nangarhar': 18,\n",
       " 'Almaty': 18,\n",
       " 'Nord-Ouest': 18,\n",
       " 'Jersón': 18,\n",
       " 'Nyanza': 18,\n",
       " 'Kirovohrad': 18,\n",
       " 'Chandigarh': 18,\n",
       " 'Neuquén': 18,\n",
       " 'Vâlcea': 18,\n",
       " 'Maradi': 18,\n",
       " 'Ouémé': 18,\n",
       " 'Manica': 17,\n",
       " 'Sucre': 17,\n",
       " 'Rajshahi': 17,\n",
       " 'Fukui': 17,\n",
       " 'Manipur': 17,\n",
       " 'Ancash': 17,\n",
       " 'Buzau': 17,\n",
       " 'Sokoto': 17,\n",
       " 'Baluchistán': 17,\n",
       " 'Lebap': 17,\n",
       " 'Papua': 17,\n",
       " 'Khánh Hòa': 16,\n",
       " 'Vitsyebsk': 16,\n",
       " 'Moquegua': 16,\n",
       " 'Sylhet': 16,\n",
       " 'Saida': 16,\n",
       " 'Bani Suwayf': 16,\n",
       " 'Kayes': 16,\n",
       " 'Maramures': 16,\n",
       " 'Oaxaca': 16,\n",
       " 'Bolu': 16,\n",
       " 'Sumy': 16,\n",
       " 'Maine': 16,\n",
       " 'Hokkaido': 16,\n",
       " 'Piura': 16,\n",
       " 'Bruselas': 16,\n",
       " 'Moscú': 15,\n",
       " 'Herat': 15,\n",
       " 'Nueva Esparta': 15,\n",
       " 'Constanza': 15,\n",
       " 'Saga': 15,\n",
       " 'Opole': 15,\n",
       " 'Puerto Saíd': 15,\n",
       " 'Kütahya': 15,\n",
       " 'Baja California Sur': 15,\n",
       " 'Maniema': 15,\n",
       " 'Polonia Menor': 15,\n",
       " 'Mindanao Septentrional': 15,\n",
       " 'Callao': 15,\n",
       " 'Fukuoka': 15,\n",
       " 'Kiên Giang': 15,\n",
       " 'Ishikawa': 15,\n",
       " 'Nagasaki': 14,\n",
       " 'Halland': 14,\n",
       " 'Donga': 14,\n",
       " 'Asunción': 14,\n",
       " 'Ústí nad Labem': 14,\n",
       " 'Bushehr': 14,\n",
       " 'Qina': 14,\n",
       " 'Di Car': 14,\n",
       " 'Imo': 14,\n",
       " 'Beirut': 14,\n",
       " 'Cajamarca': 14,\n",
       " 'Adamaoua': 14,\n",
       " 'Kasala': 14,\n",
       " 'Jujuy': 14,\n",
       " 'Fromager': 14,\n",
       " 'Värmland': 13,\n",
       " 'Ternópil': 13,\n",
       " 'Split-Dalmacia': 13,\n",
       " 'Balti': 13,\n",
       " 'Kirsehir': 13,\n",
       " 'Niari': 13,\n",
       " 'Kandahar': 13,\n",
       " 'Cojedes': 13,\n",
       " 'Limpopo': 13,\n",
       " 'Kilimanjaro': 13,\n",
       " 'Adiyaman': 13,\n",
       " 'Sudeste': 13,\n",
       " 'Distrito de Cayo': 13,\n",
       " 'Jutlandia Central': 13,\n",
       " 'Lieja': 13,\n",
       " 'Gulu': 12,\n",
       " 'Táchira': 12,\n",
       " 'La Pampa': 12,\n",
       " 'Rivera': 12,\n",
       " 'Nicosia': 12,\n",
       " 'Bauchi': 12,\n",
       " 'Canelones': 12,\n",
       " 'Adamawa': 12,\n",
       " 'Nevsehir': 12,\n",
       " 'Nitra': 12,\n",
       " 'Maluku': 12,\n",
       " 'Selandia': 12,\n",
       " 'Virginia Occidental': 12,\n",
       " 'Qinghai': 12,\n",
       " 'Santiago del Estero': 12,\n",
       " 'Diana': 12,\n",
       " 'Tochigi': 12,\n",
       " 'Pwani': 12,\n",
       " 'Sevastopol': 12,\n",
       " 'Niassa': 12,\n",
       " 'Tadla-Azilal': 12,\n",
       " 'Bugía': 11,\n",
       " 'Nueva Escocia': 11,\n",
       " 'Kagawa': 11,\n",
       " 'Qazvín': 11,\n",
       " 'Mary': 11,\n",
       " 'Burgas': 11,\n",
       " 'Braila': 11,\n",
       " 'Ibaraki': 11,\n",
       " 'Vest-Agder': 11,\n",
       " 'Podgorica': 11,\n",
       " 'Hidalgo': 11,\n",
       " 'Bajo Congo': 11,\n",
       " 'Mostaganem': 11,\n",
       " 'Jizzakh': 11,\n",
       " 'Lacs': 11,\n",
       " 'Estado Libre': 11,\n",
       " 'Vlorë': 11,\n",
       " 'Klaip?da': 11,\n",
       " 'Dukala-Abda': 10,\n",
       " 'Bingöl': 10,\n",
       " 'Shkodër': 10,\n",
       " 'Cochabamba': 10,\n",
       " 'Stávropol': 10,\n",
       " 'Zamfara': 10,\n",
       " 'Diffa': 10,\n",
       " 'Karaman': 10,\n",
       " 'Morogoro': 10,\n",
       " 'Sidi Bel Abbes': 10,\n",
       " 'Luxemburgo': 10,\n",
       " 'Sibiu': 10,\n",
       " 'Asiut': 10,\n",
       " 'Tipaza': 10,\n",
       " 'Célebes Central': 10,\n",
       " 'Yobe': 10,\n",
       " 'Mara': 10,\n",
       " 'Namibe': 9,\n",
       " 'Arica y Parinacota': 9,\n",
       " 'Mesena': 9,\n",
       " 'Chocó': 9,\n",
       " 'Monseñor Nouel': 9,\n",
       " 'Yalova': 9,\n",
       " 'Kymenlaakso': 9,\n",
       " 'Liberec': 9,\n",
       " 'Igdir': 9,\n",
       " 'Rivne': 9,\n",
       " 'Río Negro': 9,\n",
       " 'Afyonkarahisar': 9,\n",
       " 'Französisch-Guayana': 9,\n",
       " 'Taza-Alhucemas-Taunat': 9,\n",
       " 'Osh': 9,\n",
       " 'Mehedinti': 9,\n",
       " 'Gorj': 9,\n",
       " 'Oriental': 9,\n",
       " 'Mpumalanga': 9,\n",
       " 'Atacama': 9,\n",
       " 'Nagano': 9,\n",
       " 'Jeju': 9,\n",
       " 'Mopti': 9,\n",
       " 'Tarapacá': 9,\n",
       " 'San Galo': 8,\n",
       " 'Plateaux': 8,\n",
       " 'Tarija': 8,\n",
       " 'San Luis': 8,\n",
       " 'Laghouat': 8,\n",
       " 'Matruh': 8,\n",
       " 'Jorasán del Sur': 8,\n",
       " 'Paramaribo': 8,\n",
       " 'Mascate': 8,\n",
       " 'Hradec Králové': 8,\n",
       " 'Atakora': 8,\n",
       " 'Korçë': 8,\n",
       " 'Tizi Ouzou': 8,\n",
       " 'Atsinanana': 8,\n",
       " 'Extremadura': 8,\n",
       " 'Gombe': 8,\n",
       " 'Ouest del Sur': 8,\n",
       " '\\x8aiauliai': 8,\n",
       " 'Nigde': 8,\n",
       " 'Zinder': 8,\n",
       " 'Malanje': 8,\n",
       " 'Békés': 7,\n",
       " 'Saint-Louis': 7,\n",
       " 'Melilla': 7,\n",
       " 'Satu Mare': 7,\n",
       " 'Ajmán': 7,\n",
       " 'Irbid': 7,\n",
       " 'Béchar': 7,\n",
       " 'Aveiro': 7,\n",
       " 'Al Buhayrah': 7,\n",
       " 'Giurgiu': 7,\n",
       " 'Hedmark': 7,\n",
       " 'Departamento Atlántico': 7,\n",
       " 'Mérida': 7,\n",
       " 'Khatlon': 7,\n",
       " 'Tokat': 7,\n",
       " 'Braga': 7,\n",
       " 'Casanare': 7,\n",
       " 'Al Hudayda': 7,\n",
       " 'Sirnak': 6,\n",
       " 'Basilicata': 6,\n",
       " 'Ningxia Hui': 6,\n",
       " 'Kindia': 6,\n",
       " 'Haute-Matsiatra': 6,\n",
       " 'Arges': 6,\n",
       " 'Tabora': 6,\n",
       " 'Ebonyi': 6,\n",
       " 'Al Marqab': 6,\n",
       " 'Aksaray': 6,\n",
       " 'Diala': 6,\n",
       " 'Dix-Huit Montagnes': 6,\n",
       " 'Los Ríos': 6,\n",
       " 'Prefectura de Vientián': 6,\n",
       " 'Kilis': 6,\n",
       " 'Çanakkale': 6,\n",
       " 'Zhambyl': 6,\n",
       " 'Tripura': 6,\n",
       " 'Líbano del Norte': 6,\n",
       " 'Lubusz': 6,\n",
       " 'Liubliana': 6,\n",
       " 'Malatya': 6,\n",
       " 'Dolj': 6,\n",
       " 'Sliven': 6,\n",
       " 'Tete': 6,\n",
       " 'Golestán': 6,\n",
       " 'Catamarca': 6,\n",
       " 'Banská Bystrica': 5,\n",
       " 'Haut-Sassandra': 5,\n",
       " 'Ardahan': 5,\n",
       " 'Primorje-Gorski Kotar': 5,\n",
       " ...}"
      ]
     },
     "execution_count": 930,
     "metadata": {},
     "output_type": "execute_result"
    }
   ],
   "source": [
    "df['Order State'].value_counts().to_dict()"
   ]
  },
  {
   "cell_type": "code",
   "execution_count": 931,
   "metadata": {},
   "outputs": [
    {
     "data": {
      "text/html": [
       "<div>\n",
       "<style scoped>\n",
       "    .dataframe tbody tr th:only-of-type {\n",
       "        vertical-align: middle;\n",
       "    }\n",
       "\n",
       "    .dataframe tbody tr th {\n",
       "        vertical-align: top;\n",
       "    }\n",
       "\n",
       "    .dataframe thead th {\n",
       "        text-align: right;\n",
       "    }\n",
       "</style>\n",
       "<table border=\"1\" class=\"dataframe\">\n",
       "  <thead>\n",
       "    <tr style=\"text-align: right;\">\n",
       "      <th></th>\n",
       "      <th>Order State</th>\n",
       "    </tr>\n",
       "  </thead>\n",
       "  <tbody>\n",
       "    <tr>\n",
       "      <th>0</th>\n",
       "      <td>475</td>\n",
       "    </tr>\n",
       "    <tr>\n",
       "      <th>1</th>\n",
       "      <td>841</td>\n",
       "    </tr>\n",
       "    <tr>\n",
       "      <th>2</th>\n",
       "      <td>841</td>\n",
       "    </tr>\n",
       "    <tr>\n",
       "      <th>3</th>\n",
       "      <td>835</td>\n",
       "    </tr>\n",
       "    <tr>\n",
       "      <th>4</th>\n",
       "      <td>835</td>\n",
       "    </tr>\n",
       "    <tr>\n",
       "      <th>...</th>\n",
       "      <td>...</td>\n",
       "    </tr>\n",
       "    <tr>\n",
       "      <th>180514</th>\n",
       "      <td>913</td>\n",
       "    </tr>\n",
       "    <tr>\n",
       "      <th>180515</th>\n",
       "      <td>770</td>\n",
       "    </tr>\n",
       "    <tr>\n",
       "      <th>180516</th>\n",
       "      <td>88</td>\n",
       "    </tr>\n",
       "    <tr>\n",
       "      <th>180517</th>\n",
       "      <td>88</td>\n",
       "    </tr>\n",
       "    <tr>\n",
       "      <th>180518</th>\n",
       "      <td>967</td>\n",
       "    </tr>\n",
       "  </tbody>\n",
       "</table>\n",
       "<p>180519 rows × 1 columns</p>\n",
       "</div>"
      ],
      "text/plain": [
       "        Order State\n",
       "0               475\n",
       "1               841\n",
       "2               841\n",
       "3               835\n",
       "4               835\n",
       "...             ...\n",
       "180514          913\n",
       "180515          770\n",
       "180516           88\n",
       "180517           88\n",
       "180518          967\n",
       "\n",
       "[180519 rows x 1 columns]"
      ]
     },
     "execution_count": 931,
     "metadata": {},
     "output_type": "execute_result"
    }
   ],
   "source": [
    "encoder = LabelEncoder()\n",
    "encoded_categories = encoder.fit_transform(df['Order State'])\n",
    "df['Order State'] = encoded_categories\n",
    "df[['Order State']]"
   ]
  },
  {
   "cell_type": "markdown",
   "metadata": {},
   "source": [
    "# column no. 42 - Order Status"
   ]
  },
  {
   "cell_type": "code",
   "execution_count": 932,
   "metadata": {},
   "outputs": [
    {
     "data": {
      "text/plain": [
       "{'COMPLETE': 59491,\n",
       " 'PENDING_PAYMENT': 39832,\n",
       " 'PROCESSING': 21902,\n",
       " 'PENDING': 20227,\n",
       " 'CLOSED': 19616,\n",
       " 'ON_HOLD': 9804,\n",
       " 'SUSPECTED_FRAUD': 4062,\n",
       " 'CANCELED': 3692,\n",
       " 'PAYMENT_REVIEW': 1893}"
      ]
     },
     "execution_count": 932,
     "metadata": {},
     "output_type": "execute_result"
    }
   ],
   "source": [
    "df['Order Status'].value_counts().to_dict()"
   ]
  },
  {
   "cell_type": "code",
   "execution_count": 933,
   "metadata": {},
   "outputs": [],
   "source": [
    "df['Order Status'] = df['Order Status'].replace({'COMPLETE': 0,\n",
    " 'PENDING_PAYMENT': 1,\n",
    " 'PROCESSING': 2,\n",
    " 'PENDING': 3,\n",
    " 'CLOSED': 4,\n",
    " 'ON_HOLD': 5,\n",
    " 'SUSPECTED_FRAUD': 6,\n",
    " 'CANCELED': 7,\n",
    " 'PAYMENT_REVIEW': 8})"
   ]
  },
  {
   "cell_type": "code",
   "execution_count": 934,
   "metadata": {},
   "outputs": [
    {
     "data": {
      "text/plain": [
       "0    59491\n",
       "1    39832\n",
       "2    21902\n",
       "3    20227\n",
       "4    19616\n",
       "5     9804\n",
       "6     4062\n",
       "7     3692\n",
       "8     1893\n",
       "Name: Order Status, dtype: int64"
      ]
     },
     "execution_count": 934,
     "metadata": {},
     "output_type": "execute_result"
    }
   ],
   "source": [
    "df['Order Status'].value_counts()"
   ]
  },
  {
   "cell_type": "markdown",
   "metadata": {},
   "source": [
    "# column no. 43 - Order Zipcode"
   ]
  },
  {
   "cell_type": "code",
   "execution_count": 935,
   "metadata": {},
   "outputs": [
    {
     "data": {
      "text/plain": [
       "10035.0    648\n",
       "10009.0    550\n",
       "10024.0    541\n",
       "94122.0    526\n",
       "10011.0    463\n",
       "          ... \n",
       "59801.0      1\n",
       "60477.0      1\n",
       "31088.0      1\n",
       "61832.0      1\n",
       "30188.0      1\n",
       "Name: Order Zipcode, Length: 609, dtype: int64"
      ]
     },
     "execution_count": 935,
     "metadata": {},
     "output_type": "execute_result"
    }
   ],
   "source": [
    "df['Order Zipcode'].value_counts()"
   ]
  },
  {
   "cell_type": "markdown",
   "metadata": {},
   "source": [
    "### Identifying missing values"
   ]
  },
  {
   "cell_type": "code",
   "execution_count": 936,
   "metadata": {},
   "outputs": [
    {
     "data": {
      "text/plain": [
       "86.23967560201419"
      ]
     },
     "execution_count": 936,
     "metadata": {},
     "output_type": "execute_result"
    }
   ],
   "source": [
    "df['Order Zipcode'].isna().mean()*100"
   ]
  },
  {
   "cell_type": "raw",
   "metadata": {},
   "source": [
    "86.23 % missing values are there thats why we are removing this column"
   ]
  },
  {
   "cell_type": "code",
   "execution_count": 937,
   "metadata": {},
   "outputs": [
    {
     "data": {
      "text/html": [
       "<div>\n",
       "<style scoped>\n",
       "    .dataframe tbody tr th:only-of-type {\n",
       "        vertical-align: middle;\n",
       "    }\n",
       "\n",
       "    .dataframe tbody tr th {\n",
       "        vertical-align: top;\n",
       "    }\n",
       "\n",
       "    .dataframe thead th {\n",
       "        text-align: right;\n",
       "    }\n",
       "</style>\n",
       "<table border=\"1\" class=\"dataframe\">\n",
       "  <thead>\n",
       "    <tr style=\"text-align: right;\">\n",
       "      <th></th>\n",
       "      <th>Type</th>\n",
       "      <th>Days for shipping (real)</th>\n",
       "      <th>Days for shipment (scheduled)</th>\n",
       "      <th>Benefit per order</th>\n",
       "      <th>Sales per customer</th>\n",
       "      <th>Delivery Status</th>\n",
       "      <th>Late_delivery_risk</th>\n",
       "      <th>Category Id</th>\n",
       "      <th>Category Name</th>\n",
       "      <th>Customer City</th>\n",
       "      <th>...</th>\n",
       "      <th>Order Status</th>\n",
       "      <th>Product Card Id</th>\n",
       "      <th>Product Category Id</th>\n",
       "      <th>Product Description</th>\n",
       "      <th>Product Image</th>\n",
       "      <th>Product Name</th>\n",
       "      <th>Product Price</th>\n",
       "      <th>Product Status</th>\n",
       "      <th>shipping date (DateOrders)</th>\n",
       "      <th>Shipping Mode</th>\n",
       "    </tr>\n",
       "  </thead>\n",
       "  <tbody>\n",
       "    <tr>\n",
       "      <th>0</th>\n",
       "      <td>0</td>\n",
       "      <td>3</td>\n",
       "      <td>4</td>\n",
       "      <td>91.250000</td>\n",
       "      <td>314.640015</td>\n",
       "      <td>0</td>\n",
       "      <td>0</td>\n",
       "      <td>73</td>\n",
       "      <td>40</td>\n",
       "      <td>66</td>\n",
       "      <td>...</td>\n",
       "      <td>0</td>\n",
       "      <td>1360</td>\n",
       "      <td>73</td>\n",
       "      <td>NaN</td>\n",
       "      <td>http://images.acmesports.sports/Smart+watch</td>\n",
       "      <td>Smart watch</td>\n",
       "      <td>327.750000</td>\n",
       "      <td>0</td>\n",
       "      <td>2/3/2018 22:56</td>\n",
       "      <td>Standard Class</td>\n",
       "    </tr>\n",
       "    <tr>\n",
       "      <th>1</th>\n",
       "      <td>1</td>\n",
       "      <td>5</td>\n",
       "      <td>4</td>\n",
       "      <td>-249.089996</td>\n",
       "      <td>311.359985</td>\n",
       "      <td>1</td>\n",
       "      <td>1</td>\n",
       "      <td>73</td>\n",
       "      <td>40</td>\n",
       "      <td>66</td>\n",
       "      <td>...</td>\n",
       "      <td>3</td>\n",
       "      <td>1360</td>\n",
       "      <td>73</td>\n",
       "      <td>NaN</td>\n",
       "      <td>http://images.acmesports.sports/Smart+watch</td>\n",
       "      <td>Smart watch</td>\n",
       "      <td>327.750000</td>\n",
       "      <td>0</td>\n",
       "      <td>1/18/2018 12:27</td>\n",
       "      <td>Standard Class</td>\n",
       "    </tr>\n",
       "    <tr>\n",
       "      <th>2</th>\n",
       "      <td>2</td>\n",
       "      <td>4</td>\n",
       "      <td>4</td>\n",
       "      <td>-247.779999</td>\n",
       "      <td>309.720001</td>\n",
       "      <td>2</td>\n",
       "      <td>0</td>\n",
       "      <td>73</td>\n",
       "      <td>40</td>\n",
       "      <td>452</td>\n",
       "      <td>...</td>\n",
       "      <td>4</td>\n",
       "      <td>1360</td>\n",
       "      <td>73</td>\n",
       "      <td>NaN</td>\n",
       "      <td>http://images.acmesports.sports/Smart+watch</td>\n",
       "      <td>Smart watch</td>\n",
       "      <td>327.750000</td>\n",
       "      <td>0</td>\n",
       "      <td>1/17/2018 12:06</td>\n",
       "      <td>Standard Class</td>\n",
       "    </tr>\n",
       "    <tr>\n",
       "      <th>3</th>\n",
       "      <td>0</td>\n",
       "      <td>3</td>\n",
       "      <td>4</td>\n",
       "      <td>22.860001</td>\n",
       "      <td>304.809998</td>\n",
       "      <td>0</td>\n",
       "      <td>0</td>\n",
       "      <td>73</td>\n",
       "      <td>40</td>\n",
       "      <td>285</td>\n",
       "      <td>...</td>\n",
       "      <td>0</td>\n",
       "      <td>1360</td>\n",
       "      <td>73</td>\n",
       "      <td>NaN</td>\n",
       "      <td>http://images.acmesports.sports/Smart+watch</td>\n",
       "      <td>Smart watch</td>\n",
       "      <td>327.750000</td>\n",
       "      <td>0</td>\n",
       "      <td>1/16/2018 11:45</td>\n",
       "      <td>Standard Class</td>\n",
       "    </tr>\n",
       "    <tr>\n",
       "      <th>4</th>\n",
       "      <td>3</td>\n",
       "      <td>2</td>\n",
       "      <td>4</td>\n",
       "      <td>134.210007</td>\n",
       "      <td>298.250000</td>\n",
       "      <td>0</td>\n",
       "      <td>0</td>\n",
       "      <td>73</td>\n",
       "      <td>40</td>\n",
       "      <td>66</td>\n",
       "      <td>...</td>\n",
       "      <td>1</td>\n",
       "      <td>1360</td>\n",
       "      <td>73</td>\n",
       "      <td>NaN</td>\n",
       "      <td>http://images.acmesports.sports/Smart+watch</td>\n",
       "      <td>Smart watch</td>\n",
       "      <td>327.750000</td>\n",
       "      <td>0</td>\n",
       "      <td>1/15/2018 11:24</td>\n",
       "      <td>Standard Class</td>\n",
       "    </tr>\n",
       "    <tr>\n",
       "      <th>...</th>\n",
       "      <td>...</td>\n",
       "      <td>...</td>\n",
       "      <td>...</td>\n",
       "      <td>...</td>\n",
       "      <td>...</td>\n",
       "      <td>...</td>\n",
       "      <td>...</td>\n",
       "      <td>...</td>\n",
       "      <td>...</td>\n",
       "      <td>...</td>\n",
       "      <td>...</td>\n",
       "      <td>...</td>\n",
       "      <td>...</td>\n",
       "      <td>...</td>\n",
       "      <td>...</td>\n",
       "      <td>...</td>\n",
       "      <td>...</td>\n",
       "      <td>...</td>\n",
       "      <td>...</td>\n",
       "      <td>...</td>\n",
       "      <td>...</td>\n",
       "    </tr>\n",
       "    <tr>\n",
       "      <th>180514</th>\n",
       "      <td>2</td>\n",
       "      <td>4</td>\n",
       "      <td>4</td>\n",
       "      <td>40.000000</td>\n",
       "      <td>399.980011</td>\n",
       "      <td>2</td>\n",
       "      <td>0</td>\n",
       "      <td>45</td>\n",
       "      <td>18</td>\n",
       "      <td>59</td>\n",
       "      <td>...</td>\n",
       "      <td>4</td>\n",
       "      <td>1004</td>\n",
       "      <td>45</td>\n",
       "      <td>NaN</td>\n",
       "      <td>http://images.acmesports.sports/Field+%26+Stre...</td>\n",
       "      <td>Field &amp; Stream Sportsman 16 Gun Fire Safe</td>\n",
       "      <td>399.980011</td>\n",
       "      <td>0</td>\n",
       "      <td>1/20/2016 3:40</td>\n",
       "      <td>Standard Class</td>\n",
       "    </tr>\n",
       "    <tr>\n",
       "      <th>180515</th>\n",
       "      <td>0</td>\n",
       "      <td>3</td>\n",
       "      <td>2</td>\n",
       "      <td>-613.770019</td>\n",
       "      <td>395.980011</td>\n",
       "      <td>1</td>\n",
       "      <td>1</td>\n",
       "      <td>45</td>\n",
       "      <td>18</td>\n",
       "      <td>26</td>\n",
       "      <td>...</td>\n",
       "      <td>0</td>\n",
       "      <td>1004</td>\n",
       "      <td>45</td>\n",
       "      <td>NaN</td>\n",
       "      <td>http://images.acmesports.sports/Field+%26+Stre...</td>\n",
       "      <td>Field &amp; Stream Sportsman 16 Gun Fire Safe</td>\n",
       "      <td>399.980011</td>\n",
       "      <td>0</td>\n",
       "      <td>1/19/2016 1:34</td>\n",
       "      <td>Second Class</td>\n",
       "    </tr>\n",
       "    <tr>\n",
       "      <th>180516</th>\n",
       "      <td>1</td>\n",
       "      <td>5</td>\n",
       "      <td>4</td>\n",
       "      <td>141.110001</td>\n",
       "      <td>391.980011</td>\n",
       "      <td>1</td>\n",
       "      <td>1</td>\n",
       "      <td>45</td>\n",
       "      <td>18</td>\n",
       "      <td>55</td>\n",
       "      <td>...</td>\n",
       "      <td>3</td>\n",
       "      <td>1004</td>\n",
       "      <td>45</td>\n",
       "      <td>NaN</td>\n",
       "      <td>http://images.acmesports.sports/Field+%26+Stre...</td>\n",
       "      <td>Field &amp; Stream Sportsman 16 Gun Fire Safe</td>\n",
       "      <td>399.980011</td>\n",
       "      <td>0</td>\n",
       "      <td>1/20/2016 21:00</td>\n",
       "      <td>Standard Class</td>\n",
       "    </tr>\n",
       "    <tr>\n",
       "      <th>180517</th>\n",
       "      <td>3</td>\n",
       "      <td>3</td>\n",
       "      <td>4</td>\n",
       "      <td>186.229996</td>\n",
       "      <td>387.980011</td>\n",
       "      <td>0</td>\n",
       "      <td>0</td>\n",
       "      <td>45</td>\n",
       "      <td>18</td>\n",
       "      <td>66</td>\n",
       "      <td>...</td>\n",
       "      <td>1</td>\n",
       "      <td>1004</td>\n",
       "      <td>45</td>\n",
       "      <td>NaN</td>\n",
       "      <td>http://images.acmesports.sports/Field+%26+Stre...</td>\n",
       "      <td>Field &amp; Stream Sportsman 16 Gun Fire Safe</td>\n",
       "      <td>399.980011</td>\n",
       "      <td>0</td>\n",
       "      <td>1/18/2016 20:18</td>\n",
       "      <td>Standard Class</td>\n",
       "    </tr>\n",
       "    <tr>\n",
       "      <th>180518</th>\n",
       "      <td>3</td>\n",
       "      <td>4</td>\n",
       "      <td>4</td>\n",
       "      <td>168.949997</td>\n",
       "      <td>383.980011</td>\n",
       "      <td>2</td>\n",
       "      <td>0</td>\n",
       "      <td>45</td>\n",
       "      <td>18</td>\n",
       "      <td>66</td>\n",
       "      <td>...</td>\n",
       "      <td>1</td>\n",
       "      <td>1004</td>\n",
       "      <td>45</td>\n",
       "      <td>NaN</td>\n",
       "      <td>http://images.acmesports.sports/Field+%26+Stre...</td>\n",
       "      <td>Field &amp; Stream Sportsman 16 Gun Fire Safe</td>\n",
       "      <td>399.980011</td>\n",
       "      <td>0</td>\n",
       "      <td>1/19/2016 18:54</td>\n",
       "      <td>Standard Class</td>\n",
       "    </tr>\n",
       "  </tbody>\n",
       "</table>\n",
       "<p>180519 rows × 52 columns</p>\n",
       "</div>"
      ],
      "text/plain": [
       "        Type  Days for shipping (real)  Days for shipment (scheduled)  \\\n",
       "0          0                         3                              4   \n",
       "1          1                         5                              4   \n",
       "2          2                         4                              4   \n",
       "3          0                         3                              4   \n",
       "4          3                         2                              4   \n",
       "...      ...                       ...                            ...   \n",
       "180514     2                         4                              4   \n",
       "180515     0                         3                              2   \n",
       "180516     1                         5                              4   \n",
       "180517     3                         3                              4   \n",
       "180518     3                         4                              4   \n",
       "\n",
       "        Benefit per order  Sales per customer  Delivery Status  \\\n",
       "0               91.250000          314.640015                0   \n",
       "1             -249.089996          311.359985                1   \n",
       "2             -247.779999          309.720001                2   \n",
       "3               22.860001          304.809998                0   \n",
       "4              134.210007          298.250000                0   \n",
       "...                   ...                 ...              ...   \n",
       "180514          40.000000          399.980011                2   \n",
       "180515        -613.770019          395.980011                1   \n",
       "180516         141.110001          391.980011                1   \n",
       "180517         186.229996          387.980011                0   \n",
       "180518         168.949997          383.980011                2   \n",
       "\n",
       "        Late_delivery_risk  Category Id  Category Name  Customer City  ...  \\\n",
       "0                        0           73             40             66  ...   \n",
       "1                        1           73             40             66  ...   \n",
       "2                        0           73             40            452  ...   \n",
       "3                        0           73             40            285  ...   \n",
       "4                        0           73             40             66  ...   \n",
       "...                    ...          ...            ...            ...  ...   \n",
       "180514                   0           45             18             59  ...   \n",
       "180515                   1           45             18             26  ...   \n",
       "180516                   1           45             18             55  ...   \n",
       "180517                   0           45             18             66  ...   \n",
       "180518                   0           45             18             66  ...   \n",
       "\n",
       "        Order Status Product Card Id  Product Category Id  \\\n",
       "0                  0            1360                   73   \n",
       "1                  3            1360                   73   \n",
       "2                  4            1360                   73   \n",
       "3                  0            1360                   73   \n",
       "4                  1            1360                   73   \n",
       "...              ...             ...                  ...   \n",
       "180514             4            1004                   45   \n",
       "180515             0            1004                   45   \n",
       "180516             3            1004                   45   \n",
       "180517             1            1004                   45   \n",
       "180518             1            1004                   45   \n",
       "\n",
       "        Product Description  \\\n",
       "0                       NaN   \n",
       "1                       NaN   \n",
       "2                       NaN   \n",
       "3                       NaN   \n",
       "4                       NaN   \n",
       "...                     ...   \n",
       "180514                  NaN   \n",
       "180515                  NaN   \n",
       "180516                  NaN   \n",
       "180517                  NaN   \n",
       "180518                  NaN   \n",
       "\n",
       "                                            Product Image  \\\n",
       "0            http://images.acmesports.sports/Smart+watch    \n",
       "1            http://images.acmesports.sports/Smart+watch    \n",
       "2            http://images.acmesports.sports/Smart+watch    \n",
       "3            http://images.acmesports.sports/Smart+watch    \n",
       "4            http://images.acmesports.sports/Smart+watch    \n",
       "...                                                   ...   \n",
       "180514  http://images.acmesports.sports/Field+%26+Stre...   \n",
       "180515  http://images.acmesports.sports/Field+%26+Stre...   \n",
       "180516  http://images.acmesports.sports/Field+%26+Stre...   \n",
       "180517  http://images.acmesports.sports/Field+%26+Stre...   \n",
       "180518  http://images.acmesports.sports/Field+%26+Stre...   \n",
       "\n",
       "                                     Product Name  Product Price  \\\n",
       "0                                    Smart watch      327.750000   \n",
       "1                                    Smart watch      327.750000   \n",
       "2                                    Smart watch      327.750000   \n",
       "3                                    Smart watch      327.750000   \n",
       "4                                    Smart watch      327.750000   \n",
       "...                                           ...            ...   \n",
       "180514  Field & Stream Sportsman 16 Gun Fire Safe     399.980011   \n",
       "180515  Field & Stream Sportsman 16 Gun Fire Safe     399.980011   \n",
       "180516  Field & Stream Sportsman 16 Gun Fire Safe     399.980011   \n",
       "180517  Field & Stream Sportsman 16 Gun Fire Safe     399.980011   \n",
       "180518  Field & Stream Sportsman 16 Gun Fire Safe     399.980011   \n",
       "\n",
       "        Product Status  shipping date (DateOrders)   Shipping Mode  \n",
       "0                    0              2/3/2018 22:56  Standard Class  \n",
       "1                    0             1/18/2018 12:27  Standard Class  \n",
       "2                    0             1/17/2018 12:06  Standard Class  \n",
       "3                    0             1/16/2018 11:45  Standard Class  \n",
       "4                    0             1/15/2018 11:24  Standard Class  \n",
       "...                ...                         ...             ...  \n",
       "180514               0              1/20/2016 3:40  Standard Class  \n",
       "180515               0              1/19/2016 1:34    Second Class  \n",
       "180516               0             1/20/2016 21:00  Standard Class  \n",
       "180517               0             1/18/2016 20:18  Standard Class  \n",
       "180518               0             1/19/2016 18:54  Standard Class  \n",
       "\n",
       "[180519 rows x 52 columns]"
      ]
     },
     "execution_count": 937,
     "metadata": {},
     "output_type": "execute_result"
    }
   ],
   "source": [
    "df.drop('Order Zipcode', axis=1)"
   ]
  },
  {
   "cell_type": "markdown",
   "metadata": {},
   "source": [
    "# column no. 44 - Product Card Id"
   ]
  },
  {
   "cell_type": "code",
   "execution_count": 938,
   "metadata": {},
   "outputs": [
    {
     "data": {
      "text/plain": [
       "365     24515\n",
       "403     22246\n",
       "502     21035\n",
       "1014    19298\n",
       "1004    17325\n",
       "        ...  \n",
       "127        27\n",
       "208        15\n",
       "860        11\n",
       "60         10\n",
       "226        10\n",
       "Name: Product Card Id, Length: 118, dtype: int64"
      ]
     },
     "execution_count": 938,
     "metadata": {},
     "output_type": "execute_result"
    }
   ],
   "source": [
    "df['Product Card Id'].value_counts()"
   ]
  },
  {
   "cell_type": "markdown",
   "metadata": {},
   "source": [
    "# column no. 45 - Product Category Id"
   ]
  },
  {
   "cell_type": "code",
   "execution_count": 939,
   "metadata": {},
   "outputs": [
    {
     "data": {
      "text/plain": [
       "17    24551\n",
       "18    22246\n",
       "24    21035\n",
       "46    19298\n",
       "45    17325\n",
       "48    15540\n",
       "43    13729\n",
       "9     12487\n",
       "29    10984\n",
       "37     2029\n",
       "40     1780\n",
       "36     1475\n",
       "26     1201\n",
       "13     1127\n",
       "35     1070\n",
       "41      974\n",
       "75      838\n",
       "63      652\n",
       "76      650\n",
       "3       632\n",
       "7       614\n",
       "62      592\n",
       "74      529\n",
       "33      524\n",
       "72      492\n",
       "66      484\n",
       "68      484\n",
       "67      483\n",
       "64      442\n",
       "32      441\n",
       "44      440\n",
       "71      434\n",
       "65      431\n",
       "12      423\n",
       "59      405\n",
       "38      384\n",
       "69      362\n",
       "73      357\n",
       "5       343\n",
       "6       328\n",
       "11      309\n",
       "30      283\n",
       "61      271\n",
       "70      208\n",
       "60      207\n",
       "31      181\n",
       "2       138\n",
       "10      111\n",
       "16       68\n",
       "4        67\n",
       "34       61\n",
       "Name: Product Category Id, dtype: int64"
      ]
     },
     "execution_count": 939,
     "metadata": {},
     "output_type": "execute_result"
    }
   ],
   "source": [
    "df['Product Category Id'].value_counts()"
   ]
  },
  {
   "cell_type": "markdown",
   "metadata": {},
   "source": [
    "# column no. 47 - Product Image"
   ]
  },
  {
   "cell_type": "code",
   "execution_count": 940,
   "metadata": {},
   "outputs": [
    {
     "data": {
      "text/plain": [
       "http://images.acmesports.sports/Perfect+Fitness+Perfect+Rip+Deck                                 24515\n",
       "http://images.acmesports.sports/Nike+Men%27s+CJ+Elite+2+TD+Football+Cleat                        22246\n",
       "http://images.acmesports.sports/Nike+Men%27s+Dri-FIT+Victory+Golf+Polo                           21035\n",
       "http://images.acmesports.sports/O%27Brien+Men%27s+Neoprene+Life+Vest                             19298\n",
       "http://images.acmesports.sports/Field+%26+Stream+Sportsman+16+Gun+Fire+Safe                      17325\n",
       "                                                                                                 ...  \n",
       "http://images.acmesports.sports/Stiga+Master+Series+ST3100+Competition+Indoor+Table+Tennis...       27\n",
       "http://images.acmesports.sports/SOLE+E35+Elliptical                                                 15\n",
       "http://images.acmesports.sports/Bushnell+Pro+X7+Jolt+Slope+Rangefinder                              11\n",
       "http://images.acmesports.sports/Bowflex+SelectTech+1090+Dumbbells                                   10\n",
       "http://images.acmesports.sports/SOLE+E25+Elliptical                                                 10\n",
       "Name: Product Image, Length: 118, dtype: int64"
      ]
     },
     "execution_count": 940,
     "metadata": {},
     "output_type": "execute_result"
    }
   ],
   "source": [
    "df['Product Image'].value_counts()"
   ]
  },
  {
   "cell_type": "code",
   "execution_count": 941,
   "metadata": {
    "scrolled": true
   },
   "outputs": [
    {
     "data": {
      "text/html": [
       "<div>\n",
       "<style scoped>\n",
       "    .dataframe tbody tr th:only-of-type {\n",
       "        vertical-align: middle;\n",
       "    }\n",
       "\n",
       "    .dataframe tbody tr th {\n",
       "        vertical-align: top;\n",
       "    }\n",
       "\n",
       "    .dataframe thead th {\n",
       "        text-align: right;\n",
       "    }\n",
       "</style>\n",
       "<table border=\"1\" class=\"dataframe\">\n",
       "  <thead>\n",
       "    <tr style=\"text-align: right;\">\n",
       "      <th></th>\n",
       "      <th>Type</th>\n",
       "      <th>Days for shipping (real)</th>\n",
       "      <th>Days for shipment (scheduled)</th>\n",
       "      <th>Benefit per order</th>\n",
       "      <th>Sales per customer</th>\n",
       "      <th>Delivery Status</th>\n",
       "      <th>Late_delivery_risk</th>\n",
       "      <th>Category Id</th>\n",
       "      <th>Category Name</th>\n",
       "      <th>Customer City</th>\n",
       "      <th>...</th>\n",
       "      <th>Order Status</th>\n",
       "      <th>Order Zipcode</th>\n",
       "      <th>Product Card Id</th>\n",
       "      <th>Product Category Id</th>\n",
       "      <th>Product Description</th>\n",
       "      <th>Product Name</th>\n",
       "      <th>Product Price</th>\n",
       "      <th>Product Status</th>\n",
       "      <th>shipping date (DateOrders)</th>\n",
       "      <th>Shipping Mode</th>\n",
       "    </tr>\n",
       "  </thead>\n",
       "  <tbody>\n",
       "    <tr>\n",
       "      <th>0</th>\n",
       "      <td>0</td>\n",
       "      <td>3</td>\n",
       "      <td>4</td>\n",
       "      <td>91.250000</td>\n",
       "      <td>314.640015</td>\n",
       "      <td>0</td>\n",
       "      <td>0</td>\n",
       "      <td>73</td>\n",
       "      <td>40</td>\n",
       "      <td>66</td>\n",
       "      <td>...</td>\n",
       "      <td>0</td>\n",
       "      <td>NaN</td>\n",
       "      <td>1360</td>\n",
       "      <td>73</td>\n",
       "      <td>NaN</td>\n",
       "      <td>Smart watch</td>\n",
       "      <td>327.750000</td>\n",
       "      <td>0</td>\n",
       "      <td>2/3/2018 22:56</td>\n",
       "      <td>Standard Class</td>\n",
       "    </tr>\n",
       "    <tr>\n",
       "      <th>1</th>\n",
       "      <td>1</td>\n",
       "      <td>5</td>\n",
       "      <td>4</td>\n",
       "      <td>-249.089996</td>\n",
       "      <td>311.359985</td>\n",
       "      <td>1</td>\n",
       "      <td>1</td>\n",
       "      <td>73</td>\n",
       "      <td>40</td>\n",
       "      <td>66</td>\n",
       "      <td>...</td>\n",
       "      <td>3</td>\n",
       "      <td>NaN</td>\n",
       "      <td>1360</td>\n",
       "      <td>73</td>\n",
       "      <td>NaN</td>\n",
       "      <td>Smart watch</td>\n",
       "      <td>327.750000</td>\n",
       "      <td>0</td>\n",
       "      <td>1/18/2018 12:27</td>\n",
       "      <td>Standard Class</td>\n",
       "    </tr>\n",
       "    <tr>\n",
       "      <th>2</th>\n",
       "      <td>2</td>\n",
       "      <td>4</td>\n",
       "      <td>4</td>\n",
       "      <td>-247.779999</td>\n",
       "      <td>309.720001</td>\n",
       "      <td>2</td>\n",
       "      <td>0</td>\n",
       "      <td>73</td>\n",
       "      <td>40</td>\n",
       "      <td>452</td>\n",
       "      <td>...</td>\n",
       "      <td>4</td>\n",
       "      <td>NaN</td>\n",
       "      <td>1360</td>\n",
       "      <td>73</td>\n",
       "      <td>NaN</td>\n",
       "      <td>Smart watch</td>\n",
       "      <td>327.750000</td>\n",
       "      <td>0</td>\n",
       "      <td>1/17/2018 12:06</td>\n",
       "      <td>Standard Class</td>\n",
       "    </tr>\n",
       "    <tr>\n",
       "      <th>3</th>\n",
       "      <td>0</td>\n",
       "      <td>3</td>\n",
       "      <td>4</td>\n",
       "      <td>22.860001</td>\n",
       "      <td>304.809998</td>\n",
       "      <td>0</td>\n",
       "      <td>0</td>\n",
       "      <td>73</td>\n",
       "      <td>40</td>\n",
       "      <td>285</td>\n",
       "      <td>...</td>\n",
       "      <td>0</td>\n",
       "      <td>NaN</td>\n",
       "      <td>1360</td>\n",
       "      <td>73</td>\n",
       "      <td>NaN</td>\n",
       "      <td>Smart watch</td>\n",
       "      <td>327.750000</td>\n",
       "      <td>0</td>\n",
       "      <td>1/16/2018 11:45</td>\n",
       "      <td>Standard Class</td>\n",
       "    </tr>\n",
       "    <tr>\n",
       "      <th>4</th>\n",
       "      <td>3</td>\n",
       "      <td>2</td>\n",
       "      <td>4</td>\n",
       "      <td>134.210007</td>\n",
       "      <td>298.250000</td>\n",
       "      <td>0</td>\n",
       "      <td>0</td>\n",
       "      <td>73</td>\n",
       "      <td>40</td>\n",
       "      <td>66</td>\n",
       "      <td>...</td>\n",
       "      <td>1</td>\n",
       "      <td>NaN</td>\n",
       "      <td>1360</td>\n",
       "      <td>73</td>\n",
       "      <td>NaN</td>\n",
       "      <td>Smart watch</td>\n",
       "      <td>327.750000</td>\n",
       "      <td>0</td>\n",
       "      <td>1/15/2018 11:24</td>\n",
       "      <td>Standard Class</td>\n",
       "    </tr>\n",
       "    <tr>\n",
       "      <th>...</th>\n",
       "      <td>...</td>\n",
       "      <td>...</td>\n",
       "      <td>...</td>\n",
       "      <td>...</td>\n",
       "      <td>...</td>\n",
       "      <td>...</td>\n",
       "      <td>...</td>\n",
       "      <td>...</td>\n",
       "      <td>...</td>\n",
       "      <td>...</td>\n",
       "      <td>...</td>\n",
       "      <td>...</td>\n",
       "      <td>...</td>\n",
       "      <td>...</td>\n",
       "      <td>...</td>\n",
       "      <td>...</td>\n",
       "      <td>...</td>\n",
       "      <td>...</td>\n",
       "      <td>...</td>\n",
       "      <td>...</td>\n",
       "      <td>...</td>\n",
       "    </tr>\n",
       "    <tr>\n",
       "      <th>180514</th>\n",
       "      <td>2</td>\n",
       "      <td>4</td>\n",
       "      <td>4</td>\n",
       "      <td>40.000000</td>\n",
       "      <td>399.980011</td>\n",
       "      <td>2</td>\n",
       "      <td>0</td>\n",
       "      <td>45</td>\n",
       "      <td>18</td>\n",
       "      <td>59</td>\n",
       "      <td>...</td>\n",
       "      <td>4</td>\n",
       "      <td>NaN</td>\n",
       "      <td>1004</td>\n",
       "      <td>45</td>\n",
       "      <td>NaN</td>\n",
       "      <td>Field &amp; Stream Sportsman 16 Gun Fire Safe</td>\n",
       "      <td>399.980011</td>\n",
       "      <td>0</td>\n",
       "      <td>1/20/2016 3:40</td>\n",
       "      <td>Standard Class</td>\n",
       "    </tr>\n",
       "    <tr>\n",
       "      <th>180515</th>\n",
       "      <td>0</td>\n",
       "      <td>3</td>\n",
       "      <td>2</td>\n",
       "      <td>-613.770019</td>\n",
       "      <td>395.980011</td>\n",
       "      <td>1</td>\n",
       "      <td>1</td>\n",
       "      <td>45</td>\n",
       "      <td>18</td>\n",
       "      <td>26</td>\n",
       "      <td>...</td>\n",
       "      <td>0</td>\n",
       "      <td>NaN</td>\n",
       "      <td>1004</td>\n",
       "      <td>45</td>\n",
       "      <td>NaN</td>\n",
       "      <td>Field &amp; Stream Sportsman 16 Gun Fire Safe</td>\n",
       "      <td>399.980011</td>\n",
       "      <td>0</td>\n",
       "      <td>1/19/2016 1:34</td>\n",
       "      <td>Second Class</td>\n",
       "    </tr>\n",
       "    <tr>\n",
       "      <th>180516</th>\n",
       "      <td>1</td>\n",
       "      <td>5</td>\n",
       "      <td>4</td>\n",
       "      <td>141.110001</td>\n",
       "      <td>391.980011</td>\n",
       "      <td>1</td>\n",
       "      <td>1</td>\n",
       "      <td>45</td>\n",
       "      <td>18</td>\n",
       "      <td>55</td>\n",
       "      <td>...</td>\n",
       "      <td>3</td>\n",
       "      <td>NaN</td>\n",
       "      <td>1004</td>\n",
       "      <td>45</td>\n",
       "      <td>NaN</td>\n",
       "      <td>Field &amp; Stream Sportsman 16 Gun Fire Safe</td>\n",
       "      <td>399.980011</td>\n",
       "      <td>0</td>\n",
       "      <td>1/20/2016 21:00</td>\n",
       "      <td>Standard Class</td>\n",
       "    </tr>\n",
       "    <tr>\n",
       "      <th>180517</th>\n",
       "      <td>3</td>\n",
       "      <td>3</td>\n",
       "      <td>4</td>\n",
       "      <td>186.229996</td>\n",
       "      <td>387.980011</td>\n",
       "      <td>0</td>\n",
       "      <td>0</td>\n",
       "      <td>45</td>\n",
       "      <td>18</td>\n",
       "      <td>66</td>\n",
       "      <td>...</td>\n",
       "      <td>1</td>\n",
       "      <td>NaN</td>\n",
       "      <td>1004</td>\n",
       "      <td>45</td>\n",
       "      <td>NaN</td>\n",
       "      <td>Field &amp; Stream Sportsman 16 Gun Fire Safe</td>\n",
       "      <td>399.980011</td>\n",
       "      <td>0</td>\n",
       "      <td>1/18/2016 20:18</td>\n",
       "      <td>Standard Class</td>\n",
       "    </tr>\n",
       "    <tr>\n",
       "      <th>180518</th>\n",
       "      <td>3</td>\n",
       "      <td>4</td>\n",
       "      <td>4</td>\n",
       "      <td>168.949997</td>\n",
       "      <td>383.980011</td>\n",
       "      <td>2</td>\n",
       "      <td>0</td>\n",
       "      <td>45</td>\n",
       "      <td>18</td>\n",
       "      <td>66</td>\n",
       "      <td>...</td>\n",
       "      <td>1</td>\n",
       "      <td>NaN</td>\n",
       "      <td>1004</td>\n",
       "      <td>45</td>\n",
       "      <td>NaN</td>\n",
       "      <td>Field &amp; Stream Sportsman 16 Gun Fire Safe</td>\n",
       "      <td>399.980011</td>\n",
       "      <td>0</td>\n",
       "      <td>1/19/2016 18:54</td>\n",
       "      <td>Standard Class</td>\n",
       "    </tr>\n",
       "  </tbody>\n",
       "</table>\n",
       "<p>180519 rows × 52 columns</p>\n",
       "</div>"
      ],
      "text/plain": [
       "        Type  Days for shipping (real)  Days for shipment (scheduled)  \\\n",
       "0          0                         3                              4   \n",
       "1          1                         5                              4   \n",
       "2          2                         4                              4   \n",
       "3          0                         3                              4   \n",
       "4          3                         2                              4   \n",
       "...      ...                       ...                            ...   \n",
       "180514     2                         4                              4   \n",
       "180515     0                         3                              2   \n",
       "180516     1                         5                              4   \n",
       "180517     3                         3                              4   \n",
       "180518     3                         4                              4   \n",
       "\n",
       "        Benefit per order  Sales per customer  Delivery Status  \\\n",
       "0               91.250000          314.640015                0   \n",
       "1             -249.089996          311.359985                1   \n",
       "2             -247.779999          309.720001                2   \n",
       "3               22.860001          304.809998                0   \n",
       "4              134.210007          298.250000                0   \n",
       "...                   ...                 ...              ...   \n",
       "180514          40.000000          399.980011                2   \n",
       "180515        -613.770019          395.980011                1   \n",
       "180516         141.110001          391.980011                1   \n",
       "180517         186.229996          387.980011                0   \n",
       "180518         168.949997          383.980011                2   \n",
       "\n",
       "        Late_delivery_risk  Category Id  Category Name  Customer City  ...  \\\n",
       "0                        0           73             40             66  ...   \n",
       "1                        1           73             40             66  ...   \n",
       "2                        0           73             40            452  ...   \n",
       "3                        0           73             40            285  ...   \n",
       "4                        0           73             40             66  ...   \n",
       "...                    ...          ...            ...            ...  ...   \n",
       "180514                   0           45             18             59  ...   \n",
       "180515                   1           45             18             26  ...   \n",
       "180516                   1           45             18             55  ...   \n",
       "180517                   0           45             18             66  ...   \n",
       "180518                   0           45             18             66  ...   \n",
       "\n",
       "        Order Status Order Zipcode  Product Card Id  Product Category Id  \\\n",
       "0                  0           NaN             1360                   73   \n",
       "1                  3           NaN             1360                   73   \n",
       "2                  4           NaN             1360                   73   \n",
       "3                  0           NaN             1360                   73   \n",
       "4                  1           NaN             1360                   73   \n",
       "...              ...           ...              ...                  ...   \n",
       "180514             4           NaN             1004                   45   \n",
       "180515             0           NaN             1004                   45   \n",
       "180516             3           NaN             1004                   45   \n",
       "180517             1           NaN             1004                   45   \n",
       "180518             1           NaN             1004                   45   \n",
       "\n",
       "        Product Description                               Product Name  \\\n",
       "0                       NaN                               Smart watch    \n",
       "1                       NaN                               Smart watch    \n",
       "2                       NaN                               Smart watch    \n",
       "3                       NaN                               Smart watch    \n",
       "4                       NaN                               Smart watch    \n",
       "...                     ...                                        ...   \n",
       "180514                  NaN  Field & Stream Sportsman 16 Gun Fire Safe   \n",
       "180515                  NaN  Field & Stream Sportsman 16 Gun Fire Safe   \n",
       "180516                  NaN  Field & Stream Sportsman 16 Gun Fire Safe   \n",
       "180517                  NaN  Field & Stream Sportsman 16 Gun Fire Safe   \n",
       "180518                  NaN  Field & Stream Sportsman 16 Gun Fire Safe   \n",
       "\n",
       "        Product Price  Product Status  shipping date (DateOrders)  \\\n",
       "0          327.750000               0              2/3/2018 22:56   \n",
       "1          327.750000               0             1/18/2018 12:27   \n",
       "2          327.750000               0             1/17/2018 12:06   \n",
       "3          327.750000               0             1/16/2018 11:45   \n",
       "4          327.750000               0             1/15/2018 11:24   \n",
       "...               ...             ...                         ...   \n",
       "180514     399.980011               0              1/20/2016 3:40   \n",
       "180515     399.980011               0              1/19/2016 1:34   \n",
       "180516     399.980011               0             1/20/2016 21:00   \n",
       "180517     399.980011               0             1/18/2016 20:18   \n",
       "180518     399.980011               0             1/19/2016 18:54   \n",
       "\n",
       "         Shipping Mode  \n",
       "0       Standard Class  \n",
       "1       Standard Class  \n",
       "2       Standard Class  \n",
       "3       Standard Class  \n",
       "4       Standard Class  \n",
       "...                ...  \n",
       "180514  Standard Class  \n",
       "180515    Second Class  \n",
       "180516  Standard Class  \n",
       "180517  Standard Class  \n",
       "180518  Standard Class  \n",
       "\n",
       "[180519 rows x 52 columns]"
      ]
     },
     "execution_count": 941,
     "metadata": {},
     "output_type": "execute_result"
    }
   ],
   "source": [
    "df.drop('Product Image', axis=1)"
   ]
  },
  {
   "cell_type": "markdown",
   "metadata": {},
   "source": [
    "# column no. 48 - Product Name"
   ]
  },
  {
   "cell_type": "code",
   "execution_count": 942,
   "metadata": {},
   "outputs": [
    {
     "data": {
      "text/plain": [
       "{'Perfect Fitness Perfect Rip Deck': 24515,\n",
       " \"Nike Men's CJ Elite 2 TD Football Cleat\": 22246,\n",
       " \"Nike Men's Dri-FIT Victory Golf Polo\": 21035,\n",
       " \"O'Brien Men's Neoprene Life Vest\": 19298,\n",
       " 'Field & Stream Sportsman 16 Gun Fire Safe': 17325,\n",
       " 'Pelican Sunstream 100 Kayak': 15500,\n",
       " \"Diamondback Women's Serene Classic Comfort Bi\": 13729,\n",
       " \"Nike Men's Free 5.0+ Running Shoe\": 12169,\n",
       " \"Under Armour Girls' Toddler Spine Surge Runni\": 10617,\n",
       " 'Fighting video games': 838,\n",
       " \"Children's heaters\": 652,\n",
       " 'Summer dresses': 650,\n",
       " 'Web Camera': 592,\n",
       " 'Toys ': 529,\n",
       " 'Adult dog supplies': 492,\n",
       " 'Porcelain crafts': 484,\n",
       " 'Lawn mower': 484,\n",
       " 'DVDs ': 483,\n",
       " 'Dell Laptop': 442,\n",
       " 'Rock music': 434,\n",
       " 'Industrial consumer electronics': 431,\n",
       " 'Sports Books ': 405,\n",
       " 'First aid kit': 362,\n",
       " 'Smart watch ': 357,\n",
       " \"Nike Men's Comfort 2 Slide\": 328,\n",
       " 'ENO Atlas Hammock Straps': 323,\n",
       " \"Nike Women's Tempo Shorts\": 318,\n",
       " 'adidas Youth Germany Black/Red Away Match Soc': 314,\n",
       " 'Team Golf St. Louis Cardinals Putter Grip': 313,\n",
       " \"Under Armour Women's Ignite Slide\": 311,\n",
       " \"Hirzl Women's Hybrid Golf Glove\": 311,\n",
       " 'Bridgestone e6 Straight Distance NFL San Dieg': 310,\n",
       " \"LIJA Women's Eyelet Sleeveless Golf Polo\": 309,\n",
       " 'Nike Dri-FIT Crew Sock 6 Pack': 308,\n",
       " 'Bridgestone e6 Straight Distance NFL Carolina': 308,\n",
       " \"Glove It Women's Imperial Golf Glove\": 307,\n",
       " 'Titleist Pro V1x High Numbers Personalized Go': 306,\n",
       " \"adidas Men's F10 Messi TRX FG Soccer Cleat\": 305,\n",
       " \"Columbia Men's PFG Anchor Tough T-Shirt\": 304,\n",
       " \"Top Flite Women's 2014 XL Hybrid\": 303,\n",
       " 'Glove It Imperial Golf Towel': 302,\n",
       " \"TYR Boys' Team Digi Jammer\": 300,\n",
       " 'Glove It Urban Brick Golf Towel': 300,\n",
       " 'Team Golf Tennessee Volunteers Putter Grip': 300,\n",
       " 'Team Golf Texas Longhorns Putter Grip': 299,\n",
       " 'Under Armour Hustle Storm Medium Duffle Bag': 299,\n",
       " \"Hirzl Women's Soffft Flex Golf Glove\": 298,\n",
       " \"Nike Men's Deutschland Weltmeister Winners Bl\": 298,\n",
       " \"Glove It Women's Mod Oval 3-Zip Carry All Gol\": 295,\n",
       " 'Team Golf Pittsburgh Steelers Putter Grip': 295,\n",
       " 'Team Golf San Francisco Giants Putter Grip': 292,\n",
       " 'Titleist Pro V1 High Numbers Personalized Gol': 292,\n",
       " 'Titleist Pro V1x Golf Balls': 291,\n",
       " \"adidas Men's Germany Black Crest Away Tee\": 289,\n",
       " \"Under Armour Women's Micro G Skulpt Running S\": 287,\n",
       " \"Under Armour Women's Ignite PIP VI Slide\": 285,\n",
       " 'Clicgear 8.0 Shoe Brush': 285,\n",
       " 'Clicgear Rovic Cooler Bag': 284,\n",
       " \"Hirzl Men's Hybrid Golf Glove\": 282,\n",
       " 'Team Golf New England Patriots Putter Grip': 281,\n",
       " \"Under Armour Men's Compression EV SL Slide\": 280,\n",
       " \"Under Armour Men's Tech II T-Shirt\": 280,\n",
       " \"Nike Women's Legend V-Neck T-Shirt\": 279,\n",
       " 'Bag Boy Beverage Holder': 279,\n",
       " \"Glove It Women's Mod Oval Golf Glove\": 277,\n",
       " 'CDs of rock': 271,\n",
       " 'Titleist Pro V1x High Numbers Golf Balls': 265,\n",
       " \"adidas Kids' F5 Messi FG Soccer Cleat\": 262,\n",
       " 'Bridgestone e6 Straight Distance NFL Tennesse': 257,\n",
       " \"Under Armour Kids' Mercenary Slide\": 251,\n",
       " \"Men's gala suit\": 208,\n",
       " 'Baby sweater': 207,\n",
       " \"Merrell Men's All Out Flash Trail Running Sho\": 85,\n",
       " 'Garmin Approach S3 Golf GPS Watch': 77,\n",
       " \"LIJA Women's Button Golf Dress\": 76,\n",
       " 'Elevation Training Mask 2.0': 74,\n",
       " \"LIJA Women's Mid-Length Panel Golf Shorts\": 73,\n",
       " \"Merrell Women's Siren Mid Waterproof Hiking B\": 70,\n",
       " \"Merrell Women's Grassbow Sport Hiking Shoe\": 70,\n",
       " \"Nike Women's Free 5.0 TR FIT PRT 4 Training S\": 70,\n",
       " \"Cleveland Golf Women's 588 RTX CB Satin Chrom\": 70,\n",
       " 'Bag Boy M330 Push Cart': 69,\n",
       " \"TaylorMade Women's RBZ SL Rescue\": 68,\n",
       " \"Nike Men's Free TR 5.0 TB Training Shoe\": 68,\n",
       " 'Mio ALPHA Heart Rate Monitor/Sport Watch': 67,\n",
       " \"LIJA Women's Argyle Golf Polo\": 66,\n",
       " \"Brooks Women's Ghost 6 Running Shoe\": 66,\n",
       " 'Cleveland Golf Collegiate My Custom Wedge 588': 65,\n",
       " 'TaylorMade 2014 Purelite Stand Bag': 65,\n",
       " 'adidas Brazuca 2014 Official Match Ball': 65,\n",
       " 'Yakima DoubleDown Ace Hitch Mount 4-Bike Rack': 64,\n",
       " \"Nike Men's Fingertrap Max Training Shoe\": 64,\n",
       " 'TaylorMade White Smoke IN-12 Putter': 63,\n",
       " \"Nike Kids' Grade School KD VI Basketball Shoe\": 63,\n",
       " \"Nike Men's Kobe IX Elite Low Basketball Shoe\": 63,\n",
       " 'Fitbit The One Wireless Activity & Sleep Trac': 62,\n",
       " 'Ogio Race Golf Shoes': 61,\n",
       " 'insta-bed Neverflat Air Mattress': 60,\n",
       " 'Polar FT4 Heart Rate Monitor': 60,\n",
       " 'GolfBuddy VT3 GPS Watch': 59,\n",
       " \"Merrell Women's Grassbow Sport Waterproof Hik\": 58,\n",
       " \"The North Face Women's Recon Backpack\": 57,\n",
       " 'Titleist Small Wheeled Travel Cover': 54,\n",
       " 'Polar Loop Activity Tracker': 54,\n",
       " 'MDGolf Pittsburgh Penguins Putter': 53,\n",
       " 'Pelican Maverick 100X Kayak': 40,\n",
       " 'Total Gym 1400': 36,\n",
       " 'Garmin Approach S4 Golf GPS Watch': 36,\n",
       " 'Garmin Forerunner 910XT GPS Watch': 35,\n",
       " 'Titleist Club Glove Travel Cover': 34,\n",
       " 'GoPro HERO3+ Black Edition Camera': 32,\n",
       " \"Diamondback Boys' Insight 24 Performance Hybr\": 29,\n",
       " \"Diamondback Girls' Clarity 24 Hybrid Bike 201\": 28,\n",
       " 'Stiga Master Series ST3100 Competition Indoor': 27,\n",
       " 'SOLE E35 Elliptical': 15,\n",
       " 'Bushnell Pro X7 Jolt Slope Rangefinder': 11,\n",
       " 'Bowflex SelectTech 1090 Dumbbells': 10,\n",
       " 'SOLE E25 Elliptical': 10}"
      ]
     },
     "execution_count": 942,
     "metadata": {},
     "output_type": "execute_result"
    }
   ],
   "source": [
    "df['Product Name'].value_counts().to_dict()"
   ]
  },
  {
   "cell_type": "code",
   "execution_count": 943,
   "metadata": {},
   "outputs": [
    {
     "data": {
      "text/plain": [
       "118"
      ]
     },
     "execution_count": 943,
     "metadata": {},
     "output_type": "execute_result"
    }
   ],
   "source": [
    "df['Product Name'].nunique()"
   ]
  },
  {
   "cell_type": "code",
   "execution_count": 944,
   "metadata": {},
   "outputs": [
    {
     "data": {
      "text/html": [
       "<div>\n",
       "<style scoped>\n",
       "    .dataframe tbody tr th:only-of-type {\n",
       "        vertical-align: middle;\n",
       "    }\n",
       "\n",
       "    .dataframe tbody tr th {\n",
       "        vertical-align: top;\n",
       "    }\n",
       "\n",
       "    .dataframe thead th {\n",
       "        text-align: right;\n",
       "    }\n",
       "</style>\n",
       "<table border=\"1\" class=\"dataframe\">\n",
       "  <thead>\n",
       "    <tr style=\"text-align: right;\">\n",
       "      <th></th>\n",
       "      <th>Product Name</th>\n",
       "    </tr>\n",
       "  </thead>\n",
       "  <tbody>\n",
       "    <tr>\n",
       "      <th>0</th>\n",
       "      <td>78</td>\n",
       "    </tr>\n",
       "    <tr>\n",
       "      <th>1</th>\n",
       "      <td>78</td>\n",
       "    </tr>\n",
       "    <tr>\n",
       "      <th>2</th>\n",
       "      <td>78</td>\n",
       "    </tr>\n",
       "    <tr>\n",
       "      <th>3</th>\n",
       "      <td>78</td>\n",
       "    </tr>\n",
       "    <tr>\n",
       "      <th>4</th>\n",
       "      <td>78</td>\n",
       "    </tr>\n",
       "    <tr>\n",
       "      <th>...</th>\n",
       "      <td>...</td>\n",
       "    </tr>\n",
       "    <tr>\n",
       "      <th>180514</th>\n",
       "      <td>24</td>\n",
       "    </tr>\n",
       "    <tr>\n",
       "      <th>180515</th>\n",
       "      <td>24</td>\n",
       "    </tr>\n",
       "    <tr>\n",
       "      <th>180516</th>\n",
       "      <td>24</td>\n",
       "    </tr>\n",
       "    <tr>\n",
       "      <th>180517</th>\n",
       "      <td>24</td>\n",
       "    </tr>\n",
       "    <tr>\n",
       "      <th>180518</th>\n",
       "      <td>24</td>\n",
       "    </tr>\n",
       "  </tbody>\n",
       "</table>\n",
       "<p>180519 rows × 1 columns</p>\n",
       "</div>"
      ],
      "text/plain": [
       "        Product Name\n",
       "0                 78\n",
       "1                 78\n",
       "2                 78\n",
       "3                 78\n",
       "4                 78\n",
       "...              ...\n",
       "180514            24\n",
       "180515            24\n",
       "180516            24\n",
       "180517            24\n",
       "180518            24\n",
       "\n",
       "[180519 rows x 1 columns]"
      ]
     },
     "execution_count": 944,
     "metadata": {},
     "output_type": "execute_result"
    }
   ],
   "source": [
    "encoder = LabelEncoder()\n",
    "encoded_categories = encoder.fit_transform(df['Product Name'])\n",
    "df['Product Name'] = encoded_categories\n",
    "df[['Product Name']]"
   ]
  },
  {
   "cell_type": "code",
   "execution_count": null,
   "metadata": {},
   "outputs": [],
   "source": []
  },
  {
   "cell_type": "markdown",
   "metadata": {},
   "source": [
    "# column no. 49 - Product Price"
   ]
  },
  {
   "cell_type": "code",
   "execution_count": 945,
   "metadata": {},
   "outputs": [
    {
     "data": {
      "text/plain": [
       "59.990002      24820\n",
       "129.990005     22372\n",
       "50.000000      21035\n",
       "49.980000      19298\n",
       "399.980011     17325\n",
       "               ...  \n",
       "349.989990        40\n",
       "329.989990        27\n",
       "599.989990        21\n",
       "1999.989990       15\n",
       "999.989990        10\n",
       "Name: Product Price, Length: 75, dtype: int64"
      ]
     },
     "execution_count": 945,
     "metadata": {},
     "output_type": "execute_result"
    }
   ],
   "source": [
    "df['Product Price'].value_counts()"
   ]
  },
  {
   "cell_type": "markdown",
   "metadata": {},
   "source": [
    "# column no. 50 - Product Status"
   ]
  },
  {
   "cell_type": "code",
   "execution_count": 946,
   "metadata": {},
   "outputs": [
    {
     "data": {
      "text/plain": [
       "0    180519\n",
       "Name: Product Status, dtype: int64"
      ]
     },
     "execution_count": 946,
     "metadata": {},
     "output_type": "execute_result"
    }
   ],
   "source": [
    "df['Product Status'].value_counts()"
   ]
  },
  {
   "cell_type": "markdown",
   "metadata": {},
   "source": [
    "# column no. 51 - shipping date (DateOrders)"
   ]
  },
  {
   "cell_type": "code",
   "execution_count": 947,
   "metadata": {},
   "outputs": [
    {
     "data": {
      "text/plain": [
       "{'2/12/2016 18:52': 10,\n",
       " '3/31/2017 19:52': 10,\n",
       " '8/7/2016 20:33': 10,\n",
       " '8/1/2015 18:37': 10,\n",
       " '10/8/2016 23:37': 10,\n",
       " '7/5/2017 10:59': 10,\n",
       " '2/20/2015 23:03': 10,\n",
       " '7/9/2017 21:50': 10,\n",
       " '10/9/2015 7:29': 10,\n",
       " '1/4/2017 17:11': 10,\n",
       " '5/21/2015 15:55': 10,\n",
       " '2/11/2017 3:28': 10,\n",
       " '4/24/2016 2:18': 10,\n",
       " '5/9/2015 18:02': 10,\n",
       " '7/15/2017 10:58': 10,\n",
       " '7/19/2016 5:41': 10,\n",
       " '4/17/2015 22:16': 10,\n",
       " '10/19/2015 1:52': 10,\n",
       " '11/27/2015 15:39': 10,\n",
       " '9/24/2015 23:48': 10,\n",
       " '2/23/2016 0:28': 10,\n",
       " '9/10/2015 20:19': 10,\n",
       " '8/22/2017 2:30': 10,\n",
       " '4/3/2016 9:10': 10,\n",
       " '2/20/2016 11:09': 10,\n",
       " '4/14/2017 4:26': 10,\n",
       " '1/5/2016 5:58': 10,\n",
       " '3/5/2015 15:51': 10,\n",
       " '12/24/2016 7:34': 10,\n",
       " '10/30/2016 3:16': 10,\n",
       " '12/8/2015 17:34': 10,\n",
       " '5/28/2016 9:58': 10,\n",
       " '3/16/2017 5:00': 10,\n",
       " '6/5/2017 12:25': 10,\n",
       " '9/27/2015 20:28': 10,\n",
       " '10/25/2016 23:46': 10,\n",
       " '3/9/2017 20:36': 10,\n",
       " '5/20/2015 6:17': 10,\n",
       " '5/27/2015 6:48': 10,\n",
       " '3/23/2017 17:47': 10,\n",
       " '8/25/2015 13:41': 10,\n",
       " '5/21/2015 10:19': 10,\n",
       " '2/1/2015 2:35': 10,\n",
       " '7/22/2015 16:32': 10,\n",
       " '4/24/2017 3:01': 10,\n",
       " '5/21/2015 15:34': 10,\n",
       " '3/12/2015 15:40': 10,\n",
       " '9/1/2017 0:44': 10,\n",
       " '12/9/2015 9:41': 10,\n",
       " '11/15/2016 13:45': 10,\n",
       " '8/31/2015 12:58': 10,\n",
       " '5/31/2015 10:39': 10,\n",
       " '10/16/2015 11:09': 10,\n",
       " '3/21/2017 14:59': 10,\n",
       " '10/6/2016 16:58': 10,\n",
       " '9/10/2015 19:58': 10,\n",
       " '3/13/2017 3:26': 10,\n",
       " '11/23/2016 9:11': 10,\n",
       " '9/30/2016 13:49': 10,\n",
       " '11/29/2015 16:21': 10,\n",
       " '9/23/2016 21:01': 10,\n",
       " '7/16/2015 10:14': 10,\n",
       " '12/16/2015 2:50': 10,\n",
       " '6/2/2017 9:27': 10,\n",
       " '9/11/2016 4:13': 10,\n",
       " '7/9/2015 7:58': 10,\n",
       " '11/6/2015 23:55': 10,\n",
       " '3/16/2016 3:14': 10,\n",
       " '12/26/2016 6:52': 10,\n",
       " '2/26/2017 23:36': 10,\n",
       " '5/8/2015 2:06': 10,\n",
       " '11/24/2015 3:34': 10,\n",
       " '3/13/2016 5:10': 10,\n",
       " '2/5/2016 15:12': 10,\n",
       " '4/27/2016 9:08': 10,\n",
       " '1/22/2017 7:21': 10,\n",
       " '1/14/2016 15:56': 10,\n",
       " '6/23/2017 4:20': 10,\n",
       " '9/16/2015 16:27': 10,\n",
       " '1/22/2017 5:15': 10,\n",
       " '2/20/2017 19:03': 9,\n",
       " '9/7/2015 7:53': 9,\n",
       " '8/13/2015 10:33': 9,\n",
       " '12/12/2016 3:02': 9,\n",
       " '4/9/2015 23:20': 9,\n",
       " '9/2/2016 13:30': 9,\n",
       " '8/6/2015 19:08': 9,\n",
       " '9/5/2016 6:19': 9,\n",
       " '7/23/2016 9:11': 9,\n",
       " '8/18/2015 11:46': 9,\n",
       " '1/22/2015 11:21': 9,\n",
       " '8/3/2017 20:55': 9,\n",
       " '11/23/2015 20:34': 9,\n",
       " '4/20/2017 9:41': 9,\n",
       " '7/25/2015 4:26': 9,\n",
       " '7/27/2015 22:39': 9,\n",
       " '5/3/2015 8:14': 9,\n",
       " '5/3/2016 5:37': 9,\n",
       " '9/26/2017 5:26': 9,\n",
       " '5/20/2017 2:38': 9,\n",
       " '5/13/2016 12:37': 9,\n",
       " '5/11/2015 7:10': 9,\n",
       " '1/17/2015 6:59': 9,\n",
       " '8/13/2017 13:33': 9,\n",
       " '12/31/2016 8:05': 9,\n",
       " '6/23/2016 13:05': 9,\n",
       " '4/28/2016 20:31': 9,\n",
       " '1/9/2016 20:19': 9,\n",
       " '5/5/2017 10:11': 9,\n",
       " '2/13/2015 5:01': 9,\n",
       " '4/14/2016 11:26': 9,\n",
       " '11/24/2015 3:13': 9,\n",
       " '12/22/2015 10:53': 9,\n",
       " '9/23/2017 10:31': 9,\n",
       " '4/29/2015 0:53': 9,\n",
       " '9/27/2016 23:06': 9,\n",
       " '12/12/2016 5:08': 9,\n",
       " '11/11/2015 23:02': 9,\n",
       " '5/16/2015 22:03': 9,\n",
       " '5/20/2015 10:08': 9,\n",
       " '9/16/2016 8:14': 9,\n",
       " '5/3/2017 2:08': 9,\n",
       " '12/20/2016 12:50': 9,\n",
       " '5/19/2016 11:54': 9,\n",
       " '9/27/2017 5:36': 9,\n",
       " '3/25/2015 7:04': 9,\n",
       " '9/26/2016 12:04': 9,\n",
       " '7/9/2015 13:13': 9,\n",
       " '5/18/2016 11:44': 9,\n",
       " '7/27/2015 23:00': 9,\n",
       " '12/7/2015 15:17': 9,\n",
       " '5/16/2016 22:57': 9,\n",
       " '8/1/2016 7:15': 9,\n",
       " '8/4/2016 7:04': 9,\n",
       " '1/3/2017 6:09': 9,\n",
       " '4/14/2016 21:35': 9,\n",
       " '6/12/2015 7:50': 9,\n",
       " '5/17/2015 23:59': 9,\n",
       " '3/6/2017 7:07': 9,\n",
       " '1/8/2016 13:08': 9,\n",
       " '6/24/2015 17:37': 9,\n",
       " '8/28/2016 5:38': 9,\n",
       " '3/7/2016 12:32': 9,\n",
       " '5/3/2017 9:29': 9,\n",
       " '2/14/2017 1:53': 9,\n",
       " '6/4/2015 16:15': 9,\n",
       " '3/28/2015 20:33': 9,\n",
       " '7/24/2016 4:48': 9,\n",
       " '1/11/2016 2:27': 9,\n",
       " '2/18/2015 6:14': 9,\n",
       " '12/26/2015 1:04': 9,\n",
       " '8/17/2015 5:59': 9,\n",
       " '1/11/2017 8:36': 9,\n",
       " '2/5/2016 23:58': 9,\n",
       " '3/21/2017 4:07': 9,\n",
       " '10/29/2015 12:22': 9,\n",
       " '6/3/2015 22:23': 9,\n",
       " '8/5/2016 21:15': 9,\n",
       " '5/6/2015 5:57': 9,\n",
       " '12/28/2016 13:31': 9,\n",
       " '5/1/2015 8:56': 9,\n",
       " '2/26/2016 10:48': 9,\n",
       " '2/3/2015 6:47': 9,\n",
       " '6/19/2016 7:08': 9,\n",
       " '6/12/2016 8:43': 9,\n",
       " '11/11/2015 16:01': 9,\n",
       " '7/30/2017 4:28': 9,\n",
       " '4/23/2016 5:38': 9,\n",
       " '6/6/2016 16:26': 9,\n",
       " '12/19/2016 12:18': 9,\n",
       " '6/27/2016 15:11': 9,\n",
       " '5/24/2016 13:07': 9,\n",
       " '9/2/2016 1:15': 9,\n",
       " '3/6/2016 20:25': 9,\n",
       " '9/10/2016 7:11': 9,\n",
       " '10/26/2016 1:31': 9,\n",
       " '2/22/2015 6:35': 9,\n",
       " '1/12/2016 18:44': 9,\n",
       " '4/10/2015 11:36': 9,\n",
       " '8/4/2015 7:35': 9,\n",
       " '10/19/2015 7:28': 9,\n",
       " '5/5/2017 4:56': 9,\n",
       " '5/23/2017 0:21': 9,\n",
       " '6/4/2015 3:59': 9,\n",
       " '12/24/2015 0:01': 9,\n",
       " '6/4/2015 17:39': 9,\n",
       " '2/5/2016 15:33': 9,\n",
       " '10/27/2016 19:34': 9,\n",
       " '4/28/2015 8:46': 9,\n",
       " '1/18/2015 12:46': 9,\n",
       " '10/21/2015 15:32': 9,\n",
       " '8/27/2015 21:44': 9,\n",
       " '9/18/2017 15:15': 9,\n",
       " '5/8/2016 4:23': 9,\n",
       " '3/15/2017 6:35': 9,\n",
       " '11/9/2016 7:06': 9,\n",
       " '9/24/2016 22:56': 9,\n",
       " '1/29/2015 4:10': 9,\n",
       " '4/25/2017 10:12': 9,\n",
       " '5/18/2015 2:05': 9,\n",
       " '5/9/2016 10:31': 9,\n",
       " '6/6/2017 16:48': 9,\n",
       " '2/25/2017 2:24': 9,\n",
       " '2/20/2015 14:17': 9,\n",
       " '10/12/2016 9:57': 9,\n",
       " '12/27/2015 13:51': 9,\n",
       " '8/15/2015 13:42': 9,\n",
       " '4/3/2015 16:41': 9,\n",
       " '4/3/2015 17:02': 9,\n",
       " '8/10/2015 15:59': 8,\n",
       " '4/6/2016 5:08': 8,\n",
       " '5/26/2015 16:26': 8,\n",
       " '9/12/2017 5:06': 8,\n",
       " '4/28/2015 19:38': 8,\n",
       " '9/8/2017 11:25': 8,\n",
       " '7/17/2015 20:55': 8,\n",
       " '5/27/2015 18:43': 8,\n",
       " '5/31/2015 3:38': 8,\n",
       " '3/26/2016 15:29': 8,\n",
       " '6/14/2016 13:37': 8,\n",
       " '5/15/2017 6:40': 8,\n",
       " '4/13/2016 10:33': 8,\n",
       " '9/25/2015 17:40': 8,\n",
       " '7/19/2015 4:27': 8,\n",
       " '11/19/2015 21:37': 8,\n",
       " '1/2/2016 13:09': 8,\n",
       " '4/23/2016 10:53': 8,\n",
       " '7/23/2017 4:18': 8,\n",
       " '3/13/2017 3:47': 8,\n",
       " '8/8/2015 22:17': 8,\n",
       " '1/16/2015 9:58': 8,\n",
       " '5/23/2015 13:07': 8,\n",
       " '9/29/2015 8:54': 8,\n",
       " '2/11/2015 13:05': 8,\n",
       " '1/23/2015 18:32': 8,\n",
       " '8/13/2015 10:54': 8,\n",
       " '10/14/2015 2:45': 8,\n",
       " '5/15/2015 10:40': 8,\n",
       " '2/4/2016 23:47': 8,\n",
       " '9/1/2015 1:35': 8,\n",
       " '1/16/2017 23:29': 8,\n",
       " '6/6/2016 16:05': 8,\n",
       " '2/16/2016 15:43': 8,\n",
       " '6/11/2015 7:18': 8,\n",
       " '5/8/2016 4:44': 8,\n",
       " '10/10/2016 12:24': 8,\n",
       " '9/22/2015 17:51': 8,\n",
       " '6/9/2016 22:55': 8,\n",
       " '1/28/2015 23:15': 8,\n",
       " '9/30/2015 14:41': 8,\n",
       " '8/13/2017 12:09': 8,\n",
       " '10/26/2016 1:10': 8,\n",
       " '1/1/2016 19:38': 8,\n",
       " '9/28/2015 18:53': 8,\n",
       " '9/13/2015 18:23': 8,\n",
       " '9/27/2016 5:35': 8,\n",
       " '8/24/2016 5:17': 8,\n",
       " '4/6/2017 2:21': 8,\n",
       " '8/8/2015 18:26': 8,\n",
       " '6/19/2015 1:20': 8,\n",
       " '9/20/2015 4:32': 8,\n",
       " '11/26/2015 18:38': 8,\n",
       " '12/8/2016 4:47': 8,\n",
       " '6/12/2015 9:35': 8,\n",
       " '2/21/2016 16:35': 8,\n",
       " '5/20/2017 2:17': 8,\n",
       " '10/18/2016 2:35': 8,\n",
       " '11/10/2015 20:24': 8,\n",
       " '4/25/2015 14:12': 8,\n",
       " '10/27/2016 10:27': 8,\n",
       " '5/31/2016 9:26': 8,\n",
       " '5/29/2017 1:45': 8,\n",
       " '6/30/2017 3:06': 8,\n",
       " '4/14/2015 18:57': 8,\n",
       " '7/17/2017 15:10': 8,\n",
       " '8/5/2015 10:12': 8,\n",
       " '4/25/2015 16:18': 8,\n",
       " '5/17/2017 20:20': 8,\n",
       " '2/7/2015 10:38': 8,\n",
       " '6/19/2016 16:14': 8,\n",
       " '1/23/2016 20:39': 8,\n",
       " '4/29/2016 10:32': 8,\n",
       " '7/7/2016 2:54': 8,\n",
       " '4/19/2015 19:49': 8,\n",
       " '10/5/2015 0:08': 8,\n",
       " '6/24/2015 12:43': 8,\n",
       " '5/2/2015 2:06': 8,\n",
       " '1/27/2017 9:58': 8,\n",
       " '3/14/2017 14:28': 8,\n",
       " '8/21/2015 18:35': 8,\n",
       " '1/17/2016 17:51': 8,\n",
       " '1/5/2016 15:04': 8,\n",
       " '12/24/2015 13:41': 8,\n",
       " '10/17/2015 20:05': 8,\n",
       " '3/10/2016 17:36': 8,\n",
       " '9/23/2015 9:37': 8,\n",
       " '2/18/2017 23:15': 8,\n",
       " '8/24/2016 4:56': 8,\n",
       " '1/9/2015 20:18': 8,\n",
       " '5/6/2015 18:13': 8,\n",
       " '4/6/2016 5:29': 8,\n",
       " '3/27/2015 20:22': 8,\n",
       " '7/1/2017 8:53': 8,\n",
       " '1/29/2016 13:17': 8,\n",
       " '6/2/2016 9:05': 8,\n",
       " '2/9/2016 14:09': 8,\n",
       " '10/4/2015 4:31': 8,\n",
       " '5/4/2015 15:46': 8,\n",
       " '2/18/2015 7:38': 8,\n",
       " '12/25/2016 4:56': 8,\n",
       " '8/24/2015 9:18': 8,\n",
       " '10/10/2015 22:01': 8,\n",
       " '12/8/2016 11:48': 8,\n",
       " '10/5/2015 14:09': 8,\n",
       " '4/19/2015 14:55': 8,\n",
       " '9/1/2016 11:14': 8,\n",
       " '7/9/2016 1:51': 8,\n",
       " '2/15/2017 11:10': 8,\n",
       " '7/19/2015 21:58': 8,\n",
       " '6/29/2017 7:50': 8,\n",
       " '2/9/2016 1:32': 8,\n",
       " '1/23/2015 13:17': 8,\n",
       " '8/30/2017 11:57': 8,\n",
       " '6/12/2015 1:10': 8,\n",
       " '9/18/2016 13:08': 8,\n",
       " '3/31/2015 1:06': 8,\n",
       " '12/6/2016 1:38': 8,\n",
       " '8/26/2016 6:20': 8,\n",
       " '3/29/2015 17:55': 8,\n",
       " '3/29/2016 14:57': 8,\n",
       " '10/22/2016 11:20': 8,\n",
       " '11/30/2016 12:51': 8,\n",
       " '2/5/2017 11:11': 8,\n",
       " '3/23/2016 18:49': 8,\n",
       " '8/10/2015 16:20': 8,\n",
       " '2/29/2016 8:31': 8,\n",
       " '5/23/2015 23:37': 8,\n",
       " '9/14/2017 11:03': 8,\n",
       " '2/21/2017 17:49': 8,\n",
       " '2/10/2016 10:49': 8,\n",
       " '6/7/2017 8:13': 8,\n",
       " '2/5/2017 21:42': 8,\n",
       " '7/12/2016 2:01': 8,\n",
       " '8/20/2016 15:06': 8,\n",
       " '5/16/2016 22:36': 8,\n",
       " '1/16/2015 14:52': 8,\n",
       " '6/11/2016 13:48': 8,\n",
       " '1/21/2015 17:29': 8,\n",
       " '9/20/2016 15:56': 8,\n",
       " '8/31/2015 11:34': 8,\n",
       " '11/3/2016 14:28': 8,\n",
       " '8/9/2016 4:05': 8,\n",
       " '8/18/2015 15:16': 8,\n",
       " '7/14/2016 18:50': 8,\n",
       " '5/19/2017 14:01': 8,\n",
       " '8/17/2015 5:38': 8,\n",
       " '2/28/2015 2:22': 8,\n",
       " '7/24/2015 7:04': 8,\n",
       " '10/13/2016 19:14': 8,\n",
       " '4/8/2017 10:03': 8,\n",
       " '6/16/2016 17:49': 8,\n",
       " '4/28/2016 10:00': 8,\n",
       " '5/25/2016 15:03': 8,\n",
       " '12/6/2016 10:24': 8,\n",
       " '1/23/2016 1:23': 8,\n",
       " '9/16/2016 11:44': 8,\n",
       " '4/29/2017 12:18': 8,\n",
       " '5/10/2015 23:49': 8,\n",
       " '9/21/2016 3:51': 8,\n",
       " '1/22/2017 5:36': 8,\n",
       " '4/18/2015 12:38': 8,\n",
       " '8/5/2016 11:06': 8,\n",
       " '9/21/2017 4:34': 8,\n",
       " '11/4/2015 22:52': 8,\n",
       " '2/16/2017 18:42': 8,\n",
       " '4/14/2015 7:02': 8,\n",
       " '6/9/2016 9:15': 8,\n",
       " '1/30/2016 10:39': 8,\n",
       " '3/20/2017 23:13': 8,\n",
       " '9/18/2016 5:47': 8,\n",
       " '9/4/2016 11:03': 8,\n",
       " '1/12/2017 10:31': 8,\n",
       " '2/20/2015 22:42': 8,\n",
       " '11/21/2016 8:08': 8,\n",
       " '1/14/2015 0:09': 8,\n",
       " '7/2/2017 9:24': 8,\n",
       " '2/17/2016 23:15': 8,\n",
       " '3/27/2017 7:16': 8,\n",
       " '12/17/2016 2:09': 8,\n",
       " '1/16/2016 1:34': 8,\n",
       " '11/10/2016 14:38': 8,\n",
       " '12/20/2016 12:29': 8,\n",
       " '8/14/2017 2:10': 8,\n",
       " '7/21/2016 8:08': 8,\n",
       " '7/26/2016 2:21': 8,\n",
       " '3/26/2016 1:07': 8,\n",
       " '2/3/2017 4:32': 8,\n",
       " '12/5/2016 15:29': 8,\n",
       " '12/27/2016 13:00': 8,\n",
       " '7/16/2016 19:53': 8,\n",
       " '7/14/2017 20:57': 8,\n",
       " '12/24/2016 16:20': 8,\n",
       " '11/30/2015 4:37': 8,\n",
       " '8/15/2015 3:11': 8,\n",
       " '8/22/2016 19:39': 8,\n",
       " '10/16/2016 4:41': 8,\n",
       " '10/25/2016 18:10': 8,\n",
       " '4/30/2016 23:19': 8,\n",
       " '7/30/2016 11:27': 8,\n",
       " '5/11/2017 15:05': 8,\n",
       " '7/9/2017 2:13': 8,\n",
       " '8/10/2017 17:35': 8,\n",
       " '7/14/2017 6:35': 8,\n",
       " '10/20/2016 8:32': 8,\n",
       " '10/22/2016 23:36': 8,\n",
       " '7/27/2016 15:08': 8,\n",
       " '2/12/2015 23:46': 8,\n",
       " '8/13/2017 6:54': 8,\n",
       " '8/9/2016 16:42': 8,\n",
       " '5/24/2015 15:23': 8,\n",
       " '8/28/2017 10:54': 8,\n",
       " '12/13/2016 19:40': 8,\n",
       " '6/30/2015 20:46': 8,\n",
       " '8/15/2017 16:21': 8,\n",
       " '4/3/2016 23:11': 8,\n",
       " '2/23/2015 1:30': 8,\n",
       " '10/4/2015 4:52': 8,\n",
       " '7/30/2017 4:49': 8,\n",
       " '2/21/2017 12:13': 8,\n",
       " '8/9/2015 12:18': 8,\n",
       " '9/29/2017 15:46': 8,\n",
       " '2/15/2015 6:04': 7,\n",
       " '1/7/2017 6:30': 7,\n",
       " '2/26/2015 18:50': 7,\n",
       " '3/30/2015 6:11': 7,\n",
       " '9/27/2016 21:21': 7,\n",
       " '6/27/2015 16:02': 7,\n",
       " '7/14/2015 3:56': 7,\n",
       " '7/14/2017 22:42': 7,\n",
       " '11/19/2016 3:35': 7,\n",
       " '4/29/2016 15:47': 7,\n",
       " '12/28/2015 10:32': 7,\n",
       " '11/29/2016 13:44': 7,\n",
       " '1/5/2017 22:58': 7,\n",
       " '8/21/2017 3:44': 7,\n",
       " '4/19/2016 1:26': 7,\n",
       " '8/1/2016 1:59': 7,\n",
       " '4/18/2015 12:17': 7,\n",
       " '8/5/2016 7:35': 7,\n",
       " '4/16/2017 4:05': 7,\n",
       " '6/4/2017 10:30': 7,\n",
       " '1/29/2016 15:23': 7,\n",
       " '12/30/2015 18:35': 7,\n",
       " '6/3/2016 18:01': 7,\n",
       " '4/13/2016 19:19': 7,\n",
       " '3/15/2017 23:45': 7,\n",
       " '4/25/2016 8:05': 7,\n",
       " '12/12/2016 3:23': 7,\n",
       " '2/24/2015 0:37': 7,\n",
       " '10/24/2015 1:20': 7,\n",
       " '5/23/2015 4:21': 7,\n",
       " '6/8/2015 23:15': 7,\n",
       " '4/10/2017 11:27': 7,\n",
       " '7/24/2015 17:35': 7,\n",
       " '12/8/2015 3:33': 7,\n",
       " '4/9/2015 23:41': 7,\n",
       " '10/17/2015 11:41': 7,\n",
       " '1/27/2015 4:52': 7,\n",
       " '1/25/2017 21:11': 7,\n",
       " '6/11/2016 15:12': 7,\n",
       " '5/25/2015 0:09': 7,\n",
       " '6/17/2017 4:42': 7,\n",
       " '8/7/2017 5:09': 7,\n",
       " '9/19/2017 17:32': 7,\n",
       " '7/21/2016 22:30': 7,\n",
       " '3/10/2017 9:13': 7,\n",
       " '9/28/2016 6:07': 7,\n",
       " '3/7/2016 21:17': 7,\n",
       " '6/3/2015 22:44': 7,\n",
       " '5/28/2015 19:35': 7,\n",
       " '3/6/2017 1:52': 7,\n",
       " '2/25/2017 5:33': 7,\n",
       " '3/14/2015 7:57': 7,\n",
       " '8/21/2017 14:35': 7,\n",
       " '9/4/2017 6:10': 7,\n",
       " '10/4/2015 20:17': 7,\n",
       " '7/30/2016 21:58': 7,\n",
       " '12/14/2015 8:27': 7,\n",
       " '9/15/2017 3:10': 7,\n",
       " '8/24/2015 2:39': 7,\n",
       " '3/20/2016 11:59': 7,\n",
       " '5/16/2017 19:48': 7,\n",
       " '2/19/2017 9:25': 7,\n",
       " '6/9/2016 23:16': 7,\n",
       " '8/4/2015 13:11': 7,\n",
       " '8/29/2017 23:41': 7,\n",
       " '11/11/2016 16:55': 7,\n",
       " '4/9/2015 21:35': 7,\n",
       " '11/11/2016 4:39': 7,\n",
       " '5/2/2017 13:52': 7,\n",
       " '6/24/2016 22:01': 7,\n",
       " '1/22/2017 8:45': 7,\n",
       " '11/1/2016 23:35': 7,\n",
       " '8/5/2016 17:45': 7,\n",
       " '12/24/2016 20:11': 7,\n",
       " '8/9/2015 15:48': 7,\n",
       " '4/1/2015 17:23': 7,\n",
       " '3/24/2015 0:56': 7,\n",
       " '7/27/2017 17:15': 7,\n",
       " '3/22/2017 11:39': 7,\n",
       " '6/27/2016 18:20': 7,\n",
       " '1/20/2017 4:12': 7,\n",
       " '8/19/2016 14:35': 7,\n",
       " '4/26/2015 0:43': 7,\n",
       " '8/30/2015 4:02': 7,\n",
       " '3/7/2017 4:08': 7,\n",
       " '4/19/2017 14:25': 7,\n",
       " '7/6/2016 7:38': 7,\n",
       " '5/16/2017 18:03': 7,\n",
       " '2/4/2015 18:10': 7,\n",
       " '4/8/2015 9:09': 7,\n",
       " '6/5/2015 23:47': 7,\n",
       " '5/27/2017 15:04': 7,\n",
       " '1/12/2015 4:22': 7,\n",
       " '6/25/2016 0:07': 7,\n",
       " '10/17/2016 10:28': 7,\n",
       " '5/18/2017 17:00': 7,\n",
       " '9/7/2016 7:01': 7,\n",
       " '8/18/2016 0:23': 7,\n",
       " '11/26/2015 16:32': 7,\n",
       " '10/21/2016 2:24': 7,\n",
       " '5/3/2017 2:29': 7,\n",
       " '5/31/2015 10:18': 7,\n",
       " '8/18/2016 14:03': 7,\n",
       " '2/4/2017 1:54': 7,\n",
       " '11/11/2016 22:10': 7,\n",
       " '7/9/2017 23:14': 7,\n",
       " '6/1/2016 15:13': 7,\n",
       " '1/6/2016 10:20': 7,\n",
       " '8/8/2015 21:56': 7,\n",
       " '12/31/2015 1:56': 7,\n",
       " '8/4/2015 9:41': 7,\n",
       " '8/24/2015 18:25': 7,\n",
       " '9/18/2017 7:54': 7,\n",
       " '6/2/2015 4:41': 7,\n",
       " '8/17/2015 4:14': 7,\n",
       " '9/22/2017 17:21': 7,\n",
       " '1/15/2017 20:51': 7,\n",
       " '7/3/2015 22:41': 7,\n",
       " '3/23/2016 10:24': 7,\n",
       " '4/19/2015 0:54': 7,\n",
       " '11/30/2015 8:07': 7,\n",
       " '5/20/2015 18:33': 7,\n",
       " '6/10/2017 20:18': 7,\n",
       " '8/15/2015 1:05': 7,\n",
       " '10/27/2016 20:58': 7,\n",
       " '5/2/2016 11:45': 7,\n",
       " '8/12/2017 23:53': 7,\n",
       " '4/17/2016 7:45': 7,\n",
       " '4/13/2017 9:10': 7,\n",
       " '1/18/2016 11:22': 7,\n",
       " '9/7/2017 20:00': 7,\n",
       " '3/26/2017 3:14': 7,\n",
       " '3/30/2016 1:28': 7,\n",
       " '11/14/2016 0:58': 7,\n",
       " '11/6/2015 9:33': 7,\n",
       " '6/22/2015 8:10': 7,\n",
       " '11/3/2016 8:52': 7,\n",
       " '12/30/2015 20:20': 7,\n",
       " '8/19/2016 14:56': 7,\n",
       " '9/2/2016 8:15': 7,\n",
       " '8/18/2015 20:31': 7,\n",
       " '12/22/2015 5:38': 7,\n",
       " '9/9/2015 9:17': 7,\n",
       " '3/17/2016 22:41': 7,\n",
       " '7/12/2015 9:32': 7,\n",
       " '10/3/2015 7:51': 7,\n",
       " '7/14/2016 18:29': 7,\n",
       " '3/26/2015 4:05': 7,\n",
       " '6/5/2016 6:48': 7,\n",
       " '4/21/2016 13:00': 7,\n",
       " '8/31/2017 5:49': 7,\n",
       " '7/10/2017 20:15': 7,\n",
       " '4/21/2015 22:58': 7,\n",
       " '11/6/2015 9:54': 7,\n",
       " '10/17/2015 9:56': 7,\n",
       " '1/29/2015 20:17': 7,\n",
       " '10/14/2015 1:21': 7,\n",
       " '9/4/2016 10:42': 7,\n",
       " '1/23/2015 22:02': 7,\n",
       " '3/4/2015 1:19': 7,\n",
       " '11/22/2015 0:25': 7,\n",
       " '6/20/2015 14:07': 7,\n",
       " '12/21/2016 22:07': 7,\n",
       " '1/28/2017 1:44': 7,\n",
       " '2/4/2015 23:25': 7,\n",
       " '6/23/2016 21:50': 7,\n",
       " '9/18/2017 8:15': 7,\n",
       " '5/7/2015 17:20': 7,\n",
       " '2/7/2015 2:13': 7,\n",
       " '2/4/2017 1:33': 7,\n",
       " '10/14/2015 1:00': 7,\n",
       " '12/6/2016 15:39': 7,\n",
       " '9/4/2016 4:03': 7,\n",
       " '4/17/2015 18:46': 7,\n",
       " '1/19/2017 3:41': 7,\n",
       " '7/21/2015 10:45': 7,\n",
       " '3/7/2015 20:03': 7,\n",
       " '9/26/2016 3:19': 7,\n",
       " '4/5/2017 11:59': 7,\n",
       " '6/2/2017 12:57': 7,\n",
       " '7/4/2017 5:12': 7,\n",
       " '1/27/2015 10:28': 7,\n",
       " '5/23/2017 9:28': 7,\n",
       " '7/23/2016 21:48': 7,\n",
       " '5/18/2016 11:23': 7,\n",
       " '1/18/2015 15:55': 7,\n",
       " '11/2/2015 4:18': 7,\n",
       " '6/15/2017 19:46': 7,\n",
       " '7/15/2016 6:45': 7,\n",
       " '9/8/2016 20:09': 7,\n",
       " '1/25/2016 9:47': 7,\n",
       " '10/28/2016 2:34': 7,\n",
       " '6/15/2015 15:00': 7,\n",
       " '11/22/2015 11:17': 7,\n",
       " '2/14/2016 20:16': 7,\n",
       " '6/11/2015 19:55': 7,\n",
       " '4/18/2017 13:53': 7,\n",
       " '1/9/2015 1:02': 7,\n",
       " '9/9/2015 7:11': 7,\n",
       " '8/9/2015 11:57': 7,\n",
       " '4/18/2015 16:08': 7,\n",
       " '6/7/2016 13:27': 7,\n",
       " '4/27/2017 11:15': 7,\n",
       " '5/4/2017 14:55': 7,\n",
       " '5/10/2016 18:03': 7,\n",
       " '10/18/2015 22:22': 7,\n",
       " '5/13/2016 12:16': 7,\n",
       " '7/4/2015 17:57': 7,\n",
       " '12/31/2016 18:15': 7,\n",
       " '10/3/2016 19:15': 7,\n",
       " '1/8/2016 4:02': 7,\n",
       " '9/22/2016 13:29': 7,\n",
       " '8/15/2017 14:36': 7,\n",
       " '12/1/2015 10:44': 7,\n",
       " '8/11/2016 19:30': 7,\n",
       " '12/15/2016 3:12': 7,\n",
       " '7/17/2017 20:25': 7,\n",
       " '9/18/2015 11:54': 7,\n",
       " '5/5/2016 8:25': 7,\n",
       " '4/27/2016 11:14': 7,\n",
       " '6/6/2017 16:27': 7,\n",
       " '9/11/2017 8:05': 7,\n",
       " '10/9/2015 17:39': 7,\n",
       " '3/22/2015 17:45': 7,\n",
       " '8/24/2015 7:33': 7,\n",
       " '11/23/2016 5:20': 7,\n",
       " '4/24/2015 17:32': 7,\n",
       " '11/18/2016 7:58': 7,\n",
       " '1/30/2017 13:18': 7,\n",
       " '5/24/2015 13:38': 7,\n",
       " '11/27/2015 15:18': 7,\n",
       " '3/13/2015 23:12': 7,\n",
       " '12/11/2016 15:07': 7,\n",
       " '1/16/2016 13:29': 7,\n",
       " '12/3/2015 23:42': 7,\n",
       " '6/2/2017 9:06': 7,\n",
       " '10/2/2017 15:35': 7,\n",
       " '8/20/2017 0:03': 7,\n",
       " '3/28/2017 6:02': 7,\n",
       " '2/17/2015 0:27': 7,\n",
       " '2/19/2016 22:53': 7,\n",
       " '1/5/2016 6:19': 7,\n",
       " '12/7/2016 17:56': 7,\n",
       " '9/1/2015 1:14': 7,\n",
       " '12/4/2016 14:36': 7,\n",
       " '6/5/2017 21:11': 7,\n",
       " '2/16/2016 21:19': 7,\n",
       " '12/18/2015 2:08': 7,\n",
       " '3/11/2016 9:22': 7,\n",
       " '4/27/2016 21:24': 7,\n",
       " '9/12/2015 12:15': 7,\n",
       " '5/16/2015 12:57': 7,\n",
       " '12/9/2016 11:58': 7,\n",
       " '2/9/2017 13:17': 7,\n",
       " '7/13/2016 12:42': 7,\n",
       " '12/29/2016 0:02': 7,\n",
       " '4/19/2016 17:33': 7,\n",
       " '9/29/2017 22:25': 7,\n",
       " '10/25/2015 15:52': 7,\n",
       " '2/20/2016 9:24': 7,\n",
       " '4/17/2016 11:15': 7,\n",
       " '8/22/2017 13:01': 7,\n",
       " '1/23/2015 18:53': 7,\n",
       " '6/30/2016 19:54': 7,\n",
       " '1/29/2016 17:08': 7,\n",
       " '6/4/2017 1:23': 7,\n",
       " '4/25/2016 8:26': 7,\n",
       " '6/5/2016 8:54': 7,\n",
       " '12/4/2016 11:06': 7,\n",
       " '5/14/2017 23:40': 7,\n",
       " '9/9/2017 7:02': 7,\n",
       " '4/5/2015 21:14': 7,\n",
       " '7/15/2015 20:13': 7,\n",
       " '11/28/2016 21:58': 7,\n",
       " '10/9/2015 19:24': 7,\n",
       " '7/20/2016 21:59': 7,\n",
       " '4/4/2017 4:27': 7,\n",
       " '5/17/2016 16:28': 7,\n",
       " '5/11/2015 22:56': 6,\n",
       " '3/20/2017 21:07': 6,\n",
       " '3/20/2017 21:28': 6,\n",
       " '2/11/2017 10:29': 6,\n",
       " '9/29/2016 18:33': 6,\n",
       " '7/6/2016 9:02': 6,\n",
       " '5/18/2016 13:08': 6,\n",
       " '4/7/2017 8:07': 6,\n",
       " '4/9/2016 3:33': 6,\n",
       " '5/6/2015 6:18': 6,\n",
       " '7/24/2016 11:28': 6,\n",
       " '3/8/2016 3:57': 6,\n",
       " '4/23/2017 4:15': 6,\n",
       " '9/30/2015 13:17': 6,\n",
       " '1/29/2017 19:47': 6,\n",
       " '10/15/2015 17:38': 6,\n",
       " '2/15/2015 15:10': 6,\n",
       " '11/11/2015 12:10': 6,\n",
       " '7/19/2017 21:49': 6,\n",
       " '4/15/2016 22:28': 6,\n",
       " '6/28/2016 10:27': 6,\n",
       " '7/23/2017 15:09': 6,\n",
       " '5/13/2016 16:07': 6,\n",
       " '1/5/2016 14:43': 6,\n",
       " '2/6/2017 11:43': 6,\n",
       " '10/26/2015 2:02': 6,\n",
       " '6/2/2017 10:51': 6,\n",
       " '4/28/2016 4:45': 6,\n",
       " '7/24/2016 6:33': 6,\n",
       " '1/8/2016 7:32': 6,\n",
       " '8/22/2017 13:22': 6,\n",
       " '7/19/2017 21:28': 6,\n",
       " '12/27/2016 21:24': 6,\n",
       " '12/14/2016 13:11': 6,\n",
       " '3/24/2015 13:33': 6,\n",
       " '10/9/2015 1:53': 6,\n",
       " '10/12/2016 11:21': 6,\n",
       " '3/20/2015 12:51': 6,\n",
       " '7/14/2015 3:35': 6,\n",
       " '10/28/2015 19:12': 6,\n",
       " '2/7/2015 10:59': 6,\n",
       " '2/21/2016 21:50': 6,\n",
       " '11/30/2016 0:15': 6,\n",
       " '1/22/2017 7:00': 6,\n",
       " '7/7/2015 7:16': 6,\n",
       " '2/25/2016 3:16': 6,\n",
       " '6/29/2017 2:14': 6,\n",
       " '6/17/2017 20:49': 6,\n",
       " '7/10/2017 1:20': 6,\n",
       " '2/13/2015 3:16': 6,\n",
       " '10/16/2015 7:18': 6,\n",
       " '1/6/2016 20:30': 6,\n",
       " '6/6/2017 6:17': 6,\n",
       " '6/8/2016 13:59': 6,\n",
       " '1/8/2017 7:01': 6,\n",
       " '8/10/2017 3:13': 6,\n",
       " '6/15/2015 23:25': 6,\n",
       " '2/27/2017 6:57': 6,\n",
       " '12/23/2015 18:46': 6,\n",
       " '1/7/2017 13:30': 6,\n",
       " '5/6/2017 4:03': 6,\n",
       " '5/18/2015 0:20': 6,\n",
       " '11/16/2015 11:17': 6,\n",
       " '12/7/2016 23:32': 6,\n",
       " '3/8/2016 2:33': 6,\n",
       " '6/16/2016 18:10': 6,\n",
       " '3/3/2016 13:56': 6,\n",
       " '10/29/2016 8:00': 6,\n",
       " '4/5/2016 10:13': 6,\n",
       " '1/17/2016 5:36': 6,\n",
       " '11/11/2015 6:55': 6,\n",
       " '7/26/2017 9:43': 6,\n",
       " '1/28/2017 8:24': 6,\n",
       " '5/24/2015 22:24': 6,\n",
       " '4/27/2016 23:09': 6,\n",
       " '7/1/2017 8:32': 6,\n",
       " '3/3/2016 4:50': 6,\n",
       " '7/15/2016 14:06': 6,\n",
       " '3/18/2017 23:55': 6,\n",
       " '4/5/2016 9:52': 6,\n",
       " '9/5/2016 18:35': 6,\n",
       " '4/13/2017 5:40': 6,\n",
       " '5/5/2015 21:33': 6,\n",
       " '4/20/2016 14:34': 6,\n",
       " '3/20/2017 10:57': 6,\n",
       " '9/16/2016 8:35': 6,\n",
       " '9/13/2016 0:00': 6,\n",
       " '1/8/2016 0:32': 6,\n",
       " '11/22/2015 14:47': 6,\n",
       " '12/27/2016 2:29': 6,\n",
       " '6/23/2016 0:28': 6,\n",
       " '4/26/2017 19:50': 6,\n",
       " '1/30/2017 12:57': 6,\n",
       " '10/22/2016 11:41': 6,\n",
       " '4/6/2016 17:24': 6,\n",
       " '8/25/2015 2:49': 6,\n",
       " '9/26/2017 6:50': 6,\n",
       " '9/22/2016 21:53': 6,\n",
       " '1/31/2016 0:40': 6,\n",
       " '11/8/2015 17:57': 6,\n",
       " '6/13/2015 10:27': 6,\n",
       " '4/16/2015 9:50': 6,\n",
       " '9/19/2016 4:54': 6,\n",
       " '12/17/2016 2:30': 6,\n",
       " '5/15/2016 16:49': 6,\n",
       " '8/10/2017 5:19': 6,\n",
       " '4/1/2017 15:29': 6,\n",
       " '4/25/2017 10:33': 6,\n",
       " '8/18/2015 14:55': 6,\n",
       " '11/23/2015 6:33': 6,\n",
       " '4/29/2016 10:11': 6,\n",
       " '3/18/2016 21:48': 6,\n",
       " '5/4/2015 22:46': 6,\n",
       " '8/5/2016 16:21': 6,\n",
       " '11/11/2015 7:16': 6,\n",
       " '5/25/2015 11:00': 6,\n",
       " '3/22/2017 17:15': 6,\n",
       " '10/9/2015 16:15': 6,\n",
       " '3/2/2017 12:02': 6,\n",
       " '10/29/2016 6:36': 6,\n",
       " '7/3/2015 19:11': 6,\n",
       " '8/9/2015 0:02': 6,\n",
       " '6/22/2017 10:49': 6,\n",
       " '10/24/2016 14:08': 6,\n",
       " '1/27/2015 10:07': 6,\n",
       " '3/3/2015 0:26': 6,\n",
       " '1/20/2017 22:04': 6,\n",
       " '8/23/2015 16:08': 6,\n",
       " '6/24/2016 22:22': 6,\n",
       " '2/13/2016 1:53': 6,\n",
       " '7/2/2017 9:03': 6,\n",
       " '4/24/2017 0:55': 6,\n",
       " '4/30/2016 2:18': 6,\n",
       " '5/22/2016 5:04': 6,\n",
       " '3/19/2015 9:10': 6,\n",
       " '7/31/2016 18:38': 6,\n",
       " '5/16/2016 1:55': 6,\n",
       " '8/30/2017 22:49': 6,\n",
       " '3/25/2016 20:13': 6,\n",
       " '9/23/2017 12:37': 6,\n",
       " '9/21/2015 16:58': 6,\n",
       " '6/1/2015 3:49': 6,\n",
       " '2/28/2015 20:14': 6,\n",
       " '8/14/2016 17:34': 6,\n",
       " '3/10/2015 18:07': 6,\n",
       " '10/21/2015 5:01': 6,\n",
       " '5/22/2017 12:26': 6,\n",
       " '10/20/2015 18:30': 6,\n",
       " '6/18/2016 6:57': 6,\n",
       " '5/9/2017 7:02': 6,\n",
       " '7/9/2016 15:52': 6,\n",
       " '9/9/2017 20:42': 6,\n",
       " '8/6/2016 13:01': 6,\n",
       " '5/28/2015 5:13': 6,\n",
       " '9/18/2015 14:00': 6,\n",
       " '2/20/2017 2:56': 6,\n",
       " '6/18/2017 7:19': 6,\n",
       " '5/1/2015 7:11': 6,\n",
       " '9/16/2016 6:50': 6,\n",
       " '4/9/2015 19:50': 6,\n",
       " '1/19/2017 10:41': 6,\n",
       " '8/6/2015 21:14': 6,\n",
       " '6/8/2016 17:29': 6,\n",
       " '1/15/2017 22:57': 6,\n",
       " '2/9/2017 9:26': 6,\n",
       " '5/4/2017 8:16': 6,\n",
       " '9/11/2016 9:07': 6,\n",
       " '1/2/2016 13:30': 6,\n",
       " '5/6/2016 21:12': 6,\n",
       " '4/26/2017 19:29': 6,\n",
       " '3/20/2017 14:27': 6,\n",
       " '1/15/2017 21:12': 6,\n",
       " '1/10/2017 15:05': 6,\n",
       " '6/17/2017 5:03': 6,\n",
       " '10/1/2015 10:18': 6,\n",
       " '2/5/2016 10:18': 6,\n",
       " '3/22/2015 12:30': 6,\n",
       " '4/23/2017 2:30': 6,\n",
       " '1/20/2016 10:40': 6,\n",
       " '4/30/2016 22:58': 6,\n",
       " '7/27/2015 3:44': 6,\n",
       " '7/21/2017 20:46': 6,\n",
       " '3/5/2015 17:36': 6,\n",
       " '8/8/2017 2:31': 6,\n",
       " '4/25/2015 14:33': 6,\n",
       " '10/2/2016 15:13': 6,\n",
       " '4/23/2016 5:17': 6,\n",
       " '3/13/2016 4:49': 6,\n",
       " '8/8/2016 10:34': 6,\n",
       " '9/16/2017 0:11': 6,\n",
       " '5/5/2015 21:12': 6,\n",
       " '1/12/2016 6:29': 6,\n",
       " '3/29/2016 22:19': 6,\n",
       " '9/6/2017 8:37': 6,\n",
       " '11/23/2016 16:12': 6,\n",
       " '9/10/2016 12:27': 6,\n",
       " '6/11/2016 1:32': 6,\n",
       " '3/13/2017 23:03': 6,\n",
       " '11/11/2016 16:34': 6,\n",
       " '4/7/2017 18:38': 6,\n",
       " '3/5/2015 10:36': 6,\n",
       " '5/27/2015 20:49': 6,\n",
       " '9/14/2016 10:41': 6,\n",
       " '10/4/2017 20:08': 6,\n",
       " '3/18/2015 20:34': 6,\n",
       " '5/21/2017 15:04': 6,\n",
       " '12/30/2015 20:41': 6,\n",
       " '7/16/2017 7:38': 6,\n",
       " '12/28/2015 16:08': 6,\n",
       " '11/22/2016 13:55': 6,\n",
       " '11/28/2016 6:12': 6,\n",
       " '11/12/2016 13:35': 6,\n",
       " '7/21/2015 11:06': 6,\n",
       " '3/6/2015 23:02': 6,\n",
       " '4/18/2017 6:32': 6,\n",
       " '3/24/2017 0:47': 6,\n",
       " '4/15/2015 14:34': 6,\n",
       " '9/19/2017 17:11': 6,\n",
       " '2/28/2015 12:53': 6,\n",
       " '7/5/2015 18:29': 6,\n",
       " '8/14/2016 3:33': 6,\n",
       " '7/23/2015 10:03': 6,\n",
       " '3/30/2015 11:26': 6,\n",
       " '12/10/2015 20:43': 6,\n",
       " '5/22/2016 8:13': 6,\n",
       " '2/25/2015 4:18': 6,\n",
       " '9/24/2015 6:17': 6,\n",
       " '12/23/2016 8:48': 6,\n",
       " '4/24/2017 11:47': 6,\n",
       " '5/16/2017 12:48': 6,\n",
       " '8/17/2017 7:14': 6,\n",
       " '12/16/2016 13:53': 6,\n",
       " '11/29/2015 11:27': 6,\n",
       " '3/31/2016 2:20': 6,\n",
       " '8/14/2015 13:10': 6,\n",
       " '1/26/2016 15:34': 6,\n",
       " '6/2/2016 8:44': 6,\n",
       " '1/29/2015 6:16': 6,\n",
       " '3/5/2017 10:06': 6,\n",
       " '6/12/2015 16:56': 6,\n",
       " '1/31/2016 16:26': 6,\n",
       " '4/10/2017 11:06': 6,\n",
       " '7/4/2016 1:20': 6,\n",
       " '3/18/2015 20:55': 6,\n",
       " '2/16/2016 19:13': 6,\n",
       " '9/6/2016 15:15': 6,\n",
       " '8/7/2017 9:00': 6,\n",
       " '8/17/2016 22:38': 6,\n",
       " '5/26/2015 9:47': 6,\n",
       " '7/13/2015 5:09': 6,\n",
       " '7/7/2016 4:39': 6,\n",
       " '7/14/2016 0:58': 6,\n",
       " '7/31/2017 4:59': 6,\n",
       " '12/29/2016 5:17': 6,\n",
       " '6/11/2016 3:17': 6,\n",
       " '3/12/2017 18:40': 6,\n",
       " '3/12/2016 23:55': 6,\n",
       " '6/13/2015 10:06': 6,\n",
       " '1/25/2015 0:19': 6,\n",
       " '3/26/2016 18:38': 6,\n",
       " '3/11/2016 19:53': 6,\n",
       " '3/22/2015 17:24': 6,\n",
       " '4/14/2015 8:26': 6,\n",
       " '5/26/2017 15:56': 6,\n",
       " '12/11/2015 3:22': 6,\n",
       " '11/4/2016 0:38': 6,\n",
       " '3/5/2015 15:30': 6,\n",
       " '9/22/2016 23:59': 6,\n",
       " '2/8/2016 22:02': 6,\n",
       " '7/3/2015 22:20': 6,\n",
       " '5/21/2015 3:18': 6,\n",
       " '1/7/2017 15:15': 6,\n",
       " '8/18/2015 4:45': 6,\n",
       " '2/5/2015 14:50': 6,\n",
       " '7/21/2016 16:54': 6,\n",
       " '5/23/2017 2:06': 6,\n",
       " '9/10/2017 9:18': 6,\n",
       " '10/10/2016 12:03': 6,\n",
       " '5/21/2015 5:24': 6,\n",
       " '10/1/2017 23:28': 6,\n",
       " '3/13/2017 19:12': 6,\n",
       " '2/7/2015 0:28': 6,\n",
       " '9/2/2015 5:16': 6,\n",
       " '1/7/2015 15:24': 6,\n",
       " '8/4/2017 23:12': 6,\n",
       " '6/18/2015 9:34': 6,\n",
       " '7/1/2015 16:23': 6,\n",
       " '4/17/2016 14:45': 6,\n",
       " '5/24/2015 1:43': 6,\n",
       " '2/4/2016 9:46': 6,\n",
       " '2/1/2015 2:14': 6,\n",
       " ...}"
      ]
     },
     "execution_count": 947,
     "metadata": {},
     "output_type": "execute_result"
    }
   ],
   "source": [
    "df['shipping date (DateOrders)'].value_counts().to_dict()"
   ]
  },
  {
   "cell_type": "code",
   "execution_count": 948,
   "metadata": {},
   "outputs": [],
   "source": [
    "# In this example, we first define the date format to match the given date string (\"%m/%d/%Y %H:%M\" represents \n",
    "# the format \"month/day/year hour:minute\"). Then, we use the strptime() function to convert the date string into\n",
    "# a datetime object. Finally, we use the mktime() function from the time module to convert the datetime object\n",
    "# to a Unix timestamp."
   ]
  },
  {
   "cell_type": "code",
   "execution_count": 949,
   "metadata": {},
   "outputs": [],
   "source": [
    "from datetime import datetime\n",
    "import time\n",
    "\n",
    "date_format = \"%m/%d/%Y %H:%M\"\n",
    "for i in df[\"shipping date (DateOrders)\"]:\n",
    "    date_object = datetime.strptime(i, date_format)\n",
    "    timestamp = int(time.mktime(date_object.timetuple()))\n",
    "df[\"shipping date (DateOrders)\"] = timestamp"
   ]
  },
  {
   "cell_type": "code",
   "execution_count": 950,
   "metadata": {},
   "outputs": [
    {
     "data": {
      "text/plain": [
       "0         1453209840\n",
       "1         1453209840\n",
       "2         1453209840\n",
       "3         1453209840\n",
       "4         1453209840\n",
       "             ...    \n",
       "180514    1453209840\n",
       "180515    1453209840\n",
       "180516    1453209840\n",
       "180517    1453209840\n",
       "180518    1453209840\n",
       "Name: shipping date (DateOrders), Length: 180519, dtype: int64"
      ]
     },
     "execution_count": 950,
     "metadata": {},
     "output_type": "execute_result"
    }
   ],
   "source": [
    "df[\"shipping date (DateOrders)\"]"
   ]
  },
  {
   "cell_type": "markdown",
   "metadata": {},
   "source": [
    "# column no. 52 - Shipping Mode"
   ]
  },
  {
   "cell_type": "code",
   "execution_count": 951,
   "metadata": {},
   "outputs": [
    {
     "data": {
      "text/plain": [
       "{'Standard Class': 107752,\n",
       " 'Second Class': 35216,\n",
       " 'First Class': 27814,\n",
       " 'Same Day': 9737}"
      ]
     },
     "execution_count": 951,
     "metadata": {},
     "output_type": "execute_result"
    }
   ],
   "source": [
    "df['Shipping Mode'].value_counts().to_dict()"
   ]
  },
  {
   "cell_type": "code",
   "execution_count": 952,
   "metadata": {},
   "outputs": [],
   "source": [
    "df['Shipping Mode'] = df['Shipping Mode'].replace({'Standard Class': 0,\n",
    " 'Second Class': 1,\n",
    " 'First Class': 2,\n",
    " 'Same Day': 3})"
   ]
  },
  {
   "cell_type": "code",
   "execution_count": 953,
   "metadata": {},
   "outputs": [
    {
     "data": {
      "text/plain": [
       "{0: 107752, 1: 35216, 2: 27814, 3: 9737}"
      ]
     },
     "execution_count": 953,
     "metadata": {},
     "output_type": "execute_result"
    }
   ],
   "source": [
    "df['Shipping Mode'].value_counts().to_dict()"
   ]
  },
  {
   "cell_type": "code",
   "execution_count": 954,
   "metadata": {},
   "outputs": [
    {
     "data": {
      "text/html": [
       "<div>\n",
       "<style scoped>\n",
       "    .dataframe tbody tr th:only-of-type {\n",
       "        vertical-align: middle;\n",
       "    }\n",
       "\n",
       "    .dataframe tbody tr th {\n",
       "        vertical-align: top;\n",
       "    }\n",
       "\n",
       "    .dataframe thead th {\n",
       "        text-align: right;\n",
       "    }\n",
       "</style>\n",
       "<table border=\"1\" class=\"dataframe\">\n",
       "  <thead>\n",
       "    <tr style=\"text-align: right;\">\n",
       "      <th></th>\n",
       "      <th>Type</th>\n",
       "      <th>Days for shipping (real)</th>\n",
       "      <th>Days for shipment (scheduled)</th>\n",
       "      <th>Benefit per order</th>\n",
       "      <th>Sales per customer</th>\n",
       "      <th>Delivery Status</th>\n",
       "      <th>Late_delivery_risk</th>\n",
       "      <th>Category Id</th>\n",
       "      <th>Category Name</th>\n",
       "      <th>Customer City</th>\n",
       "      <th>...</th>\n",
       "      <th>Order Zipcode</th>\n",
       "      <th>Product Card Id</th>\n",
       "      <th>Product Category Id</th>\n",
       "      <th>Product Description</th>\n",
       "      <th>Product Image</th>\n",
       "      <th>Product Name</th>\n",
       "      <th>Product Price</th>\n",
       "      <th>Product Status</th>\n",
       "      <th>shipping date (DateOrders)</th>\n",
       "      <th>Shipping Mode</th>\n",
       "    </tr>\n",
       "  </thead>\n",
       "  <tbody>\n",
       "    <tr>\n",
       "      <th>0</th>\n",
       "      <td>0</td>\n",
       "      <td>3</td>\n",
       "      <td>4</td>\n",
       "      <td>91.250000</td>\n",
       "      <td>314.640015</td>\n",
       "      <td>0</td>\n",
       "      <td>0</td>\n",
       "      <td>73</td>\n",
       "      <td>40</td>\n",
       "      <td>66</td>\n",
       "      <td>...</td>\n",
       "      <td>NaN</td>\n",
       "      <td>1360</td>\n",
       "      <td>73</td>\n",
       "      <td>NaN</td>\n",
       "      <td>http://images.acmesports.sports/Smart+watch</td>\n",
       "      <td>78</td>\n",
       "      <td>327.750000</td>\n",
       "      <td>0</td>\n",
       "      <td>1453209840</td>\n",
       "      <td>0</td>\n",
       "    </tr>\n",
       "    <tr>\n",
       "      <th>1</th>\n",
       "      <td>1</td>\n",
       "      <td>5</td>\n",
       "      <td>4</td>\n",
       "      <td>-249.089996</td>\n",
       "      <td>311.359985</td>\n",
       "      <td>1</td>\n",
       "      <td>1</td>\n",
       "      <td>73</td>\n",
       "      <td>40</td>\n",
       "      <td>66</td>\n",
       "      <td>...</td>\n",
       "      <td>NaN</td>\n",
       "      <td>1360</td>\n",
       "      <td>73</td>\n",
       "      <td>NaN</td>\n",
       "      <td>http://images.acmesports.sports/Smart+watch</td>\n",
       "      <td>78</td>\n",
       "      <td>327.750000</td>\n",
       "      <td>0</td>\n",
       "      <td>1453209840</td>\n",
       "      <td>0</td>\n",
       "    </tr>\n",
       "    <tr>\n",
       "      <th>2</th>\n",
       "      <td>2</td>\n",
       "      <td>4</td>\n",
       "      <td>4</td>\n",
       "      <td>-247.779999</td>\n",
       "      <td>309.720001</td>\n",
       "      <td>2</td>\n",
       "      <td>0</td>\n",
       "      <td>73</td>\n",
       "      <td>40</td>\n",
       "      <td>452</td>\n",
       "      <td>...</td>\n",
       "      <td>NaN</td>\n",
       "      <td>1360</td>\n",
       "      <td>73</td>\n",
       "      <td>NaN</td>\n",
       "      <td>http://images.acmesports.sports/Smart+watch</td>\n",
       "      <td>78</td>\n",
       "      <td>327.750000</td>\n",
       "      <td>0</td>\n",
       "      <td>1453209840</td>\n",
       "      <td>0</td>\n",
       "    </tr>\n",
       "    <tr>\n",
       "      <th>3</th>\n",
       "      <td>0</td>\n",
       "      <td>3</td>\n",
       "      <td>4</td>\n",
       "      <td>22.860001</td>\n",
       "      <td>304.809998</td>\n",
       "      <td>0</td>\n",
       "      <td>0</td>\n",
       "      <td>73</td>\n",
       "      <td>40</td>\n",
       "      <td>285</td>\n",
       "      <td>...</td>\n",
       "      <td>NaN</td>\n",
       "      <td>1360</td>\n",
       "      <td>73</td>\n",
       "      <td>NaN</td>\n",
       "      <td>http://images.acmesports.sports/Smart+watch</td>\n",
       "      <td>78</td>\n",
       "      <td>327.750000</td>\n",
       "      <td>0</td>\n",
       "      <td>1453209840</td>\n",
       "      <td>0</td>\n",
       "    </tr>\n",
       "    <tr>\n",
       "      <th>4</th>\n",
       "      <td>3</td>\n",
       "      <td>2</td>\n",
       "      <td>4</td>\n",
       "      <td>134.210007</td>\n",
       "      <td>298.250000</td>\n",
       "      <td>0</td>\n",
       "      <td>0</td>\n",
       "      <td>73</td>\n",
       "      <td>40</td>\n",
       "      <td>66</td>\n",
       "      <td>...</td>\n",
       "      <td>NaN</td>\n",
       "      <td>1360</td>\n",
       "      <td>73</td>\n",
       "      <td>NaN</td>\n",
       "      <td>http://images.acmesports.sports/Smart+watch</td>\n",
       "      <td>78</td>\n",
       "      <td>327.750000</td>\n",
       "      <td>0</td>\n",
       "      <td>1453209840</td>\n",
       "      <td>0</td>\n",
       "    </tr>\n",
       "    <tr>\n",
       "      <th>...</th>\n",
       "      <td>...</td>\n",
       "      <td>...</td>\n",
       "      <td>...</td>\n",
       "      <td>...</td>\n",
       "      <td>...</td>\n",
       "      <td>...</td>\n",
       "      <td>...</td>\n",
       "      <td>...</td>\n",
       "      <td>...</td>\n",
       "      <td>...</td>\n",
       "      <td>...</td>\n",
       "      <td>...</td>\n",
       "      <td>...</td>\n",
       "      <td>...</td>\n",
       "      <td>...</td>\n",
       "      <td>...</td>\n",
       "      <td>...</td>\n",
       "      <td>...</td>\n",
       "      <td>...</td>\n",
       "      <td>...</td>\n",
       "      <td>...</td>\n",
       "    </tr>\n",
       "    <tr>\n",
       "      <th>180514</th>\n",
       "      <td>2</td>\n",
       "      <td>4</td>\n",
       "      <td>4</td>\n",
       "      <td>40.000000</td>\n",
       "      <td>399.980011</td>\n",
       "      <td>2</td>\n",
       "      <td>0</td>\n",
       "      <td>45</td>\n",
       "      <td>18</td>\n",
       "      <td>59</td>\n",
       "      <td>...</td>\n",
       "      <td>NaN</td>\n",
       "      <td>1004</td>\n",
       "      <td>45</td>\n",
       "      <td>NaN</td>\n",
       "      <td>http://images.acmesports.sports/Field+%26+Stre...</td>\n",
       "      <td>24</td>\n",
       "      <td>399.980011</td>\n",
       "      <td>0</td>\n",
       "      <td>1453209840</td>\n",
       "      <td>0</td>\n",
       "    </tr>\n",
       "    <tr>\n",
       "      <th>180515</th>\n",
       "      <td>0</td>\n",
       "      <td>3</td>\n",
       "      <td>2</td>\n",
       "      <td>-613.770019</td>\n",
       "      <td>395.980011</td>\n",
       "      <td>1</td>\n",
       "      <td>1</td>\n",
       "      <td>45</td>\n",
       "      <td>18</td>\n",
       "      <td>26</td>\n",
       "      <td>...</td>\n",
       "      <td>NaN</td>\n",
       "      <td>1004</td>\n",
       "      <td>45</td>\n",
       "      <td>NaN</td>\n",
       "      <td>http://images.acmesports.sports/Field+%26+Stre...</td>\n",
       "      <td>24</td>\n",
       "      <td>399.980011</td>\n",
       "      <td>0</td>\n",
       "      <td>1453209840</td>\n",
       "      <td>1</td>\n",
       "    </tr>\n",
       "    <tr>\n",
       "      <th>180516</th>\n",
       "      <td>1</td>\n",
       "      <td>5</td>\n",
       "      <td>4</td>\n",
       "      <td>141.110001</td>\n",
       "      <td>391.980011</td>\n",
       "      <td>1</td>\n",
       "      <td>1</td>\n",
       "      <td>45</td>\n",
       "      <td>18</td>\n",
       "      <td>55</td>\n",
       "      <td>...</td>\n",
       "      <td>NaN</td>\n",
       "      <td>1004</td>\n",
       "      <td>45</td>\n",
       "      <td>NaN</td>\n",
       "      <td>http://images.acmesports.sports/Field+%26+Stre...</td>\n",
       "      <td>24</td>\n",
       "      <td>399.980011</td>\n",
       "      <td>0</td>\n",
       "      <td>1453209840</td>\n",
       "      <td>0</td>\n",
       "    </tr>\n",
       "    <tr>\n",
       "      <th>180517</th>\n",
       "      <td>3</td>\n",
       "      <td>3</td>\n",
       "      <td>4</td>\n",
       "      <td>186.229996</td>\n",
       "      <td>387.980011</td>\n",
       "      <td>0</td>\n",
       "      <td>0</td>\n",
       "      <td>45</td>\n",
       "      <td>18</td>\n",
       "      <td>66</td>\n",
       "      <td>...</td>\n",
       "      <td>NaN</td>\n",
       "      <td>1004</td>\n",
       "      <td>45</td>\n",
       "      <td>NaN</td>\n",
       "      <td>http://images.acmesports.sports/Field+%26+Stre...</td>\n",
       "      <td>24</td>\n",
       "      <td>399.980011</td>\n",
       "      <td>0</td>\n",
       "      <td>1453209840</td>\n",
       "      <td>0</td>\n",
       "    </tr>\n",
       "    <tr>\n",
       "      <th>180518</th>\n",
       "      <td>3</td>\n",
       "      <td>4</td>\n",
       "      <td>4</td>\n",
       "      <td>168.949997</td>\n",
       "      <td>383.980011</td>\n",
       "      <td>2</td>\n",
       "      <td>0</td>\n",
       "      <td>45</td>\n",
       "      <td>18</td>\n",
       "      <td>66</td>\n",
       "      <td>...</td>\n",
       "      <td>NaN</td>\n",
       "      <td>1004</td>\n",
       "      <td>45</td>\n",
       "      <td>NaN</td>\n",
       "      <td>http://images.acmesports.sports/Field+%26+Stre...</td>\n",
       "      <td>24</td>\n",
       "      <td>399.980011</td>\n",
       "      <td>0</td>\n",
       "      <td>1453209840</td>\n",
       "      <td>0</td>\n",
       "    </tr>\n",
       "  </tbody>\n",
       "</table>\n",
       "<p>180519 rows × 53 columns</p>\n",
       "</div>"
      ],
      "text/plain": [
       "        Type  Days for shipping (real)  Days for shipment (scheduled)  \\\n",
       "0          0                         3                              4   \n",
       "1          1                         5                              4   \n",
       "2          2                         4                              4   \n",
       "3          0                         3                              4   \n",
       "4          3                         2                              4   \n",
       "...      ...                       ...                            ...   \n",
       "180514     2                         4                              4   \n",
       "180515     0                         3                              2   \n",
       "180516     1                         5                              4   \n",
       "180517     3                         3                              4   \n",
       "180518     3                         4                              4   \n",
       "\n",
       "        Benefit per order  Sales per customer  Delivery Status  \\\n",
       "0               91.250000          314.640015                0   \n",
       "1             -249.089996          311.359985                1   \n",
       "2             -247.779999          309.720001                2   \n",
       "3               22.860001          304.809998                0   \n",
       "4              134.210007          298.250000                0   \n",
       "...                   ...                 ...              ...   \n",
       "180514          40.000000          399.980011                2   \n",
       "180515        -613.770019          395.980011                1   \n",
       "180516         141.110001          391.980011                1   \n",
       "180517         186.229996          387.980011                0   \n",
       "180518         168.949997          383.980011                2   \n",
       "\n",
       "        Late_delivery_risk  Category Id  Category Name  Customer City  ...  \\\n",
       "0                        0           73             40             66  ...   \n",
       "1                        1           73             40             66  ...   \n",
       "2                        0           73             40            452  ...   \n",
       "3                        0           73             40            285  ...   \n",
       "4                        0           73             40             66  ...   \n",
       "...                    ...          ...            ...            ...  ...   \n",
       "180514                   0           45             18             59  ...   \n",
       "180515                   1           45             18             26  ...   \n",
       "180516                   1           45             18             55  ...   \n",
       "180517                   0           45             18             66  ...   \n",
       "180518                   0           45             18             66  ...   \n",
       "\n",
       "        Order Zipcode Product Card Id  Product Category Id  \\\n",
       "0                 NaN            1360                   73   \n",
       "1                 NaN            1360                   73   \n",
       "2                 NaN            1360                   73   \n",
       "3                 NaN            1360                   73   \n",
       "4                 NaN            1360                   73   \n",
       "...               ...             ...                  ...   \n",
       "180514            NaN            1004                   45   \n",
       "180515            NaN            1004                   45   \n",
       "180516            NaN            1004                   45   \n",
       "180517            NaN            1004                   45   \n",
       "180518            NaN            1004                   45   \n",
       "\n",
       "        Product Description  \\\n",
       "0                       NaN   \n",
       "1                       NaN   \n",
       "2                       NaN   \n",
       "3                       NaN   \n",
       "4                       NaN   \n",
       "...                     ...   \n",
       "180514                  NaN   \n",
       "180515                  NaN   \n",
       "180516                  NaN   \n",
       "180517                  NaN   \n",
       "180518                  NaN   \n",
       "\n",
       "                                            Product Image Product Name  \\\n",
       "0            http://images.acmesports.sports/Smart+watch            78   \n",
       "1            http://images.acmesports.sports/Smart+watch            78   \n",
       "2            http://images.acmesports.sports/Smart+watch            78   \n",
       "3            http://images.acmesports.sports/Smart+watch            78   \n",
       "4            http://images.acmesports.sports/Smart+watch            78   \n",
       "...                                                   ...          ...   \n",
       "180514  http://images.acmesports.sports/Field+%26+Stre...           24   \n",
       "180515  http://images.acmesports.sports/Field+%26+Stre...           24   \n",
       "180516  http://images.acmesports.sports/Field+%26+Stre...           24   \n",
       "180517  http://images.acmesports.sports/Field+%26+Stre...           24   \n",
       "180518  http://images.acmesports.sports/Field+%26+Stre...           24   \n",
       "\n",
       "        Product Price  Product Status  shipping date (DateOrders)  \\\n",
       "0          327.750000               0                  1453209840   \n",
       "1          327.750000               0                  1453209840   \n",
       "2          327.750000               0                  1453209840   \n",
       "3          327.750000               0                  1453209840   \n",
       "4          327.750000               0                  1453209840   \n",
       "...               ...             ...                         ...   \n",
       "180514     399.980011               0                  1453209840   \n",
       "180515     399.980011               0                  1453209840   \n",
       "180516     399.980011               0                  1453209840   \n",
       "180517     399.980011               0                  1453209840   \n",
       "180518     399.980011               0                  1453209840   \n",
       "\n",
       "        Shipping Mode  \n",
       "0                   0  \n",
       "1                   0  \n",
       "2                   0  \n",
       "3                   0  \n",
       "4                   0  \n",
       "...               ...  \n",
       "180514              0  \n",
       "180515              1  \n",
       "180516              0  \n",
       "180517              0  \n",
       "180518              0  \n",
       "\n",
       "[180519 rows x 53 columns]"
      ]
     },
     "execution_count": 954,
     "metadata": {},
     "output_type": "execute_result"
    }
   ],
   "source": [
    "df"
   ]
  },
  {
   "cell_type": "markdown",
   "metadata": {},
   "source": [
    "# Customer Zipcode"
   ]
  },
  {
   "cell_type": "code",
   "execution_count": 1005,
   "metadata": {},
   "outputs": [
    {
     "data": {
      "text/plain": [
       "0           725.0\n",
       "1           725.0\n",
       "2         95125.0\n",
       "3         90027.0\n",
       "4           725.0\n",
       "           ...   \n",
       "180514    11207.0\n",
       "180515    93304.0\n",
       "180516     6010.0\n",
       "180517      725.0\n",
       "180518      725.0\n",
       "Name: Customer Zipcode, Length: 180519, dtype: float64"
      ]
     },
     "execution_count": 1005,
     "metadata": {},
     "output_type": "execute_result"
    }
   ],
   "source": [
    "df['Customer Zipcode']"
   ]
  },
  {
   "cell_type": "code",
   "execution_count": 1006,
   "metadata": {},
   "outputs": [
    {
     "data": {
      "text/plain": [
       "array([  725., 95125., 90027., 14150., 33162., 94583., 11520., 93905.,\n",
       "        1960.,   729., 90723., 60056., 90813., 95670., 59102., 18702.,\n",
       "       48066., 90706., 60187., 48238., 75220., 17013., 75228., 19702.,\n",
       "       91402., 30318., 94539., 14609., 75211.,   957.,   784.,   795.,\n",
       "       20744., 93304., 11368., 45238., 20874., 75006., 77093., 90023.,\n",
       "       96706.,  8701., 13440., 92083., 76106., 54935., 19139., 91764.,\n",
       "       32765., 14221., 96822., 92056., 14120., 93611., 11434., 62040.,\n",
       "        2155., 91766., 85281., 92703., 17402., 80010., 93065., 20904.,\n",
       "       55124., 78201., 19143., 19149., 10466., 27858.,  7960., 92115.,\n",
       "       93030., 33147., 87111., 79109., 33549., 97701.,  8816., 29720.,\n",
       "       91762., 77015., 23666., 10016., 93257., 97223., 44136., 79927.,\n",
       "       78840., 84010., 98031., 60620.,  2360., 11691., 77088., 19124.,\n",
       "       48227., 92840., 92105., 60609., 92870., 95148., 44060., 95051.,\n",
       "        7083., 90805., 92683., 33068., 91702., 33324.,  8540.,  8861.,\n",
       "       45140., 23455., 40214., 14094., 60608., 10314., 85719., 44120.,\n",
       "       10458., 14580., 95207., 25401., 21502., 61554., 32308., 32225.,\n",
       "        2895., 95206., 30058., 60453., 48213., 91801.,  6511., 85029.,\n",
       "       70065., 15301., 49423., 19067., 38128., 98023., 92113., 60626.,\n",
       "       10457., 60637., 91790., 93003., 20009., 33594., 96744., 11218.,\n",
       "       92057., 76116., 19145., 95240., 93308., 95122., 37130., 92009.,\n",
       "       45011., 77083., 10031., 94541.,  8302., 11706., 60067., 30080.,\n",
       "       91406., 33055., 90046., 55106.,  8817., 77520., 91342., 55337.,\n",
       "       11746., 94087., 77478.,  2135., 58501., 20878., 96817., 30047.,\n",
       "       84604., 38401., 30062.,   745., 11212., 80219., 48180., 48205.,\n",
       "       44102., 63301., 95014., 65807., 92692., 90042., 30075., 48197.,\n",
       "       85345., 92843.,  8021., 38127., 37013., 84118., 91344., 11550.,\n",
       "       11103., 95020., 28645., 43228., 97321.,   791., 11757., 44035.,\n",
       "       92504., 90745., 85204., 96818.,   921.,   693.,   680.,   612.,\n",
       "         685., 85033., 97402., 90806., 60102., 46227., 90003., 90620.,\n",
       "       21228., 10306., 30066.,  7305., 38109., 60148., 11207.,  2740.,\n",
       "       12550., 33175., 19446., 90037., 21206., 85035., 92833., 21218.,\n",
       "       95823., 60614., 27410., 95127., 44107., 97470., 95350., 10003.,\n",
       "       92024., 95116., 95076., 83642., 77084., 11229., 13760., 77450.,\n",
       "       93277., 93535., 85022., 93436., 33186., 17404., 84404., 27610.,\n",
       "       91745.,  7087., 33023., 60440., 47906.,  7105., 22192., 78596.,\n",
       "       11432., 75243., 90201., 92109., 90638., 90065.,  7047., 92691.,\n",
       "       10002., 53704., 94080., 19144., 33312., 89030., 80013.,  1844.,\n",
       "       92627., 60649., 21061., 45014., 91306., 93063., 60616., 78501.,\n",
       "       90032., 60435., 78520.,  2860., 80918.,  2169., 78227.,  1201.,\n",
       "       91710., 60640., 10461., 43302., 91343., 60617., 67401., 20783.,\n",
       "       76180., 10977., 60643.,  1841., 44130., 91761., 31907., 90063.,\n",
       "       45013., 95035., 91748., 90247., 60804., 97405., 90024., 27203.,\n",
       "       54601., 63031., 91351., 14850., 18103., 92026., 94553., 48098.,\n",
       "       22204., 75227., 95616., 11238., 85225., 85224., 60613., 60123.,\n",
       "       93550., 11758., 92707., 94565.,  7093., 75217., 90007., 80011.,\n",
       "       32822., 17331., 23452., 85301., 60641.,  6082., 19134., 91706.,\n",
       "       60657., 91709., 19104.,  8753., 60622., 95822., 48192.,  7104.,\n",
       "       11204., 96789., 10011., 11221., 60426., 17055., 70570., 96734.,\n",
       "       23503., 22193., 60126., 77479., 27606., 45601., 91304., 49201.,\n",
       "       92553., 60624., 70119., 78586., 11203., 19720.,  7003., 87105.,\n",
       "       90001., 90630., 70117., 10040., 70072., 75052., 10467., 80631.,\n",
       "       92111., 33165., 44109., 80126., 80501., 23320., 80110., 60004.,\n",
       "       33624., 46226., 90043., 95351.,  7111., 19711., 11375., 10029.,\n",
       "       78521., 48126., 75007., 93307., 90221., 17601., 75043., 92507.,\n",
       "       96797., 85713., 95608., 92780., 92805., 60651., 48187., 22554.,\n",
       "       92126., 11419., 45044., 75240., 85308.,  7052., 94015., 30127.,\n",
       "       21234., 48224., 33010., 90022., 11236., 53511., 27834., 75287.,\n",
       "         603.,   983.,   698., 90066., 11226., 11209., 63376., 92114.,\n",
       "       60615., 30906., 78223., 87120., 19140., 10021., 27514., 48823.,\n",
       "        6902., 91765., 77036., 94544., 53215., 30044.,  6040., 11224.,\n",
       "       91744., 92392., 23223., 63033., 21224., 32244., 78852., 92335.,\n",
       "       63021., 11220., 78130., 89121., 29445., 78577., 10701., 91732.,\n",
       "       96816., 33064., 43068., 48212., 94587., 44256., 33313., 92346.,\n",
       "       90019., 72401., 95758., 90640., 94109., 30907., 60025., 60647.,\n",
       "       85282., 95111., 29730., 60660., 85746., 78753., 85254., 95060.,\n",
       "       97045., 22003., 38118., 75023.,  8854., 33155., 23322., 92084.,\n",
       "       92025., 30067., 92705., 92021., 43026., 32073., 10025., 60625.,\n",
       "       30032., 94806., 33016., 92804., 32808., 78228., 19120., 90804.,\n",
       "       30135., 89015., 60120., 77840., 78664., 75150., 74012., 98052.,\n",
       "       45840., 90631., 92653., 14215., 90057., 21215., 79912., 43230.,\n",
       "       92407., 27502., 94110., 23464., 91733., 80231., 89103., 75061.,\n",
       "       11234., 24060.,  2124., 60505., 92336.,  7307., 78207., 20854.,\n",
       "       77469., 84119., 90002., 32792., 60610., 30083., 93117., 21740.,\n",
       "       94501., 33161., 92701., 63136., 78240., 90660., 91910., 92882.,\n",
       "       63116., 60619., 95124., 79924., 92020., 85032., 76010., 17603.,\n",
       "       76133., 95023., 91605., 55104., 78704., 90033., 94122., 60638.,\n",
       "       11235., 62301., 10472., 10473.,  8901., 97007., 20020., 60411.,\n",
       "       92054., 92345., 92503., 27511., 27330., 78040., 48185., 10453.,\n",
       "       91911., 30281., 60188., 11237., 10469., 33012., 60634., 67212.,\n",
       "       94509., 89110., 90004., 66062., 75216., 11354., 10312., 90220.,\n",
       "       90262., 90034., 92802.,  2151., 92410., 43081., 38018., 60623.,\n",
       "       60506., 92129., 90011., 93230., 11216., 32825., 11213., 12180.,\n",
       "       92376., 60050., 78572., 11214., 97301., 30096., 92509., 19148.,\n",
       "        6810., 43055., 70122., 40601., 91786., 91770., 48858., 97303.,\n",
       "       88201., 19131., 92630., 10023., 19380., 10460., 10128., 92404.,\n",
       "       80015., 10033., 11377., 94536., 30093., 93306., 93722., 43701.,\n",
       "       60504., 92102., 27406., 44077., 91977., 30331., 97229., 98037.,\n",
       "       44646., 33021., 60644., 60014., 11374., 19111., 55112., 48103.,\n",
       "       97206., 93727., 49509., 91941., 78539., 48843., 46360., 53081.,\n",
       "       61265., 85283., 77055., 89101., 11373., 11208., 10456., 85364.,\n",
       "       10024., 89108., 10027., 95008., 89123., 28205., 94601., 92069.,\n",
       "       91789., 84120., 78550., 80012., 87124., 37211., 21401., 60618.,\n",
       "       33177., 92677., 92071., 84084., 11206., 33157., 28601.,   674.,\n",
       "         976.,   728.,   953., 15642., 11420., 93536., 11215., 80906.,\n",
       "       11385., 79936., 95355., 42101., 92104., 75080., 89115., 89119.,\n",
       "       33126., 38111., 92704., 79907., 91352., 65203., 92646., 58103.,\n",
       "       97006., 60085., 90006., 48219., 48203., 11219., 85040., 78666.,\n",
       "       90703., 20906., 10009., 75067., 94538.,  6457., 95112., 30022.,\n",
       "       63129., 93702., 85009., 11210., 33125., 17602., 11230., 33176.,\n",
       "       47150., 19382., 43229., 75149., 33015., 29223., 76201., 10032.,\n",
       "       91405., 92592., 60477., 93033., 33065., 21222., 78250., 46307.,\n",
       "       11201., 10452., 73505., 28314., 10463.,  6460., 60103., 60630.,\n",
       "       89502.,  7055., 90016., 91335., 78046., 11756.,  7470., 70003.,\n",
       "       20002., 44105., 26003., 85705., 90250., 94558., 60402., 92708.,\n",
       "       23456., 88005., 32703., 90044., 95630., 92243., 92557., 11372.,\n",
       "       48234., 91331., 77072., 48221., 11435., 43207., 60632., 37075.,\n",
       "       84015., 98115., 90047., 85201., 60628., 32303., 48601., 63123.,\n",
       "       72032., 33025., 44870., 90731., 92801., 43123., 37922., 92117.,\n",
       "       90255., 87112., 15601., 91767., 60441., 92064., 23454., 63366.,\n",
       "       17201., 44118., 61761.,  1902., 10028., 75093., 33142., 90018.,\n",
       "       19020.,  6010., 95828., 17701., 92626., 75231., 98632., 90650.,\n",
       "       89117.,  7002., 93274., 91950., 92879., 45424., 94112., 95376.,\n",
       "       29483., 95340., 85710., 93906.,  2301., 85706., 30034., 20011.,\n",
       "       94533., 94591.,  6516., 21122., 92154., 33614., 92027., 90026.,\n",
       "       90280., 48093., 37042., 49442., 85008., 28540., 77080., 33511.,\n",
       "       96819., 91730., 11211., 60645., 93458., 18901., 47374., 92324.,\n",
       "       92647., 38116., 48235., 75060., 92201.,  7060., 94014., 98226.,\n",
       "       93720., 60629., 93309., 30043., 77379., 11355., 10462., 91606.,\n",
       "       53209., 94550., 60639., 87505., 94303., 20019., 23233., 60016.,\n",
       "       23462., 33024., 77081., 60636., 35215., 80020.,   969.,   736.,\n",
       "       60621., 40475., 60544., 30349., 95610., 33063., 78745., 10468.,\n",
       "       94086., 99205., 52001., 93638., 21229., 98208., 11717., 28655.,\n",
       "       95687., 95123.,  2148., 21207.,   949.,  2780.,  7728., 98390.,\n",
       "       48228., 90744., 11223., 43130., 11225., 75040., 33311., 11233.,\n",
       "       32210., 89014.,  7306.,    nan])"
      ]
     },
     "execution_count": 1006,
     "metadata": {},
     "output_type": "execute_result"
    }
   ],
   "source": [
    "df['Customer Zipcode'].unique()"
   ]
  },
  {
   "cell_type": "code",
   "execution_count": 1007,
   "metadata": {},
   "outputs": [
    {
     "data": {
      "text/plain": [
       "3"
      ]
     },
     "execution_count": 1007,
     "metadata": {},
     "output_type": "execute_result"
    }
   ],
   "source": [
    "df['Customer Zipcode'].isna().sum()"
   ]
  },
  {
   "cell_type": "code",
   "execution_count": 1008,
   "metadata": {},
   "outputs": [
    {
     "data": {
      "text/plain": [
       "19380.0"
      ]
     },
     "execution_count": 1008,
     "metadata": {},
     "output_type": "execute_result"
    }
   ],
   "source": [
    "df['Customer Zipcode'].median()"
   ]
  },
  {
   "cell_type": "code",
   "execution_count": 1009,
   "metadata": {},
   "outputs": [],
   "source": [
    "df['Customer Zipcode'].fillna(df['Customer Zipcode'].median(),inplace = True)"
   ]
  },
  {
   "cell_type": "code",
   "execution_count": 1010,
   "metadata": {},
   "outputs": [
    {
     "data": {
      "text/plain": [
       "0"
      ]
     },
     "execution_count": 1010,
     "metadata": {},
     "output_type": "execute_result"
    }
   ],
   "source": [
    "df['Customer Zipcode'].isna().sum()"
   ]
  },
  {
   "cell_type": "code",
   "execution_count": 1004,
   "metadata": {},
   "outputs": [
    {
     "data": {
      "text/plain": [
       "Index(['Type', 'Days for shipping (real)', 'Days for shipment (scheduled)',\n",
       "       'Benefit per order', 'Sales per customer', 'Delivery Status',\n",
       "       'Late_delivery_risk', 'Category Id', 'Category Name', 'Customer City',\n",
       "       'Customer Country', 'Customer Fname', 'Customer Id', 'Customer Lname',\n",
       "       'Customer Segment', 'Customer State', 'Customer Street',\n",
       "       'Customer Zipcode', 'Department Id', 'Department Name', 'Latitude',\n",
       "       'Longitude', 'Market', 'Order City', 'Order Country',\n",
       "       'Order Customer Id', 'order date (DateOrders)', 'Order Id',\n",
       "       'Order Item Cardprod Id', 'Order Item Discount',\n",
       "       'Order Item Discount Rate', 'Order Item Id', 'Order Item Product Price',\n",
       "       'Order Item Profit Ratio', 'Order Item Quantity', 'Sales',\n",
       "       'Order Item Total', 'Order Profit Per Order', 'Order Region',\n",
       "       'Order State', 'Order Status', 'Product Card Id', 'Product Category Id',\n",
       "       'Product Name', 'Product Price', 'Product Status',\n",
       "       'shipping date (DateOrders)', 'Shipping Mode'],\n",
       "      dtype='object')"
      ]
     },
     "execution_count": 1004,
     "metadata": {},
     "output_type": "execute_result"
    }
   ],
   "source": [
    "df.columns"
   ]
  },
  {
   "cell_type": "code",
   "execution_count": null,
   "metadata": {},
   "outputs": [],
   "source": []
  },
  {
   "cell_type": "markdown",
   "metadata": {},
   "source": [
    "### Outliers Imputation"
   ]
  },
  {
   "cell_type": "markdown",
   "metadata": {},
   "source": [
    "###  Days for shipping (real)"
   ]
  },
  {
   "cell_type": "code",
   "execution_count": 955,
   "metadata": {},
   "outputs": [],
   "source": [
    "%matplotlib inline"
   ]
  },
  {
   "cell_type": "code",
   "execution_count": 956,
   "metadata": {},
   "outputs": [
    {
     "data": {
      "text/plain": [
       "<AxesSubplot:xlabel='Days for shipping (real)'>"
      ]
     },
     "execution_count": 956,
     "metadata": {},
     "output_type": "execute_result"
    },
    {
     "data": {
      "image/png": "[encoded data removed]",
      "text/plain": [
       "<Figure size 432x288 with 1 Axes>"
      ]
     },
     "metadata": {},
     "output_type": "display_data"
    }
   ],
   "source": [
    "sns.boxplot(df[\"Days for shipping (real)\"])"
   ]
  },
  {
   "cell_type": "markdown",
   "metadata": {},
   "source": [
    "### Days for shipment (scheduled)"
   ]
  },
  {
   "cell_type": "code",
   "execution_count": 957,
   "metadata": {
    "scrolled": false
   },
   "outputs": [
    {
     "data": {
      "text/plain": [
       "<AxesSubplot:xlabel='Days for shipment (scheduled)'>"
      ]
     },
     "execution_count": 957,
     "metadata": {},
     "output_type": "execute_result"
    },
    {
     "data": {
      "image/png": "[encoded data removed]",
      "text/plain": [
       "<Figure size 432x288 with 1 Axes>"
      ]
     },
     "metadata": {},
     "output_type": "display_data"
    }
   ],
   "source": [
    "sns.boxplot(df[\"Days for shipment (scheduled)\"])"
   ]
  },
  {
   "cell_type": "markdown",
   "metadata": {},
   "source": [
    "### Benefit per order"
   ]
  },
  {
   "cell_type": "code",
   "execution_count": 958,
   "metadata": {
    "scrolled": true
   },
   "outputs": [
    {
     "data": {
      "text/plain": [
       "<AxesSubplot:xlabel='Benefit per order'>"
      ]
     },
     "execution_count": 958,
     "metadata": {},
     "output_type": "execute_result"
    },
    {
     "data": {
      "image/png": "[encoded data removed]",
      "text/plain": [
       "<Figure size 432x288 with 1 Axes>"
      ]
     },
     "metadata": {},
     "output_type": "display_data"
    }
   ],
   "source": [
    "sns.boxplot(df[\"Benefit per order\"])"
   ]
  },
  {
   "cell_type": "code",
   "execution_count": 959,
   "metadata": {},
   "outputs": [
    {
     "name": "stdout",
     "output_type": "stream",
     "text": [
      "iqr: 57.80000305\n",
      "uppertail: 151.50000762500002\n",
      "lowertail: -79.70000457500001\n"
     ]
    }
   ],
   "source": [
    "q1 = df[\"Benefit per order\"].quantile(0.25)\n",
    "q2 = df[\"Benefit per order\"].quantile(0.50)\n",
    "q3 = df[\"Benefit per order\"].quantile(0.75)\n",
    "\n",
    "iqr = q3 - q1\n",
    "\n",
    "uppertail = q3 + 1.5 * iqr\n",
    "lowertail = q1 - 1.5 * iqr\n",
    "\n",
    "print(\"iqr:\", iqr)\n",
    "print(\"uppertail:\", uppertail)\n",
    "print(\"lowertail:\", lowertail)"
   ]
  },
  {
   "cell_type": "code",
   "execution_count": 960,
   "metadata": {
    "scrolled": true
   },
   "outputs": [
    {
     "data": {
      "text/plain": [
       "20        154.860001\n",
       "35        152.600006\n",
       "124       179.979996\n",
       "126       199.479996\n",
       "148       212.639999\n",
       "             ...    \n",
       "180497    182.149994\n",
       "180510    165.990005\n",
       "180511    157.429993\n",
       "180517    186.229996\n",
       "180518    168.949997\n",
       "Name: Benefit per order, Length: 5215, dtype: float64"
      ]
     },
     "execution_count": 960,
     "metadata": {},
     "output_type": "execute_result"
    }
   ],
   "source": [
    "df[\"Benefit per order\"].loc[df[\"Benefit per order\"] > uppertail]"
   ]
  },
  {
   "cell_type": "code",
   "execution_count": 961,
   "metadata": {},
   "outputs": [
    {
     "data": {
      "text/plain": [
       "1        -249.089996\n",
       "2        -247.779999\n",
       "15       -259.579987\n",
       "16       -246.360001\n",
       "33        -97.339996\n",
       "             ...    \n",
       "180486   -279.170013\n",
       "180495   -239.990006\n",
       "180498   -337.100006\n",
       "180499   -258.779999\n",
       "180515   -613.770019\n",
       "Name: Benefit per order, Length: 13727, dtype: float64"
      ]
     },
     "execution_count": 961,
     "metadata": {},
     "output_type": "execute_result"
    }
   ],
   "source": [
    "df[\"Benefit per order\"].loc[df[\"Benefit per order\"] < lowertail]"
   ]
  },
  {
   "cell_type": "markdown",
   "metadata": {},
   "source": [
    "### Sales per customer"
   ]
  },
  {
   "cell_type": "code",
   "execution_count": 962,
   "metadata": {
    "scrolled": false
   },
   "outputs": [
    {
     "data": {
      "text/plain": [
       "<AxesSubplot:xlabel='Sales per customer'>"
      ]
     },
     "execution_count": 962,
     "metadata": {},
     "output_type": "execute_result"
    },
    {
     "data": {
      "image/png": "[encoded data removed]",
      "text/plain": [
       "<Figure size 432x288 with 1 Axes>"
      ]
     },
     "metadata": {},
     "output_type": "display_data"
    }
   ],
   "source": [
    "sns.boxenplot(df[\"Sales per customer\"])"
   ]
  },
  {
   "cell_type": "code",
   "execution_count": 963,
   "metadata": {},
   "outputs": [
    {
     "name": "stdout",
     "output_type": "stream",
     "text": [
      "iqr: 143.0199966\n",
      "uppertail: 461.92998880000005\n",
      "lowertail: -110.14999760000002\n"
     ]
    }
   ],
   "source": [
    "q1 = df[\"Sales per customer\"].quantile(0.25)\n",
    "q2 = df[\"Sales per customer\"].quantile(0.50)\n",
    "q3 = df[\"Sales per customer\"].quantile(0.75)\n",
    "\n",
    "iqr = q3 - q1\n",
    "\n",
    "uppertail = q3 + 1.5 * iqr\n",
    "lowertail = q1 - 1.5 * iqr\n",
    "\n",
    "print(\"iqr:\", iqr)\n",
    "print(\"uppertail:\", uppertail)\n",
    "print(\"lowertail:\", lowertail)"
   ]
  },
  {
   "cell_type": "code",
   "execution_count": 964,
   "metadata": {
    "scrolled": true
   },
   "outputs": [
    {
     "data": {
      "text/plain": [
       "120       499.950012\n",
       "121       494.950012\n",
       "122       484.950012\n",
       "123       479.950012\n",
       "124       479.950012\n",
       "             ...    \n",
       "179597    489.950012\n",
       "179598    484.950012\n",
       "179599    479.950012\n",
       "179600    472.450012\n",
       "179601    464.950012\n",
       "Name: Sales per customer, Length: 1943, dtype: float64"
      ]
     },
     "execution_count": 964,
     "metadata": {},
     "output_type": "execute_result"
    }
   ],
   "source": [
    "df[\"Sales per customer\"].loc[df[\"Sales per customer\"] > uppertail]"
   ]
  },
  {
   "cell_type": "code",
   "execution_count": 965,
   "metadata": {
    "scrolled": false
   },
   "outputs": [
    {
     "data": {
      "text/plain": [
       "Series([], Name: Sales per customer, dtype: float64)"
      ]
     },
     "execution_count": 965,
     "metadata": {},
     "output_type": "execute_result"
    }
   ],
   "source": [
    "df[\"Sales per customer\"].loc[df[\"Sales per customer\"] < lowertail]"
   ]
  },
  {
   "cell_type": "code",
   "execution_count": 966,
   "metadata": {},
   "outputs": [],
   "source": [
    "df.loc[(df[\"Sales per customer\"] > uppertail), \"Sales per customer\"] = uppertail"
   ]
  },
  {
   "cell_type": "code",
   "execution_count": 967,
   "metadata": {},
   "outputs": [
    {
     "data": {
      "text/plain": [
       "<AxesSubplot:xlabel='Sales per customer'>"
      ]
     },
     "execution_count": 967,
     "metadata": {},
     "output_type": "execute_result"
    },
    {
     "data": {
      "image/png": "[encoded data removed]",
      "text/plain": [
       "<Figure size 432x288 with 1 Axes>"
      ]
     },
     "metadata": {},
     "output_type": "display_data"
    }
   ],
   "source": [
    "sns.boxenplot(df[\"Sales per customer\"])"
   ]
  },
  {
   "cell_type": "markdown",
   "metadata": {},
   "source": [
    "### Late_delivery_risk "
   ]
  },
  {
   "cell_type": "code",
   "execution_count": 968,
   "metadata": {},
   "outputs": [
    {
     "data": {
      "text/plain": [
       "<AxesSubplot:xlabel='Late_delivery_risk'>"
      ]
     },
     "execution_count": 968,
     "metadata": {},
     "output_type": "execute_result"
    },
    {
     "data": {
      "image/png": "[encoded data removed]",
      "text/plain": [
       "<Figure size 432x288 with 1 Axes>"
      ]
     },
     "metadata": {},
     "output_type": "display_data"
    }
   ],
   "source": [
    "sns.boxplot(df[\"Late_delivery_risk\"])"
   ]
  },
  {
   "cell_type": "markdown",
   "metadata": {},
   "source": [
    "### Category Id"
   ]
  },
  {
   "cell_type": "code",
   "execution_count": 969,
   "metadata": {
    "scrolled": false
   },
   "outputs": [
    {
     "data": {
      "text/plain": [
       "<AxesSubplot:xlabel='Category Id'>"
      ]
     },
     "execution_count": 969,
     "metadata": {},
     "output_type": "execute_result"
    },
    {
     "data": {
      "image/png": "[encoded data removed]",
      "text/plain": [
       "<Figure size 432x288 with 1 Axes>"
      ]
     },
     "metadata": {},
     "output_type": "display_data"
    }
   ],
   "source": [
    "sns.boxplot(df[\"Category Id\"])"
   ]
  },
  {
   "cell_type": "markdown",
   "metadata": {},
   "source": [
    "### Order Item Discount"
   ]
  },
  {
   "cell_type": "markdown",
   "metadata": {},
   "source": [
    "#### handling outliers"
   ]
  },
  {
   "cell_type": "code",
   "execution_count": 970,
   "metadata": {},
   "outputs": [
    {
     "name": "stdout",
     "output_type": "stream",
     "text": [
      "Q1-->  5.400000095\n",
      "Q2-->  14.0\n",
      "Q3-->  29.98999977\n",
      "Median-->  14.0\n",
      "Upper_tail-->  66.8749992825\n",
      "Lower_tail-->  -31.484999417500003\n"
     ]
    }
   ],
   "source": [
    "q1= df[\"Order Item Discount\"].quantile(0.25)\n",
    "q2= df[\"Order Item Discount\"].quantile(0.50)\n",
    "q3= df[\"Order Item Discount\"].quantile(0.75)\n",
    "\n",
    "median= df[\"Order Item Discount\"].median()\n",
    "\n",
    "iqr= q3-q1\n",
    "\n",
    "upper_tail= q3 + 1.5*iqr\n",
    "lower_tail= q1 - 1.5*iqr\n",
    "\n",
    "print(\"Q1--> \", q1)\n",
    "print(\"Q2--> \", q2)\n",
    "print(\"Q3--> \", q3)\n",
    "\n",
    "print(\"Median--> \", median)\n",
    "print(\"Upper_tail--> \", upper_tail)\n",
    "print(\"Lower_tail--> \", lower_tail)"
   ]
  },
  {
   "cell_type": "code",
   "execution_count": 971,
   "metadata": {},
   "outputs": [
    {
     "data": {
      "text/html": [
       "<div>\n",
       "<style scoped>\n",
       "    .dataframe tbody tr th:only-of-type {\n",
       "        vertical-align: middle;\n",
       "    }\n",
       "\n",
       "    .dataframe tbody tr th {\n",
       "        vertical-align: top;\n",
       "    }\n",
       "\n",
       "    .dataframe thead th {\n",
       "        text-align: right;\n",
       "    }\n",
       "</style>\n",
       "<table border=\"1\" class=\"dataframe\">\n",
       "  <thead>\n",
       "    <tr style=\"text-align: right;\">\n",
       "      <th></th>\n",
       "      <th>Order Item Discount</th>\n",
       "    </tr>\n",
       "  </thead>\n",
       "  <tbody>\n",
       "    <tr>\n",
       "      <th>13</th>\n",
       "      <td>81.940002</td>\n",
       "    </tr>\n",
       "    <tr>\n",
       "      <th>31</th>\n",
       "      <td>81.940002</td>\n",
       "    </tr>\n",
       "    <tr>\n",
       "      <th>65</th>\n",
       "      <td>74.989998</td>\n",
       "    </tr>\n",
       "    <tr>\n",
       "      <th>129</th>\n",
       "      <td>112.489998</td>\n",
       "    </tr>\n",
       "    <tr>\n",
       "      <th>152</th>\n",
       "      <td>82.500000</td>\n",
       "    </tr>\n",
       "    <tr>\n",
       "      <th>...</th>\n",
       "      <td>...</td>\n",
       "    </tr>\n",
       "    <tr>\n",
       "      <th>180495</th>\n",
       "      <td>100.000000</td>\n",
       "    </tr>\n",
       "    <tr>\n",
       "      <th>180510</th>\n",
       "      <td>68.000000</td>\n",
       "    </tr>\n",
       "    <tr>\n",
       "      <th>180511</th>\n",
       "      <td>72.000000</td>\n",
       "    </tr>\n",
       "    <tr>\n",
       "      <th>180512</th>\n",
       "      <td>80.000000</td>\n",
       "    </tr>\n",
       "    <tr>\n",
       "      <th>180513</th>\n",
       "      <td>100.000000</td>\n",
       "    </tr>\n",
       "  </tbody>\n",
       "</table>\n",
       "<p>7537 rows × 1 columns</p>\n",
       "</div>"
      ],
      "text/plain": [
       "        Order Item Discount\n",
       "13                81.940002\n",
       "31                81.940002\n",
       "65                74.989998\n",
       "129              112.489998\n",
       "152               82.500000\n",
       "...                     ...\n",
       "180495           100.000000\n",
       "180510            68.000000\n",
       "180511            72.000000\n",
       "180512            80.000000\n",
       "180513           100.000000\n",
       "\n",
       "[7537 rows x 1 columns]"
      ]
     },
     "execution_count": 971,
     "metadata": {},
     "output_type": "execute_result"
    }
   ],
   "source": [
    "# upper_tail outliers\n",
    "\n",
    "df[[\"Order Item Discount\"]].loc[df[\"Order Item Discount\"] > upper_tail]"
   ]
  },
  {
   "cell_type": "code",
   "execution_count": 972,
   "metadata": {},
   "outputs": [],
   "source": [
    "df.loc[(df[\"Order Item Discount\"] > upper_tail), \"Order Item Discount\"] = upper_tail"
   ]
  },
  {
   "cell_type": "code",
   "execution_count": 973,
   "metadata": {},
   "outputs": [
    {
     "data": {
      "text/html": [
       "<div>\n",
       "<style scoped>\n",
       "    .dataframe tbody tr th:only-of-type {\n",
       "        vertical-align: middle;\n",
       "    }\n",
       "\n",
       "    .dataframe tbody tr th {\n",
       "        vertical-align: top;\n",
       "    }\n",
       "\n",
       "    .dataframe thead th {\n",
       "        text-align: right;\n",
       "    }\n",
       "</style>\n",
       "<table border=\"1\" class=\"dataframe\">\n",
       "  <thead>\n",
       "    <tr style=\"text-align: right;\">\n",
       "      <th></th>\n",
       "      <th>Order Item Discount</th>\n",
       "    </tr>\n",
       "  </thead>\n",
       "  <tbody>\n",
       "  </tbody>\n",
       "</table>\n",
       "</div>"
      ],
      "text/plain": [
       "Empty DataFrame\n",
       "Columns: [Order Item Discount]\n",
       "Index: []"
      ]
     },
     "execution_count": 973,
     "metadata": {},
     "output_type": "execute_result"
    }
   ],
   "source": [
    "df[[\"Order Item Discount\"]].loc[df[\"Order Item Discount\"] > upper_tail]"
   ]
  },
  {
   "cell_type": "code",
   "execution_count": 974,
   "metadata": {
    "scrolled": false
   },
   "outputs": [
    {
     "data": {
      "image/png": "[encoded data removed]",
      "text/plain": [
       "<Figure size 432x288 with 1 Axes>"
      ]
     },
     "metadata": {},
     "output_type": "display_data"
    }
   ],
   "source": [
    "sns.boxplot(df[\"Order Item Discount\"])\n",
    "plt.show()"
   ]
  },
  {
   "cell_type": "markdown",
   "metadata": {},
   "source": [
    "### order date (DateOrders)"
   ]
  },
  {
   "cell_type": "code",
   "execution_count": 708,
   "metadata": {
    "scrolled": false
   },
   "outputs": [
    {
     "data": {
      "text/plain": [
       "0         1/31/2018 22:56\n",
       "1         1/13/2018 12:27\n",
       "2         1/13/2018 12:06\n",
       "3         1/13/2018 11:45\n",
       "4         1/13/2018 11:24\n",
       "               ...       \n",
       "180514     1/16/2016 3:40\n",
       "180515     1/16/2016 1:34\n",
       "180516    1/15/2016 21:00\n",
       "180517    1/15/2016 20:18\n",
       "180518    1/15/2016 18:54\n",
       "Name: order date (DateOrders), Length: 180519, dtype: object"
      ]
     },
     "execution_count": 708,
     "metadata": {},
     "output_type": "execute_result"
    }
   ],
   "source": [
    "df[\"order date (DateOrders)\"]"
   ]
  },
  {
   "cell_type": "raw",
   "metadata": {},
   "source": [
    "# In this example, we first define the date format to match the given date string (\"%m/%d/%Y %H:%M\" represents \n",
    "# the format \"month/day/year hour:minute\"). Then, we use the strptime() function to convert the date string into\n",
    "# a datetime object. Finally, we use the mktime() function from the time module to convert the datetime object\n",
    "# to a Unix timestamp."
   ]
  },
  {
   "cell_type": "code",
   "execution_count": 975,
   "metadata": {},
   "outputs": [],
   "source": [
    "from datetime import datetime\n",
    "import time\n",
    "\n",
    "date_format = \"%m/%d/%Y %H:%M\"\n",
    "for i in df[\"order date (DateOrders)\"]:\n",
    "    date_object = datetime.strptime(i, date_format)\n",
    "    timestamp = int(time.mktime(date_object.timetuple()))\n",
    "    df[\"order date (DateOrders)\"]=timestamp"
   ]
  },
  {
   "cell_type": "code",
   "execution_count": 976,
   "metadata": {},
   "outputs": [
    {
     "data": {
      "text/plain": [
       "0         1452864240\n",
       "1         1452864240\n",
       "2         1452864240\n",
       "3         1452864240\n",
       "4         1452864240\n",
       "             ...    \n",
       "180514    1452864240\n",
       "180515    1452864240\n",
       "180516    1452864240\n",
       "180517    1452864240\n",
       "180518    1452864240\n",
       "Name: order date (DateOrders), Length: 180519, dtype: int64"
      ]
     },
     "execution_count": 976,
     "metadata": {},
     "output_type": "execute_result"
    }
   ],
   "source": [
    "df[\"order date (DateOrders)\"]"
   ]
  },
  {
   "cell_type": "code",
   "execution_count": 977,
   "metadata": {},
   "outputs": [
    {
     "data": {
      "text/html": [
       "<div>\n",
       "<style scoped>\n",
       "    .dataframe tbody tr th:only-of-type {\n",
       "        vertical-align: middle;\n",
       "    }\n",
       "\n",
       "    .dataframe tbody tr th {\n",
       "        vertical-align: top;\n",
       "    }\n",
       "\n",
       "    .dataframe thead th {\n",
       "        text-align: right;\n",
       "    }\n",
       "</style>\n",
       "<table border=\"1\" class=\"dataframe\">\n",
       "  <thead>\n",
       "    <tr style=\"text-align: right;\">\n",
       "      <th></th>\n",
       "      <th>Type</th>\n",
       "      <th>Days for shipping (real)</th>\n",
       "      <th>Days for shipment (scheduled)</th>\n",
       "      <th>Benefit per order</th>\n",
       "      <th>Sales per customer</th>\n",
       "      <th>Delivery Status</th>\n",
       "      <th>Late_delivery_risk</th>\n",
       "      <th>Category Id</th>\n",
       "      <th>Category Name</th>\n",
       "      <th>Customer City</th>\n",
       "      <th>...</th>\n",
       "      <th>Order Zipcode</th>\n",
       "      <th>Product Card Id</th>\n",
       "      <th>Product Category Id</th>\n",
       "      <th>Product Description</th>\n",
       "      <th>Product Image</th>\n",
       "      <th>Product Name</th>\n",
       "      <th>Product Price</th>\n",
       "      <th>Product Status</th>\n",
       "      <th>shipping date (DateOrders)</th>\n",
       "      <th>Shipping Mode</th>\n",
       "    </tr>\n",
       "  </thead>\n",
       "  <tbody>\n",
       "    <tr>\n",
       "      <th>0</th>\n",
       "      <td>0</td>\n",
       "      <td>3</td>\n",
       "      <td>4</td>\n",
       "      <td>91.250000</td>\n",
       "      <td>314.640015</td>\n",
       "      <td>0</td>\n",
       "      <td>0</td>\n",
       "      <td>73</td>\n",
       "      <td>40</td>\n",
       "      <td>66</td>\n",
       "      <td>...</td>\n",
       "      <td>NaN</td>\n",
       "      <td>1360</td>\n",
       "      <td>73</td>\n",
       "      <td>NaN</td>\n",
       "      <td>http://images.acmesports.sports/Smart+watch</td>\n",
       "      <td>78</td>\n",
       "      <td>327.750000</td>\n",
       "      <td>0</td>\n",
       "      <td>1453209840</td>\n",
       "      <td>0</td>\n",
       "    </tr>\n",
       "    <tr>\n",
       "      <th>1</th>\n",
       "      <td>1</td>\n",
       "      <td>5</td>\n",
       "      <td>4</td>\n",
       "      <td>-249.089996</td>\n",
       "      <td>311.359985</td>\n",
       "      <td>1</td>\n",
       "      <td>1</td>\n",
       "      <td>73</td>\n",
       "      <td>40</td>\n",
       "      <td>66</td>\n",
       "      <td>...</td>\n",
       "      <td>NaN</td>\n",
       "      <td>1360</td>\n",
       "      <td>73</td>\n",
       "      <td>NaN</td>\n",
       "      <td>http://images.acmesports.sports/Smart+watch</td>\n",
       "      <td>78</td>\n",
       "      <td>327.750000</td>\n",
       "      <td>0</td>\n",
       "      <td>1453209840</td>\n",
       "      <td>0</td>\n",
       "    </tr>\n",
       "    <tr>\n",
       "      <th>2</th>\n",
       "      <td>2</td>\n",
       "      <td>4</td>\n",
       "      <td>4</td>\n",
       "      <td>-247.779999</td>\n",
       "      <td>309.720001</td>\n",
       "      <td>2</td>\n",
       "      <td>0</td>\n",
       "      <td>73</td>\n",
       "      <td>40</td>\n",
       "      <td>452</td>\n",
       "      <td>...</td>\n",
       "      <td>NaN</td>\n",
       "      <td>1360</td>\n",
       "      <td>73</td>\n",
       "      <td>NaN</td>\n",
       "      <td>http://images.acmesports.sports/Smart+watch</td>\n",
       "      <td>78</td>\n",
       "      <td>327.750000</td>\n",
       "      <td>0</td>\n",
       "      <td>1453209840</td>\n",
       "      <td>0</td>\n",
       "    </tr>\n",
       "    <tr>\n",
       "      <th>3</th>\n",
       "      <td>0</td>\n",
       "      <td>3</td>\n",
       "      <td>4</td>\n",
       "      <td>22.860001</td>\n",
       "      <td>304.809998</td>\n",
       "      <td>0</td>\n",
       "      <td>0</td>\n",
       "      <td>73</td>\n",
       "      <td>40</td>\n",
       "      <td>285</td>\n",
       "      <td>...</td>\n",
       "      <td>NaN</td>\n",
       "      <td>1360</td>\n",
       "      <td>73</td>\n",
       "      <td>NaN</td>\n",
       "      <td>http://images.acmesports.sports/Smart+watch</td>\n",
       "      <td>78</td>\n",
       "      <td>327.750000</td>\n",
       "      <td>0</td>\n",
       "      <td>1453209840</td>\n",
       "      <td>0</td>\n",
       "    </tr>\n",
       "    <tr>\n",
       "      <th>4</th>\n",
       "      <td>3</td>\n",
       "      <td>2</td>\n",
       "      <td>4</td>\n",
       "      <td>134.210007</td>\n",
       "      <td>298.250000</td>\n",
       "      <td>0</td>\n",
       "      <td>0</td>\n",
       "      <td>73</td>\n",
       "      <td>40</td>\n",
       "      <td>66</td>\n",
       "      <td>...</td>\n",
       "      <td>NaN</td>\n",
       "      <td>1360</td>\n",
       "      <td>73</td>\n",
       "      <td>NaN</td>\n",
       "      <td>http://images.acmesports.sports/Smart+watch</td>\n",
       "      <td>78</td>\n",
       "      <td>327.750000</td>\n",
       "      <td>0</td>\n",
       "      <td>1453209840</td>\n",
       "      <td>0</td>\n",
       "    </tr>\n",
       "    <tr>\n",
       "      <th>...</th>\n",
       "      <td>...</td>\n",
       "      <td>...</td>\n",
       "      <td>...</td>\n",
       "      <td>...</td>\n",
       "      <td>...</td>\n",
       "      <td>...</td>\n",
       "      <td>...</td>\n",
       "      <td>...</td>\n",
       "      <td>...</td>\n",
       "      <td>...</td>\n",
       "      <td>...</td>\n",
       "      <td>...</td>\n",
       "      <td>...</td>\n",
       "      <td>...</td>\n",
       "      <td>...</td>\n",
       "      <td>...</td>\n",
       "      <td>...</td>\n",
       "      <td>...</td>\n",
       "      <td>...</td>\n",
       "      <td>...</td>\n",
       "      <td>...</td>\n",
       "    </tr>\n",
       "    <tr>\n",
       "      <th>180514</th>\n",
       "      <td>2</td>\n",
       "      <td>4</td>\n",
       "      <td>4</td>\n",
       "      <td>40.000000</td>\n",
       "      <td>399.980011</td>\n",
       "      <td>2</td>\n",
       "      <td>0</td>\n",
       "      <td>45</td>\n",
       "      <td>18</td>\n",
       "      <td>59</td>\n",
       "      <td>...</td>\n",
       "      <td>NaN</td>\n",
       "      <td>1004</td>\n",
       "      <td>45</td>\n",
       "      <td>NaN</td>\n",
       "      <td>http://images.acmesports.sports/Field+%26+Stre...</td>\n",
       "      <td>24</td>\n",
       "      <td>399.980011</td>\n",
       "      <td>0</td>\n",
       "      <td>1453209840</td>\n",
       "      <td>0</td>\n",
       "    </tr>\n",
       "    <tr>\n",
       "      <th>180515</th>\n",
       "      <td>0</td>\n",
       "      <td>3</td>\n",
       "      <td>2</td>\n",
       "      <td>-613.770019</td>\n",
       "      <td>395.980011</td>\n",
       "      <td>1</td>\n",
       "      <td>1</td>\n",
       "      <td>45</td>\n",
       "      <td>18</td>\n",
       "      <td>26</td>\n",
       "      <td>...</td>\n",
       "      <td>NaN</td>\n",
       "      <td>1004</td>\n",
       "      <td>45</td>\n",
       "      <td>NaN</td>\n",
       "      <td>http://images.acmesports.sports/Field+%26+Stre...</td>\n",
       "      <td>24</td>\n",
       "      <td>399.980011</td>\n",
       "      <td>0</td>\n",
       "      <td>1453209840</td>\n",
       "      <td>1</td>\n",
       "    </tr>\n",
       "    <tr>\n",
       "      <th>180516</th>\n",
       "      <td>1</td>\n",
       "      <td>5</td>\n",
       "      <td>4</td>\n",
       "      <td>141.110001</td>\n",
       "      <td>391.980011</td>\n",
       "      <td>1</td>\n",
       "      <td>1</td>\n",
       "      <td>45</td>\n",
       "      <td>18</td>\n",
       "      <td>55</td>\n",
       "      <td>...</td>\n",
       "      <td>NaN</td>\n",
       "      <td>1004</td>\n",
       "      <td>45</td>\n",
       "      <td>NaN</td>\n",
       "      <td>http://images.acmesports.sports/Field+%26+Stre...</td>\n",
       "      <td>24</td>\n",
       "      <td>399.980011</td>\n",
       "      <td>0</td>\n",
       "      <td>1453209840</td>\n",
       "      <td>0</td>\n",
       "    </tr>\n",
       "    <tr>\n",
       "      <th>180517</th>\n",
       "      <td>3</td>\n",
       "      <td>3</td>\n",
       "      <td>4</td>\n",
       "      <td>186.229996</td>\n",
       "      <td>387.980011</td>\n",
       "      <td>0</td>\n",
       "      <td>0</td>\n",
       "      <td>45</td>\n",
       "      <td>18</td>\n",
       "      <td>66</td>\n",
       "      <td>...</td>\n",
       "      <td>NaN</td>\n",
       "      <td>1004</td>\n",
       "      <td>45</td>\n",
       "      <td>NaN</td>\n",
       "      <td>http://images.acmesports.sports/Field+%26+Stre...</td>\n",
       "      <td>24</td>\n",
       "      <td>399.980011</td>\n",
       "      <td>0</td>\n",
       "      <td>1453209840</td>\n",
       "      <td>0</td>\n",
       "    </tr>\n",
       "    <tr>\n",
       "      <th>180518</th>\n",
       "      <td>3</td>\n",
       "      <td>4</td>\n",
       "      <td>4</td>\n",
       "      <td>168.949997</td>\n",
       "      <td>383.980011</td>\n",
       "      <td>2</td>\n",
       "      <td>0</td>\n",
       "      <td>45</td>\n",
       "      <td>18</td>\n",
       "      <td>66</td>\n",
       "      <td>...</td>\n",
       "      <td>NaN</td>\n",
       "      <td>1004</td>\n",
       "      <td>45</td>\n",
       "      <td>NaN</td>\n",
       "      <td>http://images.acmesports.sports/Field+%26+Stre...</td>\n",
       "      <td>24</td>\n",
       "      <td>399.980011</td>\n",
       "      <td>0</td>\n",
       "      <td>1453209840</td>\n",
       "      <td>0</td>\n",
       "    </tr>\n",
       "  </tbody>\n",
       "</table>\n",
       "<p>180519 rows × 53 columns</p>\n",
       "</div>"
      ],
      "text/plain": [
       "        Type  Days for shipping (real)  Days for shipment (scheduled)  \\\n",
       "0          0                         3                              4   \n",
       "1          1                         5                              4   \n",
       "2          2                         4                              4   \n",
       "3          0                         3                              4   \n",
       "4          3                         2                              4   \n",
       "...      ...                       ...                            ...   \n",
       "180514     2                         4                              4   \n",
       "180515     0                         3                              2   \n",
       "180516     1                         5                              4   \n",
       "180517     3                         3                              4   \n",
       "180518     3                         4                              4   \n",
       "\n",
       "        Benefit per order  Sales per customer  Delivery Status  \\\n",
       "0               91.250000          314.640015                0   \n",
       "1             -249.089996          311.359985                1   \n",
       "2             -247.779999          309.720001                2   \n",
       "3               22.860001          304.809998                0   \n",
       "4              134.210007          298.250000                0   \n",
       "...                   ...                 ...              ...   \n",
       "180514          40.000000          399.980011                2   \n",
       "180515        -613.770019          395.980011                1   \n",
       "180516         141.110001          391.980011                1   \n",
       "180517         186.229996          387.980011                0   \n",
       "180518         168.949997          383.980011                2   \n",
       "\n",
       "        Late_delivery_risk  Category Id  Category Name  Customer City  ...  \\\n",
       "0                        0           73             40             66  ...   \n",
       "1                        1           73             40             66  ...   \n",
       "2                        0           73             40            452  ...   \n",
       "3                        0           73             40            285  ...   \n",
       "4                        0           73             40             66  ...   \n",
       "...                    ...          ...            ...            ...  ...   \n",
       "180514                   0           45             18             59  ...   \n",
       "180515                   1           45             18             26  ...   \n",
       "180516                   1           45             18             55  ...   \n",
       "180517                   0           45             18             66  ...   \n",
       "180518                   0           45             18             66  ...   \n",
       "\n",
       "        Order Zipcode Product Card Id  Product Category Id  \\\n",
       "0                 NaN            1360                   73   \n",
       "1                 NaN            1360                   73   \n",
       "2                 NaN            1360                   73   \n",
       "3                 NaN            1360                   73   \n",
       "4                 NaN            1360                   73   \n",
       "...               ...             ...                  ...   \n",
       "180514            NaN            1004                   45   \n",
       "180515            NaN            1004                   45   \n",
       "180516            NaN            1004                   45   \n",
       "180517            NaN            1004                   45   \n",
       "180518            NaN            1004                   45   \n",
       "\n",
       "        Product Description  \\\n",
       "0                       NaN   \n",
       "1                       NaN   \n",
       "2                       NaN   \n",
       "3                       NaN   \n",
       "4                       NaN   \n",
       "...                     ...   \n",
       "180514                  NaN   \n",
       "180515                  NaN   \n",
       "180516                  NaN   \n",
       "180517                  NaN   \n",
       "180518                  NaN   \n",
       "\n",
       "                                            Product Image Product Name  \\\n",
       "0            http://images.acmesports.sports/Smart+watch            78   \n",
       "1            http://images.acmesports.sports/Smart+watch            78   \n",
       "2            http://images.acmesports.sports/Smart+watch            78   \n",
       "3            http://images.acmesports.sports/Smart+watch            78   \n",
       "4            http://images.acmesports.sports/Smart+watch            78   \n",
       "...                                                   ...          ...   \n",
       "180514  http://images.acmesports.sports/Field+%26+Stre...           24   \n",
       "180515  http://images.acmesports.sports/Field+%26+Stre...           24   \n",
       "180516  http://images.acmesports.sports/Field+%26+Stre...           24   \n",
       "180517  http://images.acmesports.sports/Field+%26+Stre...           24   \n",
       "180518  http://images.acmesports.sports/Field+%26+Stre...           24   \n",
       "\n",
       "        Product Price  Product Status  shipping date (DateOrders)  \\\n",
       "0          327.750000               0                  1453209840   \n",
       "1          327.750000               0                  1453209840   \n",
       "2          327.750000               0                  1453209840   \n",
       "3          327.750000               0                  1453209840   \n",
       "4          327.750000               0                  1453209840   \n",
       "...               ...             ...                         ...   \n",
       "180514     399.980011               0                  1453209840   \n",
       "180515     399.980011               0                  1453209840   \n",
       "180516     399.980011               0                  1453209840   \n",
       "180517     399.980011               0                  1453209840   \n",
       "180518     399.980011               0                  1453209840   \n",
       "\n",
       "        Shipping Mode  \n",
       "0                   0  \n",
       "1                   0  \n",
       "2                   0  \n",
       "3                   0  \n",
       "4                   0  \n",
       "...               ...  \n",
       "180514              0  \n",
       "180515              1  \n",
       "180516              0  \n",
       "180517              0  \n",
       "180518              0  \n",
       "\n",
       "[180519 rows x 53 columns]"
      ]
     },
     "execution_count": 977,
     "metadata": {},
     "output_type": "execute_result"
    }
   ],
   "source": [
    "df"
   ]
  },
  {
   "cell_type": "code",
   "execution_count": 978,
   "metadata": {},
   "outputs": [
    {
     "data": {
      "text/plain": [
       "<AxesSubplot:>"
      ]
     },
     "execution_count": 978,
     "metadata": {},
     "output_type": "execute_result"
    },
    {
     "data": {
      "image/png": "[encoded data removed]",
      "text/plain": [
       "<Figure size 432x288 with 1 Axes>"
      ]
     },
     "metadata": {},
     "output_type": "display_data"
    }
   ],
   "source": [
    "df.boxplot()"
   ]
  },
  {
   "cell_type": "code",
   "execution_count": 980,
   "metadata": {},
   "outputs": [],
   "source": [
    "df.drop(\"Customer Password\",axis = 1,inplace = True)"
   ]
  },
  {
   "cell_type": "code",
   "execution_count": 982,
   "metadata": {},
   "outputs": [],
   "source": [
    "df.drop(\"Product Image\",axis = 1,inplace = True)"
   ]
  },
  {
   "cell_type": "code",
   "execution_count": 986,
   "metadata": {},
   "outputs": [],
   "source": [
    "df.drop(\"Order Zipcode\",axis = 1,inplace = True)"
   ]
  },
  {
   "cell_type": "code",
   "execution_count": 989,
   "metadata": {},
   "outputs": [],
   "source": [
    "df.drop(\"Product Description\",axis = 1,inplace = True)"
   ]
  },
  {
   "cell_type": "code",
   "execution_count": 992,
   "metadata": {},
   "outputs": [],
   "source": [
    "df.drop(\"Customer Email\",axis = 1,inplace = True)"
   ]
  },
  {
   "cell_type": "code",
   "execution_count": 993,
   "metadata": {},
   "outputs": [
    {
     "data": {
      "text/plain": [
       "Index(['Type', 'Days for shipping (real)', 'Days for shipment (scheduled)',\n",
       "       'Benefit per order', 'Sales per customer', 'Delivery Status',\n",
       "       'Late_delivery_risk', 'Category Id', 'Category Name', 'Customer City',\n",
       "       'Customer Country', 'Customer Fname', 'Customer Id', 'Customer Lname',\n",
       "       'Customer Segment', 'Customer State', 'Customer Street',\n",
       "       'Customer Zipcode', 'Department Id', 'Department Name', 'Latitude',\n",
       "       'Longitude', 'Market', 'Order City', 'Order Country',\n",
       "       'Order Customer Id', 'order date (DateOrders)', 'Order Id',\n",
       "       'Order Item Cardprod Id', 'Order Item Discount',\n",
       "       'Order Item Discount Rate', 'Order Item Id', 'Order Item Product Price',\n",
       "       'Order Item Profit Ratio', 'Order Item Quantity', 'Sales',\n",
       "       'Order Item Total', 'Order Profit Per Order', 'Order Region',\n",
       "       'Order State', 'Order Status', 'Product Card Id', 'Product Category Id',\n",
       "       'Product Name', 'Product Price', 'Product Status',\n",
       "       'shipping date (DateOrders)', 'Shipping Mode'],\n",
       "      dtype='object')"
      ]
     },
     "execution_count": 993,
     "metadata": {},
     "output_type": "execute_result"
    }
   ],
   "source": [
    "df.columns"
   ]
  },
  {
   "cell_type": "code",
   "execution_count": 994,
   "metadata": {},
   "outputs": [
    {
     "data": {
      "text/plain": [
       "(180519, 48)"
      ]
     },
     "execution_count": 994,
     "metadata": {},
     "output_type": "execute_result"
    }
   ],
   "source": [
    "df.shape"
   ]
  },
  {
   "cell_type": "markdown",
   "metadata": {},
   "source": [
    "# Feature Selection"
   ]
  },
  {
   "cell_type": "code",
   "execution_count": 1003,
   "metadata": {},
   "outputs": [
    {
     "data": {
      "text/plain": [
       "Type                             0\n",
       "Days for shipping (real)         0\n",
       "Days for shipment (scheduled)    0\n",
       "Benefit per order                0\n",
       "Sales per customer               0\n",
       "Delivery Status                  0\n",
       "Late_delivery_risk               0\n",
       "Category Id                      0\n",
       "Category Name                    0\n",
       "Customer City                    0\n",
       "Customer Country                 0\n",
       "Customer Fname                   0\n",
       "Customer Id                      0\n",
       "Customer Lname                   0\n",
       "Customer Segment                 0\n",
       "Customer State                   0\n",
       "Customer Street                  0\n",
       "Customer Zipcode                 3\n",
       "Department Id                    0\n",
       "Department Name                  0\n",
       "Latitude                         0\n",
       "Longitude                        0\n",
       "Market                           0\n",
       "Order City                       0\n",
       "Order Country                    0\n",
       "Order Customer Id                0\n",
       "order date (DateOrders)          0\n",
       "Order Id                         0\n",
       "Order Item Cardprod Id           0\n",
       "Order Item Discount              0\n",
       "Order Item Discount Rate         0\n",
       "Order Item Id                    0\n",
       "Order Item Product Price         0\n",
       "Order Item Profit Ratio          0\n",
       "Order Item Quantity              0\n",
       "Sales                            0\n",
       "Order Item Total                 0\n",
       "Order Profit Per Order           0\n",
       "Order Region                     0\n",
       "Order State                      0\n",
       "Order Status                     0\n",
       "Product Card Id                  0\n",
       "Product Category Id              0\n",
       "Product Name                     0\n",
       "Product Price                    0\n",
       "Product Status                   0\n",
       "shipping date (DateOrders)       0\n",
       "Shipping Mode                    0\n",
       "dtype: int64"
      ]
     },
     "execution_count": 1003,
     "metadata": {},
     "output_type": "execute_result"
    }
   ],
   "source": [
    "df.isna().sum()"
   ]
  },
  {
   "cell_type": "code",
   "execution_count": null,
   "metadata": {},
   "outputs": [],
   "source": []
  },
  {
   "cell_type": "code",
   "execution_count": null,
   "metadata": {},
   "outputs": [],
   "source": []
  },
  {
   "cell_type": "code",
   "execution_count": 1032,
   "metadata": {},
   "outputs": [],
   "source": [
    "x = df.drop('Order Region',axis = 1)\n",
    "y = df['Order Region']"
   ]
  },
  {
   "cell_type": "markdown",
   "metadata": {},
   "source": [
    "# Train Test Split"
   ]
  },
  {
   "cell_type": "code",
   "execution_count": 1033,
   "metadata": {},
   "outputs": [],
   "source": [
    "x_train,x_test,y_train,y_test = train_test_split(x,y,test_size = 0.2,random_state = 11,stratify = y)"
   ]
  },
  {
   "cell_type": "markdown",
   "metadata": {},
   "source": [
    "# Model Building"
   ]
  },
  {
   "cell_type": "code",
   "execution_count": 1034,
   "metadata": {},
   "outputs": [
    {
     "data": {
      "text/plain": [
       "DecisionTreeClassifier()"
      ]
     },
     "execution_count": 1034,
     "metadata": {},
     "output_type": "execute_result"
    }
   ],
   "source": [
    "dt_clf = DecisionTreeClassifier()\n",
    "dt_clf"
   ]
  },
  {
   "cell_type": "code",
   "execution_count": 1040,
   "metadata": {},
   "outputs": [
    {
     "data": {
      "text/plain": [
       "DecisionTreeClassifier()"
      ]
     },
     "execution_count": 1040,
     "metadata": {},
     "output_type": "execute_result"
    }
   ],
   "source": [
    "dt_clf.fit(x_train,y_train)"
   ]
  },
  {
   "cell_type": "code",
   "execution_count": 1050,
   "metadata": {},
   "outputs": [
    {
     "name": "stdout",
     "output_type": "stream",
     "text": [
      "Confusion Matrix=\n",
      " [[  767     0     0     0     0     0     0     0     0     0     0     0\n",
      "      0     0     0     0     0     0     0     0     0     0     0]\n",
      " [    0  6654     0     0     0     0     0     0     0     0     0     0\n",
      "      0     0     0     0     0     0     0     0     0     0     0]\n",
      " [    0     0  1342     0     0     0     0     0     0     0     0     0\n",
      "      0     0     0     0     0     0     0     0     0     0     0]\n",
      " [    0     0     0 22673     0     0     0     0     0     0     0     0\n",
      "      0     0     0     0     0     0     0     0     0     0     0]\n",
      " [    0     0     0     0   442     0     0     0     0     0     0     0\n",
      "      0     0     0     0     0     0     0     0     0     0     0]\n",
      " [    0     0     0     0     0  1482     0     0     0     0     0     0\n",
      "      0     0     0     0     0     0     0     0     0     0     0]\n",
      " [    0     0     0     0     0     0  5532     0     0     0     0     0\n",
      "      0     0     0     0     0     0     0     0     0     0     0]\n",
      " [    0     0     0     0     0     0     0  5824     0     0     0     0\n",
      "      0     0     0     0     0     0     0     0     0     0     0]\n",
      " [    0     0     0     0     0     0     0     0  3136     0     0     0\n",
      "      0     0     0     0     0     0     0     0     0     0     0]\n",
      " [    0     0     0     0     0     0     0     0     0  2586     0     0\n",
      "      0     0     0     0     0     0     0     0     0     0     0]\n",
      " [    0     0     0     0     0     0     0     0     0     0  7833     0\n",
      "      0     0     0     0     0     0     0     0     0     0     0]\n",
      " [    0     0     0     0     0     0     0     0     0     0     0  8118\n",
      "      0     0     0     0     0     0     0     0     0     0     0]\n",
      " [    0     0     0     0     0     0     0     0     0     0     0     0\n",
      "  11948     0     0     0     0     0     0     0     0     0     0]\n",
      " [    0     0     0     0     0     0     0     0     0     0     0     0\n",
      "      0  6185     0     0     0     0     0     0     0     0     0]\n",
      " [    0     0     0     0     0     0     0     0     0     0     0     0\n",
      "      0     0  3236     0     0     0     0     0     0     0     0]\n",
      " [    0     0     0     0     0     0     0     0     0     0     0     0\n",
      "      0     0     0  7631     0     0     0     0     0     0     0]\n",
      " [    0     0     0     0     0     0     0     0     0     0     0     0\n",
      "      0     0     0     0   926     0     0     0     0     0     0]\n",
      " [    0     0     0     0     0     0     0     0     0     0     0     0\n",
      "      0     0     0     0     0  7545     0     0     0     0     0]\n",
      " [    0     0     0     0     0     0     0     0     0     0     0     0\n",
      "      0     0     0     0     0     0  4710     0     0     0     0]\n",
      " [    0     0     0     0     0     0     0     0     0     0     0     0\n",
      "      0     0     0     0     0     0     0  2957     0     0     0]\n",
      " [    0     0     0     0     0     0     0     0     0     0     0     0\n",
      "      0     0     0     0     0     0     0     0  4807     0     0]\n",
      " [    0     0     0     0     0     0     0     0     0     0     0     0\n",
      "      0     0     0     0     0     0     0     0     0  6394     0]\n",
      " [    0     0     0     0     0     0     0     0     0     0     0     0\n",
      "      0     0     0     0     0     0     0     0     0     0 21687]]\n",
      "********************************************************************************\n",
      "accuracy= 1.0\n",
      "********************************************************************************\n",
      "clf_report=\n",
      "                  precision    recall  f1-score   support\n",
      "\n",
      "         Canada       1.00      1.00      1.00       767\n",
      "      Caribbean       1.00      1.00      1.00      6654\n",
      " Central Africa       1.00      1.00      1.00      1342\n",
      "Central America       1.00      1.00      1.00     22673\n",
      "   Central Asia       1.00      1.00      1.00       442\n",
      "    East Africa       1.00      1.00      1.00      1482\n",
      "    East of USA       1.00      1.00      1.00      5532\n",
      "   Eastern Asia       1.00      1.00      1.00      5824\n",
      " Eastern Europe       1.00      1.00      1.00      3136\n",
      "   North Africa       1.00      1.00      1.00      2586\n",
      "Northern Europe       1.00      1.00      1.00      7833\n",
      "        Oceania       1.00      1.00      1.00      8118\n",
      "  South America       1.00      1.00      1.00     11948\n",
      "     South Asia       1.00      1.00      1.00      6185\n",
      " South of  USA        1.00      1.00      1.00      3236\n",
      " Southeast Asia       1.00      1.00      1.00      7631\n",
      "Southern Africa       1.00      1.00      1.00       926\n",
      "Southern Europe       1.00      1.00      1.00      7545\n",
      "     US Center        1.00      1.00      1.00      4710\n",
      "    West Africa       1.00      1.00      1.00      2957\n",
      "      West Asia       1.00      1.00      1.00      4807\n",
      "   West of USA        1.00      1.00      1.00      6394\n",
      " Western Europe       1.00      1.00      1.00     21687\n",
      "\n",
      "       accuracy                           1.00    144415\n",
      "      macro avg       1.00      1.00      1.00    144415\n",
      "   weighted avg       1.00      1.00      1.00    144415\n",
      "\n"
     ]
    }
   ],
   "source": [
    "# Evaluation on Training data\n",
    "y_pred_train = dt_clf.predict(x_train)\n",
    "\n",
    "cnf_matrix = confusion_matrix(y_train, y_pred_train)\n",
    "print(\"Confusion Matrix=\\n\",cnf_matrix)\n",
    "print(\"*\"*80)\n",
    "\n",
    "accuracy = accuracy_score(y_train, y_pred_train)\n",
    "print(\"accuracy=\", accuracy)\n",
    "print(\"*\"*80)\n",
    "\n",
    "clf_report = classification_report(y_train, y_pred_train)\n",
    "print(\"clf_report=\\n\", clf_report)"
   ]
  },
  {
   "cell_type": "code",
   "execution_count": 1049,
   "metadata": {},
   "outputs": [
    {
     "name": "stdout",
     "output_type": "stream",
     "text": [
      "Confusion Matrix=\n",
      " [[ 192    0    0    0    0    0    0    0    0    0    0    0    0    0\n",
      "     0    0    0    0    0    0    0    0    0]\n",
      " [   0 1664    0    0    0    0    0    0    0    0    0    0    0    0\n",
      "     0    0    0    0    0    0    0    0    0]\n",
      " [   0    0  335    0    0    0    0    0    0    0    0    0    0    0\n",
      "     0    0    0    0    0    0    0    0    0]\n",
      " [   0    0    0 5668    0    0    0    0    0    0    0    0    0    0\n",
      "     0    0    0    0    0    0    0    0    0]\n",
      " [   0    0    0    0  111    0    0    0    0    0    0    0    0    0\n",
      "     0    0    0    0    0    0    0    0    0]\n",
      " [   0    0    0    0    0  369    0    0    0    0    0    0    0    0\n",
      "     0    0    0    0    0    1    0    0    0]\n",
      " [   0    0    0    0    0    0 1383    0    0    0    0    0    0    0\n",
      "     0    0    0    0    0    0    0    0    0]\n",
      " [   0    0    0    0    0    0    0 1456    0    0    0    0    0    0\n",
      "     0    0    0    0    0    0    0    0    0]\n",
      " [   0    0    0    0    0    0    0    0  781    0    0    0    0    0\n",
      "     0    0    0    3    0    0    0    0    0]\n",
      " [   0    0    0    0    0    0    0    0    0  646    0    0    0    0\n",
      "     0    0    0    0    0    0    0    0    0]\n",
      " [   0    0    0    0    0    0    0    0    0    0 1959    0    0    0\n",
      "     0    0    0    0    0    0    0    0    0]\n",
      " [   0    0    0    0    0    0    0    0    0    0    0 2030    0    0\n",
      "     0    0    0    0    0    0    0    0    0]\n",
      " [   0    0    0    0    0    0    0    0    0    0    0    0 2987    0\n",
      "     0    0    0    0    0    0    0    0    0]\n",
      " [   0    0    0    0    0    0    0    0    0    0    0    0    0 1544\n",
      "     0    2    0    0    0    0    0    0    0]\n",
      " [   0    0    0    0    0    0    0    0    0    0    0    0    0    0\n",
      "   809    0    0    0    0    0    0    0    0]\n",
      " [   0    0    0    0    0    0    0    0    0    0    0    0    0    1\n",
      "     0 1907    0    0    0    0    0    0    0]\n",
      " [   0    0    0    0    0    0    0    0    0    0    0    0    0    0\n",
      "     0    0  231    0    0    0    0    0    0]\n",
      " [   0    0    0    0    0    0    0    0    0    0    0    0    0    0\n",
      "     0    0    0 1886    0    0    0    0    0]\n",
      " [   0    0    0    0    0    0    0    0    0    0    0    0    0    0\n",
      "     0    0    0    0 1177    0    0    0    0]\n",
      " [   0    0    0    0    0    0    0    0    0    0    0    0    0    0\n",
      "     0    0    0    0    0  739    0    0    0]\n",
      " [   0    0    0    0    0    0    0    0    0    0    0    0    0    0\n",
      "     0    0    0    0    0    0 1202    0    0]\n",
      " [   0    0    0    0    0    0    0    0    0    0    0    0    0    0\n",
      "     0    0    0    0    0    0    0 1599    0]\n",
      " [   0    0    0    0    0    0    0    0    0    0    0    0    0    0\n",
      "     0    0    0    0    0    0    0    0 5422]]\n",
      "**************************************************\n",
      "accuracy= 0.9998061156658542\n",
      "**************************************************\n",
      "clf_report=\n",
      "                  precision    recall  f1-score   support\n",
      "\n",
      "         Canada       1.00      1.00      1.00       192\n",
      "      Caribbean       1.00      1.00      1.00      1664\n",
      " Central Africa       1.00      1.00      1.00       335\n",
      "Central America       1.00      1.00      1.00      5668\n",
      "   Central Asia       1.00      1.00      1.00       111\n",
      "    East Africa       1.00      1.00      1.00       370\n",
      "    East of USA       1.00      1.00      1.00      1383\n",
      "   Eastern Asia       1.00      1.00      1.00      1456\n",
      " Eastern Europe       1.00      1.00      1.00       784\n",
      "   North Africa       1.00      1.00      1.00       646\n",
      "Northern Europe       1.00      1.00      1.00      1959\n",
      "        Oceania       1.00      1.00      1.00      2030\n",
      "  South America       1.00      1.00      1.00      2987\n",
      "     South Asia       1.00      1.00      1.00      1546\n",
      " South of  USA        1.00      1.00      1.00       809\n",
      " Southeast Asia       1.00      1.00      1.00      1908\n",
      "Southern Africa       1.00      1.00      1.00       231\n",
      "Southern Europe       1.00      1.00      1.00      1886\n",
      "     US Center        1.00      1.00      1.00      1177\n",
      "    West Africa       1.00      1.00      1.00       739\n",
      "      West Asia       1.00      1.00      1.00      1202\n",
      "   West of USA        1.00      1.00      1.00      1599\n",
      " Western Europe       1.00      1.00      1.00      5422\n",
      "\n",
      "       accuracy                           1.00     36104\n",
      "      macro avg       1.00      1.00      1.00     36104\n",
      "   weighted avg       1.00      1.00      1.00     36104\n",
      "\n"
     ]
    }
   ],
   "source": [
    "# Evaluation on Testing data\n",
    "y_pred = dt_clf.predict(x_test)\n",
    "\n",
    "cnf_matrix = confusion_matrix(y_test, y_pred)\n",
    "print(\"Confusion Matrix=\\n\",cnf_matrix)\n",
    "print(\"*\"*80)\n",
    "\n",
    "accuracy = accuracy_score(y_test, y_pred)\n",
    "print(\"accuracy=\", accuracy)\n",
    "print(\"*\"*80)\n",
    "\n",
    "clf_report = classification_report(y_test, y_pred)\n",
    "print(\"clf_report=\\n\", clf_report)"
   ]
  },
  {
   "cell_type": "markdown",
   "metadata": {},
   "source": [
    "### Feature Selection Techniques"
   ]
  },
  {
   "cell_type": "raw",
   "metadata": {},
   "source": [
    "1. Filter Method\n",
    "2. Wrapper Method\n",
    "3. Embedded Method --> DT feature importance method"
   ]
  },
  {
   "cell_type": "code",
   "execution_count": 1055,
   "metadata": {},
   "outputs": [
    {
     "data": {
      "text/plain": [
       "array([0.00000000e+00, 0.00000000e+00, 2.40547248e-05, 1.40945653e-05,\n",
       "       0.00000000e+00, 0.00000000e+00, 0.00000000e+00, 1.08718049e-02,\n",
       "       0.00000000e+00, 0.00000000e+00, 0.00000000e+00, 7.02750839e-05,\n",
       "       3.54377641e-05, 1.51968607e-06, 0.00000000e+00, 0.00000000e+00,\n",
       "       5.66503493e-05, 1.49497412e-05, 0.00000000e+00, 0.00000000e+00,\n",
       "       2.02407184e-05, 6.29830752e-05, 2.42250891e-01, 2.51585173e-02,\n",
       "       5.27261546e-01, 9.43895524e-06, 0.00000000e+00, 5.54521979e-02,\n",
       "       0.00000000e+00, 0.00000000e+00, 0.00000000e+00, 6.21144057e-04,\n",
       "       0.00000000e+00, 1.47817860e-05, 0.00000000e+00, 0.00000000e+00,\n",
       "       0.00000000e+00, 1.42509897e-05, 1.38045221e-01, 0.00000000e+00,\n",
       "       0.00000000e+00, 0.00000000e+00, 0.00000000e+00, 0.00000000e+00,\n",
       "       0.00000000e+00, 0.00000000e+00, 0.00000000e+00])"
      ]
     },
     "execution_count": 1055,
     "metadata": {},
     "output_type": "execute_result"
    }
   ],
   "source": [
    "dt_clf.feature_importances_"
   ]
  },
  {
   "cell_type": "code",
   "execution_count": 1056,
   "metadata": {},
   "outputs": [
    {
     "data": {
      "text/plain": [
       "1.0"
      ]
     },
     "execution_count": 1056,
     "metadata": {},
     "output_type": "execute_result"
    }
   ],
   "source": [
    "sum(dt_clf.feature_importances_)"
   ]
  },
  {
   "cell_type": "code",
   "execution_count": 1057,
   "metadata": {},
   "outputs": [
    {
     "data": {
      "text/plain": [
       "array([0.00000000e+00, 0.00000000e+00, 2.40547248e-05, 1.40945653e-05,\n",
       "       0.00000000e+00, 0.00000000e+00, 0.00000000e+00, 1.08718049e-02,\n",
       "       0.00000000e+00, 0.00000000e+00, 0.00000000e+00, 7.02750839e-05,\n",
       "       3.54377641e-05, 1.51968607e-06, 0.00000000e+00, 0.00000000e+00,\n",
       "       5.66503493e-05, 1.49497412e-05, 0.00000000e+00, 0.00000000e+00,\n",
       "       2.02407184e-05, 6.29830752e-05, 2.42250891e-01, 2.51585173e-02,\n",
       "       5.27261546e-01, 9.43895524e-06, 0.00000000e+00, 5.54521979e-02,\n",
       "       0.00000000e+00, 0.00000000e+00, 0.00000000e+00, 6.21144057e-04,\n",
       "       0.00000000e+00, 1.47817860e-05, 0.00000000e+00, 0.00000000e+00,\n",
       "       0.00000000e+00, 1.42509897e-05, 1.38045221e-01, 0.00000000e+00,\n",
       "       0.00000000e+00, 0.00000000e+00, 0.00000000e+00, 0.00000000e+00,\n",
       "       0.00000000e+00, 0.00000000e+00, 0.00000000e+00])"
      ]
     },
     "execution_count": 1057,
     "metadata": {},
     "output_type": "execute_result"
    }
   ],
   "source": [
    "array = dt_clf.feature_importances_\n",
    "array"
   ]
  },
  {
   "cell_type": "code",
   "execution_count": 1061,
   "metadata": {},
   "outputs": [
    {
     "data": {
      "text/plain": [
       "Type                              0.000000\n",
       "Days for shipping (real)          0.000000\n",
       "Days for shipment (scheduled)     0.002405\n",
       "Benefit per order                 0.001409\n",
       "Sales per customer                0.000000\n",
       "Delivery Status                   0.000000\n",
       "Late_delivery_risk                0.000000\n",
       "Category Id                       1.087180\n",
       "Category Name                     0.000000\n",
       "Customer City                     0.000000\n",
       "Customer Country                  0.000000\n",
       "Customer Fname                    0.007028\n",
       "Customer Id                       0.003544\n",
       "Customer Lname                    0.000152\n",
       "Customer Segment                  0.000000\n",
       "Customer State                    0.000000\n",
       "Customer Street                   0.005665\n",
       "Customer Zipcode                  0.001495\n",
       "Department Id                     0.000000\n",
       "Department Name                   0.000000\n",
       "Latitude                          0.002024\n",
       "Longitude                         0.006298\n",
       "Market                           24.225089\n",
       "Order City                        2.515852\n",
       "Order Country                    52.726155\n",
       "Order Customer Id                 0.000944\n",
       "order date (DateOrders)           0.000000\n",
       "Order Id                          5.545220\n",
       "Order Item Cardprod Id            0.000000\n",
       "Order Item Discount               0.000000\n",
       "Order Item Discount Rate          0.000000\n",
       "Order Item Id                     0.062114\n",
       "Order Item Product Price          0.000000\n",
       "Order Item Profit Ratio           0.001478\n",
       "Order Item Quantity               0.000000\n",
       "Sales                             0.000000\n",
       "Order Item Total                  0.000000\n",
       "Order Profit Per Order            0.001425\n",
       "Order State                      13.804522\n",
       "Order Status                      0.000000\n",
       "Product Card Id                   0.000000\n",
       "Product Category Id               0.000000\n",
       "Product Name                      0.000000\n",
       "Product Price                     0.000000\n",
       "Product Status                    0.000000\n",
       "shipping date (DateOrders)        0.000000\n",
       "Shipping Mode                     0.000000\n",
       "dtype: float64"
      ]
     },
     "execution_count": 1061,
     "metadata": {},
     "output_type": "execute_result"
    }
   ],
   "source": [
    "pd.Series(array * 100,index = x.columns)"
   ]
  },
  {
   "cell_type": "code",
   "execution_count": 1060,
   "metadata": {},
   "outputs": [
    {
     "data": {
      "text/plain": [
       "<AxesSubplot:>"
      ]
     },
     "execution_count": 1060,
     "metadata": {},
     "output_type": "execute_result"
    },
    {
     "data": {
      "image/png": "[encoded data removed]",
      "text/plain": [
       "<Figure size 432x288 with 1 Axes>"
      ]
     },
     "metadata": {},
     "output_type": "display_data"
    }
   ],
   "source": [
    "s1 = pd.Series(array * 100,index = x.columns)\n",
    "s1.sort_values().plot(kind = 'bar')"
   ]
  },
  {
   "cell_type": "markdown",
   "metadata": {},
   "source": [
    "# Hyperparameter Tunning"
   ]
  },
  {
   "cell_type": "code",
   "execution_count": 1064,
   "metadata": {},
   "outputs": [
    {
     "name": "stdout",
     "output_type": "stream",
     "text": [
      "Required Time is ---> 62.56360054016113 seconds\n"
     ]
    }
   ],
   "source": [
    "import time\n",
    "t1 = time.time()\n",
    "\n",
    "dt_model = DecisionTreeClassifier(random_state=11)\n",
    "\n",
    "# criterion='gini',\n",
    "# max_depth=None,\n",
    "# min_samples_split=2,\n",
    "# min_samples_leaf=1,\n",
    "# max_features=None,  # Random forest\n",
    "# random_state=None,\n",
    "# ccp_alpha=0.0,# ----> Prunning\n",
    "\n",
    "hyperparametr = {\"criterion\":['gini','entropy'],\n",
    "                'max_depth':np.arange(3,8),\n",
    "                'min_samples_split':np.arange(2,20),\n",
    "                'min_samples_leaf':np.arange(2,15)}\n",
    "\n",
    "gscv_dt_clf = RandomizedSearchCV(dt_model,hyperparametr,cv = 5,n_jobs = -1)\n",
    "gscv_dt_clf.fit(x_train,y_train)\n",
    "\n",
    "t2 = time.time()\n",
    "print(\"Required Time is --->\",t2 - t1,\"seconds\")"
   ]
  },
  {
   "cell_type": "code",
   "execution_count": 1065,
   "metadata": {},
   "outputs": [
    {
     "data": {
      "text/plain": [
       "DecisionTreeClassifier(criterion='entropy', max_depth=7, min_samples_leaf=8,\n",
       "                       min_samples_split=10, random_state=11)"
      ]
     },
     "execution_count": 1065,
     "metadata": {},
     "output_type": "execute_result"
    }
   ],
   "source": [
    "gscv_dt_clf.best_estimator_"
   ]
  },
  {
   "cell_type": "code",
   "execution_count": 1067,
   "metadata": {
    "scrolled": true
   },
   "outputs": [
    {
     "name": "stdout",
     "output_type": "stream",
     "text": [
      "Confusion Matrix ---->\n",
      " [[  767     0     0     0     0     0     0     0     0     0     0     0\n",
      "      0     0     0     0     0     0     0     0     0     0     0]\n",
      " [    0  6194     0   460     0     0     0     0     0     0     0     0\n",
      "      0     0     0     0     0     0     0     0     0     0     0]\n",
      " [    0     0  1049     0     0     0     0     0     0   293     0     0\n",
      "      0     0     0     0     0     0     0     0     0     0     0]\n",
      " [    0     0     0 22673     0     0     0     0     0     0     0     0\n",
      "      0     0     0     0     0     0     0     0     0     0     0]\n",
      " [    0     0     0     0     0     0     0     0     0     0     0     0\n",
      "      0     0     0     0     0     0     0     0   442     0     0]\n",
      " [    0     0     0     0     0  1067     0     0     0   345     0     0\n",
      "      0     0     0     0     0     0     0    70     0     0     0]\n",
      " [    0     0     0     0     0     0  4647     0     0     0     0     0\n",
      "      0     0   406     0     0     0   479     0     0     0     0]\n",
      " [    0     0     0     0     0     0     0  5618     0     0     0     0\n",
      "      0    18     0   131     0     0     0     0    57     0     0]\n",
      " [    0     0     0     0     0     0     0     0  2762     0    61     0\n",
      "      0     0     0     0     0    15     0     0     0     0   298]\n",
      " [    0     0     0     0     0    28     0     0     0  2547     0     0\n",
      "      0     0     0     0     0     0     0    11     0     0     0]\n",
      " [    0     0     0     0     0     0     0     0   123     0  7431     0\n",
      "      0     0     0     0     0   213     0     0     0     0    66]\n",
      " [    0     0     0     0     0     0     0     0     0     0     0  8066\n",
      "      0     0     0    52     0     0     0     0     0     0     0]\n",
      " [    0    10     0    27     0     0     0     0     0     0     0     0\n",
      "  11911     0     0     0     0     0     0     0     0     0     0]\n",
      " [    0     0     0     0     0     0     0     0     0     0     0     0\n",
      "      0  5510     0   675     0     0     0     0     0     0     0]\n",
      " [    0     0     0     0     0     0     0     0     0     0     0     0\n",
      "      0     0  2639     0     0     0   479     0     0   118     0]\n",
      " [    0     0     0     0     0     0     0     0     0     0     0     0\n",
      "      0   313     0  7318     0     0     0     0     0     0     0]\n",
      " [    0     0    10     0     0    15     0     0     0    17     0     0\n",
      "      0     0     0     0   884     0     0     0     0     0     0]\n",
      " [    0     0     0     0     0     0     0     0    20     0    11     0\n",
      "      0     0     0     0     0  7448     0     0     0     0    66]\n",
      " [    0     0     0     0     0     0   141     0     0     0     0     0\n",
      "      0     0    34     0     0     0  4288     0     0   247     0]\n",
      " [    0     0    80     0     0   115     0     0     0   294     0     0\n",
      "      0     0     0     0     0     0     0  2468     0     0     0]\n",
      " [    0     0     0     0     0     0     0     0     0     0     0     0\n",
      "      0   871     0     0     0     0     0     0  3936     0     0]\n",
      " [    0     0     0     0     0     0   361     0     0     0     0     0\n",
      "      0     0   122     0     0     0    74     0     0  5837     0]\n",
      " [    0     0     0     0     0     0     0     0    22     0     9     0\n",
      "      0     0     0     0     0     0     0     0     0     0 21656]]\n",
      "**************************************************\n",
      "Accuracy is ----> 0.946688363397154\n",
      "**************************************************\n",
      "Classification Report ---->\n",
      "                  precision    recall  f1-score   support\n",
      "\n",
      "         Canada       1.00      1.00      1.00       767\n",
      "      Caribbean       1.00      0.93      0.96      6654\n",
      " Central Africa       0.92      0.78      0.85      1342\n",
      "Central America       0.98      1.00      0.99     22673\n",
      "   Central Asia       0.00      0.00      0.00       442\n",
      "    East Africa       0.87      0.72      0.79      1482\n",
      "    East of USA       0.90      0.84      0.87      5532\n",
      "   Eastern Asia       1.00      0.96      0.98      5824\n",
      " Eastern Europe       0.94      0.88      0.91      3136\n",
      "   North Africa       0.73      0.98      0.84      2586\n",
      "Northern Europe       0.99      0.95      0.97      7833\n",
      "        Oceania       1.00      0.99      1.00      8118\n",
      "  South America       1.00      1.00      1.00     11948\n",
      "     South Asia       0.82      0.89      0.85      6185\n",
      " South of  USA        0.82      0.82      0.82      3236\n",
      " Southeast Asia       0.90      0.96      0.93      7631\n",
      "Southern Africa       1.00      0.95      0.98       926\n",
      "Southern Europe       0.97      0.99      0.98      7545\n",
      "     US Center        0.81      0.91      0.86      4710\n",
      "    West Africa       0.97      0.83      0.90      2957\n",
      "      West Asia       0.89      0.82      0.85      4807\n",
      "   West of USA        0.94      0.91      0.93      6394\n",
      " Western Europe       0.98      1.00      0.99     21687\n",
      "\n",
      "       accuracy                           0.95    144415\n",
      "      macro avg       0.89      0.87      0.88    144415\n",
      "   weighted avg       0.95      0.95      0.95    144415\n",
      "\n"
     ]
    }
   ],
   "source": [
    "# Training Accuracy\n",
    "\n",
    "y_pred_train = dt_clf.predict(x_train)\n",
    "\n",
    "cnf_matrix = confusion_matrix(y_train,y_pred_train)\n",
    "print(\"Confusion Matrix ---->\\n\",cnf_matrix)\n",
    "print(\"*\"*50)\n",
    "\n",
    "accuracy = accuracy_score(y_train,y_pred_train)\n",
    "print(\"Accuracy is ---->\",accuracy)\n",
    "print(\"*\"*50)\n",
    "\n",
    "clf_report = classification_report(y_train,y_pred_train)\n",
    "print(\"Classification Report ---->\\n\",clf_report)\n"
   ]
  },
  {
   "cell_type": "code",
   "execution_count": 1068,
   "metadata": {},
   "outputs": [
    {
     "name": "stdout",
     "output_type": "stream",
     "text": [
      "Confusion Matrix ---->\n",
      " [[ 192    0    0    0    0    0    0    0    0    0    0    0    0    0\n",
      "     0    0    0    0    0    0    0    0    0]\n",
      " [   0 1554    0  110    0    0    0    0    0    0    0    0    0    0\n",
      "     0    0    0    0    0    0    0    0    0]\n",
      " [   0    0  275    0    0    0    0    0    0   60    0    0    0    0\n",
      "     0    0    0    0    0    0    0    0    0]\n",
      " [   0    0    0 5668    0    0    0    0    0    0    0    0    0    0\n",
      "     0    0    0    0    0    0    0    0    0]\n",
      " [   0    0    0    0    0    0    0    0    0    0    0    0    0    0\n",
      "     0    0    0    0    0    0  111    0    0]\n",
      " [   0    0    1    0    0  284    0    0    0   69    0    0    0    0\n",
      "     0    0    0    0    0   16    0    0    0]\n",
      " [   0    0    0    0    0    0 1157    0    0    0    0    0    0    0\n",
      "    97    0    0    0  129    0    0    0    0]\n",
      " [   0    0    0    0    0    0    0 1399    0    0    0    0    0    0\n",
      "     0   37    0    0    0    0   20    0    0]\n",
      " [   0    0    0    0    0    0    0    0  682    0   17    0    0    0\n",
      "     0    0    0    7    0    0    0    0   78]\n",
      " [   0    0    0    0    0    8    0    0    0  633    0    0    0    0\n",
      "     0    0    0    0    0    5    0    0    0]\n",
      " [   0    0    0    0    0    0    0    0   37    0 1839    0    0    0\n",
      "     0    0    0   72    0    0    0    0   11]\n",
      " [   0    0    0    0    0    0    0    0    0    0    0 2021    0    0\n",
      "     0    9    0    0    0    0    0    0    0]\n",
      " [   0    2    0    1    0    0    0    0    0    0    0    0 2984    0\n",
      "     0    0    0    0    0    0    0    0    0]\n",
      " [   0    0    0    0    0    0    0    0    0    0    0    0    0 1367\n",
      "     0  179    0    0    0    0    0    0    0]\n",
      " [   0    0    0    0    0    0    0    0    0    0    0    0    0    0\n",
      "   665    0    0    0  115    0    0   29    0]\n",
      " [   0    0    0    0    0    0    0    0    0    0    0    0    0   86\n",
      "     0 1822    0    0    0    0    0    0    0]\n",
      " [   0    0    3    0    0    5    0    0    0    3    0    0    0    0\n",
      "     0    0  220    0    0    0    0    0    0]\n",
      " [   0    0    0    0    0    0    0    0    8    0    6    0    0    0\n",
      "     0    0    0 1856    0    0    0    0   16]\n",
      " [   0    0    0    0    0    0   34    0    0    0    0    0    0    0\n",
      "    15    0    0    0 1068    0    0   60    0]\n",
      " [   0    0   21    0    0   30    0    0    0   80    0    0    0    0\n",
      "     0    0    0    0    0  608    0    0    0]\n",
      " [   0    0    0    0    0    0    0    0    0    0    0    0    0  227\n",
      "     0    0    0    0    0    0  975    0    0]\n",
      " [   1    0    0    0    0    0  117    0    0    0    0    0    0    0\n",
      "    33    0    0    0   18    0    0 1430    0]\n",
      " [   0    0    0    0    0    0    0    0    6    0    1    0    0    0\n",
      "     0    0    0    0    0    0    0    0 5415]]\n",
      "**************************************************\n",
      "Accuracy is ----> 0.9448814535785508\n",
      "**************************************************\n",
      "Classification Report ---->\n",
      "                  precision    recall  f1-score   support\n",
      "\n",
      "         Canada       0.99      1.00      1.00       192\n",
      "      Caribbean       1.00      0.93      0.97      1664\n",
      " Central Africa       0.92      0.82      0.87       335\n",
      "Central America       0.98      1.00      0.99      5668\n",
      "   Central Asia       0.00      0.00      0.00       111\n",
      "    East Africa       0.87      0.77      0.81       370\n",
      "    East of USA       0.88      0.84      0.86      1383\n",
      "   Eastern Asia       1.00      0.96      0.98      1456\n",
      " Eastern Europe       0.93      0.87      0.90       784\n",
      "   North Africa       0.75      0.98      0.85       646\n",
      "Northern Europe       0.99      0.94      0.96      1959\n",
      "        Oceania       1.00      1.00      1.00      2030\n",
      "  South America       1.00      1.00      1.00      2987\n",
      "     South Asia       0.81      0.88      0.85      1546\n",
      " South of  USA        0.82      0.82      0.82       809\n",
      " Southeast Asia       0.89      0.95      0.92      1908\n",
      "Southern Africa       1.00      0.95      0.98       231\n",
      "Southern Europe       0.96      0.98      0.97      1886\n",
      "     US Center        0.80      0.91      0.85      1177\n",
      "    West Africa       0.97      0.82      0.89       739\n",
      "      West Asia       0.88      0.81      0.84      1202\n",
      "   West of USA        0.94      0.89      0.92      1599\n",
      " Western Europe       0.98      1.00      0.99      5422\n",
      "\n",
      "       accuracy                           0.94     36104\n",
      "      macro avg       0.89      0.88      0.88     36104\n",
      "   weighted avg       0.94      0.94      0.94     36104\n",
      "\n"
     ]
    }
   ],
   "source": [
    "dt_clf = gscv_dt_clf.best_estimator_\n",
    "dt_clf.fit(x_train,y_train)\n",
    "\n",
    "# Testing Accuracy\n",
    "\n",
    "y_pred = dt_clf.predict(x_test)\n",
    "\n",
    "cnf_matrix = confusion_matrix(y_test,y_pred)\n",
    "print(\"Confusion Matrix ---->\\n\",cnf_matrix)\n",
    "print(\"*\"*50)\n",
    "\n",
    "accuracy = accuracy_score(y_test,y_pred)\n",
    "print(\"Accuracy is ---->\",accuracy)\n",
    "print(\"*\"*50)\n",
    "\n",
    "clf_report = classification_report(y_test,y_pred)\n",
    "print(\"Classification Report ---->\\n\",clf_report)\n"
   ]
  },
  {
   "cell_type": "markdown",
   "metadata": {},
   "source": [
    "### Cost Complexity Prunning"
   ]
  },
  {
   "cell_type": "code",
   "execution_count": 1070,
   "metadata": {},
   "outputs": [
    {
     "data": {
      "text/plain": [
       "{'ccp_alphas': array([0.00000000e+00, 3.28879255e-04, 9.32306337e-04, 1.04433991e-03,\n",
       "        1.15834522e-03, 1.48186512e-03, 1.68761399e-03, 1.70757547e-03,\n",
       "        1.75288216e-03, 1.81453976e-03, 1.83281496e-03, 1.94071498e-03,\n",
       "        1.97745808e-03, 2.65817630e-03, 2.79138801e-03, 2.90048981e-03,\n",
       "        3.30217737e-03, 3.46308053e-03, 3.52026632e-03, 3.53625982e-03,\n",
       "        4.34509904e-03, 4.38920213e-03, 4.89399767e-03, 4.99199016e-03,\n",
       "        5.02752167e-03, 5.86473085e-03, 6.00042239e-03, 6.11055782e-03,\n",
       "        6.16550600e-03, 6.38490786e-03, 6.53050853e-03, 6.54857757e-03,\n",
       "        7.05840579e-03, 7.23579129e-03, 7.43218516e-03, 7.70772611e-03,\n",
       "        8.32207981e-03, 8.40584616e-03, 1.04459237e-02, 1.10363767e-02,\n",
       "        1.16831277e-02, 1.20015981e-02, 1.31780287e-02, 1.33309015e-02,\n",
       "        1.35705434e-02, 1.62567715e-02, 1.64206042e-02, 1.86481310e-02,\n",
       "        2.08350050e-02, 2.14337588e-02, 2.47667058e-02, 2.50629970e-02,\n",
       "        2.51402664e-02, 2.51803661e-02, 2.78571753e-02, 2.96901389e-02,\n",
       "        3.32812403e-02, 3.53666074e-02, 3.66788796e-02, 4.72607929e-02,\n",
       "        5.82760765e-02, 6.40798011e-02, 7.43112805e-02, 7.74282177e-02,\n",
       "        8.86116830e-02, 1.18878783e-01, 1.48835435e-01, 1.74090563e-01,\n",
       "        1.90896773e-01, 4.35069663e-01, 5.64108904e-01, 9.88082156e-01]),\n",
       " 'impurities': array([0.21694943, 0.21727831, 0.21821062, 0.21925496, 0.2204133 ,\n",
       "        0.22189517, 0.22358278, 0.22529036, 0.22704324, 0.22885778,\n",
       "        0.23069059, 0.23263131, 0.23460877, 0.23992512, 0.24271651,\n",
       "        0.24851749, 0.25181966, 0.25528274, 0.25880301, 0.26233927,\n",
       "        0.26668437, 0.27107357, 0.27596757, 0.28595155, 0.29097907,\n",
       "        0.2968438 , 0.30284422, 0.31506534, 0.32123085, 0.32761575,\n",
       "        0.33414626, 0.34069484, 0.34775325, 0.35498904, 0.36242122,\n",
       "        0.37012895, 0.37845103, 0.38685687, 0.40774872, 0.4187851 ,\n",
       "        0.44215135, 0.45415295, 0.46733098, 0.48066188, 0.49423242,\n",
       "        0.5104892 , 0.5269098 , 0.54555793, 0.56639294, 0.5878267 ,\n",
       "        0.6125934 , 0.6376564 , 0.68793693, 0.7131173 , 0.74097447,\n",
       "        0.80035475, 0.83363599, 0.8690026 , 0.90568148, 1.04746386,\n",
       "        1.10573993, 1.16981973, 1.24413101, 1.32155923, 1.41017092,\n",
       "        1.5290497 , 1.67788513, 1.85197569, 2.04287247, 2.47794213,\n",
       "        3.04205104, 4.03013319])}"
      ]
     },
     "execution_count": 1070,
     "metadata": {},
     "output_type": "execute_result"
    }
   ],
   "source": [
    "result = dt_clf.cost_complexity_pruning_path(x_train,y_train)\n",
    "result"
   ]
  },
  {
   "cell_type": "code",
   "execution_count": 1072,
   "metadata": {},
   "outputs": [
    {
     "data": {
      "text/plain": [
       "array([0.00000000e+00, 3.28879255e-04, 9.32306337e-04, 1.04433991e-03,\n",
       "       1.15834522e-03, 1.48186512e-03, 1.68761399e-03, 1.70757547e-03,\n",
       "       1.75288216e-03, 1.81453976e-03, 1.83281496e-03, 1.94071498e-03,\n",
       "       1.97745808e-03, 2.65817630e-03, 2.79138801e-03, 2.90048981e-03,\n",
       "       3.30217737e-03, 3.46308053e-03, 3.52026632e-03, 3.53625982e-03,\n",
       "       4.34509904e-03, 4.38920213e-03, 4.89399767e-03, 4.99199016e-03,\n",
       "       5.02752167e-03, 5.86473085e-03, 6.00042239e-03, 6.11055782e-03,\n",
       "       6.16550600e-03, 6.38490786e-03, 6.53050853e-03, 6.54857757e-03,\n",
       "       7.05840579e-03, 7.23579129e-03, 7.43218516e-03, 7.70772611e-03,\n",
       "       8.32207981e-03, 8.40584616e-03, 1.04459237e-02, 1.10363767e-02,\n",
       "       1.16831277e-02, 1.20015981e-02, 1.31780287e-02, 1.33309015e-02,\n",
       "       1.35705434e-02, 1.62567715e-02, 1.64206042e-02, 1.86481310e-02,\n",
       "       2.08350050e-02, 2.14337588e-02, 2.47667058e-02, 2.50629970e-02,\n",
       "       2.51402664e-02, 2.51803661e-02, 2.78571753e-02, 2.96901389e-02,\n",
       "       3.32812403e-02, 3.53666074e-02, 3.66788796e-02, 4.72607929e-02,\n",
       "       5.82760765e-02, 6.40798011e-02, 7.43112805e-02, 7.74282177e-02,\n",
       "       8.86116830e-02, 1.18878783e-01, 1.48835435e-01, 1.74090563e-01,\n",
       "       1.90896773e-01, 4.35069663e-01, 5.64108904e-01, 9.88082156e-01])"
      ]
     },
     "execution_count": 1072,
     "metadata": {},
     "output_type": "execute_result"
    }
   ],
   "source": [
    "result = dt_clf.cost_complexity_pruning_path(x_train,y_train)\n",
    "ccp_alpha_list = result['ccp_alphas']\n",
    "ccp_alpha_list"
   ]
  },
  {
   "cell_type": "code",
   "execution_count": 1073,
   "metadata": {},
   "outputs": [
    {
     "name": "stdout",
     "output_type": "stream",
     "text": [
      "1.0\n",
      "0.9997784179038334\n",
      "0.9953605927362116\n",
      "0.9952636826944383\n",
      "0.9738392826229962\n",
      "0.9727730999335253\n",
      "0.9738392826229962\n",
      "0.9727730999335253\n",
      "0.9738392826229962\n",
      "0.9727730999335253\n",
      "0.9687151611674688\n",
      "0.9678428982938179\n",
      "0.9654468026174566\n",
      "0.9644914690892976\n",
      "0.9654468026174566\n",
      "0.9644914690892976\n",
      "0.9654468026174566\n",
      "0.9644914690892976\n",
      "0.9654468026174566\n",
      "0.9644914690892976\n",
      "0.963653360108022\n",
      "0.9631065809882562\n",
      "0.9619222379946681\n",
      "0.9614724130290273\n",
      "0.9619222379946681\n",
      "0.9614724130290273\n",
      "0.9352837309143787\n",
      "0.9343840017726568\n",
      "0.931406017380466\n",
      "0.9304509195656991\n",
      "0.9234359311705848\n",
      "0.922058497673388\n",
      "0.9150019042343247\n",
      "0.9136106802570352\n",
      "0.9150019042343247\n",
      "0.9136106802570352\n",
      "0.9101478378284804\n",
      "0.9087358741413694\n",
      "0.9101478378284804\n",
      "0.9087358741413694\n",
      "0.9053560918187169\n",
      "0.9026977620208287\n",
      "0.9053560918187169\n",
      "0.9026977620208287\n",
      "0.9053560918187169\n",
      "0.9026977620208287\n",
      "0.9053560918187169\n",
      "0.9026977620208287\n",
      "0.9053560918187169\n",
      "0.9026977620208287\n",
      "0.8943669286431465\n",
      "0.891812541546643\n",
      "0.8862652771526504\n",
      "0.8837801905606028\n",
      "0.8862652771526504\n",
      "0.8837801905606028\n",
      "0.8862652771526504\n",
      "0.8837801905606028\n",
      "0.8809541945088807\n",
      "0.8784622202526036\n",
      "0.8809541945088807\n",
      "0.8784622202526036\n",
      "0.8809541945088807\n",
      "0.8784622202526036\n",
      "0.8650209465775716\n",
      "0.8624252160425437\n",
      "0.8650209465775716\n",
      "0.8624252160425437\n",
      "0.8650209465775716\n",
      "0.8624252160425437\n",
      "0.8465810338261262\n",
      "0.8443662752049634\n",
      "0.8402659003566112\n",
      "0.8386051407046311\n",
      "0.8402659003566112\n",
      "0.8386051407046311\n",
      "0.8111691998753592\n",
      "0.8083314868158653\n",
      "0.7924661565626839\n",
      "0.7914635497451806\n",
      "0.7669563411003012\n",
      "0.7660647019720807\n",
      "0.7669563411003012\n",
      "0.7660647019720807\n",
      "0.7450957310528684\n",
      "0.7448205185021051\n",
      "0.7450957310528684\n",
      "0.7448205185021051\n",
      "0.7450957310528684\n",
      "0.7448205185021051\n",
      "0.7264273101824603\n",
      "0.7269554619986706\n",
      "0.7264273101824603\n",
      "0.7269554619986706\n",
      "0.7045459266696673\n",
      "0.7044648792377576\n",
      "0.7045459266696673\n",
      "0.7044648792377576\n",
      "0.7045459266696673\n",
      "0.7044648792377576\n",
      "0.634296991309767\n",
      "0.6346665189452693\n",
      "0.634296991309767\n",
      "0.6346665189452693\n",
      "0.634296991309767\n",
      "0.6346665189452693\n",
      "0.634296991309767\n",
      "0.6346665189452693\n",
      "0.634296991309767\n",
      "0.6346665189452693\n",
      "0.6000415469307205\n",
      "0.6002658985153999\n",
      "0.559685628224215\n",
      "0.559356304010636\n",
      "0.559685628224215\n",
      "0.559356304010636\n",
      "0.5160682754561506\n",
      "0.5153445601595391\n",
      "0.4717930962850119\n",
      "0.471055838688234\n",
      "0.43342450576463665\n",
      "0.4329714159095945\n",
      "0.43342450576463665\n",
      "0.4329714159095945\n",
      "0.43342450576463665\n",
      "0.4329714159095945\n",
      "0.3633833050583388\n",
      "0.3633946377132728\n",
      "0.30717030779351173\n",
      "0.30716818081099045\n",
      "0.15699892670428972\n",
      "0.15699091513405716\n",
      "0.15699892670428972\n",
      "0.15699091513405716\n",
      "0.15699892670428972\n",
      "0.15699091513405716\n",
      "0.15699892670428972\n",
      "0.15699091513405716\n",
      "0.15699892670428972\n",
      "0.15699091513405716\n",
      "0.15699892670428972\n",
      "0.15699091513405716\n",
      "0.15699892670428972\n",
      "0.15699091513405716\n"
     ]
    }
   ],
   "source": [
    "for i in ccp_alpha_list:\n",
    "    decision_tree_model = DecisionTreeClassifier(ccp_alpha=i,random_state=11)\n",
    "    \n",
    "    decision_tree_model.fit(x_train,y_train)\n",
    "    \n",
    "    training_accuracy = decision_tree_model.score(x_train,y_train)\n",
    "    print(training_accuracy)\n",
    "    \n",
    "    testing_accuracy = decision_tree_model.score(x_test,y_test)\n",
    "    print(testing_accuracy)"
   ]
  },
  {
   "cell_type": "code",
   "execution_count": 1074,
   "metadata": {},
   "outputs": [
    {
     "data": {
      "text/plain": [
       "[1.0,\n",
       " 0.9953605927362116,\n",
       " 0.9738392826229962,\n",
       " 0.9738392826229962,\n",
       " 0.9738392826229962,\n",
       " 0.9687151611674688,\n",
       " 0.9654468026174566,\n",
       " 0.9654468026174566,\n",
       " 0.9654468026174566,\n",
       " 0.9654468026174566,\n",
       " 0.963653360108022,\n",
       " 0.9619222379946681,\n",
       " 0.9619222379946681,\n",
       " 0.9352837309143787,\n",
       " 0.931406017380466,\n",
       " 0.9234359311705848,\n",
       " 0.9150019042343247,\n",
       " 0.9150019042343247,\n",
       " 0.9101478378284804,\n",
       " 0.9101478378284804,\n",
       " 0.9053560918187169,\n",
       " 0.9053560918187169,\n",
       " 0.9053560918187169,\n",
       " 0.9053560918187169,\n",
       " 0.9053560918187169,\n",
       " 0.8943669286431465,\n",
       " 0.8862652771526504,\n",
       " 0.8862652771526504,\n",
       " 0.8862652771526504,\n",
       " 0.8809541945088807,\n",
       " 0.8809541945088807,\n",
       " 0.8809541945088807,\n",
       " 0.8650209465775716,\n",
       " 0.8650209465775716,\n",
       " 0.8650209465775716,\n",
       " 0.8465810338261262,\n",
       " 0.8402659003566112,\n",
       " 0.8402659003566112,\n",
       " 0.8111691998753592,\n",
       " 0.7924661565626839,\n",
       " 0.7669563411003012,\n",
       " 0.7669563411003012,\n",
       " 0.7450957310528684,\n",
       " 0.7450957310528684,\n",
       " 0.7450957310528684,\n",
       " 0.7264273101824603,\n",
       " 0.7264273101824603,\n",
       " 0.7045459266696673,\n",
       " 0.7045459266696673,\n",
       " 0.7045459266696673,\n",
       " 0.634296991309767,\n",
       " 0.634296991309767,\n",
       " 0.634296991309767,\n",
       " 0.634296991309767,\n",
       " 0.634296991309767,\n",
       " 0.6000415469307205,\n",
       " 0.559685628224215,\n",
       " 0.559685628224215,\n",
       " 0.5160682754561506,\n",
       " 0.4717930962850119,\n",
       " 0.43342450576463665,\n",
       " 0.43342450576463665,\n",
       " 0.43342450576463665,\n",
       " 0.3633833050583388,\n",
       " 0.30717030779351173,\n",
       " 0.15699892670428972,\n",
       " 0.15699892670428972,\n",
       " 0.15699892670428972,\n",
       " 0.15699892670428972,\n",
       " 0.15699892670428972,\n",
       " 0.15699892670428972,\n",
       " 0.15699892670428972]"
      ]
     },
     "execution_count": 1074,
     "metadata": {},
     "output_type": "execute_result"
    }
   ],
   "source": [
    "train_accuracy_list = []\n",
    "test_accuracy_list = []\n",
    "\n",
    "for i in ccp_alpha_list:\n",
    "    decision_tree_model = DecisionTreeClassifier(ccp_alpha=i,random_state=11)\n",
    "    \n",
    "    decision_tree_model.fit(x_train,y_train)\n",
    "    \n",
    "    training_accuracy = decision_tree_model.score(x_train,y_train)\n",
    "    train_accuracy_list.append(training_accuracy)\n",
    "    \n",
    "    testing_accuracy = decision_tree_model.score(x_test,y_test)\n",
    "    test_accuracy_list.append(testing_accuracy)\n",
    "    \n",
    "train_accuracy_list"
   ]
  },
  {
   "cell_type": "code",
   "execution_count": 1075,
   "metadata": {},
   "outputs": [
    {
     "data": {
      "text/plain": [
       "[<matplotlib.lines.Line2D at 0x2472fe6c358>]"
      ]
     },
     "execution_count": 1075,
     "metadata": {},
     "output_type": "execute_result"
    },
    {
     "data": {
      "image/png": "[encoded data removed]",
      "text/plain": [
       "<Figure size 432x288 with 1 Axes>"
      ]
     },
     "metadata": {},
     "output_type": "display_data"
    }
   ],
   "source": [
    "fig,ax = plt.subplots()\n",
    "ax.plot(ccp_alpha_list,train_accuracy_list)"
   ]
  },
  {
   "cell_type": "code",
   "execution_count": 1076,
   "metadata": {},
   "outputs": [
    {
     "data": {
      "text/plain": [
       "<matplotlib.legend.Legend at 0x2472f8d2240>"
      ]
     },
     "execution_count": 1076,
     "metadata": {},
     "output_type": "execute_result"
    },
    {
     "data": {
      "image/png": "[encoded data removed]",
      "text/plain": [
       "<Figure size 432x288 with 1 Axes>"
      ]
     },
     "metadata": {},
     "output_type": "display_data"
    }
   ],
   "source": [
    "fig,ax = plt.subplots()\n",
    "ax.plot(ccp_alpha_list,train_accuracy_list,label = \"Training Data accuracy\")\n",
    "ax.plot(ccp_alpha_list,test_accuracy_list,label = \"Testing Data accuracy\")\n",
    "ax.legend()"
   ]
  },
  {
   "cell_type": "code",
   "execution_count": 1077,
   "metadata": {},
   "outputs": [
    {
     "data": {
      "text/plain": [
       "0.9997784179038334"
      ]
     },
     "execution_count": 1077,
     "metadata": {},
     "output_type": "execute_result"
    }
   ],
   "source": [
    "max(test_accuracy_list)"
   ]
  },
  {
   "cell_type": "code",
   "execution_count": 1078,
   "metadata": {},
   "outputs": [
    {
     "data": {
      "text/plain": [
       "0"
      ]
     },
     "execution_count": 1078,
     "metadata": {},
     "output_type": "execute_result"
    }
   ],
   "source": [
    "max_test = test_accuracy_list.index(max(test_accuracy_list))\n",
    "max_test"
   ]
  },
  {
   "cell_type": "code",
   "execution_count": 1079,
   "metadata": {},
   "outputs": [
    {
     "data": {
      "text/plain": [
       "0.0"
      ]
     },
     "execution_count": 1079,
     "metadata": {},
     "output_type": "execute_result"
    }
   ],
   "source": [
    "best_ccp = ccp_alpha_list[max_test]\n",
    "best_ccp"
   ]
  },
  {
   "cell_type": "code",
   "execution_count": 1080,
   "metadata": {},
   "outputs": [
    {
     "data": {
      "text/plain": [
       "DecisionTreeClassifier(random_state=11)"
      ]
     },
     "execution_count": 1080,
     "metadata": {},
     "output_type": "execute_result"
    }
   ],
   "source": [
    "decision_tree_model = DecisionTreeClassifier(ccp_alpha=best_ccp,random_state=11)\n",
    "decision_tree_model.fit(x_train,y_train)"
   ]
  },
  {
   "cell_type": "code",
   "execution_count": 1081,
   "metadata": {},
   "outputs": [
    {
     "name": "stdout",
     "output_type": "stream",
     "text": [
      "Confusion Matrix ---->\n",
      " [[  767     0     0     0     0     0     0     0     0     0     0     0\n",
      "      0     0     0     0     0     0     0     0     0     0     0]\n",
      " [    0  6654     0     0     0     0     0     0     0     0     0     0\n",
      "      0     0     0     0     0     0     0     0     0     0     0]\n",
      " [    0     0  1342     0     0     0     0     0     0     0     0     0\n",
      "      0     0     0     0     0     0     0     0     0     0     0]\n",
      " [    0     0     0 22673     0     0     0     0     0     0     0     0\n",
      "      0     0     0     0     0     0     0     0     0     0     0]\n",
      " [    0     0     0     0   442     0     0     0     0     0     0     0\n",
      "      0     0     0     0     0     0     0     0     0     0     0]\n",
      " [    0     0     0     0     0  1482     0     0     0     0     0     0\n",
      "      0     0     0     0     0     0     0     0     0     0     0]\n",
      " [    0     0     0     0     0     0  5532     0     0     0     0     0\n",
      "      0     0     0     0     0     0     0     0     0     0     0]\n",
      " [    0     0     0     0     0     0     0  5824     0     0     0     0\n",
      "      0     0     0     0     0     0     0     0     0     0     0]\n",
      " [    0     0     0     0     0     0     0     0  3136     0     0     0\n",
      "      0     0     0     0     0     0     0     0     0     0     0]\n",
      " [    0     0     0     0     0     0     0     0     0  2586     0     0\n",
      "      0     0     0     0     0     0     0     0     0     0     0]\n",
      " [    0     0     0     0     0     0     0     0     0     0  7833     0\n",
      "      0     0     0     0     0     0     0     0     0     0     0]\n",
      " [    0     0     0     0     0     0     0     0     0     0     0  8118\n",
      "      0     0     0     0     0     0     0     0     0     0     0]\n",
      " [    0     0     0     0     0     0     0     0     0     0     0     0\n",
      "  11948     0     0     0     0     0     0     0     0     0     0]\n",
      " [    0     0     0     0     0     0     0     0     0     0     0     0\n",
      "      0  6185     0     0     0     0     0     0     0     0     0]\n",
      " [    0     0     0     0     0     0     0     0     0     0     0     0\n",
      "      0     0  3236     0     0     0     0     0     0     0     0]\n",
      " [    0     0     0     0     0     0     0     0     0     0     0     0\n",
      "      0     0     0  7631     0     0     0     0     0     0     0]\n",
      " [    0     0     0     0     0     0     0     0     0     0     0     0\n",
      "      0     0     0     0   926     0     0     0     0     0     0]\n",
      " [    0     0     0     0     0     0     0     0     0     0     0     0\n",
      "      0     0     0     0     0  7545     0     0     0     0     0]\n",
      " [    0     0     0     0     0     0     0     0     0     0     0     0\n",
      "      0     0     0     0     0     0  4710     0     0     0     0]\n",
      " [    0     0     0     0     0     0     0     0     0     0     0     0\n",
      "      0     0     0     0     0     0     0  2957     0     0     0]\n",
      " [    0     0     0     0     0     0     0     0     0     0     0     0\n",
      "      0     0     0     0     0     0     0     0  4807     0     0]\n",
      " [    0     0     0     0     0     0     0     0     0     0     0     0\n",
      "      0     0     0     0     0     0     0     0     0  6394     0]\n",
      " [    0     0     0     0     0     0     0     0     0     0     0     0\n",
      "      0     0     0     0     0     0     0     0     0     0 21687]]\n",
      "**************************************************\n",
      "Accuracy is ----> 1.0\n",
      "**************************************************\n",
      "Classification Report ---->\n",
      "                  precision    recall  f1-score   support\n",
      "\n",
      "         Canada       1.00      1.00      1.00       767\n",
      "      Caribbean       1.00      1.00      1.00      6654\n",
      " Central Africa       1.00      1.00      1.00      1342\n",
      "Central America       1.00      1.00      1.00     22673\n",
      "   Central Asia       1.00      1.00      1.00       442\n",
      "    East Africa       1.00      1.00      1.00      1482\n",
      "    East of USA       1.00      1.00      1.00      5532\n",
      "   Eastern Asia       1.00      1.00      1.00      5824\n",
      " Eastern Europe       1.00      1.00      1.00      3136\n",
      "   North Africa       1.00      1.00      1.00      2586\n",
      "Northern Europe       1.00      1.00      1.00      7833\n",
      "        Oceania       1.00      1.00      1.00      8118\n",
      "  South America       1.00      1.00      1.00     11948\n",
      "     South Asia       1.00      1.00      1.00      6185\n",
      " South of  USA        1.00      1.00      1.00      3236\n",
      " Southeast Asia       1.00      1.00      1.00      7631\n",
      "Southern Africa       1.00      1.00      1.00       926\n",
      "Southern Europe       1.00      1.00      1.00      7545\n",
      "     US Center        1.00      1.00      1.00      4710\n",
      "    West Africa       1.00      1.00      1.00      2957\n",
      "      West Asia       1.00      1.00      1.00      4807\n",
      "   West of USA        1.00      1.00      1.00      6394\n",
      " Western Europe       1.00      1.00      1.00     21687\n",
      "\n",
      "       accuracy                           1.00    144415\n",
      "      macro avg       1.00      1.00      1.00    144415\n",
      "   weighted avg       1.00      1.00      1.00    144415\n",
      "\n"
     ]
    }
   ],
   "source": [
    "# Training Accuracy\n",
    "\n",
    "y_pred_train = decision_tree_model.predict(x_train)\n",
    "\n",
    "cnf_matrix = confusion_matrix(y_train,y_pred_train)\n",
    "print(\"Confusion Matrix ---->\\n\",cnf_matrix)\n",
    "print(\"*\"*50)\n",
    "\n",
    "accuracy = accuracy_score(y_train,y_pred_train)\n",
    "print(\"Accuracy is ---->\",accuracy)\n",
    "print(\"*\"*50)\n",
    "\n",
    "clf_report = classification_report(y_train,y_pred_train)\n",
    "print(\"Classification Report ---->\\n\",clf_report)\n"
   ]
  },
  {
   "cell_type": "code",
   "execution_count": 1082,
   "metadata": {},
   "outputs": [
    {
     "name": "stdout",
     "output_type": "stream",
     "text": [
      "Confusion Matrix ---->\n",
      " [[ 192    0    0    0    0    0    0    0    0    0    0    0    0    0\n",
      "     0    0    0    0    0    0    0    0    0]\n",
      " [   0 1664    0    0    0    0    0    0    0    0    0    0    0    0\n",
      "     0    0    0    0    0    0    0    0    0]\n",
      " [   0    0  335    0    0    0    0    0    0    0    0    0    0    0\n",
      "     0    0    0    0    0    0    0    0    0]\n",
      " [   0    0    0 5668    0    0    0    0    0    0    0    0    0    0\n",
      "     0    0    0    0    0    0    0    0    0]\n",
      " [   0    0    0    0  111    0    0    0    0    0    0    0    0    0\n",
      "     0    0    0    0    0    0    0    0    0]\n",
      " [   0    0    0    0    0  369    0    0    0    0    0    0    0    0\n",
      "     0    0    0    0    0    1    0    0    0]\n",
      " [   0    0    0    0    0    0 1383    0    0    0    0    0    0    0\n",
      "     0    0    0    0    0    0    0    0    0]\n",
      " [   0    0    0    0    0    0    0 1456    0    0    0    0    0    0\n",
      "     0    0    0    0    0    0    0    0    0]\n",
      " [   0    0    0    0    0    0    0    0  781    0    0    0    0    0\n",
      "     0    0    0    3    0    0    0    0    0]\n",
      " [   0    0    0    0    0    0    0    0    0  646    0    0    0    0\n",
      "     0    0    0    0    0    0    0    0    0]\n",
      " [   0    0    0    0    0    0    0    0    0    0 1959    0    0    0\n",
      "     0    0    0    0    0    0    0    0    0]\n",
      " [   0    0    0    0    0    0    0    0    0    0    0 2030    0    0\n",
      "     0    0    0    0    0    0    0    0    0]\n",
      " [   0    0    0    0    0    0    0    0    0    0    0    0 2987    0\n",
      "     0    0    0    0    0    0    0    0    0]\n",
      " [   0    0    0    0    0    0    0    0    0    0    0    0    0 1544\n",
      "     0    2    0    0    0    0    0    0    0]\n",
      " [   0    0    0    0    0    0    0    0    0    0    0    0    0    0\n",
      "   809    0    0    0    0    0    0    0    0]\n",
      " [   0    0    0    0    0    0    0    0    0    0    0    0    0    2\n",
      "     0 1906    0    0    0    0    0    0    0]\n",
      " [   0    0    0    0    0    0    0    0    0    0    0    0    0    0\n",
      "     0    0  231    0    0    0    0    0    0]\n",
      " [   0    0    0    0    0    0    0    0    0    0    0    0    0    0\n",
      "     0    0    0 1886    0    0    0    0    0]\n",
      " [   0    0    0    0    0    0    0    0    0    0    0    0    0    0\n",
      "     0    0    0    0 1177    0    0    0    0]\n",
      " [   0    0    0    0    0    0    0    0    0    0    0    0    0    0\n",
      "     0    0    0    0    0  739    0    0    0]\n",
      " [   0    0    0    0    0    0    0    0    0    0    0    0    0    0\n",
      "     0    0    0    0    0    0 1202    0    0]\n",
      " [   0    0    0    0    0    0    0    0    0    0    0    0    0    0\n",
      "     0    0    0    0    0    0    0 1599    0]\n",
      " [   0    0    0    0    0    0    0    0    0    0    0    0    0    0\n",
      "     0    0    0    0    0    0    0    0 5422]]\n",
      "**************************************************\n",
      "Accuracy is ----> 0.9997784179038334\n",
      "**************************************************\n",
      "Classification Report ---->\n",
      "                  precision    recall  f1-score   support\n",
      "\n",
      "         Canada       1.00      1.00      1.00       192\n",
      "      Caribbean       1.00      1.00      1.00      1664\n",
      " Central Africa       1.00      1.00      1.00       335\n",
      "Central America       1.00      1.00      1.00      5668\n",
      "   Central Asia       1.00      1.00      1.00       111\n",
      "    East Africa       1.00      1.00      1.00       370\n",
      "    East of USA       1.00      1.00      1.00      1383\n",
      "   Eastern Asia       1.00      1.00      1.00      1456\n",
      " Eastern Europe       1.00      1.00      1.00       784\n",
      "   North Africa       1.00      1.00      1.00       646\n",
      "Northern Europe       1.00      1.00      1.00      1959\n",
      "        Oceania       1.00      1.00      1.00      2030\n",
      "  South America       1.00      1.00      1.00      2987\n",
      "     South Asia       1.00      1.00      1.00      1546\n",
      " South of  USA        1.00      1.00      1.00       809\n",
      " Southeast Asia       1.00      1.00      1.00      1908\n",
      "Southern Africa       1.00      1.00      1.00       231\n",
      "Southern Europe       1.00      1.00      1.00      1886\n",
      "     US Center        1.00      1.00      1.00      1177\n",
      "    West Africa       1.00      1.00      1.00       739\n",
      "      West Asia       1.00      1.00      1.00      1202\n",
      "   West of USA        1.00      1.00      1.00      1599\n",
      " Western Europe       1.00      1.00      1.00      5422\n",
      "\n",
      "       accuracy                           1.00     36104\n",
      "      macro avg       1.00      1.00      1.00     36104\n",
      "   weighted avg       1.00      1.00      1.00     36104\n",
      "\n"
     ]
    }
   ],
   "source": [
    "# Testing Accuracy\n",
    "\n",
    "y_pred = decision_tree_model.predict(x_test)\n",
    "\n",
    "cnf_matrix = confusion_matrix(y_test,y_pred)\n",
    "print(\"Confusion Matrix ---->\\n\",cnf_matrix)\n",
    "print(\"*\"*50)\n",
    "\n",
    "accuracy = accuracy_score(y_test,y_pred)\n",
    "print(\"Accuracy is ---->\",accuracy)\n",
    "print(\"*\"*50)\n",
    "\n",
    "clf_report = classification_report(y_test,y_pred)\n",
    "print(\"Classification Report ---->\\n\",clf_report)\n"
   ]
  },
  {
   "cell_type": "markdown",
   "metadata": {},
   "source": [
    "# Adaboost"
   ]
  },
  {
   "cell_type": "code",
   "execution_count": 1084,
   "metadata": {},
   "outputs": [
    {
     "data": {
      "text/plain": [
       "AdaBoostClassifier(random_state=11)"
      ]
     },
     "execution_count": 1084,
     "metadata": {},
     "output_type": "execute_result"
    }
   ],
   "source": [
    "adb_clf = AdaBoostClassifier(random_state=11)\n",
    "adb_clf\n",
    "\n",
    "# base_estimator=None,\n",
    "# n_estimators=50,\n",
    "# learning_rate=1.0,\n",
    "# algorithm='SAMME.R',\n",
    "# random_state=None,"
   ]
  },
  {
   "cell_type": "code",
   "execution_count": 1085,
   "metadata": {},
   "outputs": [
    {
     "data": {
      "text/plain": [
       "AdaBoostClassifier(random_state=11)"
      ]
     },
     "execution_count": 1085,
     "metadata": {},
     "output_type": "execute_result"
    }
   ],
   "source": [
    "adb_clf.fit(x_train,y_train)"
   ]
  },
  {
   "cell_type": "code",
   "execution_count": 1086,
   "metadata": {},
   "outputs": [
    {
     "name": "stdout",
     "output_type": "stream",
     "text": [
      "Confusion Matrix is ----->\n",
      " [[    0     0     0     0     0     0     0     0     0     0     0     0\n",
      "      0     0     0     0     0     0     0     0     0     0   767]\n",
      " [    0     0     0  6654     0     0     0     0     0     0     0     0\n",
      "      0     0     0     0     0     0     0     0     0     0     0]\n",
      " [    0     0     0     0     0     0     0     0     0     0     0     0\n",
      "      0     0     0     0     0     0     0     0     0     0  1342]\n",
      " [    0     0     0 22673     0     0     0     0     0     0     0     0\n",
      "      0     0     0     0     0     0     0     0     0     0     0]\n",
      " [    0     0     0     0     0     0     0     0     0     0     0   442\n",
      "      0     0     0     0     0     0     0     0     0     0     0]\n",
      " [    0     0     0     0     0     0     0     0     0     0     0     0\n",
      "      0     0     0     0     0     0     0     0     0     0  1482]\n",
      " [    0     0     0     0     0     0     0     0     0     0     0     0\n",
      "      0     0     0     0     0     0     0     0     0     0  5532]\n",
      " [    0     0     0     0     0     0     0     0     0     0     0  5824\n",
      "      0     0     0     0     0     0     0     0     0     0     0]\n",
      " [    0     0     0     0     0     0     0     0     0     0     0     0\n",
      "      0     0     0     0     0     0     0     0     0     0  3136]\n",
      " [    0     0     0     0     0     0     0     0     0     0     0     0\n",
      "      0     0     0     0     0     0     0     0     0     0  2586]\n",
      " [    0     0     0     0     0     0     0     0     0     0     0     0\n",
      "      0     0     0     0     0     0     0     0     0     0  7833]\n",
      " [    0     0     0     0     0     0     0     0     0     0     0  8118\n",
      "      0     0     0     0     0     0     0     0     0     0     0]\n",
      " [    0     0     0 11948     0     0     0     0     0     0     0     0\n",
      "      0     0     0     0     0     0     0     0     0     0     0]\n",
      " [    0     0     0     0     0     0     0     0     0     0     0  6185\n",
      "      0     0     0     0     0     0     0     0     0     0     0]\n",
      " [    0     0     0     0     0     0     0     0     0     0     0     0\n",
      "      0     0     0     0     0     0     0     0     0     0  3236]\n",
      " [    0     0     0     0     0     0     0     0     0     0     0  7631\n",
      "      0     0     0     0     0     0     0     0     0     0     0]\n",
      " [    0     0     0     0     0     0     0     0     0     0     0     0\n",
      "      0     0     0     0     0     0     0     0     0     0   926]\n",
      " [    0     0     0     0     0     0     0     0     0     0     0     0\n",
      "      0     0     0     0     0     0     0     0     0     0  7545]\n",
      " [    0     0     0     0     0     0     0     0     0     0     0     0\n",
      "      0     0     0     0     0     0     0     0     0     0  4710]\n",
      " [    0     0     0     0     0     0     0     0     0     0     0     0\n",
      "      0     0     0     0     0     0     0     0     0     0  2957]\n",
      " [    0     0     0     0     0     0     0     0     0     0     0  4807\n",
      "      0     0     0     0     0     0     0     0     0     0     0]\n",
      " [    0     0     0     0     0     0     0     0     0     0     0     0\n",
      "      0     0     0     0     0     0     0     0     0     0  6394]\n",
      " [    0     0     0     0     0     0     0     0     0     0     0     0\n",
      "      0     0     0     0     0     0     0     0     0     0 21687]]\n",
      "****************************************************************************************************\n",
      "Accuracy is  -----> 0.3633833050583388\n",
      "****************************************************************************************************\n",
      "Classification Report is ----->\n",
      "                  precision    recall  f1-score   support\n",
      "\n",
      "         Canada       0.00      0.00      0.00       767\n",
      "      Caribbean       0.00      0.00      0.00      6654\n",
      " Central Africa       0.00      0.00      0.00      1342\n",
      "Central America       0.55      1.00      0.71     22673\n",
      "   Central Asia       0.00      0.00      0.00       442\n",
      "    East Africa       0.00      0.00      0.00      1482\n",
      "    East of USA       0.00      0.00      0.00      5532\n",
      "   Eastern Asia       0.00      0.00      0.00      5824\n",
      " Eastern Europe       0.00      0.00      0.00      3136\n",
      "   North Africa       0.00      0.00      0.00      2586\n",
      "Northern Europe       0.00      0.00      0.00      7833\n",
      "        Oceania       0.25      1.00      0.39      8118\n",
      "  South America       0.00      0.00      0.00     11948\n",
      "     South Asia       0.00      0.00      0.00      6185\n",
      " South of  USA        0.00      0.00      0.00      3236\n",
      " Southeast Asia       0.00      0.00      0.00      7631\n",
      "Southern Africa       0.00      0.00      0.00       926\n",
      "Southern Europe       0.00      0.00      0.00      7545\n",
      "     US Center        0.00      0.00      0.00      4710\n",
      "    West Africa       0.00      0.00      0.00      2957\n",
      "      West Asia       0.00      0.00      0.00      4807\n",
      "   West of USA        0.00      0.00      0.00      6394\n",
      " Western Europe       0.31      1.00      0.47     21687\n",
      "\n",
      "       accuracy                           0.36    144415\n",
      "      macro avg       0.05      0.13      0.07    144415\n",
      "   weighted avg       0.15      0.36      0.20    144415\n",
      "\n",
      "****************************************************************************************************\n"
     ]
    }
   ],
   "source": [
    "# Model Evaluation Training data\n",
    "\n",
    "y_pred_train = adb_clf.predict(x_train)\n",
    "\n",
    "cnf_matrix = confusion_matrix(y_train,y_pred_train)\n",
    "print(\"Confusion Matrix is ----->\\n\",cnf_matrix)\n",
    "print(\"*\"*100)\n",
    "\n",
    "accuracy = accuracy_score(y_train,y_pred_train)\n",
    "print(\"Accuracy is  ----->\",accuracy)\n",
    "print(\"*\"*100)\n",
    "\n",
    "clf_report = classification_report(y_train,y_pred_train)\n",
    "print(\"Classification Report is ----->\\n\",clf_report)\n",
    "print(\"*\"*100)"
   ]
  },
  {
   "cell_type": "code",
   "execution_count": 1087,
   "metadata": {},
   "outputs": [
    {
     "name": "stdout",
     "output_type": "stream",
     "text": [
      "Confusion Matrix is ----->\n",
      " [[   0    0    0    0    0    0    0    0    0    0    0    0    0    0\n",
      "     0    0    0    0    0    0    0    0  192]\n",
      " [   0    0    0 1664    0    0    0    0    0    0    0    0    0    0\n",
      "     0    0    0    0    0    0    0    0    0]\n",
      " [   0    0    0    0    0    0    0    0    0    0    0    0    0    0\n",
      "     0    0    0    0    0    0    0    0  335]\n",
      " [   0    0    0 5668    0    0    0    0    0    0    0    0    0    0\n",
      "     0    0    0    0    0    0    0    0    0]\n",
      " [   0    0    0    0    0    0    0    0    0    0    0  111    0    0\n",
      "     0    0    0    0    0    0    0    0    0]\n",
      " [   0    0    0    0    0    0    0    0    0    0    0    0    0    0\n",
      "     0    0    0    0    0    0    0    0  370]\n",
      " [   0    0    0    0    0    0    0    0    0    0    0    0    0    0\n",
      "     0    0    0    0    0    0    0    0 1383]\n",
      " [   0    0    0    0    0    0    0    0    0    0    0 1456    0    0\n",
      "     0    0    0    0    0    0    0    0    0]\n",
      " [   0    0    0    0    0    0    0    0    0    0    0    0    0    0\n",
      "     0    0    0    0    0    0    0    0  784]\n",
      " [   0    0    0    0    0    0    0    0    0    0    0    0    0    0\n",
      "     0    0    0    0    0    0    0    0  646]\n",
      " [   0    0    0    0    0    0    0    0    0    0    0    0    0    0\n",
      "     0    0    0    0    0    0    0    0 1959]\n",
      " [   0    0    0    0    0    0    0    0    0    0    0 2030    0    0\n",
      "     0    0    0    0    0    0    0    0    0]\n",
      " [   0    0    0 2987    0    0    0    0    0    0    0    0    0    0\n",
      "     0    0    0    0    0    0    0    0    0]\n",
      " [   0    0    0    0    0    0    0    0    0    0    0 1546    0    0\n",
      "     0    0    0    0    0    0    0    0    0]\n",
      " [   0    0    0    0    0    0    0    0    0    0    0    0    0    0\n",
      "     0    0    0    0    0    0    0    0  809]\n",
      " [   0    0    0    0    0    0    0    0    0    0    0 1908    0    0\n",
      "     0    0    0    0    0    0    0    0    0]\n",
      " [   0    0    0    0    0    0    0    0    0    0    0    0    0    0\n",
      "     0    0    0    0    0    0    0    0  231]\n",
      " [   0    0    0    0    0    0    0    0    0    0    0    0    0    0\n",
      "     0    0    0    0    0    0    0    0 1886]\n",
      " [   0    0    0    0    0    0    0    0    0    0    0    0    0    0\n",
      "     0    0    0    0    0    0    0    0 1177]\n",
      " [   0    0    0    0    0    0    0    0    0    0    0    0    0    0\n",
      "     0    0    0    0    0    0    0    0  739]\n",
      " [   0    0    0    0    0    0    0    0    0    0    0 1202    0    0\n",
      "     0    0    0    0    0    0    0    0    0]\n",
      " [   0    0    0    0    0    0    0    0    0    0    0    0    0    0\n",
      "     0    0    0    0    0    0    0    0 1599]\n",
      " [   0    0    0    0    0    0    0    0    0    0    0    0    0    0\n",
      "     0    0    0    0    0    0    0    0 5422]]\n",
      "****************************************************************************************************\n",
      "Accuracy is  -----> 0.3633946377132728\n",
      "****************************************************************************************************\n",
      "Classification Report is ----->\n",
      "                  precision    recall  f1-score   support\n",
      "\n",
      "         Canada       0.00      0.00      0.00       192\n",
      "      Caribbean       0.00      0.00      0.00      1664\n",
      " Central Africa       0.00      0.00      0.00       335\n",
      "Central America       0.55      1.00      0.71      5668\n",
      "   Central Asia       0.00      0.00      0.00       111\n",
      "    East Africa       0.00      0.00      0.00       370\n",
      "    East of USA       0.00      0.00      0.00      1383\n",
      "   Eastern Asia       0.00      0.00      0.00      1456\n",
      " Eastern Europe       0.00      0.00      0.00       784\n",
      "   North Africa       0.00      0.00      0.00       646\n",
      "Northern Europe       0.00      0.00      0.00      1959\n",
      "        Oceania       0.25      1.00      0.39      2030\n",
      "  South America       0.00      0.00      0.00      2987\n",
      "     South Asia       0.00      0.00      0.00      1546\n",
      " South of  USA        0.00      0.00      0.00       809\n",
      " Southeast Asia       0.00      0.00      0.00      1908\n",
      "Southern Africa       0.00      0.00      0.00       231\n",
      "Southern Europe       0.00      0.00      0.00      1886\n",
      "     US Center        0.00      0.00      0.00      1177\n",
      "    West Africa       0.00      0.00      0.00       739\n",
      "      West Asia       0.00      0.00      0.00      1202\n",
      "   West of USA        0.00      0.00      0.00      1599\n",
      " Western Europe       0.31      1.00      0.47      5422\n",
      "\n",
      "       accuracy                           0.36     36104\n",
      "      macro avg       0.05      0.13      0.07     36104\n",
      "   weighted avg       0.15      0.36      0.20     36104\n",
      "\n",
      "****************************************************************************************************\n"
     ]
    }
   ],
   "source": [
    "# Model Evaluation Testing data\n",
    "\n",
    "y_pred = adb_clf.predict(x_test)\n",
    "\n",
    "cnf_matrix = confusion_matrix(y_test,y_pred)\n",
    "print(\"Confusion Matrix is ----->\\n\",cnf_matrix)\n",
    "print(\"*\"*100)\n",
    "\n",
    "accuracy = accuracy_score(y_test,y_pred)\n",
    "print(\"Accuracy is  ----->\",accuracy)\n",
    "print(\"*\"*100)\n",
    "\n",
    "clf_report = classification_report(y_test,y_pred)\n",
    "print(\"Classification Report is ----->\\n\",clf_report)\n",
    "print(\"*\"*100)"
   ]
  },
  {
   "cell_type": "markdown",
   "metadata": {},
   "source": [
    "## Feature Selction"
   ]
  },
  {
   "cell_type": "code",
   "execution_count": 1088,
   "metadata": {},
   "outputs": [
    {
     "data": {
      "text/plain": [
       "<AxesSubplot:>"
      ]
     },
     "execution_count": 1088,
     "metadata": {},
     "output_type": "execute_result"
    },
    {
     "data": {
      "image/png": "[encoded data removed]",
      "text/plain": [
       "<Figure size 432x288 with 1 Axes>"
      ]
     },
     "metadata": {},
     "output_type": "display_data"
    }
   ],
   "source": [
    "# Feature Importance\n",
    "\n",
    "s1 = pd.Series(adb_clf.feature_importances_, index=x.columns)\n",
    "s1.sort_values().plot(kind= 'barh')"
   ]
  },
  {
   "cell_type": "markdown",
   "metadata": {},
   "source": [
    "# Hyperparameter Tunning"
   ]
  },
  {
   "cell_type": "code",
   "execution_count": 1090,
   "metadata": {},
   "outputs": [
    {
     "data": {
      "text/plain": [
       "AdaBoostClassifier(learning_rate=1.312, n_estimators=196, random_state=30)"
      ]
     },
     "execution_count": 1090,
     "metadata": {},
     "output_type": "execute_result"
    }
   ],
   "source": [
    "adb_clf = AdaBoostClassifier(random_state=30)\n",
    "\n",
    "param_grid = {\n",
    "               'n_estimators':np.arange(10,200,2),\n",
    "                'learning_rate':np.arange(0,2,0.001)\n",
    "                }\n",
    "\n",
    "rscv_adb_clf = RandomizedSearchCV(adb_clf,param_grid,cv=7,n_jobs = -1)\n",
    "rscv_adb_clf.fit(x_train,y_train)\n",
    "rscv_adb_clf.best_estimator_"
   ]
  },
  {
   "cell_type": "code",
   "execution_count": 77,
   "metadata": {},
   "outputs": [
    {
     "name": "stdout",
     "output_type": "stream",
     "text": [
      "Confusion Matrix is ----->\n",
      " [[ 90  20]\n",
      " [ 11 121]]\n",
      "****************************************************************************************************\n",
      "Accuracy is  -----> 0.871900826446281\n",
      "****************************************************************************************************\n",
      "Classification Report is ----->\n",
      "               precision    recall  f1-score   support\n",
      "\n",
      "           0       0.89      0.82      0.85       110\n",
      "           1       0.86      0.92      0.89       132\n",
      "\n",
      "    accuracy                           0.87       242\n",
      "   macro avg       0.87      0.87      0.87       242\n",
      "weighted avg       0.87      0.87      0.87       242\n",
      "\n",
      "****************************************************************************************************\n"
     ]
    }
   ],
   "source": [
    "adb_clf = rscv_adb_clf.best_estimator_\n",
    "adb_clf.fit(x_train,y_train)\n",
    "\n",
    "# Model Evaluation Training data\n",
    "\n",
    "y_pred_train = adb_clf.predict(x_train)\n",
    "\n",
    "cnf_matrix = confusion_matrix(y_train,y_pred_train)\n",
    "print(\"Confusion Matrix is ----->\\n\",cnf_matrix)\n",
    "print(\"*\"*100)\n",
    "\n",
    "accuracy = accuracy_score(y_train,y_pred_train)\n",
    "print(\"Accuracy is  ----->\",accuracy)\n",
    "print(\"*\"*100)\n",
    "\n",
    "clf_report = classification_report(y_train,y_pred_train)\n",
    "print(\"Classification Report is ----->\\n\",clf_report)\n",
    "print(\"*\"*100)"
   ]
  },
  {
   "cell_type": "code",
   "execution_count": 78,
   "metadata": {},
   "outputs": [
    {
     "name": "stdout",
     "output_type": "stream",
     "text": [
      "Confusion Matrix is ----->\n",
      " [[18 10]\n",
      " [ 5 28]]\n",
      "****************************************************************************************************\n",
      "Accuracy is  -----> 0.7540983606557377\n",
      "****************************************************************************************************\n",
      "Classification Report is ----->\n",
      "               precision    recall  f1-score   support\n",
      "\n",
      "           0       0.78      0.64      0.71        28\n",
      "           1       0.74      0.85      0.79        33\n",
      "\n",
      "    accuracy                           0.75        61\n",
      "   macro avg       0.76      0.75      0.75        61\n",
      "weighted avg       0.76      0.75      0.75        61\n",
      "\n",
      "****************************************************************************************************\n"
     ]
    }
   ],
   "source": [
    "# Model Evaluation Testing data\n",
    "\n",
    "y_pred = adb_clf.predict(x_test)\n",
    "\n",
    "cnf_matrix = confusion_matrix(y_test,y_pred)\n",
    "print(\"Confusion Matrix is ----->\\n\",cnf_matrix)\n",
    "print(\"*\"*100)\n",
    "\n",
    "accuracy = accuracy_score(y_test,y_pred)\n",
    "print(\"Accuracy is  ----->\",accuracy)\n",
    "print(\"*\"*100)\n",
    "\n",
    "clf_report = classification_report(y_test,y_pred)\n",
    "print(\"Classification Report is ----->\\n\",clf_report)\n",
    "print(\"*\"*100)"
   ]
  },
  {
   "cell_type": "code",
   "execution_count": 79,
   "metadata": {},
   "outputs": [
    {
     "data": {
      "text/plain": [
       "<matplotlib.axes._subplots.AxesSubplot at 0x1f01f8e1b38>"
      ]
     },
     "execution_count": 79,
     "metadata": {},
     "output_type": "execute_result"
    },
    {
     "data": {
      "image/png": "[encoded data removed]",
      "text/plain": [
       "<Figure size 432x288 with 1 Axes>"
      ]
     },
     "metadata": {},
     "output_type": "display_data"
    }
   ],
   "source": [
    "# Feature Importance\n",
    "\n",
    "s1 = pd.Series(adb_clf.feature_importances_, index=x.columns)\n",
    "s1.sort_values().plot(kind= 'barh')"
   ]
  },
  {
   "cell_type": "code",
   "execution_count": null,
   "metadata": {},
   "outputs": [],
   "source": []
  },
  {
   "cell_type": "code",
   "execution_count": null,
   "metadata": {},
   "outputs": [],
   "source": []
  },
  {
   "cell_type": "code",
   "execution_count": null,
   "metadata": {},
   "outputs": [],
   "source": []
  }
 ],
 "metadata": {
  "kernelspec": {
   "display_name": "Python 3",
   "language": "python",
   "name": "python3"
  },
  "language_info": {
   "codemirror_mode": {
    "name": "ipython",
    "version": 3
   },
   "file_extension": ".py",
   "mimetype": "text/x-python",
   "name": "python",
   "nbconvert_exporter": "python",
   "pygments_lexer": "ipython3",
   "version": "3.6.5"
  }
 },
 "nbformat": 4,
 "nbformat_minor": 5
}
